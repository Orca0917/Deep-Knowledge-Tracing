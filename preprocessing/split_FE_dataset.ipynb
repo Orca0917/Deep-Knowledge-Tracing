{
 "cells": [
  {
   "cell_type": "code",
   "execution_count": 2,
   "metadata": {},
   "outputs": [],
   "source": [
    "import pandas as pd"
   ]
  },
  {
   "cell_type": "code",
   "execution_count": 48,
   "metadata": {},
   "outputs": [],
   "source": [
    "# 기본 경로 설정\n",
    "TRAIN_DATA_PATH = \"/opt/ml/input/data/train_data.csv\"\n",
    "TEST_DATA_PATH = \"/opt/ml/input/data/test_data.csv\"\n",
    "SPLITED_PATH = \"/opt/ml/input/data/FE_total_data.csv\"\n",
    "\n",
    "\n",
    "data1 = pd.read_csv(TRAIN_DATA_PATH)\n",
    "data2 = pd.read_csv(TEST_DATA_PATH)\n",
    "\n",
    "data1 = data1.sort_values(by=[\"userID\", \"Timestamp\"]).reset_index(drop=True)\n",
    "data2 = data2.sort_values(by=[\"userID\", \"Timestamp\"]).reset_index(drop=True)\n",
    "\n",
    "data = pd.concat([data1, data2])\n",
    "\n",
    "train_data = data[data.answerCode >= 0]\n",
    "test_data = data[data.answerCode < 0]"
   ]
  },
  {
   "cell_type": "code",
   "execution_count": 52,
   "metadata": {},
   "outputs": [
    {
     "name": "stdout",
     "output_type": "stream",
     "text": [
      "Train file 사용자의 수: 6698\n",
      "Test file 사용자의 수: 744\n",
      "Feature Engineering Train 전체 사용자의 수: 7442\n"
     ]
    }
   ],
   "source": [
    "train_user = data1['userID'].unique()\n",
    "test_user = data2['userID'].unique()\n",
    "\n",
    "print(f'Train file 사용자의 수: {len(train_user)}')\n",
    "print(f'Test file 사용자의 수: {len(test_user)}')\n",
    "print(f'Feature Engineering Train 전체 사용자의 수: {len(train_user)+len(test_user)}')"
   ]
  },
  {
   "cell_type": "code",
   "execution_count": null,
   "metadata": {},
   "outputs": [],
   "source": [
    "train_data.to_csv(SPLITED_PATH, index=False)"
   ]
  }
 ],
 "metadata": {
  "interpreter": {
   "hash": "d4d1e4263499bec80672ea0156c357c1ee493ec2b1c70f0acce89fc37c4a6abe"
  },
  "kernelspec": {
   "display_name": "Python 3.8.5 ('base')",
   "language": "python",
   "name": "python3"
  },
  "language_info": {
   "codemirror_mode": {
    "name": "ipython",
    "version": 3
   },
   "file_extension": ".py",
   "mimetype": "text/x-python",
   "name": "python",
   "nbconvert_exporter": "python",
   "pygments_lexer": "ipython3",
   "version": "3.8.5"
  },
  "orig_nbformat": 4
 },
 "nbformat": 4,
 "nbformat_minor": 2
}
