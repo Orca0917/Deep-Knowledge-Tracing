{
 "cells": [
  {
   "cell_type": "markdown",
   "metadata": {},
   "source": [
    "# EDA: 문제 난이도 분석 PART"
   ]
  },
  {
   "cell_type": "code",
   "execution_count": 2,
   "metadata": {},
   "outputs": [],
   "source": [
    "import numpy as np\n",
    "import pandas as pd\n",
    "\n",
    "from tqdm import tqdm\n",
    "from collections import Counter, defaultdict\n",
    "from datetime import datetime\n",
    "\n",
    "import matplotlib.pyplot as plt\n",
    "import seaborn as sns"
   ]
  },
  {
   "cell_type": "code",
   "execution_count": 3,
   "metadata": {},
   "outputs": [
    {
     "data": {
      "text/html": [
       "<div>\n",
       "<style scoped>\n",
       "    .dataframe tbody tr th:only-of-type {\n",
       "        vertical-align: middle;\n",
       "    }\n",
       "\n",
       "    .dataframe tbody tr th {\n",
       "        vertical-align: top;\n",
       "    }\n",
       "\n",
       "    .dataframe thead th {\n",
       "        text-align: right;\n",
       "    }\n",
       "</style>\n",
       "<table border=\"1\" class=\"dataframe\">\n",
       "  <thead>\n",
       "    <tr style=\"text-align: right;\">\n",
       "      <th></th>\n",
       "      <th>userID</th>\n",
       "      <th>assessmentItemID</th>\n",
       "      <th>testId</th>\n",
       "      <th>answerCode</th>\n",
       "      <th>Timestamp</th>\n",
       "      <th>KnowledgeTag</th>\n",
       "    </tr>\n",
       "  </thead>\n",
       "  <tbody>\n",
       "    <tr>\n",
       "      <th>0</th>\n",
       "      <td>0</td>\n",
       "      <td>A060001001</td>\n",
       "      <td>A060000001</td>\n",
       "      <td>1</td>\n",
       "      <td>2020-03-24 00:17:11</td>\n",
       "      <td>7224</td>\n",
       "    </tr>\n",
       "    <tr>\n",
       "      <th>1</th>\n",
       "      <td>0</td>\n",
       "      <td>A060001002</td>\n",
       "      <td>A060000001</td>\n",
       "      <td>1</td>\n",
       "      <td>2020-03-24 00:17:14</td>\n",
       "      <td>7225</td>\n",
       "    </tr>\n",
       "    <tr>\n",
       "      <th>2</th>\n",
       "      <td>0</td>\n",
       "      <td>A060001003</td>\n",
       "      <td>A060000001</td>\n",
       "      <td>1</td>\n",
       "      <td>2020-03-24 00:17:22</td>\n",
       "      <td>7225</td>\n",
       "    </tr>\n",
       "    <tr>\n",
       "      <th>3</th>\n",
       "      <td>0</td>\n",
       "      <td>A060001004</td>\n",
       "      <td>A060000001</td>\n",
       "      <td>1</td>\n",
       "      <td>2020-03-24 00:17:29</td>\n",
       "      <td>7225</td>\n",
       "    </tr>\n",
       "    <tr>\n",
       "      <th>4</th>\n",
       "      <td>0</td>\n",
       "      <td>A060001005</td>\n",
       "      <td>A060000001</td>\n",
       "      <td>1</td>\n",
       "      <td>2020-03-24 00:17:36</td>\n",
       "      <td>7225</td>\n",
       "    </tr>\n",
       "    <tr>\n",
       "      <th>...</th>\n",
       "      <td>...</td>\n",
       "      <td>...</td>\n",
       "      <td>...</td>\n",
       "      <td>...</td>\n",
       "      <td>...</td>\n",
       "      <td>...</td>\n",
       "    </tr>\n",
       "    <tr>\n",
       "      <th>2266581</th>\n",
       "      <td>7441</td>\n",
       "      <td>A030071005</td>\n",
       "      <td>A030000071</td>\n",
       "      <td>0</td>\n",
       "      <td>2020-06-05 06:50:21</td>\n",
       "      <td>438</td>\n",
       "    </tr>\n",
       "    <tr>\n",
       "      <th>2266582</th>\n",
       "      <td>7441</td>\n",
       "      <td>A040165001</td>\n",
       "      <td>A040000165</td>\n",
       "      <td>1</td>\n",
       "      <td>2020-08-21 01:06:39</td>\n",
       "      <td>8836</td>\n",
       "    </tr>\n",
       "    <tr>\n",
       "      <th>2266583</th>\n",
       "      <td>7441</td>\n",
       "      <td>A040165002</td>\n",
       "      <td>A040000165</td>\n",
       "      <td>1</td>\n",
       "      <td>2020-08-21 01:06:50</td>\n",
       "      <td>8836</td>\n",
       "    </tr>\n",
       "    <tr>\n",
       "      <th>2266584</th>\n",
       "      <td>7441</td>\n",
       "      <td>A040165003</td>\n",
       "      <td>A040000165</td>\n",
       "      <td>1</td>\n",
       "      <td>2020-08-21 01:07:36</td>\n",
       "      <td>8836</td>\n",
       "    </tr>\n",
       "    <tr>\n",
       "      <th>2266585</th>\n",
       "      <td>7441</td>\n",
       "      <td>A040165004</td>\n",
       "      <td>A040000165</td>\n",
       "      <td>1</td>\n",
       "      <td>2020-08-21 01:08:49</td>\n",
       "      <td>8836</td>\n",
       "    </tr>\n",
       "  </tbody>\n",
       "</table>\n",
       "<p>2266586 rows × 6 columns</p>\n",
       "</div>"
      ],
      "text/plain": [
       "         userID assessmentItemID      testId  answerCode            Timestamp  \\\n",
       "0             0       A060001001  A060000001           1  2020-03-24 00:17:11   \n",
       "1             0       A060001002  A060000001           1  2020-03-24 00:17:14   \n",
       "2             0       A060001003  A060000001           1  2020-03-24 00:17:22   \n",
       "3             0       A060001004  A060000001           1  2020-03-24 00:17:29   \n",
       "4             0       A060001005  A060000001           1  2020-03-24 00:17:36   \n",
       "...         ...              ...         ...         ...                  ...   \n",
       "2266581    7441       A030071005  A030000071           0  2020-06-05 06:50:21   \n",
       "2266582    7441       A040165001  A040000165           1  2020-08-21 01:06:39   \n",
       "2266583    7441       A040165002  A040000165           1  2020-08-21 01:06:50   \n",
       "2266584    7441       A040165003  A040000165           1  2020-08-21 01:07:36   \n",
       "2266585    7441       A040165004  A040000165           1  2020-08-21 01:08:49   \n",
       "\n",
       "         KnowledgeTag  \n",
       "0                7224  \n",
       "1                7225  \n",
       "2                7225  \n",
       "3                7225  \n",
       "4                7225  \n",
       "...               ...  \n",
       "2266581           438  \n",
       "2266582          8836  \n",
       "2266583          8836  \n",
       "2266584          8836  \n",
       "2266585          8836  \n",
       "\n",
       "[2266586 rows x 6 columns]"
      ]
     },
     "execution_count": 3,
     "metadata": {},
     "output_type": "execute_result"
    }
   ],
   "source": [
    "# train_data.csv 불러오기\n",
    "train_df = pd.read_csv(\"/opt/ml/input/data/train_data.csv\")\n",
    "train_df"
   ]
  },
  {
   "cell_type": "code",
   "execution_count": 6,
   "metadata": {},
   "outputs": [
    {
     "data": {
      "text/html": [
       "<div>\n",
       "<style scoped>\n",
       "    .dataframe tbody tr th:only-of-type {\n",
       "        vertical-align: middle;\n",
       "    }\n",
       "\n",
       "    .dataframe tbody tr th {\n",
       "        vertical-align: top;\n",
       "    }\n",
       "\n",
       "    .dataframe thead th {\n",
       "        text-align: right;\n",
       "    }\n",
       "</style>\n",
       "<table border=\"1\" class=\"dataframe\">\n",
       "  <thead>\n",
       "    <tr style=\"text-align: right;\">\n",
       "      <th></th>\n",
       "      <th>userID</th>\n",
       "      <th>answerCode</th>\n",
       "      <th>KnowledgeTag</th>\n",
       "    </tr>\n",
       "  </thead>\n",
       "  <tbody>\n",
       "    <tr>\n",
       "      <th>userID</th>\n",
       "      <td>1.000000</td>\n",
       "      <td>-0.035235</td>\n",
       "      <td>-0.015064</td>\n",
       "    </tr>\n",
       "    <tr>\n",
       "      <th>answerCode</th>\n",
       "      <td>-0.035235</td>\n",
       "      <td>1.000000</td>\n",
       "      <td>0.012086</td>\n",
       "    </tr>\n",
       "    <tr>\n",
       "      <th>KnowledgeTag</th>\n",
       "      <td>-0.015064</td>\n",
       "      <td>0.012086</td>\n",
       "      <td>1.000000</td>\n",
       "    </tr>\n",
       "  </tbody>\n",
       "</table>\n",
       "</div>"
      ],
      "text/plain": [
       "                userID  answerCode  KnowledgeTag\n",
       "userID        1.000000   -0.035235     -0.015064\n",
       "answerCode   -0.035235    1.000000      0.012086\n",
       "KnowledgeTag -0.015064    0.012086      1.000000"
      ]
     },
     "execution_count": 6,
     "metadata": {},
     "output_type": "execute_result"
    }
   ],
   "source": [
    "train_df.corr()"
   ]
  },
  {
   "cell_type": "code",
   "execution_count": 3,
   "metadata": {},
   "outputs": [
    {
     "data": {
      "text/html": [
       "<div>\n",
       "<style scoped>\n",
       "    .dataframe tbody tr th:only-of-type {\n",
       "        vertical-align: middle;\n",
       "    }\n",
       "\n",
       "    .dataframe tbody tr th {\n",
       "        vertical-align: top;\n",
       "    }\n",
       "\n",
       "    .dataframe thead th {\n",
       "        text-align: right;\n",
       "    }\n",
       "</style>\n",
       "<table border=\"1\" class=\"dataframe\">\n",
       "  <thead>\n",
       "    <tr style=\"text-align: right;\">\n",
       "      <th></th>\n",
       "      <th>userID</th>\n",
       "      <th>assessmentItemID</th>\n",
       "      <th>testId</th>\n",
       "      <th>answerCode</th>\n",
       "      <th>Timestamp</th>\n",
       "      <th>KnowledgeTag</th>\n",
       "    </tr>\n",
       "  </thead>\n",
       "  <tbody>\n",
       "    <tr>\n",
       "      <th>0</th>\n",
       "      <td>3</td>\n",
       "      <td>A050023001</td>\n",
       "      <td>A050000023</td>\n",
       "      <td>1</td>\n",
       "      <td>2020-01-09 10:56:31</td>\n",
       "      <td>2626</td>\n",
       "    </tr>\n",
       "    <tr>\n",
       "      <th>1</th>\n",
       "      <td>3</td>\n",
       "      <td>A050023002</td>\n",
       "      <td>A050000023</td>\n",
       "      <td>1</td>\n",
       "      <td>2020-01-09 10:56:57</td>\n",
       "      <td>2626</td>\n",
       "    </tr>\n",
       "    <tr>\n",
       "      <th>2</th>\n",
       "      <td>3</td>\n",
       "      <td>A050023003</td>\n",
       "      <td>A050000023</td>\n",
       "      <td>0</td>\n",
       "      <td>2020-01-09 10:58:31</td>\n",
       "      <td>2625</td>\n",
       "    </tr>\n",
       "    <tr>\n",
       "      <th>3</th>\n",
       "      <td>3</td>\n",
       "      <td>A050023004</td>\n",
       "      <td>A050000023</td>\n",
       "      <td>0</td>\n",
       "      <td>2020-01-09 10:58:36</td>\n",
       "      <td>2625</td>\n",
       "    </tr>\n",
       "    <tr>\n",
       "      <th>4</th>\n",
       "      <td>3</td>\n",
       "      <td>A050023006</td>\n",
       "      <td>A050000023</td>\n",
       "      <td>0</td>\n",
       "      <td>2020-01-09 10:58:43</td>\n",
       "      <td>2623</td>\n",
       "    </tr>\n",
       "    <tr>\n",
       "      <th>...</th>\n",
       "      <td>...</td>\n",
       "      <td>...</td>\n",
       "      <td>...</td>\n",
       "      <td>...</td>\n",
       "      <td>...</td>\n",
       "      <td>...</td>\n",
       "    </tr>\n",
       "    <tr>\n",
       "      <th>260109</th>\n",
       "      <td>7439</td>\n",
       "      <td>A040130001</td>\n",
       "      <td>A040000130</td>\n",
       "      <td>0</td>\n",
       "      <td>2020-10-14 23:07:23</td>\n",
       "      <td>8832</td>\n",
       "    </tr>\n",
       "    <tr>\n",
       "      <th>260110</th>\n",
       "      <td>7439</td>\n",
       "      <td>A040130002</td>\n",
       "      <td>A040000130</td>\n",
       "      <td>1</td>\n",
       "      <td>2020-10-14 23:07:41</td>\n",
       "      <td>8832</td>\n",
       "    </tr>\n",
       "    <tr>\n",
       "      <th>260111</th>\n",
       "      <td>7439</td>\n",
       "      <td>A040130003</td>\n",
       "      <td>A040000130</td>\n",
       "      <td>1</td>\n",
       "      <td>2020-10-14 23:08:02</td>\n",
       "      <td>8244</td>\n",
       "    </tr>\n",
       "    <tr>\n",
       "      <th>260112</th>\n",
       "      <td>7439</td>\n",
       "      <td>A040130004</td>\n",
       "      <td>A040000130</td>\n",
       "      <td>1</td>\n",
       "      <td>2020-10-14 23:09:31</td>\n",
       "      <td>8244</td>\n",
       "    </tr>\n",
       "    <tr>\n",
       "      <th>260113</th>\n",
       "      <td>7439</td>\n",
       "      <td>A040130005</td>\n",
       "      <td>A040000130</td>\n",
       "      <td>-1</td>\n",
       "      <td>2020-10-14 23:10:03</td>\n",
       "      <td>8832</td>\n",
       "    </tr>\n",
       "  </tbody>\n",
       "</table>\n",
       "<p>260114 rows × 6 columns</p>\n",
       "</div>"
      ],
      "text/plain": [
       "        userID assessmentItemID      testId  answerCode            Timestamp  \\\n",
       "0            3       A050023001  A050000023           1  2020-01-09 10:56:31   \n",
       "1            3       A050023002  A050000023           1  2020-01-09 10:56:57   \n",
       "2            3       A050023003  A050000023           0  2020-01-09 10:58:31   \n",
       "3            3       A050023004  A050000023           0  2020-01-09 10:58:36   \n",
       "4            3       A050023006  A050000023           0  2020-01-09 10:58:43   \n",
       "...        ...              ...         ...         ...                  ...   \n",
       "260109    7439       A040130001  A040000130           0  2020-10-14 23:07:23   \n",
       "260110    7439       A040130002  A040000130           1  2020-10-14 23:07:41   \n",
       "260111    7439       A040130003  A040000130           1  2020-10-14 23:08:02   \n",
       "260112    7439       A040130004  A040000130           1  2020-10-14 23:09:31   \n",
       "260113    7439       A040130005  A040000130          -1  2020-10-14 23:10:03   \n",
       "\n",
       "        KnowledgeTag  \n",
       "0               2626  \n",
       "1               2626  \n",
       "2               2625  \n",
       "3               2625  \n",
       "4               2623  \n",
       "...              ...  \n",
       "260109          8832  \n",
       "260110          8832  \n",
       "260111          8244  \n",
       "260112          8244  \n",
       "260113          8832  \n",
       "\n",
       "[260114 rows x 6 columns]"
      ]
     },
     "execution_count": 3,
     "metadata": {},
     "output_type": "execute_result"
    }
   ],
   "source": [
    "# test_data.csv 불러오기\n",
    "test_df = pd.read_csv(\"/opt/ml/input/data/test_data.csv\")\n",
    "test_df"
   ]
  },
  {
   "cell_type": "markdown",
   "metadata": {},
   "source": [
    "## ✅ 문제별(`assessmentItemId`) 정답수, 오답수, 정답률 분포"
   ]
  },
  {
   "cell_type": "code",
   "execution_count": 4,
   "metadata": {},
   "outputs": [
    {
     "data": {
      "text/plain": [
       "assessmentItemID\n",
       "A010001001    [1, 1, 1, 1, 0, 1, 1, 1, 1, 1, 1, 1, 1, 1, 0, ...\n",
       "A010001002    [1, 1, 1, 1, 1, 1, 1, 1, 1, 1, 1, 1, 1, 1, 1, ...\n",
       "A010001003    [0, 1, 1, 1, 1, 1, 1, 1, 0, 0, 1, 1, 1, 1, 1, ...\n",
       "A010001004    [1, 1, 1, 1, 1, 1, 1, 1, 0, 1, 1, 1, 1, 1, 1, ...\n",
       "A010001005    [1, 1, 1, 0, 1, 1, 1, 1, 0, 1, 1, 1, 1, 1, 1, ...\n",
       "                                    ...                        \n",
       "A090074002    [1, 1, 0, 0, 1, 0, 0, 0, 0, 1, 1, 1, 0, 0, 0, ...\n",
       "A090074003    [1, 0, 1, 0, 0, 0, 1, 1, 0, 1, 1, 1, 1, 1, 1, ...\n",
       "A090074004    [1, 0, 0, 0, 1, 0, 0, 0, 0, 1, 1, 1, 0, 0, 0, ...\n",
       "A090074005    [1, 0, 0, 1, 1, 1, 0, 0, 0, 0, 1, 1, 1, 0, 0, ...\n",
       "A090074006    [1, 0, 0, 1, 1, 0, 1, 0, 1, 1, 1, 0, 1, 0, 0, ...\n",
       "Name: answerCode, Length: 9454, dtype: object"
      ]
     },
     "execution_count": 4,
     "metadata": {},
     "output_type": "execute_result"
    }
   ],
   "source": [
    "# 문항별 정답현황 list로 가져오기\n",
    "groupby_problem = train_df.groupby(\"assessmentItemID\")[\"answerCode\"].apply(list)\n",
    "groupby_problem"
   ]
  },
  {
   "cell_type": "code",
   "execution_count": 5,
   "metadata": {},
   "outputs": [],
   "source": [
    "# 문제별로 맞은 사람 수, 틀린 사람수, 정답률 계산\n",
    "correction = list() # [[문제ID, 맞은사람수, 틀린사람수, 정답률], ...]\n",
    "for problem, correctness in zip(groupby_problem.index, groupby_problem):\n",
    "    correction.append([problem, sum(correctness), len(correctness) - sum(correctness), round(sum(correctness) / len(correctness) * 100, 2)])"
   ]
  },
  {
   "cell_type": "code",
   "execution_count": 6,
   "metadata": {},
   "outputs": [
    {
     "data": {
      "text/html": [
       "<div>\n",
       "<style scoped>\n",
       "    .dataframe tbody tr th:only-of-type {\n",
       "        vertical-align: middle;\n",
       "    }\n",
       "\n",
       "    .dataframe tbody tr th {\n",
       "        vertical-align: top;\n",
       "    }\n",
       "\n",
       "    .dataframe thead th {\n",
       "        text-align: right;\n",
       "    }\n",
       "</style>\n",
       "<table border=\"1\" class=\"dataframe\">\n",
       "  <thead>\n",
       "    <tr style=\"text-align: right;\">\n",
       "      <th></th>\n",
       "      <th>problemId</th>\n",
       "      <th>correctCnt</th>\n",
       "      <th>incorrectCnt</th>\n",
       "      <th>correctRatio</th>\n",
       "    </tr>\n",
       "  </thead>\n",
       "  <tbody>\n",
       "    <tr>\n",
       "      <th>0</th>\n",
       "      <td>A010001001</td>\n",
       "      <td>295</td>\n",
       "      <td>22</td>\n",
       "      <td>93.06</td>\n",
       "    </tr>\n",
       "    <tr>\n",
       "      <th>1</th>\n",
       "      <td>A010001002</td>\n",
       "      <td>304</td>\n",
       "      <td>13</td>\n",
       "      <td>95.90</td>\n",
       "    </tr>\n",
       "    <tr>\n",
       "      <th>2</th>\n",
       "      <td>A010001003</td>\n",
       "      <td>287</td>\n",
       "      <td>30</td>\n",
       "      <td>90.54</td>\n",
       "    </tr>\n",
       "    <tr>\n",
       "      <th>3</th>\n",
       "      <td>A010001004</td>\n",
       "      <td>301</td>\n",
       "      <td>16</td>\n",
       "      <td>94.95</td>\n",
       "    </tr>\n",
       "    <tr>\n",
       "      <th>4</th>\n",
       "      <td>A010001005</td>\n",
       "      <td>281</td>\n",
       "      <td>36</td>\n",
       "      <td>88.64</td>\n",
       "    </tr>\n",
       "    <tr>\n",
       "      <th>...</th>\n",
       "      <td>...</td>\n",
       "      <td>...</td>\n",
       "      <td>...</td>\n",
       "      <td>...</td>\n",
       "    </tr>\n",
       "    <tr>\n",
       "      <th>9449</th>\n",
       "      <td>A090074002</td>\n",
       "      <td>20</td>\n",
       "      <td>25</td>\n",
       "      <td>44.44</td>\n",
       "    </tr>\n",
       "    <tr>\n",
       "      <th>9450</th>\n",
       "      <td>A090074003</td>\n",
       "      <td>26</td>\n",
       "      <td>19</td>\n",
       "      <td>57.78</td>\n",
       "    </tr>\n",
       "    <tr>\n",
       "      <th>9451</th>\n",
       "      <td>A090074004</td>\n",
       "      <td>15</td>\n",
       "      <td>30</td>\n",
       "      <td>33.33</td>\n",
       "    </tr>\n",
       "    <tr>\n",
       "      <th>9452</th>\n",
       "      <td>A090074005</td>\n",
       "      <td>18</td>\n",
       "      <td>27</td>\n",
       "      <td>40.00</td>\n",
       "    </tr>\n",
       "    <tr>\n",
       "      <th>9453</th>\n",
       "      <td>A090074006</td>\n",
       "      <td>21</td>\n",
       "      <td>24</td>\n",
       "      <td>46.67</td>\n",
       "    </tr>\n",
       "  </tbody>\n",
       "</table>\n",
       "<p>9454 rows × 4 columns</p>\n",
       "</div>"
      ],
      "text/plain": [
       "       problemId  correctCnt  incorrectCnt  correctRatio\n",
       "0     A010001001         295            22         93.06\n",
       "1     A010001002         304            13         95.90\n",
       "2     A010001003         287            30         90.54\n",
       "3     A010001004         301            16         94.95\n",
       "4     A010001005         281            36         88.64\n",
       "...          ...         ...           ...           ...\n",
       "9449  A090074002          20            25         44.44\n",
       "9450  A090074003          26            19         57.78\n",
       "9451  A090074004          15            30         33.33\n",
       "9452  A090074005          18            27         40.00\n",
       "9453  A090074006          21            24         46.67\n",
       "\n",
       "[9454 rows x 4 columns]"
      ]
     },
     "execution_count": 6,
     "metadata": {},
     "output_type": "execute_result"
    }
   ],
   "source": [
    "# 위에서 생성한 list를 이용해서 dataframe을 생성\n",
    "problem_df = pd.DataFrame(data=correction, columns=[\"problemId\", \"correctCnt\", \"incorrectCnt\", \"correctRatio\"])\n",
    "problem_df"
   ]
  },
  {
   "cell_type": "code",
   "execution_count": 7,
   "metadata": {},
   "outputs": [
    {
     "data": {
      "text/plain": [
       "65.42559763063254"
      ]
     },
     "execution_count": 7,
     "metadata": {},
     "output_type": "execute_result"
    }
   ],
   "source": [
    "# 문제별 정답률의 평균\n",
    "problem_df[\"correctRatio\"].mean()"
   ]
  },
  {
   "cell_type": "markdown",
   "metadata": {},
   "source": [
    "## ✅ 문제별 정답률 구간의 분포"
   ]
  },
  {
   "cell_type": "code",
   "execution_count": 9,
   "metadata": {},
   "outputs": [],
   "source": [
    "# 정답률을 이용해 10개의 구간으로 분할\n",
    "problem_df[\"correct10\"] = problem_df[\"correctRatio\"] // 10"
   ]
  },
  {
   "cell_type": "code",
   "execution_count": 10,
   "metadata": {},
   "outputs": [
    {
     "data": {
      "text/plain": [
       "[]"
      ]
     },
     "execution_count": 10,
     "metadata": {},
     "output_type": "execute_result"
    },
    {
     "data": {
      "image/png": "[encoded data removed]",
      "text/plain": [
       "<Figure size 864x504 with 1 Axes>"
      ]
     },
     "metadata": {
      "needs_background": "light"
     },
     "output_type": "display_data"
    }
   ],
   "source": [
    "# 각 정답률 구간에 분포하는 문제의 수 측정\n",
    "fig, ax = plt.subplots(1, 1, figsize=(12, 7))\n",
    "sns.countplot(x=\"correct10\", data=problem_df, ax=ax)\n",
    "ax.set_xticklabels([\"0~9%\", \"10~19%\", \"20~29%\", \"30~39%\", \"40~49%\", \"50~59%\", \"60~69%\", \"70~79%\", \"80~89%\", \"90~99%\"])\n",
    "ax.set_title(\"Counts per Correct ratio\", fontsize=\"18\", fontweight=\"semibold\")\n",
    "ax.set_xlabel(\"10 correction ratio segments\")\n",
    "ax.set_ylabel(\"problem counts\")\n",
    "plt.plot()"
   ]
  },
  {
   "cell_type": "markdown",
   "metadata": {},
   "source": [
    "## ✅ 가장 많이 맞춰진 상위 30개 TagID"
   ]
  },
  {
   "cell_type": "code",
   "execution_count": 12,
   "metadata": {},
   "outputs": [
    {
     "data": {
      "text/plain": [
       "KnowledgeTag\n",
       "23       [0, 0, 0, 0, 1, 0, 1, 1, 1, 1, 0, 1, 1, 0, 1, ...\n",
       "24       [1, 1, 1, 0, 0, 1, 1, 1, 0, 1, 0, 0, 0, 1, 1, ...\n",
       "25       [0, 1, 1, 1, 1, 1, 1, 1, 1, 1, 0, 0, 0, 1, 1, ...\n",
       "26       [1, 1, 0, 0, 1, 0, 0, 1, 1, 1, 1, 1, 0, 1, 1, ...\n",
       "30       [1, 0, 0, 1, 1, 1, 1, 1, 1, 1, 0, 1, 1, 1, 1, ...\n",
       "                               ...                        \n",
       "11253    [1, 1, 1, 1, 1, 1, 1, 1, 1, 0, 1, 1, 1, 1, 1, ...\n",
       "11265    [1, 1, 1, 1, 1, 1, 0, 0, 1, 1, 0, 0, 0, 0, 1, ...\n",
       "11269    [0, 1, 1, 1, 1, 1, 1, 0, 1, 0, 1, 1, 0, 1, 1, ...\n",
       "11270    [0, 0, 1, 0, 1, 0, 0, 1, 1, 1, 0, 1, 0, 1, 1, ...\n",
       "11271    [1, 1, 1, 0, 1, 0, 0, 0, 0, 0, 0, 0, 0, 0, 0, ...\n",
       "Name: answerCode, Length: 912, dtype: object"
      ]
     },
     "execution_count": 12,
     "metadata": {},
     "output_type": "execute_result"
    }
   ],
   "source": [
    "# tag 별 정답 현황 list로 가져오기\n",
    "tag_df = train_df.groupby(\"KnowledgeTag\")[\"answerCode\"].apply(list)\n",
    "tag_df"
   ]
  },
  {
   "cell_type": "code",
   "execution_count": 13,
   "metadata": {},
   "outputs": [],
   "source": [
    "# tag별 정답수 측정\n",
    "tag_correct_cnt = list()\n",
    "for tagId, correctness in zip(tag_df.index, tag_df):\n",
    "    tag_correct_cnt.append([tagId, sum(correctness)])"
   ]
  },
  {
   "cell_type": "code",
   "execution_count": 16,
   "metadata": {},
   "outputs": [
    {
     "name": "stdout",
     "output_type": "stream",
     "text": [
      "7944(3960), 9931(3965), 7593(3966), 7601(3970), 6456(4014), 7620(4021), 5836(4036), 6453(4049), 6774(4054), 6775(4057), 2053(4063), 10421(4080), 5284(4086), 7618(4158), 2065(4214), 7938(4220), 2125(4222), 6454(4238), 5845(4615), 5814(4719), 5485(4847), 2010(4849), 7596(4958), 7599(5518), 8127(6283), 2085(6585), 8004(6967), 7621(7441), 7600(8377), 7597(10669), "
     ]
    }
   ],
   "source": [
    "# 맞춘 횟수가 높은 상위 30개의 tag\n",
    "tag_correct_cnt.sort(key=lambda tag_correct_cnt:tag_correct_cnt[1])\n",
    "tag_top30 = tag_correct_cnt[-30:]\n",
    "for tagId, cnt in tag_top30:\n",
    "    print (f\"{tagId}({cnt}), \", end=\"\")"
   ]
  },
  {
   "cell_type": "markdown",
   "metadata": {},
   "source": [
    "## ✅ 각 문제별 난이도 설정 (정답수, 오답수 기준)"
   ]
  },
  {
   "cell_type": "code",
   "execution_count": 17,
   "metadata": {},
   "outputs": [
    {
     "name": "stderr",
     "output_type": "stream",
     "text": [
      "/tmp/ipykernel_28020/517296909.py:3: SettingWithCopyWarning: \n",
      "A value is trying to be set on a copy of a slice from a DataFrame.\n",
      "Try using .loc[row_indexer,col_indexer] = value instead\n",
      "\n",
      "See the caveats in the documentation: https://pandas.pydata.org/pandas-docs/stable/user_guide/indexing.html#returning-a-view-versus-a-copy\n",
      "  problem_difficulty_df[\"difficulty\"] = problem_difficulty_df.apply(lambda x: \"easy\" if x[\"correctCnt\"] > x[\"incorrectCnt\"] else \"hard\", axis=1)\n"
     ]
    },
    {
     "data": {
      "text/html": [
       "<div>\n",
       "<style scoped>\n",
       "    .dataframe tbody tr th:only-of-type {\n",
       "        vertical-align: middle;\n",
       "    }\n",
       "\n",
       "    .dataframe tbody tr th {\n",
       "        vertical-align: top;\n",
       "    }\n",
       "\n",
       "    .dataframe thead th {\n",
       "        text-align: right;\n",
       "    }\n",
       "</style>\n",
       "<table border=\"1\" class=\"dataframe\">\n",
       "  <thead>\n",
       "    <tr style=\"text-align: right;\">\n",
       "      <th></th>\n",
       "      <th>problemId</th>\n",
       "      <th>correctCnt</th>\n",
       "      <th>incorrectCnt</th>\n",
       "      <th>difficulty</th>\n",
       "    </tr>\n",
       "  </thead>\n",
       "  <tbody>\n",
       "    <tr>\n",
       "      <th>0</th>\n",
       "      <td>A010001001</td>\n",
       "      <td>295</td>\n",
       "      <td>22</td>\n",
       "      <td>easy</td>\n",
       "    </tr>\n",
       "    <tr>\n",
       "      <th>1</th>\n",
       "      <td>A010001002</td>\n",
       "      <td>304</td>\n",
       "      <td>13</td>\n",
       "      <td>easy</td>\n",
       "    </tr>\n",
       "    <tr>\n",
       "      <th>2</th>\n",
       "      <td>A010001003</td>\n",
       "      <td>287</td>\n",
       "      <td>30</td>\n",
       "      <td>easy</td>\n",
       "    </tr>\n",
       "    <tr>\n",
       "      <th>3</th>\n",
       "      <td>A010001004</td>\n",
       "      <td>301</td>\n",
       "      <td>16</td>\n",
       "      <td>easy</td>\n",
       "    </tr>\n",
       "    <tr>\n",
       "      <th>4</th>\n",
       "      <td>A010001005</td>\n",
       "      <td>281</td>\n",
       "      <td>36</td>\n",
       "      <td>easy</td>\n",
       "    </tr>\n",
       "    <tr>\n",
       "      <th>...</th>\n",
       "      <td>...</td>\n",
       "      <td>...</td>\n",
       "      <td>...</td>\n",
       "      <td>...</td>\n",
       "    </tr>\n",
       "    <tr>\n",
       "      <th>9449</th>\n",
       "      <td>A090074002</td>\n",
       "      <td>20</td>\n",
       "      <td>25</td>\n",
       "      <td>hard</td>\n",
       "    </tr>\n",
       "    <tr>\n",
       "      <th>9450</th>\n",
       "      <td>A090074003</td>\n",
       "      <td>26</td>\n",
       "      <td>19</td>\n",
       "      <td>easy</td>\n",
       "    </tr>\n",
       "    <tr>\n",
       "      <th>9451</th>\n",
       "      <td>A090074004</td>\n",
       "      <td>15</td>\n",
       "      <td>30</td>\n",
       "      <td>hard</td>\n",
       "    </tr>\n",
       "    <tr>\n",
       "      <th>9452</th>\n",
       "      <td>A090074005</td>\n",
       "      <td>18</td>\n",
       "      <td>27</td>\n",
       "      <td>hard</td>\n",
       "    </tr>\n",
       "    <tr>\n",
       "      <th>9453</th>\n",
       "      <td>A090074006</td>\n",
       "      <td>21</td>\n",
       "      <td>24</td>\n",
       "      <td>hard</td>\n",
       "    </tr>\n",
       "  </tbody>\n",
       "</table>\n",
       "<p>9454 rows × 4 columns</p>\n",
       "</div>"
      ],
      "text/plain": [
       "       problemId  correctCnt  incorrectCnt difficulty\n",
       "0     A010001001         295            22       easy\n",
       "1     A010001002         304            13       easy\n",
       "2     A010001003         287            30       easy\n",
       "3     A010001004         301            16       easy\n",
       "4     A010001005         281            36       easy\n",
       "...          ...         ...           ...        ...\n",
       "9449  A090074002          20            25       hard\n",
       "9450  A090074003          26            19       easy\n",
       "9451  A090074004          15            30       hard\n",
       "9452  A090074005          18            27       hard\n",
       "9453  A090074006          21            24       hard\n",
       "\n",
       "[9454 rows x 4 columns]"
      ]
     },
     "execution_count": 17,
     "metadata": {},
     "output_type": "execute_result"
    }
   ],
   "source": [
    "# 문제별로 맞춘횟수, 틀린횟수를 기준으로 난이도 측정 (easy, hard)\n",
    "problem_difficulty_df = problem_df[[\"problemId\", \"correctCnt\", \"incorrectCnt\"]]\n",
    "problem_difficulty_df[\"difficulty\"] = problem_difficulty_df.apply(lambda x: \"easy\" if x[\"correctCnt\"] > x[\"incorrectCnt\"] else \"hard\", axis=1)\n",
    "problem_difficulty_df"
   ]
  },
  {
   "cell_type": "code",
   "execution_count": 19,
   "metadata": {},
   "outputs": [
    {
     "data": {
      "text/plain": [
       "<AxesSubplot:xlabel='difficulty', ylabel='count'>"
      ]
     },
     "execution_count": 19,
     "metadata": {},
     "output_type": "execute_result"
    },
    {
     "data": {
      "image/png": "[encoded data removed]",
      "text/plain": [
       "<Figure size 432x288 with 1 Axes>"
      ]
     },
     "metadata": {
      "needs_background": "light"
     },
     "output_type": "display_data"
    }
   ],
   "source": [
    "# 위에서 분류한 난이도 기준으로 전체 문제의 난이도 분포 비교\n",
    "sns.countplot(x=\"difficulty\", data=problem_difficulty_df)"
   ]
  },
  {
   "cell_type": "markdown",
   "metadata": {},
   "source": [
    "## ✅ 같은 문제를 푼 사람이 있는지 확인"
   ]
  },
  {
   "cell_type": "code",
   "execution_count": 20,
   "metadata": {},
   "outputs": [
    {
     "data": {
      "text/plain": [
       "userID\n",
       "0       [A060001001, A060001002, A060001003, A06000100...\n",
       "1       [A040013001, A040013002, A040013003, A04001300...\n",
       "2       [A030050001, A030050002, A030050003, A03005000...\n",
       "5       [A080001001, A080001002, A080001003, A08000100...\n",
       "6       [A030016001, A030016002, A030016003, A03001600...\n",
       "                              ...                        \n",
       "7436    [A050095001, A050095002, A050095003, A05009500...\n",
       "7437    [A040072001, A040072002, A040072003, A04007200...\n",
       "7438    [A080002001, A080002002, A080002003, A08000200...\n",
       "7440    [A050096001, A050096002, A050096005, A05009600...\n",
       "7441    [A030071001, A030071002, A030071003, A03007100...\n",
       "Name: assessmentItemID, Length: 6698, dtype: object"
      ]
     },
     "execution_count": 20,
     "metadata": {},
     "output_type": "execute_result"
    }
   ],
   "source": [
    "# 유저별로 푼 문항 list로 받아오기\n",
    "user_df = train_df.groupby(\"userID\")[\"assessmentItemID\"].apply(list)\n",
    "user_df"
   ]
  },
  {
   "cell_type": "code",
   "execution_count": 21,
   "metadata": {},
   "outputs": [
    {
     "data": {
      "text/plain": [
       "699"
      ]
     },
     "execution_count": 21,
     "metadata": {},
     "output_type": "execute_result"
    }
   ],
   "source": [
    "# 동일한 문제를 푼 경험이 있는 유저 리스트 생성\n",
    "unsame_users = list()\n",
    "\n",
    "for userId, solved_problems in zip(user_df.index, user_df):\n",
    "    if len(solved_problems) != len(set(solved_problems)):\n",
    "        unsame_users.append(userId)\n",
    "        \n",
    "len(unsame_users)"
   ]
  },
  {
   "cell_type": "markdown",
   "metadata": {},
   "source": [
    "## ✅ 전체 데이터셋에서 정답의 수, 오답의 수"
   ]
  },
  {
   "cell_type": "code",
   "execution_count": 22,
   "metadata": {},
   "outputs": [
    {
     "name": "stdout",
     "output_type": "stream",
     "text": [
      "[train_data.csv] correct(1483205), incorrect(783381)\n",
      "[test_data.csv] correct(169639), incorrect(90475)\n"
     ]
    }
   ],
   "source": [
    "train_answer_df = train_df[\"answerCode\"]\n",
    "test_answer_df = test_df[\"answerCode\"]\n",
    "\n",
    "print (f\"[train_data.csv] correct({sum(train_answer_df)}), incorrect({len(train_answer_df) - sum(train_answer_df)})\")\n",
    "print (f\"[test_data.csv] correct({sum(test_answer_df)}), incorrect({len(test_answer_df) - sum(test_answer_df)})\")"
   ]
  },
  {
   "cell_type": "markdown",
   "metadata": {},
   "source": [
    "## ✅ 문제집별 문제의 개수"
   ]
  },
  {
   "cell_type": "code",
   "execution_count": 26,
   "metadata": {},
   "outputs": [
    {
     "data": {
      "text/plain": [
       "testId\n",
       "A010000001    [A010001001, A010001002, A010001003, A01000100...\n",
       "A010000002    [A010002001, A010002002, A010002003, A01000200...\n",
       "A010000003    [A010003001, A010003002, A010003003, A01000300...\n",
       "A010000004    [A010004001, A010004002, A010004003, A01000400...\n",
       "A010000005    [A010005001, A010005002, A010005003, A01000500...\n",
       "                                    ...                        \n",
       "A090000070    [A090070001, A090070002, A090070003, A09007000...\n",
       "A090000071    [A090071001, A090071002, A090071003, A09007100...\n",
       "A090000072    [A090072001, A090072002, A090072003, A09007200...\n",
       "A090000073    [A090073001, A090073002, A090073003, A09007300...\n",
       "A090000074    [A090074001, A090074004, A090074002, A09007400...\n",
       "Name: assessmentItemID, Length: 1537, dtype: object"
      ]
     },
     "execution_count": 26,
     "metadata": {},
     "output_type": "execute_result"
    }
   ],
   "source": [
    "problemset_df = train_df.groupby(\"testId\")[\"assessmentItemID\"].apply(list)\n",
    "problemset_df"
   ]
  },
  {
   "cell_type": "code",
   "execution_count": 28,
   "metadata": {},
   "outputs": [],
   "source": [
    "problemset_problemcnt = list()\n",
    "for problemset in problemset_df:\n",
    "    problemset_problemcnt.append(len(problemset))"
   ]
  },
  {
   "cell_type": "code",
   "execution_count": 38,
   "metadata": {},
   "outputs": [
    {
     "data": {
      "image/png": "[encoded data removed]",
      "text/plain": [
       "<Figure size 864x504 with 1 Axes>"
      ]
     },
     "metadata": {
      "needs_background": "light"
     },
     "output_type": "display_data"
    }
   ],
   "source": [
    "# 문제집별 문제의 수를 histogram으로 나타내기\n",
    "fig, ax = plt.subplots(1, 1, figsize=(12, 7))\n",
    "sns.histplot(data=problemset_problemcnt, ax=ax, color=\"royalblue\")\n",
    "ax.set_title(\"# of problems in problemset\", fontsize=\"18\", fontweight=\"semibold\")\n",
    "ax.set_xlabel(\"# of problems\")\n",
    "ax.set_ylabel(\"# of problem sets\")\n",
    "plt.show()"
   ]
  },
  {
   "cell_type": "markdown",
   "metadata": {},
   "source": [
    "## ✅ 문제집별 정답률 평균, 최소, 최대"
   ]
  },
  {
   "cell_type": "code",
   "execution_count": 41,
   "metadata": {},
   "outputs": [
    {
     "data": {
      "text/plain": [
       "testId\n",
       "A010000001    [1, 1, 0, 1, 1, 1, 1, 1, 1, 1, 1, 1, 1, 1, 1, ...\n",
       "A010000002    [1, 1, 1, 1, 1, 1, 1, 1, 1, 1, 1, 1, 1, 1, 1, ...\n",
       "A010000003    [1, 1, 1, 0, 1, 1, 1, 1, 1, 1, 1, 1, 1, 1, 1, ...\n",
       "A010000004    [1, 1, 1, 1, 1, 1, 1, 1, 1, 0, 1, 1, 1, 1, 0, ...\n",
       "A010000005    [1, 0, 1, 1, 1, 1, 1, 1, 1, 0, 1, 1, 1, 1, 1, ...\n",
       "                                    ...                        \n",
       "A090000070    [1, 1, 1, 1, 0, 0, 1, 1, 1, 1, 1, 1, 1, 1, 1, ...\n",
       "A090000071    [1, 1, 1, 0, 1, 1, 1, 1, 0, 1, 1, 0, 0, 0, 0, ...\n",
       "A090000072    [1, 1, 1, 1, 1, 0, 1, 1, 1, 1, 0, 0, 1, 0, 0, ...\n",
       "A090000073    [1, 1, 1, 1, 1, 1, 0, 1, 1, 0, 0, 1, 1, 0, 1, ...\n",
       "A090000074    [0, 1, 1, 1, 1, 1, 0, 1, 0, 0, 0, 0, 0, 0, 1, ...\n",
       "Name: answerCode, Length: 1537, dtype: object"
      ]
     },
     "execution_count": 41,
     "metadata": {},
     "output_type": "execute_result"
    }
   ],
   "source": [
    "grp_problemset_answer = train_df.groupby(\"testId\")[\"answerCode\"].apply(list)\n",
    "grp_problemset_answer"
   ]
  },
  {
   "cell_type": "code",
   "execution_count": 42,
   "metadata": {},
   "outputs": [],
   "source": [
    "acc_list = list()\n",
    "for results in grp_problemset_answer:\n",
    "    acc = round(sum(results) / len(results) * 100, 2)\n",
    "    acc_list.append(acc)"
   ]
  },
  {
   "cell_type": "code",
   "execution_count": 45,
   "metadata": {},
   "outputs": [
    {
     "name": "stdout",
     "output_type": "stream",
     "text": [
      "문제집의 최고 정답률 : 95.55, 최소 정답률 : 32.72, 정답률 평균 : 66.79814573845155\n"
     ]
    }
   ],
   "source": [
    "print (f\"문제집의 최고 정답률 : {max(acc_list)}, 최소 정답률 : {min(acc_list)}, 정답률 평균 : {sum(acc_list) / len(acc_list)}\")"
   ]
  },
  {
   "cell_type": "code",
   "execution_count": 47,
   "metadata": {},
   "outputs": [
    {
     "data": {
      "image/png": "[encoded data removed]",
      "text/plain": [
       "<Figure size 864x504 with 1 Axes>"
      ]
     },
     "metadata": {
      "needs_background": "light"
     },
     "output_type": "display_data"
    }
   ],
   "source": [
    "# 문제집별 정답률 분포 파악\n",
    "fig, ax = plt.subplots(1, 1, figsize=(12, 7))\n",
    "sns.histplot(data=acc_list, ax=ax, color=\"royalblue\")\n",
    "ax.set_title(\"Accuracy distribution of problem set\", fontsize=\"18\", fontweight=\"semibold\")\n",
    "ax.set_xlabel(\"accuracy by problem set\")\n",
    "ax.set_ylabel(\"# of problem sets\")\n",
    "plt.show()"
   ]
  },
  {
   "cell_type": "markdown",
   "metadata": {},
   "source": [
    "## ✅ 사용자별 정답률 분포"
   ]
  },
  {
   "cell_type": "code",
   "execution_count": 120,
   "metadata": {},
   "outputs": [],
   "source": [
    "user_acc_list = train_df.groupby(\"userID\")[\"answerCode\"].apply(list)"
   ]
  },
  {
   "cell_type": "code",
   "execution_count": 123,
   "metadata": {},
   "outputs": [],
   "source": [
    "user_acc = [round(sum(x) / len(x) * 100) for x in user_acc_list]"
   ]
  },
  {
   "cell_type": "code",
   "execution_count": 127,
   "metadata": {},
   "outputs": [
    {
     "data": {
      "image/png": "[encoded data removed]",
      "text/plain": [
       "<Figure size 864x504 with 1 Axes>"
      ]
     },
     "metadata": {
      "needs_background": "light"
     },
     "output_type": "display_data"
    }
   ],
   "source": [
    "fig, ax = plt.subplots(1, 1, figsize=(12, 7))\n",
    "sns.histplot(user_acc, ax=ax, color=\"royalblue\")\n",
    "ax.set_title(\"user accuracy distribution\", fontsize=18, fontweight=\"semibold\")\n",
    "ax.set_xlabel(\"Accuracy (%)\")\n",
    "ax.set_ylabel(\"# of users\")\n",
    "plt.show()"
   ]
  },
  {
   "cell_type": "code",
   "execution_count": 128,
   "metadata": {},
   "outputs": [
    {
     "data": {
      "text/plain": [
       "62.888922066288444"
      ]
     },
     "execution_count": 128,
     "metadata": {},
     "output_type": "execute_result"
    }
   ],
   "source": [
    "np.average(user_acc)"
   ]
  },
  {
   "cell_type": "markdown",
   "metadata": {},
   "source": [
    "## ✅ 사용자별로 1문제를 푸는데 걸리는 시간 평균"
   ]
  },
  {
   "cell_type": "code",
   "execution_count": 53,
   "metadata": {},
   "outputs": [],
   "source": [
    "# 고유한 유저 아이디 받아오기 (6698개)\n",
    "user_ids = sorted(train_df[\"userID\"].unique())"
   ]
  },
  {
   "cell_type": "code",
   "execution_count": 74,
   "metadata": {},
   "outputs": [
    {
     "name": "stderr",
     "output_type": "stream",
     "text": [
      "100%|██████████| 6698/6698 [08:39<00:00, 12.89it/s] \n"
     ]
    }
   ],
   "source": [
    "# 유저별로 문제를 푸는데 걸린 시간들 list에 저장\n",
    "user_problem_time = defaultdict(list)\n",
    "\n",
    "for user in tqdm(user_ids):\n",
    "    user_info = train_df[train_df[\"userID\"] == user]\n",
    "    user_info = user_info.sort_values(by=\"Timestamp\")\n",
    "    for problem_idx in range(0, len(user_info) - 1):\n",
    "        next_time = user_info.iloc[problem_idx + 1][\"Timestamp\"]\n",
    "        cur_time = user_info.iloc[problem_idx][\"Timestamp\"]\n",
    "        \n",
    "        d1 = datetime.strptime(next_time, \"%Y-%m-%d %H:%M:%S\")\n",
    "        d2 = datetime.strptime(cur_time, \"%Y-%m-%d %H:%M:%S\")\n",
    "        \n",
    "        diff_time = int((d1 - d2).total_seconds())\n",
    "        user_problem_time[user].append(diff_time)"
   ]
  },
  {
   "cell_type": "code",
   "execution_count": 114,
   "metadata": {},
   "outputs": [
    {
     "name": "stdout",
     "output_type": "stream",
     "text": [
      "유저들이 문제를 푸는데 걸린 가장 적은 시간 : 0 초\n",
      "유저들이 문제를 푸는데 걸린 가장 긴 시간 : 25602295 초\n",
      "유저 각각 문제를 푸는데 걸린 평균 시간들의 평균 : 141565.44117002437 초\n"
     ]
    }
   ],
   "source": [
    "min_times = list() # 유저가 가장 짧게 푼 시간\n",
    "max_times = list() # 유저가 가장 길게 푼 시간\n",
    "average_times = list() # 유저의 평균 문제풀이 시간\n",
    "\n",
    "for user in user_problem_time.keys():\n",
    "    min_times.append(min(user_problem_time[user]))\n",
    "    max_times.append(max(user_problem_time[user]))\n",
    "    average_times.append(np.average(user_problem_time[user]))\n",
    "    \n",
    "# 약 6000초 이상 걸린 것들은 중간에 다른 것을 했다고 봐도,,\n",
    "print (f\"유저들이 문제를 푸는데 걸린 가장 적은 시간 : {min(min_times)} 초\")\n",
    "print (f\"유저들이 문제를 푸는데 걸린 가장 긴 시간 : {max(max_times)} 초\")\n",
    "print (f\"유저 각각 문제를 푸는데 걸린 평균 시간들의 평균 : {np.average(average_times)} 초\")"
   ]
  },
  {
   "cell_type": "code",
   "execution_count": 115,
   "metadata": {},
   "outputs": [
    {
     "name": "stdout",
     "output_type": "stream",
     "text": [
      "전체 유저에 대해 30분 이하로 푼 문제 중, 걸린 시간의 평균 : 72.58905626442966 초\n"
     ]
    }
   ],
   "source": [
    "# 30분 이상 문제풀이에 소모되는 것들 제외하고 계산\n",
    "user_times = list()\n",
    "for user in user_problem_time.keys():\n",
    "    np_user = np.array(user_problem_time[user])\n",
    "    times = np.where(np_user < 1800)\n",
    "    user_times.extend(np_user[times])\n",
    "    \n",
    "print (f\"전체 유저에 대해 30분 이하로 푼 문제 중, 걸린 시간의 평균 : {np.average(user_times)} 초\")"
   ]
  },
  {
   "cell_type": "code",
   "execution_count": 132,
   "metadata": {},
   "outputs": [],
   "source": [
    "tag_prob_df = train_df.groupby(\"KnowledgeTag\")[\"assessmentItemID\"].apply(list)"
   ]
  },
  {
   "cell_type": "code",
   "execution_count": 139,
   "metadata": {},
   "outputs": [],
   "source": [
    "ntag = list()\n",
    "for tag in train_df[\"KnowledgeTag\"].unique():\n",
    "    ntag.append(len(tag_prob_df[tag]))"
   ]
  },
  {
   "cell_type": "code",
   "execution_count": 144,
   "metadata": {},
   "outputs": [
    {
     "data": {
      "image/png": "[encoded data removed]",
      "text/plain": [
       "<Figure size 864x504 with 1 Axes>"
      ]
     },
     "metadata": {
      "needs_background": "light"
     },
     "output_type": "display_data"
    }
   ],
   "source": [
    "fig, ax = plt.subplots(1, 1, figsize=(12, 7))\n",
    "sns.histplot(ntag, ax=ax, color=\"royalblue\", binwidth=200)\n",
    "ax.set_title(\"# of problems in tag (bin width = 200)\", fontsize=18, fontweight=\"semibold\")\n",
    "ax.set_xlabel(\"Knowledge Tags\")\n",
    "ax.set_ylabel(\"# of problems\")\n",
    "plt.show()"
   ]
  },
  {
   "cell_type": "code",
   "execution_count": null,
   "metadata": {},
   "outputs": [],
   "source": [
    "# 문제풀이 시간과 문제의 정답률 간의 비교 (쉬운 문제는 빨리 푼다)\n"
   ]
  },
  {
   "cell_type": "code",
   "execution_count": null,
   "metadata": {},
   "outputs": [],
   "source": [
    "# 문제풀이 시간과 문제의 정답수 + 오답수 비교 (well known 문제는 빨리 푼다)"
   ]
  }
 ],
 "metadata": {
  "interpreter": {
   "hash": "31f2aee4e71d21fbe5cf8b01ff0e069b9275f58929596ceb00d14d90e3e16cd6"
  },
  "kernelspec": {
   "display_name": "Python 3.6.9 64-bit",
   "language": "python",
   "name": "python3"
  },
  "language_info": {
   "codemirror_mode": {
    "name": "ipython",
    "version": 3
   },
   "file_extension": ".py",
   "mimetype": "text/x-python",
   "name": "python",
   "nbconvert_exporter": "python",
   "pygments_lexer": "ipython3",
   "version": "3.8.5"
  },
  "orig_nbformat": 4
 },
 "nbformat": 4,
 "nbformat_minor": 2
}
