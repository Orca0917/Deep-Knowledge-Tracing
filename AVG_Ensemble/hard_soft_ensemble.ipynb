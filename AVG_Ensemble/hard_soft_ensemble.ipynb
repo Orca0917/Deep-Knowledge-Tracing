{
 "cells": [
  {
   "cell_type": "code",
   "execution_count": 30,
   "metadata": {},
   "outputs": [],
   "source": [
    "import pandas as pd\n",
    "import numpy as np\n",
    "import os\n",
    "import glob\n",
    "from tqdm import tqdm\n",
    "from sklearn.metrics import roc_auc_score, accuracy_score"
   ]
  },
  {
   "cell_type": "code",
   "execution_count": 31,
   "metadata": {},
   "outputs": [
    {
     "name": "stdout",
     "output_type": "stream",
     "text": [
      "Loading... ./output_files/base_lstm.csv\n",
      "Loading... ./output_files/emsemble9.csv\n",
      "Loading... ./output_files/catboost.csv\n",
      "Loading... ./output_files/acc_submission.csv\n",
      "Loading... ./output_files/best.csv\n"
     ]
    }
   ],
   "source": [
    "output_csv = list()\n",
    "for file_dir in glob.glob(\"./output_files/*.csv\"):\n",
    "    print(f\"Loading... {file_dir}\")\n",
    "    df = pd.read_csv(file_dir)\n",
    "    output_csv.append(df[[\"prediction\"]])"
   ]
  },
  {
   "cell_type": "code",
   "execution_count": 32,
   "metadata": {},
   "outputs": [],
   "source": [
    "output_sum = list()\n",
    "for df in output_csv:\n",
    "    output_sum.append(list(df[\"prediction\"].iloc[:744].values))"
   ]
  },
  {
   "cell_type": "code",
   "execution_count": 52,
   "metadata": {},
   "outputs": [],
   "source": [
    "'''\n",
    "\n",
    "'''\n",
    "\n",
    "output_np = np.array(output_sum).T\n",
    "\n",
    "row_len = len(output_np[0])\n",
    "#print(row_len)\n",
    "\n",
    "result = []\n",
    "\n",
    "for row in output_np[:]:\n",
    "    ans = np.where(row > 0.5,1,0) # voting\n",
    "    if ans.sum() > row_len//2:\n",
    "        value = np.average(row[np.where(ans == 1)]) # 1의 개수가 더 많으면\n",
    "    elif ans.sum() < row_len//2:\n",
    "        value = np.average(row[np.where(ans == 0)]) \n",
    "    else:\n",
    "        value = np.average(row)\n",
    "    \n",
    "    result.append(value)\n",
    "df['prediction'] = result\n",
    "print (\"Ensemble Done. Check ./ensemble_result/ensemble_submission.csv\")"
   ]
  },
  {
   "cell_type": "code",
   "execution_count": 9,
   "metadata": {},
   "outputs": [
    {
     "name": "stdout",
     "output_type": "stream",
     "text": [
      "Ensemble Done. Check ./ensemble_result/ensemble_submission.csv\n"
     ]
    }
   ],
   "source": [
    "sum_res = np.sum(output_sum, axis=0) / len(output_csv)\n",
    "\n",
    "df = pd.DataFrame()\n",
    "df[\"prediction\"] = sum_res\n",
    "#df.to_csv(\"./ensemble_result/ensemble_submission.csv\", index_label=\"id\")\n",
    "print (\"Ensemble Done. Check ./ensemble_result/ensemble_submission.csv\")"
   ]
  },
  {
   "cell_type": "code",
   "execution_count": 55,
   "metadata": {},
   "outputs": [
    {
     "name": "stdout",
     "output_type": "stream",
     "text": [
      "* Contains hidden testcase *\n",
      "auc : 0.8267044427901329\n",
      "acc : 0.7473118279569892\n"
     ]
    }
   ],
   "source": [
    "ground_truth = pd.read_csv(\"/opt/ml/input/Tester/ground_truth.csv\")\n",
    "\n",
    "auc = roc_auc_score(ground_truth['gt'], df['prediction'])\n",
    "acc = accuracy_score(ground_truth['gt'], np.where(df['prediction'] >= 0.5, 1, 0))\n",
    "\n",
    "print (\"* Contains hidden testcase *\")\n",
    "print (f\"auc : {auc}\\nacc : {acc}\")"
   ]
  },
  {
   "cell_type": "code",
   "execution_count": 11,
   "metadata": {},
   "outputs": [],
   "source": [
    "df.to_csv(\"./ensemble_result/ensemble_submission.csv\", index_label=\"id\")"
   ]
  }
 ],
 "metadata": {
  "interpreter": {
   "hash": "d4d1e4263499bec80672ea0156c357c1ee493ec2b1c70f0acce89fc37c4a6abe"
  },
  "kernelspec": {
   "display_name": "Python 3.8.5 ('base')",
   "language": "python",
   "name": "python3"
  },
  "language_info": {
   "codemirror_mode": {
    "name": "ipython",
    "version": 3
   },
   "file_extension": ".py",
   "mimetype": "text/x-python",
   "name": "python",
   "nbconvert_exporter": "python",
   "pygments_lexer": "ipython3",
   "version": "3.8.5"
  },
  "orig_nbformat": 4
 },
 "nbformat": 4,
 "nbformat_minor": 2
}
