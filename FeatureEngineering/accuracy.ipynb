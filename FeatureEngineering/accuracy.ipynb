{
 "cells": [
  {
   "cell_type": "markdown",
   "metadata": {},
   "source": [
    "### 📌 Accuracy feature (user 별)"
   ]
  },
  {
   "cell_type": "code",
   "execution_count": null,
   "metadata": {},
   "outputs": [],
   "source": [
    "%load_ext nb_black\n",
    "%load_ext lab_black\n",
    "\n",
    "import numpy as np\n",
    "import pandas as pd\n",
    "import os\n",
    "\n",
    "from collections import defaultdict\n",
    "\n",
    "DATA_PATH = \"/opt/ml/input/data/FE_total_data.csv\"\n",
    "raw_data = pd.read_csv(DATA_PATH, date_parser=[\"Timestamp\"])\n",
    "\n",
    "# sorting by (user, timestamp)\n",
    "raw_data = raw_data.sort_values(by=[\"userID\", \"Timestamp\"]).reset_index(drop=True)\n",
    "raw_data[\"accuracy\"] = 0\n",
    "raw_data.head()"
   ]
  },
  {
   "cell_type": "code",
   "execution_count": null,
   "metadata": {},
   "outputs": [],
   "source": [
    "user_ac = raw_data.groupby(\"userID\")[\"answerCode\"].apply(list)\n",
    "user_ac.head()"
   ]
  },
  {
   "cell_type": "code",
   "execution_count": null,
   "metadata": {},
   "outputs": [],
   "source": [
    "userID = pd.unique(raw_data.userID).tolist()\n",
    "answer_rate_by_user = defaultdict(lambda: 0)\n",
    "answer_rate_by_user"
   ]
  },
  {
   "cell_type": "code",
   "execution_count": null,
   "metadata": {},
   "outputs": [],
   "source": [
    "for u in userID:\n",
    "    answer_rate_by_user[u] = np.mean(user_ac[u])"
   ]
  },
  {
   "cell_type": "code",
   "execution_count": null,
   "metadata": {},
   "outputs": [],
   "source": [
    "def acc(id):\n",
    "    return answer_rate_by_user[id]\n",
    "\n",
    "\n",
    "raw_data[\"accuracy\"] = raw_data[\"userID\"].apply(acc)\n",
    "raw_data.sample(5)"
   ]
  },
  {
   "cell_type": "code",
   "execution_count": null,
   "metadata": {},
   "outputs": [],
   "source": [
    "os.makedirs(\"/opt/ml/input/data/FE/\", exist_ok=True)\n",
    "raw_data.to_csv(\"/opt/ml/input/data/FE/accuracy.csv\", index=False)"
   ]
  }
 ],
 "metadata": {
  "interpreter": {
   "hash": "d4d1e4263499bec80672ea0156c357c1ee493ec2b1c70f0acce89fc37c4a6abe"
  },
  "kernelspec": {
   "display_name": "Python 3.8.5 ('base')",
   "language": "python",
   "name": "python3"
  },
  "language_info": {
   "codemirror_mode": {
    "name": "ipython",
    "version": 3
   },
   "file_extension": ".py",
   "mimetype": "text/x-python",
   "name": "python",
   "nbconvert_exporter": "python",
   "pygments_lexer": "ipython3",
   "version": "3.8.3"
  },
  "orig_nbformat": 4
 },
 "nbformat": 4,
 "nbformat_minor": 2
}
