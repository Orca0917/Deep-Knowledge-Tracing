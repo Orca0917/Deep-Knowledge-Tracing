{
 "cells": [
  {
   "cell_type": "markdown",
   "metadata": {},
   "source": [
    "## 📌 시험지(testId)의 문제번호 추출하여 feature 생성"
   ]
  },
  {
   "cell_type": "code",
   "execution_count": 3,
   "metadata": {},
   "outputs": [],
   "source": [
    "import pandas as pd\n",
    "import os"
   ]
  },
  {
   "cell_type": "code",
   "execution_count": 2,
   "metadata": {},
   "outputs": [],
   "source": [
    "# train_data.csv 데이터프레임으로 불러오기\n",
    "data_type = {\n",
    "    'userID': 'int16',\n",
    "    'answerCode': 'int8',\n",
    "    'knowledgeTag': 'int16'\n",
    "}\n",
    "\n",
    "df = pd.read_csv(\"/opt/ml/input/data/FE_total_data.csv\", dtype=data_type, parse_dates=['Timestamp'])\n",
    "df = df.sort_values(by=['userID', 'Timestamp']).reset_index(drop=True)\n",
    "\n",
    "# 문제번호 feature 추가\n",
    "df['problemNumber'] = df['assessmentItemID'].apply(lambda x : int(x[-3 : ]))"
   ]
  },
  {
   "cell_type": "code",
   "execution_count": 4,
   "metadata": {},
   "outputs": [],
   "source": [
    "# 추가된 문제번호 feature csv로 저장\n",
    "os.makedirs(\"/opt/ml/input/data/FE/\", exist_ok=True)\n",
    "df.to_csv(\"/opt/ml/input/data/FE/problemNumber.csv\", index=False)  # 최종 결과 csv로 반환"
   ]
  }
 ],
 "metadata": {
  "interpreter": {
   "hash": "d4d1e4263499bec80672ea0156c357c1ee493ec2b1c70f0acce89fc37c4a6abe"
  },
  "kernelspec": {
   "display_name": "Python 3.8.5 ('base')",
   "language": "python",
   "name": "python3"
  },
  "language_info": {
   "codemirror_mode": {
    "name": "ipython",
    "version": 3
   },
   "file_extension": ".py",
   "mimetype": "text/x-python",
   "name": "python",
   "nbconvert_exporter": "python",
   "pygments_lexer": "ipython3",
   "version": "3.8.3"
  },
  "orig_nbformat": 4
 },
 "nbformat": 4,
 "nbformat_minor": 2
}
