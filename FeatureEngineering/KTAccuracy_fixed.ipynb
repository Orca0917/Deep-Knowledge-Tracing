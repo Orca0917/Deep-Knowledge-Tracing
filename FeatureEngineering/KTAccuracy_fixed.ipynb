{
 "cells": [
  {
   "cell_type": "code",
   "execution_count": 23,
   "metadata": {},
   "outputs": [
    {
     "name": "stdout",
     "output_type": "stream",
     "text": [
      "The nb_black extension is already loaded. To reload it, use:\n",
      "  %reload_ext nb_black\n",
      "The lab_black extension is already loaded. To reload it, use:\n",
      "  %reload_ext lab_black\n"
     ]
    },
    {
     "data": {
      "application/javascript": "\n            setTimeout(function() {\n                var nbb_cell_id = 23;\n                var nbb_unformatted_code = \"%load_ext nb_black\\n%load_ext lab_black\";\n                var nbb_formatted_code = \"%load_ext nb_black\\n%load_ext lab_black\";\n                var nbb_cells = Jupyter.notebook.get_cells();\n                for (var i = 0; i < nbb_cells.length; ++i) {\n                    if (nbb_cells[i].input_prompt_number == nbb_cell_id) {\n                        if (nbb_cells[i].get_text() == nbb_unformatted_code) {\n                             nbb_cells[i].set_text(nbb_formatted_code);\n                        }\n                        break;\n                    }\n                }\n            }, 500);\n            ",
      "text/plain": [
       "<IPython.core.display.Javascript object>"
      ]
     },
     "metadata": {},
     "output_type": "display_data"
    }
   ],
   "source": [
    "%load_ext nb_black\n",
    "%load_ext lab_black"
   ]
  },
  {
   "cell_type": "code",
   "execution_count": 24,
   "metadata": {},
   "outputs": [
    {
     "data": {
      "application/javascript": "\n            setTimeout(function() {\n                var nbb_cell_id = 24;\n                var nbb_unformatted_code = \"import numpy as np\\nimport pandas as pd\\nimport os\\n\\nfrom collections import defaultdict\\nfrom tqdm import tqdm\";\n                var nbb_formatted_code = \"import numpy as np\\nimport pandas as pd\\nimport os\\n\\nfrom collections import defaultdict\\nfrom tqdm import tqdm\";\n                var nbb_cells = Jupyter.notebook.get_cells();\n                for (var i = 0; i < nbb_cells.length; ++i) {\n                    if (nbb_cells[i].input_prompt_number == nbb_cell_id) {\n                        if (nbb_cells[i].get_text() == nbb_unformatted_code) {\n                             nbb_cells[i].set_text(nbb_formatted_code);\n                        }\n                        break;\n                    }\n                }\n            }, 500);\n            ",
      "text/plain": [
       "<IPython.core.display.Javascript object>"
      ]
     },
     "metadata": {},
     "output_type": "display_data"
    }
   ],
   "source": [
    "import numpy as np\n",
    "import pandas as pd\n",
    "import os\n",
    "\n",
    "from collections import defaultdict\n",
    "from tqdm import tqdm"
   ]
  },
  {
   "cell_type": "code",
   "execution_count": 3,
   "metadata": {},
   "outputs": [
    {
     "data": {
      "application/javascript": "\n            setTimeout(function() {\n                var nbb_cell_id = 3;\n                var nbb_unformatted_code = \"\\\"\\\"\\\"\\nKTAccuracy.ipynb\\n\\ntrain \\ub370\\uc774\\ud130\\uc14b\\uacfc test \\ub370\\uc774\\ud130\\uc14b\\uc758 \\ubaa8\\ub4e0 \\uc815\\ubcf4\\uac00 \\uc788\\ub294 FE_total_data.csv \\ub85c \\ubd80\\ud130\\n\\uac01 \\uc720\\uc800\\ub9c8\\ub2e4 \\ud0dc\\uadf8\\ubcc4 \\uc815\\ub2f5\\ub960\\uc744 \\uad6c\\ud574\\uc11c \\uc0c8\\ub85c\\uc6b4 column\\uc778 KTAccuracy \\ub85c \\uc800\\uc7a5\\ud574\\uc900\\ub2e4.\\n\\\"\\\"\\\"\\n\\n# train + test dataset \\uc774 \\uc800\\uc7a5\\ub41c FE_total_data.csv \\ubd88\\ub7ec\\uc624\\uae30\\nraw_data = pd.read_csv(\\\"/opt/ml/input/data/FE_total_data.csv\\\")\\nuser_id = sorted(raw_data[\\\"userID\\\"].unique())  # \\uc720\\uc800 \\uc544\\uc774\\ub514 \\ubaa9\\ub85d \\ub9ac\\uc2a4\\ud2b8\\ub85c \\uc800\\uc7a5\\n\\nraw_data = raw_data.sort_values(by=[\\\"userID\\\", \\\"Timestamp\\\"])\";\n                var nbb_formatted_code = \"\\\"\\\"\\\"\\nKTAccuracy.ipynb\\n\\ntrain \\ub370\\uc774\\ud130\\uc14b\\uacfc test \\ub370\\uc774\\ud130\\uc14b\\uc758 \\ubaa8\\ub4e0 \\uc815\\ubcf4\\uac00 \\uc788\\ub294 FE_total_data.csv \\ub85c \\ubd80\\ud130\\n\\uac01 \\uc720\\uc800\\ub9c8\\ub2e4 \\ud0dc\\uadf8\\ubcc4 \\uc815\\ub2f5\\ub960\\uc744 \\uad6c\\ud574\\uc11c \\uc0c8\\ub85c\\uc6b4 column\\uc778 KTAccuracy \\ub85c \\uc800\\uc7a5\\ud574\\uc900\\ub2e4.\\n\\\"\\\"\\\"\\n\\n# train + test dataset \\uc774 \\uc800\\uc7a5\\ub41c FE_total_data.csv \\ubd88\\ub7ec\\uc624\\uae30\\nraw_data = pd.read_csv(\\\"/opt/ml/input/data/FE_total_data.csv\\\")\\nuser_id = sorted(raw_data[\\\"userID\\\"].unique())  # \\uc720\\uc800 \\uc544\\uc774\\ub514 \\ubaa9\\ub85d \\ub9ac\\uc2a4\\ud2b8\\ub85c \\uc800\\uc7a5\\n\\nraw_data = raw_data.sort_values(by=[\\\"userID\\\", \\\"Timestamp\\\"])\";\n                var nbb_cells = Jupyter.notebook.get_cells();\n                for (var i = 0; i < nbb_cells.length; ++i) {\n                    if (nbb_cells[i].input_prompt_number == nbb_cell_id) {\n                        if (nbb_cells[i].get_text() == nbb_unformatted_code) {\n                             nbb_cells[i].set_text(nbb_formatted_code);\n                        }\n                        break;\n                    }\n                }\n            }, 500);\n            ",
      "text/plain": [
       "<IPython.core.display.Javascript object>"
      ]
     },
     "metadata": {},
     "output_type": "display_data"
    }
   ],
   "source": [
    "\"\"\"\n",
    "KTAccuracy.ipynb\n",
    "\n",
    "train 데이터셋과 test 데이터셋의 모든 정보가 있는 FE_total_data.csv 로 부터\n",
    "각 유저마다 태그별 정답률을 구해서 새로운 column인 KTAccuracy 로 저장해준다.\n",
    "\"\"\"\n",
    "\n",
    "# train + test dataset 이 저장된 FE_total_data.csv 불러오기\n",
    "raw_data = pd.read_csv(\"/opt/ml/input/data/FE_total_data.csv\")\n",
    "user_id = sorted(raw_data[\"userID\"].unique())  # 유저 아이디 목록 리스트로 저장\n",
    "\n",
    "raw_data = raw_data.sort_values(by=[\"userID\", \"Timestamp\"])"
   ]
  },
  {
   "cell_type": "code",
   "execution_count": 26,
   "metadata": {},
   "outputs": [
    {
     "name": "stderr",
     "output_type": "stream",
     "text": [
      "100%|██████████| 2526700/2526700 [01:59<00:00, 21158.10it/s]\n"
     ]
    },
    {
     "data": {
      "application/javascript": "\n            setTimeout(function() {\n                var nbb_cell_id = 26;\n                var nbb_unformatted_code = \"original_answer_df = pd.DataFrame(columns=[\\\"answerCode\\\"])\\noriginal_answer_list = list()\\n\\nfor idx in tqdm(range(len(raw_data))):\\n    if idx == len(raw_data) - 1:\\n        original_answer_list.append(raw_data.iloc[idx, 3])\\n        raw_data.iloc[idx, 3] = -1\\n\\n    elif raw_data.iloc[idx, 0] != raw_data.iloc[idx + 1, 0]:\\n        original_answer_list.append(raw_data.iloc[idx, 3])\\n        raw_data.iloc[idx, 3] = -1\\n\\noriginal_answer_df[\\\"answerCode\\\"] = original_answer_list\";\n                var nbb_formatted_code = \"original_answer_df = pd.DataFrame(columns=[\\\"answerCode\\\"])\\noriginal_answer_list = list()\\n\\nfor idx in tqdm(range(len(raw_data))):\\n    if idx == len(raw_data) - 1:\\n        original_answer_list.append(raw_data.iloc[idx, 3])\\n        raw_data.iloc[idx, 3] = -1\\n\\n    elif raw_data.iloc[idx, 0] != raw_data.iloc[idx + 1, 0]:\\n        original_answer_list.append(raw_data.iloc[idx, 3])\\n        raw_data.iloc[idx, 3] = -1\\n\\noriginal_answer_df[\\\"answerCode\\\"] = original_answer_list\";\n                var nbb_cells = Jupyter.notebook.get_cells();\n                for (var i = 0; i < nbb_cells.length; ++i) {\n                    if (nbb_cells[i].input_prompt_number == nbb_cell_id) {\n                        if (nbb_cells[i].get_text() == nbb_unformatted_code) {\n                             nbb_cells[i].set_text(nbb_formatted_code);\n                        }\n                        break;\n                    }\n                }\n            }, 500);\n            ",
      "text/plain": [
       "<IPython.core.display.Javascript object>"
      ]
     },
     "metadata": {},
     "output_type": "display_data"
    }
   ],
   "source": [
    "for idx in tqdm(range(len(raw_data))):\n",
    "    if idx == len(raw_data) - 1:\n",
    "        raw_data.iloc[idx, 3] = -1\n",
    "\n",
    "    elif raw_data.iloc[idx, 0] != raw_data.iloc[idx + 1, 0]:\n",
    "        raw_data.iloc[idx, 3] = -1\n"
   ]
  },
  {
   "cell_type": "code",
   "execution_count": 46,
   "metadata": {},
   "outputs": [
    {
     "name": "stdout",
     "output_type": "stream",
     "text": [
      "\n",
      "[1] Make dictation list\n",
      "\n",
      "[2] Calculate user's tag accuracy\n"
     ]
    },
    {
     "name": "stderr",
     "output_type": "stream",
     "text": [
      "100%|██████████| 7442/7442 [02:57<00:00, 41.88it/s] \n"
     ]
    },
    {
     "data": {
      "application/javascript": "\n            setTimeout(function() {\n                var nbb_cell_id = 46;\n                var nbb_unformatted_code = \"acc_by_kt_dict = dict()\\n\\\"\\\"\\\"\\nacc_by_kt_dict : \\uac01 \\uc720\\uc800\\uc758 KT\\ubcc4 \\uc815\\ub2f5\\ub960\\uc744 \\uc800\\uc7a5\\ud55c dictionary\\n    - Key : \\uc720\\uc800 \\uc544\\uc774\\ub529\\n    - Value : \\ub9ac\\uc2a4\\ud2b8 \\ub450\\uac1c\\n        - \\uccab\\ubc88\\uc9f8 \\ub9ac\\uc2a4\\ud2b8 : KT\\ub97c \\ub2f4\\uace0 \\uc788\\ub294 \\ub9ac\\uc2a4\\ud2b8\\n        - \\ub450\\ubc88\\uc9f8 \\ub9ac\\uc2a4\\ud2b8 : \\uccab\\ubc88\\uc9f8 \\ub9ac\\uc2a4\\ud2b8\\uc5d0 \\ub3d9\\uc77c\\ud55c \\uc778\\ub371\\uc2a4\\uc5d0 \\uc788\\ub294 KT\\uc758 \\uc815\\ub2f5\\ub960\\n\\\"\\\"\\\"\\nprint(\\\"\\\\n[1] Make dictation list\\\")\\nfor user in user_id:\\n    acc_by_kt_dict[user] = dict()\\n\\nprint(\\\"\\\\n[2] Calculate user's tag accuracy\\\", flush=True)\\nfor user in tqdm(user_id):\\n    user_data = raw_data[raw_data.userID == user]  # \\uac01 \\uc720\\uc800\\uc5d0 \\ub300\\ud55c \\ud589\\ub9cc \\ucd94\\ucd9c\\ud558\\uc5ec data\\uc5d0 \\uc800\\uc7a5\\n    user_solved_kt = user_data[\\\"KnowledgeTag\\\"].unique()\\n\\n    for know_tag in user_solved_kt:  # \\uc720\\uc800\\uac00 \\ud480\\uc5b4\\ubcf8 \\uac01 KT \\ub300\\ud574\\n        kt = int(know_tag)\\n        correct_cnt = 0\\n        total_cnt = 0\\n\\n        for is_answer in user_data[user_data.KnowledgeTag == know_tag][\\\"answerCode\\\"]:\\n            if is_answer == -1:\\n                continue\\n\\n            if is_answer == 1:\\n                correct_cnt += 1\\n\\n            total_cnt += 1\\n\\n        if total_cnt > 2:\\n            acc_by_kt_dict[user][kt] = correct_cnt / total_cnt\\n        else:\\n            acc_by_kt_dict[user][kt] = 0.5\";\n                var nbb_formatted_code = \"acc_by_kt_dict = dict()\\n\\\"\\\"\\\"\\nacc_by_kt_dict : \\uac01 \\uc720\\uc800\\uc758 KT\\ubcc4 \\uc815\\ub2f5\\ub960\\uc744 \\uc800\\uc7a5\\ud55c dictionary\\n    - Key : \\uc720\\uc800 \\uc544\\uc774\\ub529\\n    - Value : \\ub9ac\\uc2a4\\ud2b8 \\ub450\\uac1c\\n        - \\uccab\\ubc88\\uc9f8 \\ub9ac\\uc2a4\\ud2b8 : KT\\ub97c \\ub2f4\\uace0 \\uc788\\ub294 \\ub9ac\\uc2a4\\ud2b8\\n        - \\ub450\\ubc88\\uc9f8 \\ub9ac\\uc2a4\\ud2b8 : \\uccab\\ubc88\\uc9f8 \\ub9ac\\uc2a4\\ud2b8\\uc5d0 \\ub3d9\\uc77c\\ud55c \\uc778\\ub371\\uc2a4\\uc5d0 \\uc788\\ub294 KT\\uc758 \\uc815\\ub2f5\\ub960\\n\\\"\\\"\\\"\\nprint(\\\"\\\\n[1] Make dictation list\\\")\\nfor user in user_id:\\n    acc_by_kt_dict[user] = dict()\\n\\nprint(\\\"\\\\n[2] Calculate user's tag accuracy\\\", flush=True)\\nfor user in tqdm(user_id):\\n    user_data = raw_data[raw_data.userID == user]  # \\uac01 \\uc720\\uc800\\uc5d0 \\ub300\\ud55c \\ud589\\ub9cc \\ucd94\\ucd9c\\ud558\\uc5ec data\\uc5d0 \\uc800\\uc7a5\\n    user_solved_kt = user_data[\\\"KnowledgeTag\\\"].unique()\\n\\n    for know_tag in user_solved_kt:  # \\uc720\\uc800\\uac00 \\ud480\\uc5b4\\ubcf8 \\uac01 KT \\ub300\\ud574\\n        kt = int(know_tag)\\n        correct_cnt = 0\\n        total_cnt = 0\\n\\n        for is_answer in user_data[user_data.KnowledgeTag == know_tag][\\\"answerCode\\\"]:\\n            if is_answer == -1:\\n                continue\\n\\n            if is_answer == 1:\\n                correct_cnt += 1\\n\\n            total_cnt += 1\\n\\n        if total_cnt > 2:\\n            acc_by_kt_dict[user][kt] = correct_cnt / total_cnt\\n        else:\\n            acc_by_kt_dict[user][kt] = 0.5\";\n                var nbb_cells = Jupyter.notebook.get_cells();\n                for (var i = 0; i < nbb_cells.length; ++i) {\n                    if (nbb_cells[i].input_prompt_number == nbb_cell_id) {\n                        if (nbb_cells[i].get_text() == nbb_unformatted_code) {\n                             nbb_cells[i].set_text(nbb_formatted_code);\n                        }\n                        break;\n                    }\n                }\n            }, 500);\n            ",
      "text/plain": [
       "<IPython.core.display.Javascript object>"
      ]
     },
     "metadata": {},
     "output_type": "display_data"
    }
   ],
   "source": [
    "acc_by_kt_dict = dict()\n",
    "\"\"\"\n",
    "acc_by_kt_dict : 각 유저의 KT별 정답률을 저장한 dictionary\n",
    "    - Key : 유저 아이딩\n",
    "    - Value : 리스트 두개\n",
    "        - 첫번째 리스트 : KT를 담고 있는 리스트\n",
    "        - 두번째 리스트 : 첫번째 리스트에 동일한 인덱스에 있는 KT의 정답률\n",
    "\"\"\"\n",
    "print(\"\\n[1] Make dictation list\")\n",
    "for user in user_id:\n",
    "    acc_by_kt_dict[user] = dict()\n",
    "\n",
    "print(\"\\n[2] Calculate user's tag accuracy\", flush=True)\n",
    "for user in tqdm(user_id):\n",
    "    user_data = raw_data[raw_data.userID == user]  # 각 유저에 대한 행만 추출하여 data에 저장\n",
    "    user_solved_kt = user_data[\"KnowledgeTag\"].unique()\n",
    "\n",
    "    for know_tag in user_solved_kt:  # 유저가 풀어본 각 KT 대해\n",
    "        kt = int(know_tag)\n",
    "        correct_cnt = 0\n",
    "        total_cnt = 0\n",
    "\n",
    "        for is_answer in user_data[user_data.KnowledgeTag == know_tag][\"answerCode\"]:\n",
    "            if is_answer == -1:\n",
    "                continue\n",
    "\n",
    "            if is_answer == 1:\n",
    "                correct_cnt += 1\n",
    "\n",
    "            total_cnt += 1\n",
    "\n",
    "        if total_cnt > 0:\n",
    "            acc_by_kt_dict[user][kt] = correct_cnt / total_cnt\n",
    "        else:\n",
    "            acc_by_kt_dict[user][kt] = 0.5"
   ]
  },
  {
   "cell_type": "code",
   "execution_count": 40,
   "metadata": {},
   "outputs": [
    {
     "name": "stderr",
     "output_type": "stream",
     "text": [
      "100%|██████████| 2526700/2526700 [00:02<00:00, 918283.39it/s]\n"
     ]
    },
    {
     "data": {
      "application/javascript": "\n            setTimeout(function() {\n                var nbb_cell_id = 40;\n                var nbb_unformatted_code = \"\\\"\\\"\\\"\\nacc_by_kt_category_list \\n: \\ud574\\ub2f9 \\ub9ac\\uc2a4\\ud2b8\\ub294 feature\\ub97c \\ucd94\\uac00\\ud558\\uae30 \\uc804\\uc5d0 feature \\uac12\\ub4e4\\uc744 \\uc77c\\ub82c\\ub85c \\uc800\\uc7a5\\ud558\\uae30 \\uc704\\ud574 \\ub9cc\\ub4e0 \\ub9ac\\uc2a4\\ud2b8\\uc785\\ub2c8\\ub2e4.\\n\\\"\\\"\\\"\\nacc_by_kt_category_list = list()\\n\\nfor user, tag in tqdm(\\n    zip(raw_data[\\\"userID\\\"], raw_data[\\\"KnowledgeTag\\\"]), total=len(raw_data)\\n):\\n    tag_acc = acc_by_kt_dict[user][tag]\\n    acc_by_kt_category_list.append(tag_acc)\\n\\n\\nraw_data[\\\"KnowledgeTagAcc\\\"] = acc_by_kt_category_list  # \\ub9ac\\uc2a4\\ud2b8\\uc5d0 KnowledgeTagAcc feature \\ucd94\\uac00\";\n                var nbb_formatted_code = \"\\\"\\\"\\\"\\nacc_by_kt_category_list \\n: \\ud574\\ub2f9 \\ub9ac\\uc2a4\\ud2b8\\ub294 feature\\ub97c \\ucd94\\uac00\\ud558\\uae30 \\uc804\\uc5d0 feature \\uac12\\ub4e4\\uc744 \\uc77c\\ub82c\\ub85c \\uc800\\uc7a5\\ud558\\uae30 \\uc704\\ud574 \\ub9cc\\ub4e0 \\ub9ac\\uc2a4\\ud2b8\\uc785\\ub2c8\\ub2e4.\\n\\\"\\\"\\\"\\nacc_by_kt_category_list = list()\\n\\nfor user, tag in tqdm(\\n    zip(raw_data[\\\"userID\\\"], raw_data[\\\"KnowledgeTag\\\"]), total=len(raw_data)\\n):\\n    tag_acc = acc_by_kt_dict[user][tag]\\n    acc_by_kt_category_list.append(tag_acc)\\n\\n\\nraw_data[\\\"KnowledgeTagAcc\\\"] = acc_by_kt_category_list  # \\ub9ac\\uc2a4\\ud2b8\\uc5d0 KnowledgeTagAcc feature \\ucd94\\uac00\";\n                var nbb_cells = Jupyter.notebook.get_cells();\n                for (var i = 0; i < nbb_cells.length; ++i) {\n                    if (nbb_cells[i].input_prompt_number == nbb_cell_id) {\n                        if (nbb_cells[i].get_text() == nbb_unformatted_code) {\n                             nbb_cells[i].set_text(nbb_formatted_code);\n                        }\n                        break;\n                    }\n                }\n            }, 500);\n            ",
      "text/plain": [
       "<IPython.core.display.Javascript object>"
      ]
     },
     "metadata": {},
     "output_type": "display_data"
    }
   ],
   "source": [
    "\"\"\"\n",
    "acc_by_kt_category_list \n",
    ": 해당 리스트는 feature를 추가하기 전에 feature 값들을 일렬로 저장하기 위해 만든 리스트입니다.\n",
    "\"\"\"\n",
    "acc_by_kt_category_list = list()\n",
    "\n",
    "for user, tag in tqdm(\n",
    "    zip(raw_data[\"userID\"], raw_data[\"KnowledgeTag\"]), total=len(raw_data)\n",
    "):\n",
    "    tag_acc = acc_by_kt_dict[user][tag]\n",
    "    acc_by_kt_category_list.append(tag_acc)\n",
    "\n",
    "\n",
    "raw_data[\"KnowledgeTagAcc\"] = acc_by_kt_category_list  # 리스트에 KnowledgeTagAcc feature 추가"
   ]
  },
  {
   "cell_type": "code",
   "execution_count": 39,
   "metadata": {},
   "outputs": [
    {
     "name": "stderr",
     "output_type": "stream",
     "text": [
      "100%|██████████| 2526700/2526700 [00:01<00:00, 1294319.61it/s]\n"
     ]
    },
    {
     "data": {
      "application/javascript": "\n            setTimeout(function() {\n                var nbb_cell_id = 39;\n                var nbb_unformatted_code = \"\\\"\\\"\\\"\\nacc_cate_list : \\uac01 \\ub300\\ubd84\\ub958 \\uc815\\ub2f5\\ub960\\uc744 \\uce74\\ud14c\\uace0\\ub9ac\\ub85c \\ub9cc\\ub4e4\\uc5b4 \\uc800\\uc7a5\\ud558\\ub824\\uace0 \\ud55c \\ub9ac\\uc2a4\\ud2b8. \\nex. \\uc6d0\\ub798 \\uac12 [0.04, 0.79, 0.43, 0.99] -> \\uacf1\\ud558\\uae30 10 : [0.4, 7.9, 4.3, 9.9] -> round : [0, 8, 4, 10] -> \\ub354\\ud558\\uae30 1 : [1, 9, 5, 11]\\n\\\"\\\"\\\"\\nacc_cate_list = list()\\nfor tag_acc in tqdm(raw_data[\\\"KnowledgeTagAcc\\\"]):\\n    acc = tag_acc * 10\\n    acc = round(acc) + 1\\n    acc_cate_list.append(acc)\\n\\nraw_data[\\\"KTAccuracyCate\\\"] = acc_cate_list  # \\ub9ac\\uc2a4\\ud2b8\\ub85c \\uc800\\uc7a5\";\n                var nbb_formatted_code = \"\\\"\\\"\\\"\\nacc_cate_list : \\uac01 \\ub300\\ubd84\\ub958 \\uc815\\ub2f5\\ub960\\uc744 \\uce74\\ud14c\\uace0\\ub9ac\\ub85c \\ub9cc\\ub4e4\\uc5b4 \\uc800\\uc7a5\\ud558\\ub824\\uace0 \\ud55c \\ub9ac\\uc2a4\\ud2b8. \\nex. \\uc6d0\\ub798 \\uac12 [0.04, 0.79, 0.43, 0.99] -> \\uacf1\\ud558\\uae30 10 : [0.4, 7.9, 4.3, 9.9] -> round : [0, 8, 4, 10] -> \\ub354\\ud558\\uae30 1 : [1, 9, 5, 11]\\n\\\"\\\"\\\"\\nacc_cate_list = list()\\nfor tag_acc in tqdm(raw_data[\\\"KnowledgeTagAcc\\\"]):\\n    acc = tag_acc * 10\\n    acc = round(acc) + 1\\n    acc_cate_list.append(acc)\\n\\nraw_data[\\\"KTAccuracyCate\\\"] = acc_cate_list  # \\ub9ac\\uc2a4\\ud2b8\\ub85c \\uc800\\uc7a5\";\n                var nbb_cells = Jupyter.notebook.get_cells();\n                for (var i = 0; i < nbb_cells.length; ++i) {\n                    if (nbb_cells[i].input_prompt_number == nbb_cell_id) {\n                        if (nbb_cells[i].get_text() == nbb_unformatted_code) {\n                             nbb_cells[i].set_text(nbb_formatted_code);\n                        }\n                        break;\n                    }\n                }\n            }, 500);\n            ",
      "text/plain": [
       "<IPython.core.display.Javascript object>"
      ]
     },
     "metadata": {},
     "output_type": "display_data"
    }
   ],
   "source": [
    "\"\"\"\n",
    "acc_cate_list : 각 대분류 정답률을 카테고리로 만들어 저장하려고 한 리스트. \n",
    "ex. 원래 값 [0.04, 0.79, 0.43, 0.99] -> 곱하기 10 : [0.4, 7.9, 4.3, 9.9] -> round : [0, 8, 4, 10] -> 더하기 1 : [1, 9, 5, 11]\n",
    "\"\"\"\n",
    "acc_cate_list = list()\n",
    "for tag_acc in tqdm(raw_data[\"KnowledgeTagAcc\"]):\n",
    "    acc = tag_acc * 10\n",
    "    acc = round(acc) + 1\n",
    "    acc_cate_list.append(acc)\n",
    "\n",
    "raw_data[\"KTAccuracyCate\"] = acc_cate_list  # 리스트로 저장"
   ]
  },
  {
   "cell_type": "code",
   "execution_count": 11,
   "metadata": {},
   "outputs": [
    {
     "data": {
      "application/javascript": "\n            setTimeout(function() {\n                var nbb_cell_id = 11;\n                var nbb_unformatted_code = \"# TODO : \\uc774\\ub984\\uacfc \\uacbd\\ub85c \\uc6d0\\ud558\\ub294 \\ub370\\ub85c \\ubcc0\\uacbd\\ud558\\uae30\\nos.makedirs(\\\"/opt/ml/input/data/FE\\\", exist_ok=True)\\n\\nraw_data.to_csv(\\n    \\\"/opt/ml/input/data/FE/KnowledgeTagAcc.csv\\\",\\n    columns=[\\n        \\\"userID\\\",\\n        \\\"assessmentItemID\\\",\\n        \\\"testId\\\",\\n        \\\"answerCode\\\",\\n        \\\"Timestamp\\\",\\n        \\\"KnowledgeTag\\\",\\n        \\\"dataset\\\",\\n        \\\"KnowledgeTagAcc\\\",\\n    ],\\n    index=False,\\n)  # \\ucd5c\\uc885 \\uacb0\\uacfc csv\\ub85c \\ubc18\\ud658\\n\\nraw_data.to_csv(\\n    \\\"/opt/ml/input/data/FE/KTAccuracyCate.csv\\\",\\n    columns=[\\n        \\\"userID\\\",\\n        \\\"assessmentItemID\\\",\\n        \\\"testId\\\",\\n        \\\"answerCode\\\",\\n        \\\"Timestamp\\\",\\n        \\\"KnowledgeTag\\\",\\n        \\\"dataset\\\",\\n        \\\"KTAccuracyCate\\\",\\n    ],\\n    index=False,\\n)  # \\ucd5c\\uc885 \\uacb0\\uacfc csv\\ub85c \\ubc18\\ud658\";\n                var nbb_formatted_code = \"# TODO : \\uc774\\ub984\\uacfc \\uacbd\\ub85c \\uc6d0\\ud558\\ub294 \\ub370\\ub85c \\ubcc0\\uacbd\\ud558\\uae30\\nos.makedirs(\\\"/opt/ml/input/data/FE\\\", exist_ok=True)\\n\\nraw_data.to_csv(\\n    \\\"/opt/ml/input/data/FE/KnowledgeTagAcc.csv\\\",\\n    columns=[\\n        \\\"userID\\\",\\n        \\\"assessmentItemID\\\",\\n        \\\"testId\\\",\\n        \\\"answerCode\\\",\\n        \\\"Timestamp\\\",\\n        \\\"KnowledgeTag\\\",\\n        \\\"dataset\\\",\\n        \\\"KnowledgeTagAcc\\\",\\n    ],\\n    index=False,\\n)  # \\ucd5c\\uc885 \\uacb0\\uacfc csv\\ub85c \\ubc18\\ud658\\n\\nraw_data.to_csv(\\n    \\\"/opt/ml/input/data/FE/KTAccuracyCate.csv\\\",\\n    columns=[\\n        \\\"userID\\\",\\n        \\\"assessmentItemID\\\",\\n        \\\"testId\\\",\\n        \\\"answerCode\\\",\\n        \\\"Timestamp\\\",\\n        \\\"KnowledgeTag\\\",\\n        \\\"dataset\\\",\\n        \\\"KTAccuracyCate\\\",\\n    ],\\n    index=False,\\n)  # \\ucd5c\\uc885 \\uacb0\\uacfc csv\\ub85c \\ubc18\\ud658\";\n                var nbb_cells = Jupyter.notebook.get_cells();\n                for (var i = 0; i < nbb_cells.length; ++i) {\n                    if (nbb_cells[i].input_prompt_number == nbb_cell_id) {\n                        if (nbb_cells[i].get_text() == nbb_unformatted_code) {\n                             nbb_cells[i].set_text(nbb_formatted_code);\n                        }\n                        break;\n                    }\n                }\n            }, 500);\n            ",
      "text/plain": [
       "<IPython.core.display.Javascript object>"
      ]
     },
     "metadata": {},
     "output_type": "display_data"
    }
   ],
   "source": [
    "# TODO : 이름과 경로 원하는 데로 변경하기\n",
    "os.makedirs(\"/opt/ml/input/data/FE\", exist_ok=True)\n",
    "\n",
    "raw_data.to_csv(\n",
    "    \"/opt/ml/input/data/FE/KnowledgeTagAcc.csv\",\n",
    "    columns=[\n",
    "        \"userID\",\n",
    "        \"assessmentItemID\",\n",
    "        \"testId\",\n",
    "        \"answerCode\",\n",
    "        \"Timestamp\",\n",
    "        \"KnowledgeTag\",\n",
    "        \"dataset\",\n",
    "        \"KnowledgeTagAcc\",\n",
    "    ],\n",
    "    index=False,\n",
    ")  # 최종 결과 csv로 반환\n",
    "\n",
    "raw_data.to_csv(\n",
    "    \"/opt/ml/input/data/FE/KTAccuracyCate.csv\",\n",
    "    columns=[\n",
    "        \"userID\",\n",
    "        \"assessmentItemID\",\n",
    "        \"testId\",\n",
    "        \"answerCode\",\n",
    "        \"Timestamp\",\n",
    "        \"KnowledgeTag\",\n",
    "        \"dataset\",\n",
    "        \"KTAccuracyCate\",\n",
    "    ],\n",
    "    index=False,\n",
    ")  # 최종 결과 csv로 반환"
   ]
  }
 ],
 "metadata": {
  "interpreter": {
   "hash": "d4d1e4263499bec80672ea0156c357c1ee493ec2b1c70f0acce89fc37c4a6abe"
  },
  "kernelspec": {
   "display_name": "Python 3.8.5 ('base')",
   "language": "python",
   "name": "python3"
  },
  "language_info": {
   "codemirror_mode": {
    "name": "ipython",
    "version": 3
   },
   "file_extension": ".py",
   "mimetype": "text/x-python",
   "name": "python",
   "nbconvert_exporter": "python",
   "pygments_lexer": "ipython3",
   "version": "3.8.5"
  },
  "orig_nbformat": 4
 },
 "nbformat": 4,
 "nbformat_minor": 2
}
