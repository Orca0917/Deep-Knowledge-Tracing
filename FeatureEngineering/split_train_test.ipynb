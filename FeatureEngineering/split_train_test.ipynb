{
 "cells": [
  {
   "cell_type": "code",
   "execution_count": 17,
   "metadata": {},
   "outputs": [
    {
     "name": "stdout",
     "output_type": "stream",
     "text": [
      "The nb_black extension is already loaded. To reload it, use:\n",
      "  %reload_ext nb_black\n",
      "The lab_black extension is already loaded. To reload it, use:\n",
      "  %reload_ext lab_black\n"
     ]
    },
    {
     "data": {
      "application/javascript": "\n            setTimeout(function() {\n                var nbb_cell_id = 17;\n                var nbb_unformatted_code = \"%load_ext nb_black\\n%load_ext lab_black\";\n                var nbb_formatted_code = \"%load_ext nb_black\\n%load_ext lab_black\";\n                var nbb_cells = Jupyter.notebook.get_cells();\n                for (var i = 0; i < nbb_cells.length; ++i) {\n                    if (nbb_cells[i].input_prompt_number == nbb_cell_id) {\n                        if (nbb_cells[i].get_text() == nbb_unformatted_code) {\n                             nbb_cells[i].set_text(nbb_formatted_code);\n                        }\n                        break;\n                    }\n                }\n            }, 500);\n            ",
      "text/plain": [
       "<IPython.core.display.Javascript object>"
      ]
     },
     "metadata": {},
     "output_type": "display_data"
    }
   ],
   "source": [
    "%load_ext nb_black\n",
    "%load_ext lab_black"
   ]
  },
  {
   "cell_type": "code",
   "execution_count": 18,
   "metadata": {},
   "outputs": [
    {
     "data": {
      "application/javascript": "\n            setTimeout(function() {\n                var nbb_cell_id = 18;\n                var nbb_unformatted_code = \"import pandas as pd\\nimport numpy as np\";\n                var nbb_formatted_code = \"import pandas as pd\\nimport numpy as np\";\n                var nbb_cells = Jupyter.notebook.get_cells();\n                for (var i = 0; i < nbb_cells.length; ++i) {\n                    if (nbb_cells[i].input_prompt_number == nbb_cell_id) {\n                        if (nbb_cells[i].get_text() == nbb_unformatted_code) {\n                             nbb_cells[i].set_text(nbb_formatted_code);\n                        }\n                        break;\n                    }\n                }\n            }, 500);\n            ",
      "text/plain": [
       "<IPython.core.display.Javascript object>"
      ]
     },
     "metadata": {},
     "output_type": "display_data"
    }
   ],
   "source": [
    "import pandas as pd\n",
    "import numpy as np"
   ]
  },
  {
   "cell_type": "code",
   "execution_count": 19,
   "metadata": {},
   "outputs": [
    {
     "data": {
      "application/javascript": "\n            setTimeout(function() {\n                var nbb_cell_id = 19;\n                var nbb_unformatted_code = \"all_df = pd.read_csv(\\\"/opt/ml/input/data/all_feature_data.csv\\\")\\nall_df = all_df[\\n    [\\n        \\\"userID\\\",\\n        \\\"assessmentItemID\\\",\\n        \\\"testId\\\",\\n        \\\"KnowledgeTag\\\",\\n        \\\"answerCode\\\",\\n        \\\"Timestamp\\\",\\n        \\\"bigClass\\\",\\n        \\\"tagCluster\\\",\\n        \\\"elapsedTime\\\",\\n        \\\"recAccuracy\\\",\\n        \\\"KnowledgeTagAcc\\\",\\n        \\\"dataset\\\",\\n    ]\\n]\";\n                var nbb_formatted_code = \"all_df = pd.read_csv(\\\"/opt/ml/input/data/all_feature_data.csv\\\")\\nall_df = all_df[\\n    [\\n        \\\"userID\\\",\\n        \\\"assessmentItemID\\\",\\n        \\\"testId\\\",\\n        \\\"KnowledgeTag\\\",\\n        \\\"answerCode\\\",\\n        \\\"Timestamp\\\",\\n        \\\"bigClass\\\",\\n        \\\"tagCluster\\\",\\n        \\\"elapsedTime\\\",\\n        \\\"recAccuracy\\\",\\n        \\\"KnowledgeTagAcc\\\",\\n        \\\"dataset\\\",\\n    ]\\n]\";\n                var nbb_cells = Jupyter.notebook.get_cells();\n                for (var i = 0; i < nbb_cells.length; ++i) {\n                    if (nbb_cells[i].input_prompt_number == nbb_cell_id) {\n                        if (nbb_cells[i].get_text() == nbb_unformatted_code) {\n                             nbb_cells[i].set_text(nbb_formatted_code);\n                        }\n                        break;\n                    }\n                }\n            }, 500);\n            ",
      "text/plain": [
       "<IPython.core.display.Javascript object>"
      ]
     },
     "metadata": {},
     "output_type": "display_data"
    }
   ],
   "source": [
    "all_df = pd.read_csv(\"/opt/ml/input/data/all_feature_data.csv\")\n",
    "all_df = all_df[\n",
    "    [\n",
    "        \"userID\",\n",
    "        \"assessmentItemID\",\n",
    "        \"testId\",\n",
    "        \"KnowledgeTag\",\n",
    "        \"answerCode\",\n",
    "        \"Timestamp\",\n",
    "        \"bigClass\",\n",
    "        \"tagCluster\",\n",
    "        \"elapsedTime\",\n",
    "        \"recAccuracy\",\n",
    "        \"KnowledgeTagAcc\",\n",
    "        \"dataset\",\n",
    "    ]\n",
    "]"
   ]
  },
  {
   "cell_type": "code",
   "execution_count": 22,
   "metadata": {},
   "outputs": [
    {
     "data": {
      "application/javascript": "\n            setTimeout(function() {\n                var nbb_cell_id = 22;\n                var nbb_unformatted_code = \"train_df = all_df[all_df.dataset == 1]\\ntest_df = all_df[all_df.dataset == 2]\";\n                var nbb_formatted_code = \"train_df = all_df[all_df.dataset == 1]\\ntest_df = all_df[all_df.dataset == 2]\";\n                var nbb_cells = Jupyter.notebook.get_cells();\n                for (var i = 0; i < nbb_cells.length; ++i) {\n                    if (nbb_cells[i].input_prompt_number == nbb_cell_id) {\n                        if (nbb_cells[i].get_text() == nbb_unformatted_code) {\n                             nbb_cells[i].set_text(nbb_formatted_code);\n                        }\n                        break;\n                    }\n                }\n            }, 500);\n            ",
      "text/plain": [
       "<IPython.core.display.Javascript object>"
      ]
     },
     "metadata": {},
     "output_type": "display_data"
    }
   ],
   "source": [
    "train_df = all_df[all_df.dataset == 1]\n",
    "test_df = all_df[all_df.dataset == 2]"
   ]
  },
  {
   "cell_type": "code",
   "execution_count": 23,
   "metadata": {},
   "outputs": [
    {
     "data": {
      "application/javascript": "\n            setTimeout(function() {\n                var nbb_cell_id = 23;\n                var nbb_unformatted_code = \"train_df.to_csv(\\\"/opt/ml/input/data/fe_train.csv\\\", index=False)\\ntest_df.to_csv(\\\"/opt/ml/input/data/fe_test.csv\\\", index=False)\";\n                var nbb_formatted_code = \"train_df.to_csv(\\\"/opt/ml/input/data/fe_train.csv\\\", index=False)\\ntest_df.to_csv(\\\"/opt/ml/input/data/fe_test.csv\\\", index=False)\";\n                var nbb_cells = Jupyter.notebook.get_cells();\n                for (var i = 0; i < nbb_cells.length; ++i) {\n                    if (nbb_cells[i].input_prompt_number == nbb_cell_id) {\n                        if (nbb_cells[i].get_text() == nbb_unformatted_code) {\n                             nbb_cells[i].set_text(nbb_formatted_code);\n                        }\n                        break;\n                    }\n                }\n            }, 500);\n            ",
      "text/plain": [
       "<IPython.core.display.Javascript object>"
      ]
     },
     "metadata": {},
     "output_type": "display_data"
    }
   ],
   "source": [
    "train_df.to_csv(\"/opt/ml/input/data/fe_train.csv\", index=False)\n",
    "test_df.to_csv(\"/opt/ml/input/data/fe_test.csv\", index=False)"
   ]
  }
 ],
 "metadata": {
  "interpreter": {
   "hash": "d4d1e4263499bec80672ea0156c357c1ee493ec2b1c70f0acce89fc37c4a6abe"
  },
  "kernelspec": {
   "display_name": "Python 3.8.5 ('base')",
   "language": "python",
   "name": "python3"
  },
  "language_info": {
   "codemirror_mode": {
    "name": "ipython",
    "version": 3
   },
   "file_extension": ".py",
   "mimetype": "text/x-python",
   "name": "python",
   "nbconvert_exporter": "python",
   "pygments_lexer": "ipython3",
   "version": "3.8.5"
  },
  "orig_nbformat": 4
 },
 "nbformat": 4,
 "nbformat_minor": 2
}
