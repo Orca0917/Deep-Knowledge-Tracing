{
 "cells": [
  {
   "cell_type": "markdown",
   "metadata": {},
   "source": [
    "bigClassAnswerRate.ipynb 를 일부 수정하여 만들었습니다."
   ]
  },
  {
   "cell_type": "code",
   "execution_count": 1,
   "metadata": {},
   "outputs": [
    {
     "data": {
      "application/javascript": "\n            setTimeout(function() {\n                var nbb_cell_id = 1;\n                var nbb_unformatted_code = \"%load_ext nb_black\\n%load_ext lab_black\";\n                var nbb_formatted_code = \"%load_ext nb_black\\n%load_ext lab_black\";\n                var nbb_cells = Jupyter.notebook.get_cells();\n                for (var i = 0; i < nbb_cells.length; ++i) {\n                    if (nbb_cells[i].input_prompt_number == nbb_cell_id) {\n                        if (nbb_cells[i].get_text() == nbb_unformatted_code) {\n                             nbb_cells[i].set_text(nbb_formatted_code);\n                        }\n                        break;\n                    }\n                }\n            }, 500);\n            ",
      "text/plain": [
       "<IPython.core.display.Javascript object>"
      ]
     },
     "metadata": {},
     "output_type": "display_data"
    }
   ],
   "source": [
    "%load_ext nb_black\n",
    "%load_ext lab_black"
   ]
  },
  {
   "cell_type": "code",
   "execution_count": 2,
   "metadata": {},
   "outputs": [
    {
     "data": {
      "application/javascript": "\n            setTimeout(function() {\n                var nbb_cell_id = 2;\n                var nbb_unformatted_code = \"import numpy as np\\nimport pandas as pd\\nimport tqdm\";\n                var nbb_formatted_code = \"import numpy as np\\nimport pandas as pd\\nimport tqdm\";\n                var nbb_cells = Jupyter.notebook.get_cells();\n                for (var i = 0; i < nbb_cells.length; ++i) {\n                    if (nbb_cells[i].input_prompt_number == nbb_cell_id) {\n                        if (nbb_cells[i].get_text() == nbb_unformatted_code) {\n                             nbb_cells[i].set_text(nbb_formatted_code);\n                        }\n                        break;\n                    }\n                }\n            }, 500);\n            ",
      "text/plain": [
       "<IPython.core.display.Javascript object>"
      ]
     },
     "metadata": {},
     "output_type": "display_data"
    }
   ],
   "source": [
    "import numpy as np\n",
    "import pandas as pd\n",
    "import tqdm"
   ]
  },
  {
   "cell_type": "code",
   "execution_count": 3,
   "metadata": {},
   "outputs": [
    {
     "data": {
      "application/javascript": "\n            setTimeout(function() {\n                var nbb_cell_id = 3;\n                var nbb_unformatted_code = \"\\\"\\\"\\\"\\ntrain data \\ub610\\ub294 test data \\uc911 feature\\ub97c \\ucd94\\uac00\\ud558\\uace0 \\uc2f6\\uc740 \\ub370\\uc774\\ud130\\ub97c \\ubd88\\ub7ec\\uc624\\uba74 \\ub429\\ub2c8\\ub2e4.!\\n(train\\uacfc test data\\ub97c \\ud569\\uce5c data\\ub97c \\ubd88\\ub7ec\\uc640\\ub3c4 \\ub429\\ub2c8\\ub2e4!)\\n\\\"\\\"\\\"\\n# TODO : \\uc6d0\\ud558\\ub294 \\ub370\\uc774\\ud130\\uc758 \\uacbd\\ub85c\\ub97c \\uc124\\uc815\\ud574\\uc8fc\\uc138\\uc694\\nraw_data = pd.read_csv(\\\"/opt/ml/input/data/FE/elapsedTime.csv\\\")\\n\\nuser_id = raw_data[\\\"userID\\\"].unique()  # \\uc720\\uc800 \\uc544\\uc774\\ub514 \\uc800\\uc7a5\";\n                var nbb_formatted_code = \"\\\"\\\"\\\"\\ntrain data \\ub610\\ub294 test data \\uc911 feature\\ub97c \\ucd94\\uac00\\ud558\\uace0 \\uc2f6\\uc740 \\ub370\\uc774\\ud130\\ub97c \\ubd88\\ub7ec\\uc624\\uba74 \\ub429\\ub2c8\\ub2e4.!\\n(train\\uacfc test data\\ub97c \\ud569\\uce5c data\\ub97c \\ubd88\\ub7ec\\uc640\\ub3c4 \\ub429\\ub2c8\\ub2e4!)\\n\\\"\\\"\\\"\\n# TODO : \\uc6d0\\ud558\\ub294 \\ub370\\uc774\\ud130\\uc758 \\uacbd\\ub85c\\ub97c \\uc124\\uc815\\ud574\\uc8fc\\uc138\\uc694\\nraw_data = pd.read_csv(\\\"/opt/ml/input/data/FE/elapsedTime.csv\\\")\\n\\nuser_id = raw_data[\\\"userID\\\"].unique()  # \\uc720\\uc800 \\uc544\\uc774\\ub514 \\uc800\\uc7a5\";\n                var nbb_cells = Jupyter.notebook.get_cells();\n                for (var i = 0; i < nbb_cells.length; ++i) {\n                    if (nbb_cells[i].input_prompt_number == nbb_cell_id) {\n                        if (nbb_cells[i].get_text() == nbb_unformatted_code) {\n                             nbb_cells[i].set_text(nbb_formatted_code);\n                        }\n                        break;\n                    }\n                }\n            }, 500);\n            ",
      "text/plain": [
       "<IPython.core.display.Javascript object>"
      ]
     },
     "metadata": {},
     "output_type": "display_data"
    }
   ],
   "source": [
    "\"\"\"\n",
    "train data 또는 test data 중 feature를 추가하고 싶은 데이터를 불러오면 됩니다.!\n",
    "(train과 test data를 합친 data를 불러와도 됩니다!)\n",
    "\"\"\"\n",
    "# TODO : 원하는 데이터의 경로를 설정해주세요\n",
    "raw_data = pd.read_csv(\"/opt/ml/input/data/FE/elapsedTime.csv\")\n",
    "\n",
    "user_id = raw_data[\"userID\"].unique()  # 유저 아이디 저장"
   ]
  },
  {
   "cell_type": "code",
   "execution_count": 4,
   "metadata": {},
   "outputs": [
    {
     "data": {
      "text/html": [
       "<div>\n",
       "<style scoped>\n",
       "    .dataframe tbody tr th:only-of-type {\n",
       "        vertical-align: middle;\n",
       "    }\n",
       "\n",
       "    .dataframe tbody tr th {\n",
       "        vertical-align: top;\n",
       "    }\n",
       "\n",
       "    .dataframe thead th {\n",
       "        text-align: right;\n",
       "    }\n",
       "</style>\n",
       "<table border=\"1\" class=\"dataframe\">\n",
       "  <thead>\n",
       "    <tr style=\"text-align: right;\">\n",
       "      <th></th>\n",
       "      <th>userID</th>\n",
       "      <th>assessmentItemID</th>\n",
       "      <th>testId</th>\n",
       "      <th>answerCode</th>\n",
       "      <th>Timestamp</th>\n",
       "      <th>KnowledgeTag</th>\n",
       "      <th>dataset</th>\n",
       "      <th>elapsedTime</th>\n",
       "    </tr>\n",
       "  </thead>\n",
       "  <tbody>\n",
       "    <tr>\n",
       "      <th>0</th>\n",
       "      <td>0</td>\n",
       "      <td>A060001001</td>\n",
       "      <td>A060000001</td>\n",
       "      <td>1</td>\n",
       "      <td>2020-03-24 00:17:11</td>\n",
       "      <td>7224</td>\n",
       "      <td>1</td>\n",
       "      <td>3</td>\n",
       "    </tr>\n",
       "    <tr>\n",
       "      <th>1</th>\n",
       "      <td>0</td>\n",
       "      <td>A060001002</td>\n",
       "      <td>A060000001</td>\n",
       "      <td>1</td>\n",
       "      <td>2020-03-24 00:17:14</td>\n",
       "      <td>7225</td>\n",
       "      <td>1</td>\n",
       "      <td>8</td>\n",
       "    </tr>\n",
       "    <tr>\n",
       "      <th>2</th>\n",
       "      <td>0</td>\n",
       "      <td>A060001003</td>\n",
       "      <td>A060000001</td>\n",
       "      <td>1</td>\n",
       "      <td>2020-03-24 00:17:22</td>\n",
       "      <td>7225</td>\n",
       "      <td>1</td>\n",
       "      <td>7</td>\n",
       "    </tr>\n",
       "    <tr>\n",
       "      <th>3</th>\n",
       "      <td>0</td>\n",
       "      <td>A060001004</td>\n",
       "      <td>A060000001</td>\n",
       "      <td>1</td>\n",
       "      <td>2020-03-24 00:17:29</td>\n",
       "      <td>7225</td>\n",
       "      <td>1</td>\n",
       "      <td>7</td>\n",
       "    </tr>\n",
       "    <tr>\n",
       "      <th>4</th>\n",
       "      <td>0</td>\n",
       "      <td>A060001005</td>\n",
       "      <td>A060000001</td>\n",
       "      <td>1</td>\n",
       "      <td>2020-03-24 00:17:36</td>\n",
       "      <td>7225</td>\n",
       "      <td>1</td>\n",
       "      <td>11</td>\n",
       "    </tr>\n",
       "    <tr>\n",
       "      <th>...</th>\n",
       "      <td>...</td>\n",
       "      <td>...</td>\n",
       "      <td>...</td>\n",
       "      <td>...</td>\n",
       "      <td>...</td>\n",
       "      <td>...</td>\n",
       "      <td>...</td>\n",
       "      <td>...</td>\n",
       "    </tr>\n",
       "    <tr>\n",
       "      <th>2526695</th>\n",
       "      <td>7441</td>\n",
       "      <td>A030071005</td>\n",
       "      <td>A030000071</td>\n",
       "      <td>0</td>\n",
       "      <td>2020-06-05 06:50:21</td>\n",
       "      <td>438</td>\n",
       "      <td>1</td>\n",
       "      <td>55</td>\n",
       "    </tr>\n",
       "    <tr>\n",
       "      <th>2526696</th>\n",
       "      <td>7441</td>\n",
       "      <td>A040165001</td>\n",
       "      <td>A040000165</td>\n",
       "      <td>1</td>\n",
       "      <td>2020-08-21 01:06:39</td>\n",
       "      <td>8836</td>\n",
       "      <td>1</td>\n",
       "      <td>11</td>\n",
       "    </tr>\n",
       "    <tr>\n",
       "      <th>2526697</th>\n",
       "      <td>7441</td>\n",
       "      <td>A040165002</td>\n",
       "      <td>A040000165</td>\n",
       "      <td>1</td>\n",
       "      <td>2020-08-21 01:06:50</td>\n",
       "      <td>8836</td>\n",
       "      <td>1</td>\n",
       "      <td>46</td>\n",
       "    </tr>\n",
       "    <tr>\n",
       "      <th>2526698</th>\n",
       "      <td>7441</td>\n",
       "      <td>A040165003</td>\n",
       "      <td>A040000165</td>\n",
       "      <td>1</td>\n",
       "      <td>2020-08-21 01:07:36</td>\n",
       "      <td>8836</td>\n",
       "      <td>1</td>\n",
       "      <td>73</td>\n",
       "    </tr>\n",
       "    <tr>\n",
       "      <th>2526699</th>\n",
       "      <td>7441</td>\n",
       "      <td>A040165004</td>\n",
       "      <td>A040000165</td>\n",
       "      <td>1</td>\n",
       "      <td>2020-08-21 01:08:49</td>\n",
       "      <td>8836</td>\n",
       "      <td>1</td>\n",
       "      <td>43</td>\n",
       "    </tr>\n",
       "  </tbody>\n",
       "</table>\n",
       "<p>2526700 rows × 8 columns</p>\n",
       "</div>"
      ],
      "text/plain": [
       "         userID assessmentItemID      testId  answerCode            Timestamp  \\\n",
       "0             0       A060001001  A060000001           1  2020-03-24 00:17:11   \n",
       "1             0       A060001002  A060000001           1  2020-03-24 00:17:14   \n",
       "2             0       A060001003  A060000001           1  2020-03-24 00:17:22   \n",
       "3             0       A060001004  A060000001           1  2020-03-24 00:17:29   \n",
       "4             0       A060001005  A060000001           1  2020-03-24 00:17:36   \n",
       "...         ...              ...         ...         ...                  ...   \n",
       "2526695    7441       A030071005  A030000071           0  2020-06-05 06:50:21   \n",
       "2526696    7441       A040165001  A040000165           1  2020-08-21 01:06:39   \n",
       "2526697    7441       A040165002  A040000165           1  2020-08-21 01:06:50   \n",
       "2526698    7441       A040165003  A040000165           1  2020-08-21 01:07:36   \n",
       "2526699    7441       A040165004  A040000165           1  2020-08-21 01:08:49   \n",
       "\n",
       "         KnowledgeTag  dataset  elapsedTime  \n",
       "0                7224        1            3  \n",
       "1                7225        1            8  \n",
       "2                7225        1            7  \n",
       "3                7225        1            7  \n",
       "4                7225        1           11  \n",
       "...               ...      ...          ...  \n",
       "2526695           438        1           55  \n",
       "2526696          8836        1           11  \n",
       "2526697          8836        1           46  \n",
       "2526698          8836        1           73  \n",
       "2526699          8836        1           43  \n",
       "\n",
       "[2526700 rows x 8 columns]"
      ]
     },
     "execution_count": 4,
     "metadata": {},
     "output_type": "execute_result"
    },
    {
     "data": {
      "application/javascript": "\n            setTimeout(function() {\n                var nbb_cell_id = 4;\n                var nbb_unformatted_code = \"raw_data  # \\uc6d0\\ubcf8 \\ud655\\uc778\";\n                var nbb_formatted_code = \"raw_data  # \\uc6d0\\ubcf8 \\ud655\\uc778\";\n                var nbb_cells = Jupyter.notebook.get_cells();\n                for (var i = 0; i < nbb_cells.length; ++i) {\n                    if (nbb_cells[i].input_prompt_number == nbb_cell_id) {\n                        if (nbb_cells[i].get_text() == nbb_unformatted_code) {\n                             nbb_cells[i].set_text(nbb_formatted_code);\n                        }\n                        break;\n                    }\n                }\n            }, 500);\n            ",
      "text/plain": [
       "<IPython.core.display.Javascript object>"
      ]
     },
     "metadata": {},
     "output_type": "display_data"
    }
   ],
   "source": [
    "raw_data  # 원본 확인"
   ]
  },
  {
   "cell_type": "code",
   "execution_count": 5,
   "metadata": {},
   "outputs": [
    {
     "data": {
      "application/javascript": "\n            setTimeout(function() {\n                var nbb_cell_id = 5;\n                var nbb_unformatted_code = \"##-------------------\\ub300\\ubd84\\ub958 Feature \\ucd94\\uac00--------------------------\\nraw_data[\\\"bigClass\\\"] = raw_data[\\\"testId\\\"].str[2]\";\n                var nbb_formatted_code = \"##-------------------\\ub300\\ubd84\\ub958 Feature \\ucd94\\uac00--------------------------\\nraw_data[\\\"bigClass\\\"] = raw_data[\\\"testId\\\"].str[2]\";\n                var nbb_cells = Jupyter.notebook.get_cells();\n                for (var i = 0; i < nbb_cells.length; ++i) {\n                    if (nbb_cells[i].input_prompt_number == nbb_cell_id) {\n                        if (nbb_cells[i].get_text() == nbb_unformatted_code) {\n                             nbb_cells[i].set_text(nbb_formatted_code);\n                        }\n                        break;\n                    }\n                }\n            }, 500);\n            ",
      "text/plain": [
       "<IPython.core.display.Javascript object>"
      ]
     },
     "metadata": {},
     "output_type": "display_data"
    }
   ],
   "source": [
    "##-------------------대분류 Feature 추가--------------------------\n",
    "raw_data[\"bigClass\"] = raw_data[\"testId\"].str[2]"
   ]
  },
  {
   "cell_type": "code",
   "execution_count": 6,
   "metadata": {},
   "outputs": [
    {
     "data": {
      "text/html": [
       "<div>\n",
       "<style scoped>\n",
       "    .dataframe tbody tr th:only-of-type {\n",
       "        vertical-align: middle;\n",
       "    }\n",
       "\n",
       "    .dataframe tbody tr th {\n",
       "        vertical-align: top;\n",
       "    }\n",
       "\n",
       "    .dataframe thead th {\n",
       "        text-align: right;\n",
       "    }\n",
       "</style>\n",
       "<table border=\"1\" class=\"dataframe\">\n",
       "  <thead>\n",
       "    <tr style=\"text-align: right;\">\n",
       "      <th></th>\n",
       "      <th>userID</th>\n",
       "      <th>assessmentItemID</th>\n",
       "      <th>testId</th>\n",
       "      <th>answerCode</th>\n",
       "      <th>Timestamp</th>\n",
       "      <th>KnowledgeTag</th>\n",
       "      <th>dataset</th>\n",
       "      <th>elapsedTime</th>\n",
       "      <th>bigClass</th>\n",
       "    </tr>\n",
       "  </thead>\n",
       "  <tbody>\n",
       "    <tr>\n",
       "      <th>0</th>\n",
       "      <td>0</td>\n",
       "      <td>A060001001</td>\n",
       "      <td>A060000001</td>\n",
       "      <td>1</td>\n",
       "      <td>2020-03-24 00:17:11</td>\n",
       "      <td>7224</td>\n",
       "      <td>1</td>\n",
       "      <td>3</td>\n",
       "      <td>6</td>\n",
       "    </tr>\n",
       "    <tr>\n",
       "      <th>1</th>\n",
       "      <td>0</td>\n",
       "      <td>A060001002</td>\n",
       "      <td>A060000001</td>\n",
       "      <td>1</td>\n",
       "      <td>2020-03-24 00:17:14</td>\n",
       "      <td>7225</td>\n",
       "      <td>1</td>\n",
       "      <td>8</td>\n",
       "      <td>6</td>\n",
       "    </tr>\n",
       "    <tr>\n",
       "      <th>2</th>\n",
       "      <td>0</td>\n",
       "      <td>A060001003</td>\n",
       "      <td>A060000001</td>\n",
       "      <td>1</td>\n",
       "      <td>2020-03-24 00:17:22</td>\n",
       "      <td>7225</td>\n",
       "      <td>1</td>\n",
       "      <td>7</td>\n",
       "      <td>6</td>\n",
       "    </tr>\n",
       "    <tr>\n",
       "      <th>3</th>\n",
       "      <td>0</td>\n",
       "      <td>A060001004</td>\n",
       "      <td>A060000001</td>\n",
       "      <td>1</td>\n",
       "      <td>2020-03-24 00:17:29</td>\n",
       "      <td>7225</td>\n",
       "      <td>1</td>\n",
       "      <td>7</td>\n",
       "      <td>6</td>\n",
       "    </tr>\n",
       "    <tr>\n",
       "      <th>4</th>\n",
       "      <td>0</td>\n",
       "      <td>A060001005</td>\n",
       "      <td>A060000001</td>\n",
       "      <td>1</td>\n",
       "      <td>2020-03-24 00:17:36</td>\n",
       "      <td>7225</td>\n",
       "      <td>1</td>\n",
       "      <td>11</td>\n",
       "      <td>6</td>\n",
       "    </tr>\n",
       "  </tbody>\n",
       "</table>\n",
       "</div>"
      ],
      "text/plain": [
       "   userID assessmentItemID      testId  answerCode            Timestamp  \\\n",
       "0       0       A060001001  A060000001           1  2020-03-24 00:17:11   \n",
       "1       0       A060001002  A060000001           1  2020-03-24 00:17:14   \n",
       "2       0       A060001003  A060000001           1  2020-03-24 00:17:22   \n",
       "3       0       A060001004  A060000001           1  2020-03-24 00:17:29   \n",
       "4       0       A060001005  A060000001           1  2020-03-24 00:17:36   \n",
       "\n",
       "   KnowledgeTag  dataset  elapsedTime bigClass  \n",
       "0          7224        1            3        6  \n",
       "1          7225        1            8        6  \n",
       "2          7225        1            7        6  \n",
       "3          7225        1            7        6  \n",
       "4          7225        1           11        6  "
      ]
     },
     "execution_count": 6,
     "metadata": {},
     "output_type": "execute_result"
    },
    {
     "data": {
      "application/javascript": "\n            setTimeout(function() {\n                var nbb_cell_id = 6;\n                var nbb_unformatted_code = \"raw_data.head()  # \\ub300\\ubd84\\ub958 \\ucd94\\uac00 \\uc774\\ud6c4\";\n                var nbb_formatted_code = \"raw_data.head()  # \\ub300\\ubd84\\ub958 \\ucd94\\uac00 \\uc774\\ud6c4\";\n                var nbb_cells = Jupyter.notebook.get_cells();\n                for (var i = 0; i < nbb_cells.length; ++i) {\n                    if (nbb_cells[i].input_prompt_number == nbb_cell_id) {\n                        if (nbb_cells[i].get_text() == nbb_unformatted_code) {\n                             nbb_cells[i].set_text(nbb_formatted_code);\n                        }\n                        break;\n                    }\n                }\n            }, 500);\n            ",
      "text/plain": [
       "<IPython.core.display.Javascript object>"
      ]
     },
     "metadata": {},
     "output_type": "display_data"
    }
   ],
   "source": [
    "raw_data.head()  # 대분류 추가 이후"
   ]
  },
  {
   "cell_type": "code",
   "execution_count": 7,
   "metadata": {},
   "outputs": [
    {
     "data": {
      "application/javascript": "\n            setTimeout(function() {\n                var nbb_cell_id = 7;\n                var nbb_unformatted_code = \"\\\"\\\"\\\"\\nacc_by_big_category\\n    - key : \\uc720\\uc800 \\uc544\\uc774\\ub514\\n    - value : \\ud574\\ub2f9 \\uc720\\uc800\\uc758 \\ub300\\ubd84\\ub958\\ubcc4 \\uc815\\ub2f5\\ub960 (\\uc778\\ub371\\uc2a4\\uac00 \\ub300\\ubd84\\ub958\\ub97c \\ub098\\ud0c0\\ub0b8\\ub2e4. ex. index=1 -> \\ub300\\ubd84\\ub958 1)\\n    - default value : \\uae30\\ubcf8\\uc801\\uc73c\\ub85c 0.5\\ub77c\\ub294 \\uac12\\uc774 \\ub4e4\\uc5b4\\uac04\\ub2e4. \\n\\\"\\\"\\\"\\nacc_by_big_category = dict()\\nfor user in user_id:\\n    acc_by_big_category[user] = [0.5] * 10\";\n                var nbb_formatted_code = \"\\\"\\\"\\\"\\nacc_by_big_category\\n    - key : \\uc720\\uc800 \\uc544\\uc774\\ub514\\n    - value : \\ud574\\ub2f9 \\uc720\\uc800\\uc758 \\ub300\\ubd84\\ub958\\ubcc4 \\uc815\\ub2f5\\ub960 (\\uc778\\ub371\\uc2a4\\uac00 \\ub300\\ubd84\\ub958\\ub97c \\ub098\\ud0c0\\ub0b8\\ub2e4. ex. index=1 -> \\ub300\\ubd84\\ub958 1)\\n    - default value : \\uae30\\ubcf8\\uc801\\uc73c\\ub85c 0.5\\ub77c\\ub294 \\uac12\\uc774 \\ub4e4\\uc5b4\\uac04\\ub2e4. \\n\\\"\\\"\\\"\\nacc_by_big_category = dict()\\nfor user in user_id:\\n    acc_by_big_category[user] = [0.5] * 10\";\n                var nbb_cells = Jupyter.notebook.get_cells();\n                for (var i = 0; i < nbb_cells.length; ++i) {\n                    if (nbb_cells[i].input_prompt_number == nbb_cell_id) {\n                        if (nbb_cells[i].get_text() == nbb_unformatted_code) {\n                             nbb_cells[i].set_text(nbb_formatted_code);\n                        }\n                        break;\n                    }\n                }\n            }, 500);\n            ",
      "text/plain": [
       "<IPython.core.display.Javascript object>"
      ]
     },
     "metadata": {},
     "output_type": "display_data"
    }
   ],
   "source": [
    "\"\"\"\n",
    "acc_by_big_category\n",
    "    - key : 유저 아이디\n",
    "    - value : 해당 유저의 대분류별 정답률 (인덱스가 대분류를 나타낸다. ex. index=1 -> 대분류 1)\n",
    "    - default value : 기본적으로 0.5라는 값이 들어간다. \n",
    "\"\"\"\n",
    "acc_by_big_category = dict()\n",
    "for user in user_id:\n",
    "    acc_by_big_category[user] = [0.5] * 10"
   ]
  },
  {
   "cell_type": "code",
   "execution_count": 11,
   "metadata": {},
   "outputs": [
    {
     "data": {
      "text/html": [
       "<div>\n",
       "<style scoped>\n",
       "    .dataframe tbody tr th:only-of-type {\n",
       "        vertical-align: middle;\n",
       "    }\n",
       "\n",
       "    .dataframe tbody tr th {\n",
       "        vertical-align: top;\n",
       "    }\n",
       "\n",
       "    .dataframe thead th {\n",
       "        text-align: right;\n",
       "    }\n",
       "</style>\n",
       "<table border=\"1\" class=\"dataframe\">\n",
       "  <thead>\n",
       "    <tr style=\"text-align: right;\">\n",
       "      <th></th>\n",
       "      <th>userID</th>\n",
       "      <th>assessmentItemID</th>\n",
       "      <th>testId</th>\n",
       "      <th>answerCode</th>\n",
       "      <th>Timestamp</th>\n",
       "      <th>KnowledgeTag</th>\n",
       "      <th>dataset</th>\n",
       "      <th>elapsedTime</th>\n",
       "      <th>bigClass</th>\n",
       "    </tr>\n",
       "  </thead>\n",
       "  <tbody>\n",
       "    <tr>\n",
       "      <th>0</th>\n",
       "      <td>0</td>\n",
       "      <td>A060001001</td>\n",
       "      <td>A060000001</td>\n",
       "      <td>1</td>\n",
       "      <td>2020-03-24 00:17:11</td>\n",
       "      <td>7224</td>\n",
       "      <td>1</td>\n",
       "      <td>3</td>\n",
       "      <td>6</td>\n",
       "    </tr>\n",
       "    <tr>\n",
       "      <th>1</th>\n",
       "      <td>0</td>\n",
       "      <td>A060001002</td>\n",
       "      <td>A060000001</td>\n",
       "      <td>1</td>\n",
       "      <td>2020-03-24 00:17:14</td>\n",
       "      <td>7225</td>\n",
       "      <td>1</td>\n",
       "      <td>8</td>\n",
       "      <td>6</td>\n",
       "    </tr>\n",
       "    <tr>\n",
       "      <th>2</th>\n",
       "      <td>0</td>\n",
       "      <td>A060001003</td>\n",
       "      <td>A060000001</td>\n",
       "      <td>1</td>\n",
       "      <td>2020-03-24 00:17:22</td>\n",
       "      <td>7225</td>\n",
       "      <td>1</td>\n",
       "      <td>7</td>\n",
       "      <td>6</td>\n",
       "    </tr>\n",
       "    <tr>\n",
       "      <th>3</th>\n",
       "      <td>0</td>\n",
       "      <td>A060001004</td>\n",
       "      <td>A060000001</td>\n",
       "      <td>1</td>\n",
       "      <td>2020-03-24 00:17:29</td>\n",
       "      <td>7225</td>\n",
       "      <td>1</td>\n",
       "      <td>7</td>\n",
       "      <td>6</td>\n",
       "    </tr>\n",
       "    <tr>\n",
       "      <th>4</th>\n",
       "      <td>0</td>\n",
       "      <td>A060001005</td>\n",
       "      <td>A060000001</td>\n",
       "      <td>1</td>\n",
       "      <td>2020-03-24 00:17:36</td>\n",
       "      <td>7225</td>\n",
       "      <td>1</td>\n",
       "      <td>11</td>\n",
       "      <td>6</td>\n",
       "    </tr>\n",
       "  </tbody>\n",
       "</table>\n",
       "</div>"
      ],
      "text/plain": [
       "   userID assessmentItemID      testId  answerCode            Timestamp  \\\n",
       "0       0       A060001001  A060000001           1  2020-03-24 00:17:11   \n",
       "1       0       A060001002  A060000001           1  2020-03-24 00:17:14   \n",
       "2       0       A060001003  A060000001           1  2020-03-24 00:17:22   \n",
       "3       0       A060001004  A060000001           1  2020-03-24 00:17:29   \n",
       "4       0       A060001005  A060000001           1  2020-03-24 00:17:36   \n",
       "\n",
       "   KnowledgeTag  dataset  elapsedTime bigClass  \n",
       "0          7224        1            3        6  \n",
       "1          7225        1            8        6  \n",
       "2          7225        1            7        6  \n",
       "3          7225        1            7        6  \n",
       "4          7225        1           11        6  "
      ]
     },
     "execution_count": 11,
     "metadata": {},
     "output_type": "execute_result"
    },
    {
     "data": {
      "application/javascript": "\n            setTimeout(function() {\n                var nbb_cell_id = 11;\n                var nbb_unformatted_code = \"data = raw_data[raw_data[\\\"userID\\\"] == 0]\\ndata.head()\";\n                var nbb_formatted_code = \"data = raw_data[raw_data[\\\"userID\\\"] == 0]\\ndata.head()\";\n                var nbb_cells = Jupyter.notebook.get_cells();\n                for (var i = 0; i < nbb_cells.length; ++i) {\n                    if (nbb_cells[i].input_prompt_number == nbb_cell_id) {\n                        if (nbb_cells[i].get_text() == nbb_unformatted_code) {\n                             nbb_cells[i].set_text(nbb_formatted_code);\n                        }\n                        break;\n                    }\n                }\n            }, 500);\n            ",
      "text/plain": [
       "<IPython.core.display.Javascript object>"
      ]
     },
     "metadata": {},
     "output_type": "display_data"
    }
   ],
   "source": [
    "data = raw_data[raw_data[\"userID\"] == 0]\n",
    "data.head()"
   ]
  },
  {
   "cell_type": "code",
   "execution_count": 26,
   "metadata": {},
   "outputs": [
    {
     "name": "stderr",
     "output_type": "stream",
     "text": [
      "100%|██████████| 7442/7442 [00:22<00:00, 335.14it/s]\n"
     ]
    },
    {
     "data": {
      "application/javascript": "\n            setTimeout(function() {\n                var nbb_cell_id = 26;\n                var nbb_unformatted_code = \"for user in tqdm.tqdm(user_id):  # \\ubaa8\\ub4e0 \\uc720\\uc800\\uc5d0 \\ub300\\ud574\\n    data = raw_data[raw_data[\\\"userID\\\"] == user]  # \\uac01 \\uc720\\uc800\\uc5d0 \\ub300\\ud55c \\ud589\\ub9cc \\ucd94\\ucd9c\\ud558\\uc5ec data\\uc5d0 \\uc800\\uc7a5\\n    bc_l = data[\\\"bigClass\\\"].unique()  # \\ud589\\ub4e4\\uc5d0 \\uc788\\ub294 \\uace0\\uc720\\ud55c \\ub300\\ubd84\\ub958 \\ucd94\\ucd9c ex) [6, 2, 8]\\n\\n    for big_class in bc_l:  # \\uc720\\uc800\\uac00 \\ud480\\uc5b4\\ubcf8 \\uac01 \\ub300\\ubd84\\ub958\\uc5d0 \\ub300\\ud574\\n        big_class_int = int(big_class)\\n        user_class_interaction = data[data[\\\"bigClass\\\"] == big_class]\\n\\n        big_correct = 0\\n        big_total = len(user_class_interaction)\\n\\n        acc_by_big_category[user][big_class_int] = (\\n            int(sum(user_class_interaction[\\\"elapsedTime\\\"]) / big_total)\\n        )  # \\uc804\\uccb4 \\ub370\\uc774\\ud130\\ub97c \\uc21c\\ud68c\\ud558\\uba74\\uc11c \\uc54c\\uac8c\\ub41c \\ub300\\ubd84\\ub958 \\uc815\\ub2f5\\ub960\\uc744 \\uc800\\uc7a5\";\n                var nbb_formatted_code = \"for user in tqdm.tqdm(user_id):  # \\ubaa8\\ub4e0 \\uc720\\uc800\\uc5d0 \\ub300\\ud574\\n    data = raw_data[raw_data[\\\"userID\\\"] == user]  # \\uac01 \\uc720\\uc800\\uc5d0 \\ub300\\ud55c \\ud589\\ub9cc \\ucd94\\ucd9c\\ud558\\uc5ec data\\uc5d0 \\uc800\\uc7a5\\n    bc_l = data[\\\"bigClass\\\"].unique()  # \\ud589\\ub4e4\\uc5d0 \\uc788\\ub294 \\uace0\\uc720\\ud55c \\ub300\\ubd84\\ub958 \\ucd94\\ucd9c ex) [6, 2, 8]\\n\\n    for big_class in bc_l:  # \\uc720\\uc800\\uac00 \\ud480\\uc5b4\\ubcf8 \\uac01 \\ub300\\ubd84\\ub958\\uc5d0 \\ub300\\ud574\\n        big_class_int = int(big_class)\\n        user_class_interaction = data[data[\\\"bigClass\\\"] == big_class]\\n\\n        big_correct = 0\\n        big_total = len(user_class_interaction)\\n\\n        acc_by_big_category[user][big_class_int] = int(\\n            sum(user_class_interaction[\\\"elapsedTime\\\"]) / big_total\\n        )  # \\uc804\\uccb4 \\ub370\\uc774\\ud130\\ub97c \\uc21c\\ud68c\\ud558\\uba74\\uc11c \\uc54c\\uac8c\\ub41c \\ub300\\ubd84\\ub958 \\uc815\\ub2f5\\ub960\\uc744 \\uc800\\uc7a5\";\n                var nbb_cells = Jupyter.notebook.get_cells();\n                for (var i = 0; i < nbb_cells.length; ++i) {\n                    if (nbb_cells[i].input_prompt_number == nbb_cell_id) {\n                        if (nbb_cells[i].get_text() == nbb_unformatted_code) {\n                             nbb_cells[i].set_text(nbb_formatted_code);\n                        }\n                        break;\n                    }\n                }\n            }, 500);\n            ",
      "text/plain": [
       "<IPython.core.display.Javascript object>"
      ]
     },
     "metadata": {},
     "output_type": "display_data"
    }
   ],
   "source": [
    "for user in tqdm.tqdm(user_id):  # 모든 유저에 대해\n",
    "    data = raw_data[raw_data[\"userID\"] == user]  # 각 유저에 대한 행만 추출하여 data에 저장\n",
    "    bc_l = data[\"bigClass\"].unique()  # 행들에 있는 고유한 대분류 추출 ex) [6, 2, 8]\n",
    "\n",
    "    for big_class in bc_l:  # 유저가 풀어본 각 대분류에 대해\n",
    "        big_class_int = int(big_class)\n",
    "        user_class_interaction = data[data[\"bigClass\"] == big_class]\n",
    "\n",
    "        big_correct = 0\n",
    "        big_total = len(user_class_interaction)\n",
    "\n",
    "        acc_by_big_category[user][big_class_int] = int(\n",
    "            sum(user_class_interaction[\"elapsedTime\"]) / big_total\n",
    "        )  # 전체 데이터를 순회하면서 알게된 대분류 정답률을 저장"
   ]
  },
  {
   "cell_type": "code",
   "execution_count": 27,
   "metadata": {},
   "outputs": [
    {
     "name": "stderr",
     "output_type": "stream",
     "text": [
      "100%|██████████| 2526700/2526700 [00:02<00:00, 893386.40it/s]\n"
     ]
    },
    {
     "data": {
      "application/javascript": "\n            setTimeout(function() {\n                var nbb_cell_id = 27;\n                var nbb_unformatted_code = \"\\\"\\\"\\\"\\nacc_by_big_category_list != acc_by_big_category\\n: \\ud574\\ub2f9 \\ub9ac\\uc2a4\\ud2b8\\ub294 feature\\ub97c \\ucd94\\uac00\\ud558\\uae30 \\uc804\\uc5d0 feature \\uac12\\ub4e4\\uc744 \\uc77c\\ub82c\\ub85c \\uc800\\uc7a5\\ud558\\uae30 \\uc704\\ud574 \\ub9cc\\ub4e0 \\ub9ac\\uc2a4\\ud2b8\\uc785\\ub2c8\\ub2e4.\\n\\\"\\\"\\\"\\nacc_by_big_category_list = list()\\n\\nfor u, bc in tqdm.tqdm(\\n    zip(raw_data[\\\"userID\\\"], raw_data[\\\"bigClass\\\"]), total=len(raw_data[\\\"userID\\\"])\\n):  # \\ubaa8\\ub4e0 \\ud589(instance)\\uc5d0 \\ub300\\ud574\\n    acc = acc_by_big_category[u][\\n        int(bc)\\n    ]  # \\ud574\\ub2f9 \\uc720\\uc800\\uc758 \\ud574\\ub2f9 \\ub300\\ubd84\\ub958\\uc5d0 \\ub300\\ud55c \\uc815\\ub2f5\\ub960\\uc744 \\uc704\\uc5d0\\uc11c \\uc815\\uc758\\ud55c dictionary\\uc5d0\\uc11c \\ucc3e\\uc544\\uc11c\\n    acc_by_big_category_list.append(acc)  # \\ub9ac\\uc2a4\\ud2b8\\uc5d0 \\uc800\\uc7a5\\ud55c\\ub2e4.\\n\\nraw_data[\\n    \\\"bigClassElaspedTimeAvg\\\"\\n] = acc_by_big_category_list  # \\ub9ac\\uc2a4\\ud2b8\\uc5d0 bigClassAcc feature \\ucd94\\uac00\";\n                var nbb_formatted_code = \"\\\"\\\"\\\"\\nacc_by_big_category_list != acc_by_big_category\\n: \\ud574\\ub2f9 \\ub9ac\\uc2a4\\ud2b8\\ub294 feature\\ub97c \\ucd94\\uac00\\ud558\\uae30 \\uc804\\uc5d0 feature \\uac12\\ub4e4\\uc744 \\uc77c\\ub82c\\ub85c \\uc800\\uc7a5\\ud558\\uae30 \\uc704\\ud574 \\ub9cc\\ub4e0 \\ub9ac\\uc2a4\\ud2b8\\uc785\\ub2c8\\ub2e4.\\n\\\"\\\"\\\"\\nacc_by_big_category_list = list()\\n\\nfor u, bc in tqdm.tqdm(\\n    zip(raw_data[\\\"userID\\\"], raw_data[\\\"bigClass\\\"]), total=len(raw_data[\\\"userID\\\"])\\n):  # \\ubaa8\\ub4e0 \\ud589(instance)\\uc5d0 \\ub300\\ud574\\n    acc = acc_by_big_category[u][\\n        int(bc)\\n    ]  # \\ud574\\ub2f9 \\uc720\\uc800\\uc758 \\ud574\\ub2f9 \\ub300\\ubd84\\ub958\\uc5d0 \\ub300\\ud55c \\uc815\\ub2f5\\ub960\\uc744 \\uc704\\uc5d0\\uc11c \\uc815\\uc758\\ud55c dictionary\\uc5d0\\uc11c \\ucc3e\\uc544\\uc11c\\n    acc_by_big_category_list.append(acc)  # \\ub9ac\\uc2a4\\ud2b8\\uc5d0 \\uc800\\uc7a5\\ud55c\\ub2e4.\\n\\nraw_data[\\n    \\\"bigClassElaspedTimeAvg\\\"\\n] = acc_by_big_category_list  # \\ub9ac\\uc2a4\\ud2b8\\uc5d0 bigClassAcc feature \\ucd94\\uac00\";\n                var nbb_cells = Jupyter.notebook.get_cells();\n                for (var i = 0; i < nbb_cells.length; ++i) {\n                    if (nbb_cells[i].input_prompt_number == nbb_cell_id) {\n                        if (nbb_cells[i].get_text() == nbb_unformatted_code) {\n                             nbb_cells[i].set_text(nbb_formatted_code);\n                        }\n                        break;\n                    }\n                }\n            }, 500);\n            ",
      "text/plain": [
       "<IPython.core.display.Javascript object>"
      ]
     },
     "metadata": {},
     "output_type": "display_data"
    }
   ],
   "source": [
    "\"\"\"\n",
    "acc_by_big_category_list != acc_by_big_category\n",
    ": 해당 리스트는 feature를 추가하기 전에 feature 값들을 일렬로 저장하기 위해 만든 리스트입니다.\n",
    "\"\"\"\n",
    "acc_by_big_category_list = list()\n",
    "\n",
    "for u, bc in tqdm.tqdm(\n",
    "    zip(raw_data[\"userID\"], raw_data[\"bigClass\"]), total=len(raw_data[\"userID\"])\n",
    "):  # 모든 행(instance)에 대해\n",
    "    acc = acc_by_big_category[u][\n",
    "        int(bc)\n",
    "    ]  # 해당 유저의 해당 대분류에 대한 정답률을 위에서 정의한 dictionary에서 찾아서\n",
    "    acc_by_big_category_list.append(acc)  # 리스트에 저장한다.\n",
    "\n",
    "raw_data[\n",
    "    \"bigClassElaspedTimeAvg\"\n",
    "] = acc_by_big_category_list  # 리스트에 bigClassAcc feature 추가"
   ]
  },
  {
   "cell_type": "code",
   "execution_count": 28,
   "metadata": {},
   "outputs": [
    {
     "data": {
      "text/html": [
       "<div>\n",
       "<style scoped>\n",
       "    .dataframe tbody tr th:only-of-type {\n",
       "        vertical-align: middle;\n",
       "    }\n",
       "\n",
       "    .dataframe tbody tr th {\n",
       "        vertical-align: top;\n",
       "    }\n",
       "\n",
       "    .dataframe thead th {\n",
       "        text-align: right;\n",
       "    }\n",
       "</style>\n",
       "<table border=\"1\" class=\"dataframe\">\n",
       "  <thead>\n",
       "    <tr style=\"text-align: right;\">\n",
       "      <th></th>\n",
       "      <th>userID</th>\n",
       "      <th>assessmentItemID</th>\n",
       "      <th>testId</th>\n",
       "      <th>answerCode</th>\n",
       "      <th>Timestamp</th>\n",
       "      <th>KnowledgeTag</th>\n",
       "      <th>dataset</th>\n",
       "      <th>elapsedTime</th>\n",
       "      <th>bigClass</th>\n",
       "      <th>bigClassElaspedTimeAvg</th>\n",
       "    </tr>\n",
       "  </thead>\n",
       "  <tbody>\n",
       "    <tr>\n",
       "      <th>0</th>\n",
       "      <td>0</td>\n",
       "      <td>A060001001</td>\n",
       "      <td>A060000001</td>\n",
       "      <td>1</td>\n",
       "      <td>2020-03-24 00:17:11</td>\n",
       "      <td>7224</td>\n",
       "      <td>1</td>\n",
       "      <td>3</td>\n",
       "      <td>6</td>\n",
       "      <td>36</td>\n",
       "    </tr>\n",
       "    <tr>\n",
       "      <th>1</th>\n",
       "      <td>0</td>\n",
       "      <td>A060001002</td>\n",
       "      <td>A060000001</td>\n",
       "      <td>1</td>\n",
       "      <td>2020-03-24 00:17:14</td>\n",
       "      <td>7225</td>\n",
       "      <td>1</td>\n",
       "      <td>8</td>\n",
       "      <td>6</td>\n",
       "      <td>36</td>\n",
       "    </tr>\n",
       "    <tr>\n",
       "      <th>2</th>\n",
       "      <td>0</td>\n",
       "      <td>A060001003</td>\n",
       "      <td>A060000001</td>\n",
       "      <td>1</td>\n",
       "      <td>2020-03-24 00:17:22</td>\n",
       "      <td>7225</td>\n",
       "      <td>1</td>\n",
       "      <td>7</td>\n",
       "      <td>6</td>\n",
       "      <td>36</td>\n",
       "    </tr>\n",
       "    <tr>\n",
       "      <th>3</th>\n",
       "      <td>0</td>\n",
       "      <td>A060001004</td>\n",
       "      <td>A060000001</td>\n",
       "      <td>1</td>\n",
       "      <td>2020-03-24 00:17:29</td>\n",
       "      <td>7225</td>\n",
       "      <td>1</td>\n",
       "      <td>7</td>\n",
       "      <td>6</td>\n",
       "      <td>36</td>\n",
       "    </tr>\n",
       "    <tr>\n",
       "      <th>4</th>\n",
       "      <td>0</td>\n",
       "      <td>A060001005</td>\n",
       "      <td>A060000001</td>\n",
       "      <td>1</td>\n",
       "      <td>2020-03-24 00:17:36</td>\n",
       "      <td>7225</td>\n",
       "      <td>1</td>\n",
       "      <td>11</td>\n",
       "      <td>6</td>\n",
       "      <td>36</td>\n",
       "    </tr>\n",
       "    <tr>\n",
       "      <th>...</th>\n",
       "      <td>...</td>\n",
       "      <td>...</td>\n",
       "      <td>...</td>\n",
       "      <td>...</td>\n",
       "      <td>...</td>\n",
       "      <td>...</td>\n",
       "      <td>...</td>\n",
       "      <td>...</td>\n",
       "      <td>...</td>\n",
       "      <td>...</td>\n",
       "    </tr>\n",
       "    <tr>\n",
       "      <th>2526695</th>\n",
       "      <td>7441</td>\n",
       "      <td>A030071005</td>\n",
       "      <td>A030000071</td>\n",
       "      <td>0</td>\n",
       "      <td>2020-06-05 06:50:21</td>\n",
       "      <td>438</td>\n",
       "      <td>1</td>\n",
       "      <td>55</td>\n",
       "      <td>3</td>\n",
       "      <td>55</td>\n",
       "    </tr>\n",
       "    <tr>\n",
       "      <th>2526696</th>\n",
       "      <td>7441</td>\n",
       "      <td>A040165001</td>\n",
       "      <td>A040000165</td>\n",
       "      <td>1</td>\n",
       "      <td>2020-08-21 01:06:39</td>\n",
       "      <td>8836</td>\n",
       "      <td>1</td>\n",
       "      <td>11</td>\n",
       "      <td>4</td>\n",
       "      <td>43</td>\n",
       "    </tr>\n",
       "    <tr>\n",
       "      <th>2526697</th>\n",
       "      <td>7441</td>\n",
       "      <td>A040165002</td>\n",
       "      <td>A040000165</td>\n",
       "      <td>1</td>\n",
       "      <td>2020-08-21 01:06:50</td>\n",
       "      <td>8836</td>\n",
       "      <td>1</td>\n",
       "      <td>46</td>\n",
       "      <td>4</td>\n",
       "      <td>43</td>\n",
       "    </tr>\n",
       "    <tr>\n",
       "      <th>2526698</th>\n",
       "      <td>7441</td>\n",
       "      <td>A040165003</td>\n",
       "      <td>A040000165</td>\n",
       "      <td>1</td>\n",
       "      <td>2020-08-21 01:07:36</td>\n",
       "      <td>8836</td>\n",
       "      <td>1</td>\n",
       "      <td>73</td>\n",
       "      <td>4</td>\n",
       "      <td>43</td>\n",
       "    </tr>\n",
       "    <tr>\n",
       "      <th>2526699</th>\n",
       "      <td>7441</td>\n",
       "      <td>A040165004</td>\n",
       "      <td>A040000165</td>\n",
       "      <td>1</td>\n",
       "      <td>2020-08-21 01:08:49</td>\n",
       "      <td>8836</td>\n",
       "      <td>1</td>\n",
       "      <td>43</td>\n",
       "      <td>4</td>\n",
       "      <td>43</td>\n",
       "    </tr>\n",
       "  </tbody>\n",
       "</table>\n",
       "<p>2526700 rows × 10 columns</p>\n",
       "</div>"
      ],
      "text/plain": [
       "         userID assessmentItemID      testId  answerCode            Timestamp  \\\n",
       "0             0       A060001001  A060000001           1  2020-03-24 00:17:11   \n",
       "1             0       A060001002  A060000001           1  2020-03-24 00:17:14   \n",
       "2             0       A060001003  A060000001           1  2020-03-24 00:17:22   \n",
       "3             0       A060001004  A060000001           1  2020-03-24 00:17:29   \n",
       "4             0       A060001005  A060000001           1  2020-03-24 00:17:36   \n",
       "...         ...              ...         ...         ...                  ...   \n",
       "2526695    7441       A030071005  A030000071           0  2020-06-05 06:50:21   \n",
       "2526696    7441       A040165001  A040000165           1  2020-08-21 01:06:39   \n",
       "2526697    7441       A040165002  A040000165           1  2020-08-21 01:06:50   \n",
       "2526698    7441       A040165003  A040000165           1  2020-08-21 01:07:36   \n",
       "2526699    7441       A040165004  A040000165           1  2020-08-21 01:08:49   \n",
       "\n",
       "         KnowledgeTag  dataset  elapsedTime bigClass  bigClassElaspedTimeAvg  \n",
       "0                7224        1            3        6                      36  \n",
       "1                7225        1            8        6                      36  \n",
       "2                7225        1            7        6                      36  \n",
       "3                7225        1            7        6                      36  \n",
       "4                7225        1           11        6                      36  \n",
       "...               ...      ...          ...      ...                     ...  \n",
       "2526695           438        1           55        3                      55  \n",
       "2526696          8836        1           11        4                      43  \n",
       "2526697          8836        1           46        4                      43  \n",
       "2526698          8836        1           73        4                      43  \n",
       "2526699          8836        1           43        4                      43  \n",
       "\n",
       "[2526700 rows x 10 columns]"
      ]
     },
     "execution_count": 28,
     "metadata": {},
     "output_type": "execute_result"
    },
    {
     "data": {
      "application/javascript": "\n            setTimeout(function() {\n                var nbb_cell_id = 28;\n                var nbb_unformatted_code = \"raw_data  # \\ub300\\ubd84\\ub958, \\ub300\\ubd84\\ub958\\ubcc4 \\uc815\\ub2f5\\ub960 \\ucd94\\uac00 \\uc774\\ud6c4\";\n                var nbb_formatted_code = \"raw_data  # \\ub300\\ubd84\\ub958, \\ub300\\ubd84\\ub958\\ubcc4 \\uc815\\ub2f5\\ub960 \\ucd94\\uac00 \\uc774\\ud6c4\";\n                var nbb_cells = Jupyter.notebook.get_cells();\n                for (var i = 0; i < nbb_cells.length; ++i) {\n                    if (nbb_cells[i].input_prompt_number == nbb_cell_id) {\n                        if (nbb_cells[i].get_text() == nbb_unformatted_code) {\n                             nbb_cells[i].set_text(nbb_formatted_code);\n                        }\n                        break;\n                    }\n                }\n            }, 500);\n            ",
      "text/plain": [
       "<IPython.core.display.Javascript object>"
      ]
     },
     "metadata": {},
     "output_type": "display_data"
    }
   ],
   "source": [
    "raw_data  # 대분류, 대분류별 정답률 추가 이후"
   ]
  },
  {
   "cell_type": "code",
   "execution_count": 29,
   "metadata": {},
   "outputs": [
    {
     "data": {
      "application/javascript": "\n            setTimeout(function() {\n                var nbb_cell_id = 29;\n                var nbb_unformatted_code = \"raw_data = raw_data.sort_values(by=[\\\"userID\\\", \\\"Timestamp\\\"])\";\n                var nbb_formatted_code = \"raw_data = raw_data.sort_values(by=[\\\"userID\\\", \\\"Timestamp\\\"])\";\n                var nbb_cells = Jupyter.notebook.get_cells();\n                for (var i = 0; i < nbb_cells.length; ++i) {\n                    if (nbb_cells[i].input_prompt_number == nbb_cell_id) {\n                        if (nbb_cells[i].get_text() == nbb_unformatted_code) {\n                             nbb_cells[i].set_text(nbb_formatted_code);\n                        }\n                        break;\n                    }\n                }\n            }, 500);\n            ",
      "text/plain": [
       "<IPython.core.display.Javascript object>"
      ]
     },
     "metadata": {},
     "output_type": "display_data"
    }
   ],
   "source": [
    "raw_data = raw_data.sort_values(by=[\"userID\", \"Timestamp\"])"
   ]
  },
  {
   "cell_type": "code",
   "execution_count": 30,
   "metadata": {},
   "outputs": [
    {
     "data": {
      "application/javascript": "\n            setTimeout(function() {\n                var nbb_cell_id = 30;\n                var nbb_unformatted_code = \"# TODO : \\uc774\\ub984\\uacfc \\uacbd\\ub85c \\uc6d0\\ud558\\ub294 \\ub370\\ub85c \\ubcc0\\uacbd\\ud558\\uae30\\nimport os\\n\\nos.makedirs(\\\"/opt/ml/input/data/FE\\\", exist_ok=True)\\nraw_data.to_csv(\\n    \\\"/opt/ml/input/data/FE/bigClassElaspedTimeAvg.csv\\\",\\n    columns=[\\n        \\\"userID\\\",\\n        \\\"assessmentItemID\\\",\\n        \\\"testId\\\",\\n        \\\"answerCode\\\",\\n        \\\"Timestamp\\\",\\n        \\\"KnowledgeTag\\\",\\n        \\\"dataset\\\",\\n        \\\"bigClassElaspedTimeAvg\\\",\\n    ],\\n    index=False,\\n)  # \\ucd5c\\uc885 \\uacb0\\uacfc csv\\ub85c \\ubc18\\ud658\";\n                var nbb_formatted_code = \"# TODO : \\uc774\\ub984\\uacfc \\uacbd\\ub85c \\uc6d0\\ud558\\ub294 \\ub370\\ub85c \\ubcc0\\uacbd\\ud558\\uae30\\nimport os\\n\\nos.makedirs(\\\"/opt/ml/input/data/FE\\\", exist_ok=True)\\nraw_data.to_csv(\\n    \\\"/opt/ml/input/data/FE/bigClassElaspedTimeAvg.csv\\\",\\n    columns=[\\n        \\\"userID\\\",\\n        \\\"assessmentItemID\\\",\\n        \\\"testId\\\",\\n        \\\"answerCode\\\",\\n        \\\"Timestamp\\\",\\n        \\\"KnowledgeTag\\\",\\n        \\\"dataset\\\",\\n        \\\"bigClassElaspedTimeAvg\\\",\\n    ],\\n    index=False,\\n)  # \\ucd5c\\uc885 \\uacb0\\uacfc csv\\ub85c \\ubc18\\ud658\";\n                var nbb_cells = Jupyter.notebook.get_cells();\n                for (var i = 0; i < nbb_cells.length; ++i) {\n                    if (nbb_cells[i].input_prompt_number == nbb_cell_id) {\n                        if (nbb_cells[i].get_text() == nbb_unformatted_code) {\n                             nbb_cells[i].set_text(nbb_formatted_code);\n                        }\n                        break;\n                    }\n                }\n            }, 500);\n            ",
      "text/plain": [
       "<IPython.core.display.Javascript object>"
      ]
     },
     "metadata": {},
     "output_type": "display_data"
    }
   ],
   "source": [
    "# TODO : 이름과 경로 원하는 데로 변경하기\n",
    "import os\n",
    "\n",
    "os.makedirs(\"/opt/ml/input/data/FE\", exist_ok=True)\n",
    "raw_data.to_csv(\n",
    "    \"/opt/ml/input/data/FE/bigClassElapsedTimeAvg.csv\",\n",
    "    columns=[\n",
    "        \"userID\",\n",
    "        \"assessmentItemID\",\n",
    "        \"testId\",\n",
    "        \"answerCode\",\n",
    "        \"Timestamp\",\n",
    "        \"KnowledgeTag\",\n",
    "        \"dataset\",\n",
    "        \"bigClassElaspedTimeAvg\",\n",
    "    ],\n",
    "    index=False,\n",
    ")  # 최종 결과 csv로 반환"
   ]
  }
 ],
 "metadata": {
  "interpreter": {
   "hash": "d4d1e4263499bec80672ea0156c357c1ee493ec2b1c70f0acce89fc37c4a6abe"
  },
  "kernelspec": {
   "display_name": "Python 3.8.5 ('base')",
   "language": "python",
   "name": "python3"
  },
  "language_info": {
   "codemirror_mode": {
    "name": "ipython",
    "version": 3
   },
   "file_extension": ".py",
   "mimetype": "text/x-python",
   "name": "python",
   "nbconvert_exporter": "python",
   "pygments_lexer": "ipython3",
   "version": "3.8.5"
  },
  "orig_nbformat": 4
 },
 "nbformat": 4,
 "nbformat_minor": 2
}
