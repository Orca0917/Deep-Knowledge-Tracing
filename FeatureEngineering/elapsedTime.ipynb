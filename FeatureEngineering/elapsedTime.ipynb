{
 "cells": [
  {
   "cell_type": "markdown",
   "metadata": {},
   "source": [
    "### 📌 문제를 푸는데 걸린시간 (ver. 1)"
   ]
  },
  {
   "cell_type": "code",
   "execution_count": null,
   "metadata": {},
   "outputs": [],
   "source": [
    "%load_ext nb_black\n",
    "%load_ext lab_black\n",
    "\n",
    "import pandas as pd\n",
    "\n",
    "import os"
   ]
  },
  {
   "cell_type": "code",
   "execution_count": null,
   "metadata": {},
   "outputs": [],
   "source": [
    "DATA_PATH = \"/opt/ml/input/data/FE_total_data.csv\"\n",
    "raw_data = pd.read_csv(DATA_PATH, parse_dates=[\"Timestamp\"])\n",
    "raw_data = raw_data.sort_values(by=[\"userID\", \"Timestamp\"]).reset_index(drop=True)"
   ]
  },
  {
   "cell_type": "code",
   "execution_count": null,
   "metadata": {},
   "outputs": [],
   "source": [
    "# user별로 문제풀이 시간 계산\n",
    "diff = (\n",
    "    raw_data.loc[:, [\"userID\", \"Timestamp\"]]\n",
    "    .groupby(\"userID\")\n",
    "    .diff()\n",
    "    .fillna(pd.Timedelta(seconds=0))\n",
    ")\n",
    "diff = diff.fillna(pd.Timedelta(seconds=0))\n",
    "diff = diff[\"Timestamp\"].apply(lambda x: x.total_seconds())\n",
    "\n",
    "# 구간을 벗어나는 시간은 0으로 처리\n",
    "raw_data[\"elapsedTime\"] = diff\n",
    "raw_data[\"elapsedTime\"] = raw_data[\"elapsedTime\"].apply(\n",
    "    lambda x: x if x < 600 and x >= 0 else 0\n",
    ")\n",
    "raw_data[\"elapsedTime\"] = raw_data[\"elapsedTime\"].shift(-1)"
   ]
  },
  {
   "cell_type": "code",
   "execution_count": null,
   "metadata": {},
   "outputs": [],
   "source": [
    "# 최종 결과\n",
    "raw_data.head()"
   ]
  },
  {
   "cell_type": "code",
   "execution_count": null,
   "metadata": {},
   "outputs": [],
   "source": [
    "# csv file 로 저장\n",
    "os.makedirs(\"/opt/ml/input/data/FE/\", exist_ok=True)\n",
    "raw_data.to_csv(\"/opt/ml/input/data/FE/elapsedTime.csv\", index=False)"
   ]
  }
 ],
 "metadata": {
  "interpreter": {
   "hash": "d4d1e4263499bec80672ea0156c357c1ee493ec2b1c70f0acce89fc37c4a6abe"
  },
  "kernelspec": {
   "display_name": "Python 3.8.3 ('base')",
   "language": "python",
   "name": "python3"
  },
  "language_info": {
   "codemirror_mode": {
    "name": "ipython",
    "version": 3
   },
   "file_extension": ".py",
   "mimetype": "text/x-python",
   "name": "python",
   "nbconvert_exporter": "python",
   "pygments_lexer": "ipython3",
   "version": "3.8.3"
  },
  "orig_nbformat": 4
 },
 "nbformat": 4,
 "nbformat_minor": 2
}
