{
 "cells": [
  {
   "cell_type": "code",
   "execution_count": 1,
   "metadata": {},
   "outputs": [],
   "source": [
    "import numpy as np\n",
    "import pandas as pd\n",
    "\n",
    "import os\n",
    "\n",
    "from tqdm import tqdm"
   ]
  },
  {
   "cell_type": "code",
   "execution_count": 2,
   "metadata": {},
   "outputs": [],
   "source": [
    "raw_data = pd.read_csv('/opt/ml/input/data/FE_total_data.csv',  parse_dates=[\"Timestamp\"])\n",
    "raw_data.sort_values(by=[\"userID\", \"Timestamp\"], inplace=True)\n",
    "df = raw_data.copy()"
   ]
  },
  {
   "cell_type": "code",
   "execution_count": 3,
   "metadata": {},
   "outputs": [],
   "source": [
    "df[\"grade\"] = df[\"testId\"].apply(lambda x: int(x[1:4]) // 10)\n",
    "\n",
    "o_df = df[df[\"answerCode\"] == 1]\n",
    "x_df = df[df[\"answerCode\"] == 0]"
   ]
  },
  {
   "cell_type": "code",
   "execution_count": 4,
   "metadata": {},
   "outputs": [
    {
     "ename": "TypeError",
     "evalue": "unsupported operand type(s) for -: 'str' and 'str'",
     "output_type": "error",
     "traceback": [
      "\u001b[0;31m---------------------------------------------------------------------------\u001b[0m",
      "\u001b[0;31mTypeError\u001b[0m                                 Traceback (most recent call last)",
      "\u001b[1;32m/opt/ml/input/project/FeatureEngineering/GradeAcc.ipynb Cell 4'\u001b[0m in \u001b[0;36m<cell line: 3>\u001b[0;34m()\u001b[0m\n\u001b[1;32m      <a href='vscode-notebook-cell://ssh-remote%2B115.85.180.71/opt/ml/input/project/FeatureEngineering/GradeAcc.ipynb#ch0000005vscode-remote?line=0'>1</a>\u001b[0m \u001b[39m# 푸는 시간\u001b[39;00m\n\u001b[1;32m      <a href='vscode-notebook-cell://ssh-remote%2B115.85.180.71/opt/ml/input/project/FeatureEngineering/GradeAcc.ipynb#ch0000005vscode-remote?line=1'>2</a>\u001b[0m diff \u001b[39m=\u001b[39m (\n\u001b[0;32m----> <a href='vscode-notebook-cell://ssh-remote%2B115.85.180.71/opt/ml/input/project/FeatureEngineering/GradeAcc.ipynb#ch0000005vscode-remote?line=2'>3</a>\u001b[0m df\u001b[39m.\u001b[39;49mloc[:, [\u001b[39m\"\u001b[39;49m\u001b[39muserID\u001b[39;49m\u001b[39m\"\u001b[39;49m, \u001b[39m\"\u001b[39;49m\u001b[39mTimestamp\u001b[39;49m\u001b[39m\"\u001b[39;49m]]\n\u001b[1;32m      <a href='vscode-notebook-cell://ssh-remote%2B115.85.180.71/opt/ml/input/project/FeatureEngineering/GradeAcc.ipynb#ch0000005vscode-remote?line=3'>4</a>\u001b[0m \u001b[39m.\u001b[39;49mgroupby(\u001b[39m\"\u001b[39;49m\u001b[39muserID\u001b[39;49m\u001b[39m\"\u001b[39;49m)\n\u001b[1;32m      <a href='vscode-notebook-cell://ssh-remote%2B115.85.180.71/opt/ml/input/project/FeatureEngineering/GradeAcc.ipynb#ch0000005vscode-remote?line=4'>5</a>\u001b[0m \u001b[39m.\u001b[39;49mdiff()\n\u001b[1;32m      <a href='vscode-notebook-cell://ssh-remote%2B115.85.180.71/opt/ml/input/project/FeatureEngineering/GradeAcc.ipynb#ch0000005vscode-remote?line=5'>6</a>\u001b[0m \u001b[39m.\u001b[39mfillna(pd\u001b[39m.\u001b[39mTimedelta(seconds\u001b[39m=\u001b[39m\u001b[39m0\u001b[39m))\n\u001b[1;32m      <a href='vscode-notebook-cell://ssh-remote%2B115.85.180.71/opt/ml/input/project/FeatureEngineering/GradeAcc.ipynb#ch0000005vscode-remote?line=6'>7</a>\u001b[0m )\n\u001b[1;32m      <a href='vscode-notebook-cell://ssh-remote%2B115.85.180.71/opt/ml/input/project/FeatureEngineering/GradeAcc.ipynb#ch0000005vscode-remote?line=7'>8</a>\u001b[0m diff \u001b[39m=\u001b[39m diff\u001b[39m.\u001b[39mfillna(pd\u001b[39m.\u001b[39mTimedelta(seconds\u001b[39m=\u001b[39m\u001b[39m0\u001b[39m))\n\u001b[1;32m      <a href='vscode-notebook-cell://ssh-remote%2B115.85.180.71/opt/ml/input/project/FeatureEngineering/GradeAcc.ipynb#ch0000005vscode-remote?line=8'>9</a>\u001b[0m diff \u001b[39m=\u001b[39m diff[\u001b[39m\"\u001b[39m\u001b[39mTimestamp\u001b[39m\u001b[39m\"\u001b[39m]\u001b[39m.\u001b[39mapply(\u001b[39mlambda\u001b[39;00m x: x\u001b[39m.\u001b[39mtotal_seconds())\n",
      "File \u001b[0;32m/opt/conda/lib/python3.8/site-packages/pandas/core/groupby/groupby.py:950\u001b[0m, in \u001b[0;36mGroupBy._make_wrapper.<locals>.wrapper\u001b[0;34m(*args, **kwargs)\u001b[0m\n\u001b[1;32m    <a href='file:///opt/conda/lib/python3.8/site-packages/pandas/core/groupby/groupby.py?line=946'>947</a>\u001b[0m \u001b[39mif\u001b[39;00m name \u001b[39min\u001b[39;00m base\u001b[39m.\u001b[39mplotting_methods:\n\u001b[1;32m    <a href='file:///opt/conda/lib/python3.8/site-packages/pandas/core/groupby/groupby.py?line=947'>948</a>\u001b[0m     \u001b[39mreturn\u001b[39;00m \u001b[39mself\u001b[39m\u001b[39m.\u001b[39mapply(curried)\n\u001b[0;32m--> <a href='file:///opt/conda/lib/python3.8/site-packages/pandas/core/groupby/groupby.py?line=949'>950</a>\u001b[0m \u001b[39mreturn\u001b[39;00m \u001b[39mself\u001b[39;49m\u001b[39m.\u001b[39;49m_python_apply_general(curried, \u001b[39mself\u001b[39;49m\u001b[39m.\u001b[39;49m_obj_with_exclusions)\n",
      "File \u001b[0;32m/opt/conda/lib/python3.8/site-packages/pandas/core/groupby/groupby.py:1455\u001b[0m, in \u001b[0;36mGroupBy._python_apply_general\u001b[0;34m(self, f, data, not_indexed_same)\u001b[0m\n\u001b[1;32m   <a href='file:///opt/conda/lib/python3.8/site-packages/pandas/core/groupby/groupby.py?line=1428'>1429</a>\u001b[0m \u001b[39m@final\u001b[39m\n\u001b[1;32m   <a href='file:///opt/conda/lib/python3.8/site-packages/pandas/core/groupby/groupby.py?line=1429'>1430</a>\u001b[0m \u001b[39mdef\u001b[39;00m \u001b[39m_python_apply_general\u001b[39m(\n\u001b[1;32m   <a href='file:///opt/conda/lib/python3.8/site-packages/pandas/core/groupby/groupby.py?line=1430'>1431</a>\u001b[0m     \u001b[39mself\u001b[39m,\n\u001b[0;32m   (...)\u001b[0m\n\u001b[1;32m   <a href='file:///opt/conda/lib/python3.8/site-packages/pandas/core/groupby/groupby.py?line=1433'>1434</a>\u001b[0m     not_indexed_same: \u001b[39mbool\u001b[39m \u001b[39m|\u001b[39m \u001b[39mNone\u001b[39;00m \u001b[39m=\u001b[39m \u001b[39mNone\u001b[39;00m,\n\u001b[1;32m   <a href='file:///opt/conda/lib/python3.8/site-packages/pandas/core/groupby/groupby.py?line=1434'>1435</a>\u001b[0m ) \u001b[39m-\u001b[39m\u001b[39m>\u001b[39m DataFrame \u001b[39m|\u001b[39m Series:\n\u001b[1;32m   <a href='file:///opt/conda/lib/python3.8/site-packages/pandas/core/groupby/groupby.py?line=1435'>1436</a>\u001b[0m     \u001b[39m\"\"\"\u001b[39;00m\n\u001b[1;32m   <a href='file:///opt/conda/lib/python3.8/site-packages/pandas/core/groupby/groupby.py?line=1436'>1437</a>\u001b[0m \u001b[39m    Apply function f in python space\u001b[39;00m\n\u001b[1;32m   <a href='file:///opt/conda/lib/python3.8/site-packages/pandas/core/groupby/groupby.py?line=1437'>1438</a>\u001b[0m \n\u001b[0;32m   (...)\u001b[0m\n\u001b[1;32m   <a href='file:///opt/conda/lib/python3.8/site-packages/pandas/core/groupby/groupby.py?line=1452'>1453</a>\u001b[0m \u001b[39m        data after applying f\u001b[39;00m\n\u001b[1;32m   <a href='file:///opt/conda/lib/python3.8/site-packages/pandas/core/groupby/groupby.py?line=1453'>1454</a>\u001b[0m \u001b[39m    \"\"\"\u001b[39;00m\n\u001b[0;32m-> <a href='file:///opt/conda/lib/python3.8/site-packages/pandas/core/groupby/groupby.py?line=1454'>1455</a>\u001b[0m     values, mutated \u001b[39m=\u001b[39m \u001b[39mself\u001b[39;49m\u001b[39m.\u001b[39;49mgrouper\u001b[39m.\u001b[39;49mapply(f, data, \u001b[39mself\u001b[39;49m\u001b[39m.\u001b[39;49maxis)\n\u001b[1;32m   <a href='file:///opt/conda/lib/python3.8/site-packages/pandas/core/groupby/groupby.py?line=1456'>1457</a>\u001b[0m     \u001b[39mif\u001b[39;00m not_indexed_same \u001b[39mis\u001b[39;00m \u001b[39mNone\u001b[39;00m:\n\u001b[1;32m   <a href='file:///opt/conda/lib/python3.8/site-packages/pandas/core/groupby/groupby.py?line=1457'>1458</a>\u001b[0m         not_indexed_same \u001b[39m=\u001b[39m mutated \u001b[39mor\u001b[39;00m \u001b[39mself\u001b[39m\u001b[39m.\u001b[39mmutated\n",
      "File \u001b[0;32m/opt/conda/lib/python3.8/site-packages/pandas/core/groupby/ops.py:761\u001b[0m, in \u001b[0;36mBaseGrouper.apply\u001b[0;34m(self, f, data, axis)\u001b[0m\n\u001b[1;32m    <a href='file:///opt/conda/lib/python3.8/site-packages/pandas/core/groupby/ops.py?line=758'>759</a>\u001b[0m \u001b[39m# group might be modified\u001b[39;00m\n\u001b[1;32m    <a href='file:///opt/conda/lib/python3.8/site-packages/pandas/core/groupby/ops.py?line=759'>760</a>\u001b[0m group_axes \u001b[39m=\u001b[39m group\u001b[39m.\u001b[39maxes\n\u001b[0;32m--> <a href='file:///opt/conda/lib/python3.8/site-packages/pandas/core/groupby/ops.py?line=760'>761</a>\u001b[0m res \u001b[39m=\u001b[39m f(group)\n\u001b[1;32m    <a href='file:///opt/conda/lib/python3.8/site-packages/pandas/core/groupby/ops.py?line=761'>762</a>\u001b[0m \u001b[39mif\u001b[39;00m \u001b[39mnot\u001b[39;00m mutated \u001b[39mand\u001b[39;00m \u001b[39mnot\u001b[39;00m _is_indexed_like(res, group_axes, axis):\n\u001b[1;32m    <a href='file:///opt/conda/lib/python3.8/site-packages/pandas/core/groupby/ops.py?line=762'>763</a>\u001b[0m     mutated \u001b[39m=\u001b[39m \u001b[39mTrue\u001b[39;00m\n",
      "File \u001b[0;32m/opt/conda/lib/python3.8/site-packages/pandas/core/groupby/groupby.py:939\u001b[0m, in \u001b[0;36mGroupBy._make_wrapper.<locals>.wrapper.<locals>.curried\u001b[0;34m(x)\u001b[0m\n\u001b[1;32m    <a href='file:///opt/conda/lib/python3.8/site-packages/pandas/core/groupby/groupby.py?line=937'>938</a>\u001b[0m \u001b[39mdef\u001b[39;00m \u001b[39mcurried\u001b[39m(x):\n\u001b[0;32m--> <a href='file:///opt/conda/lib/python3.8/site-packages/pandas/core/groupby/groupby.py?line=938'>939</a>\u001b[0m     \u001b[39mreturn\u001b[39;00m f(x, \u001b[39m*\u001b[39;49margs, \u001b[39m*\u001b[39;49m\u001b[39m*\u001b[39;49mkwargs)\n",
      "File \u001b[0;32m/opt/conda/lib/python3.8/site-packages/pandas/core/frame.py:8534\u001b[0m, in \u001b[0;36mDataFrame.diff\u001b[0;34m(self, periods, axis)\u001b[0m\n\u001b[1;32m   <a href='file:///opt/conda/lib/python3.8/site-packages/pandas/core/frame.py?line=8530'>8531</a>\u001b[0m \u001b[39mif\u001b[39;00m axis \u001b[39m==\u001b[39m \u001b[39m1\u001b[39m \u001b[39mand\u001b[39;00m periods \u001b[39m!=\u001b[39m \u001b[39m0\u001b[39m:\n\u001b[1;32m   <a href='file:///opt/conda/lib/python3.8/site-packages/pandas/core/frame.py?line=8531'>8532</a>\u001b[0m     \u001b[39mreturn\u001b[39;00m \u001b[39mself\u001b[39m \u001b[39m-\u001b[39m \u001b[39mself\u001b[39m\u001b[39m.\u001b[39mshift(periods, axis\u001b[39m=\u001b[39maxis)\n\u001b[0;32m-> <a href='file:///opt/conda/lib/python3.8/site-packages/pandas/core/frame.py?line=8533'>8534</a>\u001b[0m new_data \u001b[39m=\u001b[39m \u001b[39mself\u001b[39;49m\u001b[39m.\u001b[39;49m_mgr\u001b[39m.\u001b[39;49mdiff(n\u001b[39m=\u001b[39;49mperiods, axis\u001b[39m=\u001b[39;49maxis)\n\u001b[1;32m   <a href='file:///opt/conda/lib/python3.8/site-packages/pandas/core/frame.py?line=8534'>8535</a>\u001b[0m \u001b[39mreturn\u001b[39;00m \u001b[39mself\u001b[39m\u001b[39m.\u001b[39m_constructor(new_data)\u001b[39m.\u001b[39m__finalize__(\u001b[39mself\u001b[39m, \u001b[39m\"\u001b[39m\u001b[39mdiff\u001b[39m\u001b[39m\"\u001b[39m)\n",
      "File \u001b[0;32m/opt/conda/lib/python3.8/site-packages/pandas/core/internals/managers.py:356\u001b[0m, in \u001b[0;36mBaseBlockManager.diff\u001b[0;34m(self, n, axis)\u001b[0m\n\u001b[1;32m    <a href='file:///opt/conda/lib/python3.8/site-packages/pandas/core/internals/managers.py?line=353'>354</a>\u001b[0m \u001b[39mdef\u001b[39;00m \u001b[39mdiff\u001b[39m(\u001b[39mself\u001b[39m: T, n: \u001b[39mint\u001b[39m, axis: \u001b[39mint\u001b[39m) \u001b[39m-\u001b[39m\u001b[39m>\u001b[39m T:\n\u001b[1;32m    <a href='file:///opt/conda/lib/python3.8/site-packages/pandas/core/internals/managers.py?line=354'>355</a>\u001b[0m     axis \u001b[39m=\u001b[39m \u001b[39mself\u001b[39m\u001b[39m.\u001b[39m_normalize_axis(axis)\n\u001b[0;32m--> <a href='file:///opt/conda/lib/python3.8/site-packages/pandas/core/internals/managers.py?line=355'>356</a>\u001b[0m     \u001b[39mreturn\u001b[39;00m \u001b[39mself\u001b[39;49m\u001b[39m.\u001b[39;49mapply(\u001b[39m\"\u001b[39;49m\u001b[39mdiff\u001b[39;49m\u001b[39m\"\u001b[39;49m, n\u001b[39m=\u001b[39;49mn, axis\u001b[39m=\u001b[39;49maxis)\n",
      "File \u001b[0;32m/opt/conda/lib/python3.8/site-packages/pandas/core/internals/managers.py:304\u001b[0m, in \u001b[0;36mBaseBlockManager.apply\u001b[0;34m(self, f, align_keys, ignore_failures, **kwargs)\u001b[0m\n\u001b[1;32m    <a href='file:///opt/conda/lib/python3.8/site-packages/pandas/core/internals/managers.py?line=301'>302</a>\u001b[0m         applied \u001b[39m=\u001b[39m b\u001b[39m.\u001b[39mapply(f, \u001b[39m*\u001b[39m\u001b[39m*\u001b[39mkwargs)\n\u001b[1;32m    <a href='file:///opt/conda/lib/python3.8/site-packages/pandas/core/internals/managers.py?line=302'>303</a>\u001b[0m     \u001b[39melse\u001b[39;00m:\n\u001b[0;32m--> <a href='file:///opt/conda/lib/python3.8/site-packages/pandas/core/internals/managers.py?line=303'>304</a>\u001b[0m         applied \u001b[39m=\u001b[39m \u001b[39mgetattr\u001b[39;49m(b, f)(\u001b[39m*\u001b[39;49m\u001b[39m*\u001b[39;49mkwargs)\n\u001b[1;32m    <a href='file:///opt/conda/lib/python3.8/site-packages/pandas/core/internals/managers.py?line=304'>305</a>\u001b[0m \u001b[39mexcept\u001b[39;00m (\u001b[39mTypeError\u001b[39;00m, \u001b[39mNotImplementedError\u001b[39;00m):\n\u001b[1;32m    <a href='file:///opt/conda/lib/python3.8/site-packages/pandas/core/internals/managers.py?line=305'>306</a>\u001b[0m     \u001b[39mif\u001b[39;00m \u001b[39mnot\u001b[39;00m ignore_failures:\n",
      "File \u001b[0;32m/opt/conda/lib/python3.8/site-packages/pandas/core/internals/blocks.py:1154\u001b[0m, in \u001b[0;36mBlock.diff\u001b[0;34m(self, n, axis)\u001b[0m\n\u001b[1;32m   <a href='file:///opt/conda/lib/python3.8/site-packages/pandas/core/internals/blocks.py?line=1151'>1152</a>\u001b[0m \u001b[39mdef\u001b[39;00m \u001b[39mdiff\u001b[39m(\u001b[39mself\u001b[39m, n: \u001b[39mint\u001b[39m, axis: \u001b[39mint\u001b[39m \u001b[39m=\u001b[39m \u001b[39m1\u001b[39m) \u001b[39m-\u001b[39m\u001b[39m>\u001b[39m \u001b[39mlist\u001b[39m[Block]:\n\u001b[1;32m   <a href='file:///opt/conda/lib/python3.8/site-packages/pandas/core/internals/blocks.py?line=1152'>1153</a>\u001b[0m     \u001b[39m\"\"\"return block for the diff of the values\"\"\"\u001b[39;00m\n\u001b[0;32m-> <a href='file:///opt/conda/lib/python3.8/site-packages/pandas/core/internals/blocks.py?line=1153'>1154</a>\u001b[0m     new_values \u001b[39m=\u001b[39m algos\u001b[39m.\u001b[39;49mdiff(\u001b[39mself\u001b[39;49m\u001b[39m.\u001b[39;49mvalues, n, axis\u001b[39m=\u001b[39;49maxis)\n\u001b[1;32m   <a href='file:///opt/conda/lib/python3.8/site-packages/pandas/core/internals/blocks.py?line=1154'>1155</a>\u001b[0m     \u001b[39mreturn\u001b[39;00m [\u001b[39mself\u001b[39m\u001b[39m.\u001b[39mmake_block(values\u001b[39m=\u001b[39mnew_values)]\n",
      "File \u001b[0;32m/opt/conda/lib/python3.8/site-packages/pandas/core/algorithms.py:1647\u001b[0m, in \u001b[0;36mdiff\u001b[0;34m(arr, n, axis)\u001b[0m\n\u001b[1;32m   <a href='file:///opt/conda/lib/python3.8/site-packages/pandas/core/algorithms.py?line=1643'>1644</a>\u001b[0m     _lag_indexer[axis] \u001b[39m=\u001b[39m \u001b[39mslice\u001b[39m(\u001b[39mNone\u001b[39;00m, \u001b[39m-\u001b[39mn) \u001b[39mif\u001b[39;00m n \u001b[39m>\u001b[39m \u001b[39m0\u001b[39m \u001b[39melse\u001b[39;00m \u001b[39mslice\u001b[39m(\u001b[39m-\u001b[39mn, \u001b[39mNone\u001b[39;00m)\n\u001b[1;32m   <a href='file:///opt/conda/lib/python3.8/site-packages/pandas/core/algorithms.py?line=1644'>1645</a>\u001b[0m     lag_indexer \u001b[39m=\u001b[39m \u001b[39mtuple\u001b[39m(_lag_indexer)\n\u001b[0;32m-> <a href='file:///opt/conda/lib/python3.8/site-packages/pandas/core/algorithms.py?line=1646'>1647</a>\u001b[0m     out_arr[res_indexer] \u001b[39m=\u001b[39m op(arr[res_indexer], arr[lag_indexer])\n\u001b[1;32m   <a href='file:///opt/conda/lib/python3.8/site-packages/pandas/core/algorithms.py?line=1648'>1649</a>\u001b[0m \u001b[39mif\u001b[39;00m is_timedelta:\n\u001b[1;32m   <a href='file:///opt/conda/lib/python3.8/site-packages/pandas/core/algorithms.py?line=1649'>1650</a>\u001b[0m     out_arr \u001b[39m=\u001b[39m out_arr\u001b[39m.\u001b[39mview(\u001b[39m\"\u001b[39m\u001b[39mtimedelta64[ns]\u001b[39m\u001b[39m\"\u001b[39m)\n",
      "\u001b[0;31mTypeError\u001b[0m: unsupported operand type(s) for -: 'str' and 'str'"
     ]
    }
   ],
   "source": [
    "    # 푸는 시간\n",
    "diff = (\n",
    "    df.loc[:, [\"userID\", \"Timestamp\"]]\n",
    "    .groupby(\"userID\")\n",
    "    .diff()\n",
    "    .fillna(pd.Timedelta(seconds=0))\n",
    ")\n",
    "diff = diff.fillna(pd.Timedelta(seconds=0))\n",
    "diff = diff[\"Timestamp\"].apply(lambda x: x.total_seconds())\n",
    "df[\"elapsed\"] = diff\n",
    "df[\"elapsed\"] = df[\"elapsed\"].apply(lambda x: x if x < 650 and x >= 0 else 0)"
   ]
  },
  {
   "cell_type": "code",
   "execution_count": null,
   "metadata": {},
   "outputs": [],
   "source": [
    "df[\"Grade_o\"] = (\n",
    "    df.groupby([\"userID\", \"grade\"])[\"answerCode\"]\n",
    "    .transform(lambda x: x.cumsum().shift(1))\n",
    "    .fillna(0)\n",
    ")\n",
    "\n",
    "df[\"GradeCount\"] = df.groupby([\"userID\", \"grade\"]).cumcount()\n",
    "df[\"GradeAcc\"] = (df[\"Grade_o\"] / df[\"GradeCount\"]).fillna(0)\n",
    "df[\"GradeElp\"] = (\n",
    "    df.groupby([\"userID\", \"grade\"])[\"elapsed\"]\n",
    "    .transform(lambda x: x.cumsum())\n",
    "    .fillna(0)\n",
    ")\n",
    "df[\"GradeMElp\"] = df[\"GradeElp\"] / [\n",
    "    v if v != 0 else 1 for v in df[\"GradeCount\"].values\n",
    "]"
   ]
  },
  {
   "cell_type": "code",
   "execution_count": 5,
   "metadata": {},
   "outputs": [],
   "source": [
    "df.to_csv('/opt/ml/input/data/FE/GradeAcc.csv', columns=[\"userID\", \"assessmentItemID\", \"testId\", \"answerCode\", \"Timestamp\", \"KnowledgeTag\", \"dataset\", \"GradeAcc\"], index=False)\n",
    "df.to_csv('/opt/ml/input/data/FE/GradeAcc.csv', columns=[\"userID\", \"assessmentItemID\", \"testId\", \"answerCode\", \"Timestamp\", \"KnowledgeTag\", \"dataset\", \"GradeAcc\"], index=False)\n",
    "df.to_csv('/opt/ml/input/data/FE/GradeAcc.csv', columns=[\"userID\", \"assessmentItemID\", \"testId\", \"answerCode\", \"Timestamp\", \"KnowledgeTag\", \"dataset\", \"GradeAcc\"], index=False)\n",
    "df.to_csv('/opt/ml/input/data/FE/GradeAcc.csv', columns=[\"userID\", \"assessmentItemID\", \"testId\", \"answerCode\", \"Timestamp\", \"KnowledgeTag\", \"dataset\", \"GradeAcc\"], index=False)\n"
   ]
  }
 ],
 "metadata": {
  "interpreter": {
   "hash": "d4d1e4263499bec80672ea0156c357c1ee493ec2b1c70f0acce89fc37c4a6abe"
  },
  "kernelspec": {
   "display_name": "Python 3.8.5 ('base')",
   "language": "python",
   "name": "python3"
  },
  "language_info": {
   "codemirror_mode": {
    "name": "ipython",
    "version": 3
   },
   "file_extension": ".py",
   "mimetype": "text/x-python",
   "name": "python",
   "nbconvert_exporter": "python",
   "pygments_lexer": "ipython3",
   "version": "3.8.5"
  },
  "orig_nbformat": 4
 },
 "nbformat": 4,
 "nbformat_minor": 2
}
