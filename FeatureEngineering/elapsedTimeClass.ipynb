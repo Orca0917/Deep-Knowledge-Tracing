{
 "cells": [
  {
   "cell_type": "markdown",
   "metadata": {},
   "source": [
    "### 📌 문제푸는데 걸린 시간을 클래스로 분류"
   ]
  },
  {
   "cell_type": "code",
   "execution_count": null,
   "metadata": {},
   "outputs": [],
   "source": [
    "%load_ext nb_black\n",
    "%load_ext lab_black\n",
    "\n",
    "import pandas as pd\n",
    "\n",
    "import os"
   ]
  },
  {
   "cell_type": "code",
   "execution_count": null,
   "metadata": {},
   "outputs": [],
   "source": [
    "input_df = pd.read_csv(\n",
    "    \"/opt/ml/input/data/FE_total_data.csv\", parse_dates=[\"Timestamp\"]\n",
    ")\n",
    "\n",
    "try:\n",
    "    time_df = pd.read_csv(\n",
    "        \"/opt/ml/input/data/FE/elapsedTime.csv\", parse_dates=[\"Timestamp\"]\n",
    "    )\n",
    "except:\n",
    "    print(\"/opt/ml/input/data/FE/elapsedTime.csv 파일이 없습니다ㅠㅠ\")\n",
    "    print(\"elapsedTime.ipynb 를 먼저 실행시켜주세요!!\")\n",
    "    raise FileNotFoundError\n",
    "\n",
    "input_df = input_df.sort_values(by=[\"userID\", \"Timestamp\"]).reset_index(drop=True)\n",
    "time_df = time_df.sort_values(by=[\"userID\", \"Timestamp\"]).reset_index(drop=True)"
   ]
  },
  {
   "cell_type": "code",
   "execution_count": null,
   "metadata": {},
   "outputs": [],
   "source": [
    "input_df[\"elapsedTimeClass\"] = time_df[\"elapsedTime\"] // 5 + 1\n",
    "input_df.head(5)"
   ]
  },
  {
   "cell_type": "code",
   "execution_count": null,
   "metadata": {},
   "outputs": [],
   "source": [
    "os.makedirs(\"/opt/ml/input/data/FE/\", exist_ok=True)\n",
    "input_df.to_csv(\n",
    "    \"/opt/ml/input/data/FE/elapsedTimeClass.csv\", index=False\n",
    ")  # 최종 결과 csv로 반환"
   ]
  }
 ],
 "metadata": {
  "interpreter": {
   "hash": "d4d1e4263499bec80672ea0156c357c1ee493ec2b1c70f0acce89fc37c4a6abe"
  },
  "kernelspec": {
   "display_name": "Python 3.8.5 ('base')",
   "language": "python",
   "name": "python3"
  },
  "language_info": {
   "codemirror_mode": {
    "name": "ipython",
    "version": 3
   },
   "file_extension": ".py",
   "mimetype": "text/x-python",
   "name": "python",
   "nbconvert_exporter": "python",
   "pygments_lexer": "ipython3",
   "version": "3.8.3"
  },
  "orig_nbformat": 4
 },
 "nbformat": 4,
 "nbformat_minor": 2
}
