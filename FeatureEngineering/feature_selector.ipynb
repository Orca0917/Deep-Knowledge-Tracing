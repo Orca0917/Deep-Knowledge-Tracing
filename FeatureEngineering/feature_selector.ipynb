{
 "cells": [
  {
   "cell_type": "code",
   "execution_count": 1,
   "metadata": {},
   "outputs": [
    {
     "data": {
      "application/javascript": "\n            setTimeout(function() {\n                var nbb_cell_id = 1;\n                var nbb_unformatted_code = \"%load_ext nb_black\\n%load_ext lab_black\";\n                var nbb_formatted_code = \"%load_ext nb_black\\n%load_ext lab_black\";\n                var nbb_cells = Jupyter.notebook.get_cells();\n                for (var i = 0; i < nbb_cells.length; ++i) {\n                    if (nbb_cells[i].input_prompt_number == nbb_cell_id) {\n                        if (nbb_cells[i].get_text() == nbb_unformatted_code) {\n                             nbb_cells[i].set_text(nbb_formatted_code);\n                        }\n                        break;\n                    }\n                }\n            }, 500);\n            ",
      "text/plain": [
       "<IPython.core.display.Javascript object>"
      ]
     },
     "metadata": {},
     "output_type": "display_data"
    }
   ],
   "source": [
    "%load_ext nb_black\n",
    "%load_ext lab_black"
   ]
  },
  {
   "cell_type": "code",
   "execution_count": 2,
   "metadata": {},
   "outputs": [
    {
     "data": {
      "application/javascript": "\n            setTimeout(function() {\n                var nbb_cell_id = 2;\n                var nbb_unformatted_code = \"import pandas as pd\\nimport numpy as np\\nimport glob\\n\\nfrom tqdm import tqdm\\nfrom easydict import EasyDict\";\n                var nbb_formatted_code = \"import pandas as pd\\nimport numpy as np\\nimport glob\\n\\nfrom tqdm import tqdm\\nfrom easydict import EasyDict\";\n                var nbb_cells = Jupyter.notebook.get_cells();\n                for (var i = 0; i < nbb_cells.length; ++i) {\n                    if (nbb_cells[i].input_prompt_number == nbb_cell_id) {\n                        if (nbb_cells[i].get_text() == nbb_unformatted_code) {\n                             nbb_cells[i].set_text(nbb_formatted_code);\n                        }\n                        break;\n                    }\n                }\n            }, 500);\n            ",
      "text/plain": [
       "<IPython.core.display.Javascript object>"
      ]
     },
     "metadata": {},
     "output_type": "display_data"
    }
   ],
   "source": [
    "import pandas as pd\n",
    "import numpy as np\n",
    "import glob\n",
    "\n",
    "from tqdm import tqdm\n",
    "from easydict import EasyDict"
   ]
  },
  {
   "cell_type": "markdown",
   "metadata": {},
   "source": [
    "## Feature extraction\n",
    "- FE 폴더에 있는 csv를 load 하여 각 feature를 추출"
   ]
  },
  {
   "cell_type": "code",
   "execution_count": 3,
   "metadata": {},
   "outputs": [
    {
     "name": "stderr",
     "output_type": "stream",
     "text": [
      "100%|██████████| 19/19 [00:59<00:00,  3.12s/it]\n"
     ]
    },
    {
     "data": {
      "application/javascript": "\n            setTimeout(function() {\n                var nbb_cell_id = 3;\n                var nbb_unformatted_code = \"features = EasyDict()\\n\\nfor file in tqdm(glob.glob(\\\"/opt/ml/input/data/FE/*.csv\\\")):\\n    # get name\\n    name = file.split(\\\"/\\\")[-1].split(\\\".\\\")[0]  # get name\\n    df = pd.read_csv(file)\\n\\n    # dataframe\\uc5d0\\uc11c \\ud544\\uc694\\ud55c feature \\ub9cc \\ucd94\\ucd9c\\n    features[name] = df[name]\";\n                var nbb_formatted_code = \"features = EasyDict()\\n\\nfor file in tqdm(glob.glob(\\\"/opt/ml/input/data/FE/*.csv\\\")):\\n    # get name\\n    name = file.split(\\\"/\\\")[-1].split(\\\".\\\")[0]  # get name\\n    df = pd.read_csv(file)\\n\\n    # dataframe\\uc5d0\\uc11c \\ud544\\uc694\\ud55c feature \\ub9cc \\ucd94\\ucd9c\\n    features[name] = df[name]\";\n                var nbb_cells = Jupyter.notebook.get_cells();\n                for (var i = 0; i < nbb_cells.length; ++i) {\n                    if (nbb_cells[i].input_prompt_number == nbb_cell_id) {\n                        if (nbb_cells[i].get_text() == nbb_unformatted_code) {\n                             nbb_cells[i].set_text(nbb_formatted_code);\n                        }\n                        break;\n                    }\n                }\n            }, 500);\n            ",
      "text/plain": [
       "<IPython.core.display.Javascript object>"
      ]
     },
     "metadata": {},
     "output_type": "display_data"
    }
   ],
   "source": [
    "features = EasyDict()\n",
    "\n",
    "for file in tqdm(glob.glob(\"/opt/ml/input/data/FE/*.csv\")):\n",
    "    # get name\n",
    "    name = file.split(\"/\")[-1].split(\".\")[0]  # get name\n",
    "    df = pd.read_csv(file)\n",
    "\n",
    "    # dataframe에서 필요한 feature 만 추출\n",
    "    features[name] = df[name]"
   ]
  },
  {
   "cell_type": "code",
   "execution_count": 4,
   "metadata": {},
   "outputs": [
    {
     "data": {
      "application/javascript": "\n            setTimeout(function() {\n                var nbb_cell_id = 4;\n                var nbb_unformatted_code = \"# Save csv\\nraw_data = pd.read_csv(\\\"/opt/ml/input/data/FE_total_data.csv\\\")\";\n                var nbb_formatted_code = \"# Save csv\\nraw_data = pd.read_csv(\\\"/opt/ml/input/data/FE_total_data.csv\\\")\";\n                var nbb_cells = Jupyter.notebook.get_cells();\n                for (var i = 0; i < nbb_cells.length; ++i) {\n                    if (nbb_cells[i].input_prompt_number == nbb_cell_id) {\n                        if (nbb_cells[i].get_text() == nbb_unformatted_code) {\n                             nbb_cells[i].set_text(nbb_formatted_code);\n                        }\n                        break;\n                    }\n                }\n            }, 500);\n            ",
      "text/plain": [
       "<IPython.core.display.Javascript object>"
      ]
     },
     "metadata": {},
     "output_type": "display_data"
    }
   ],
   "source": [
    "# Save csv\n",
    "raw_data = pd.read_csv(\"/opt/ml/input/data/FE_total_data.csv\")"
   ]
  },
  {
   "cell_type": "markdown",
   "metadata": {},
   "source": [
    "## 🛢모든 feature를 사용하고 싶을 때 사용"
   ]
  },
  {
   "cell_type": "code",
   "execution_count": 5,
   "metadata": {},
   "outputs": [
    {
     "data": {
      "application/javascript": "\n            setTimeout(function() {\n                var nbb_cell_id = 5;\n                var nbb_unformatted_code = \"for feature in features:\\n    raw_data[feature] = features[feature]\\n\\nraw_data.to_csv(\\\"/opt/ml/input/data/all_feature_data.csv\\\", index=False)\";\n                var nbb_formatted_code = \"for feature in features:\\n    raw_data[feature] = features[feature]\\n\\nraw_data.to_csv(\\\"/opt/ml/input/data/all_feature_data.csv\\\", index=False)\";\n                var nbb_cells = Jupyter.notebook.get_cells();\n                for (var i = 0; i < nbb_cells.length; ++i) {\n                    if (nbb_cells[i].input_prompt_number == nbb_cell_id) {\n                        if (nbb_cells[i].get_text() == nbb_unformatted_code) {\n                             nbb_cells[i].set_text(nbb_formatted_code);\n                        }\n                        break;\n                    }\n                }\n            }, 500);\n            ",
      "text/plain": [
       "<IPython.core.display.Javascript object>"
      ]
     },
     "metadata": {},
     "output_type": "display_data"
    }
   ],
   "source": [
    "for feature in features:\n",
    "    raw_data[feature] = features[feature]\n",
    "\n",
    "raw_data.to_csv(\"/opt/ml/input/data/all_feature_data.csv\", index=False)"
   ]
  },
  {
   "cell_type": "markdown",
   "metadata": {},
   "source": [
    "## 🎯특정 feature만 추가하여 사용하고 싶을 때 사용"
   ]
  },
  {
   "cell_type": "code",
   "execution_count": 25,
   "metadata": {},
   "outputs": [],
   "source": [
    "# 주석 풀어서 사용\n",
    "# raw_data['accuracy'] = features.accuracy\n",
    "# raw_data['bigClass'] = features.bigClass\n",
    "# raw_data['bigClassAcc'] = features.bigClassAcc\n",
    "# raw_data['bigClassAccCate'] = features.bigClassAccCate\n",
    "# raw_data['cumAccuracy'] = features.cumAccuracy\n",
    "# raw_data['cumCorrect'] = features.cumCorrect\n",
    "# raw_data['elapsedTime'] = features.elapsedTime\n",
    "# raw_data['elapsedTimeClass'] = features.elapsedTimeClass\n",
    "# raw_data['KnowledgeTagAcc'] = features.KnowledgeTagAcc\n",
    "# raw_data['KTAccuracyCate'] = features.KTAccuracyCate\n",
    "# raw_data['recAccuracy'] = features.recAccuracy\n",
    "# raw_data['seenCount'] = features.seenCount\n",
    "# raw_data['tagCluster'] = features.tagCluster\n",
    "# raw_data['tagCount'] = features.tagCount\n",
    "# raw_data['testLV'] = features.testLV\n",
    "# raw_data['userLVbyTest'] = features.userLVbyTest\n",
    "\n",
    "\n",
    "#raw_data['tagLV'] = features.tagLV\n",
    "#raw_data['userLVbyTag'] = features.userLVbyTag\n",
    "#raw_data['userCluster'] = features.userCluster\n",
    "#raw_data['tagLV'] = features.tagLV\n",
    "#raw_data['userLVbyTag'] = features.userLVbyTag\n",
    "#raw_data['userLVbyTagAVG'] = features.userLVbyTagAVG\n",
    "\n",
    "## TODO: Feature 의 추가 ##\n",
    "\n",
    "raw_data.to_csv('/opt/ml/input/data/feature_data.csv', index=False)"
   ]
  }
 ],
 "metadata": {
  "interpreter": {
   "hash": "d4d1e4263499bec80672ea0156c357c1ee493ec2b1c70f0acce89fc37c4a6abe"
  },
  "kernelspec": {
   "display_name": "Python 3.8.5 ('base')",
   "language": "python",
   "name": "python3"
  },
  "language_info": {
   "codemirror_mode": {
    "name": "ipython",
    "version": 3
   },
   "file_extension": ".py",
   "mimetype": "text/x-python",
   "name": "python",
   "nbconvert_exporter": "python",
   "pygments_lexer": "ipython3",
   "version": "3.8.5"
  },
  "orig_nbformat": 4
 },
 "nbformat": 4,
 "nbformat_minor": 2
}
