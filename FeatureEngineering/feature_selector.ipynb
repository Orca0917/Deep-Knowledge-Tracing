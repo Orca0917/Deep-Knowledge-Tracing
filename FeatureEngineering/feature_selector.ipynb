{
 "cells": [
  {
   "cell_type": "code",
   "execution_count": 1,
   "metadata": {},
   "outputs": [],
   "source": [
    "import pandas as pd\n",
    "import numpy as np\n",
    "import glob\n",
    "\n",
    "from tqdm import tqdm\n",
    "from easydict import EasyDict"
   ]
  },
  {
   "cell_type": "markdown",
   "metadata": {},
   "source": [
    "## Feature extraction\n",
    "- FE 폴더에 있는 csv를 load 하여 각 feature를 추출"
   ]
  },
  {
   "cell_type": "code",
   "execution_count": 2,
   "metadata": {},
   "outputs": [
    {
     "name": "stderr",
     "output_type": "stream",
     "text": [
      "100%|██████████| 4/4 [00:12<00:00,  3.12s/it]\n"
     ]
    }
   ],
   "source": [
    "features = EasyDict()\n",
    "\n",
    "for file in tqdm(glob.glob(\"/opt/ml/input/data/FE/*.csv\")):\n",
    "        #get name\n",
    "        name = file.split('/')[-1].split('.')[0] # get name\n",
    "        df = pd.read_csv(file)\n",
    "\n",
    "        #dataframe에서 필요한 feature 만 추출\n",
    "        features[name] = df[name]"
   ]
  },
  {
   "cell_type": "code",
   "execution_count": 3,
   "metadata": {},
   "outputs": [],
   "source": [
    "# Save csv\n",
    "raw_data = pd.read_csv(\"/opt/ml/input/data/FE_total_data.csv\")"
   ]
  },
  {
   "cell_type": "markdown",
   "metadata": {},
   "source": [
    "## 🛢모든 feature를 사용하고 싶을 때 사용"
   ]
  },
  {
   "cell_type": "code",
   "execution_count": 4,
   "metadata": {},
   "outputs": [],
   "source": [
    "for feature in features:\n",
    "    raw_data[feature] = features[feature]\n",
    "\n",
    "raw_data.to_csv('/opt/ml/input/data/all_feature_data.csv', index=False)"
   ]
  },
  {
   "cell_type": "markdown",
   "metadata": {},
   "source": [
    "## 🎯특정 feature만 추가하여 사용하고 싶을 때 사용"
   ]
  },
  {
   "cell_type": "code",
   "execution_count": 24,
   "metadata": {},
   "outputs": [
    {
     "data": {
      "text/plain": [
       "0          0\n",
       "1          0\n",
       "2          1\n",
       "3          2\n",
       "4          3\n",
       "          ..\n",
       "2266581    2\n",
       "2266582    0\n",
       "2266583    1\n",
       "2266584    2\n",
       "2266585    3\n",
       "Name: tagCount, Length: 2266586, dtype: int64"
      ]
     },
     "execution_count": 24,
     "metadata": {},
     "output_type": "execute_result"
    }
   ],
   "source": [
    "features.tagCount # easydict를 사용해 참조 가능"
   ]
  },
  {
   "cell_type": "code",
   "execution_count": 25,
   "metadata": {},
   "outputs": [],
   "source": [
    "# 주석 풀어서 사용\n",
    "#raw_data['bigClass'] = features.bigClass\n",
    "#raw_data['elapsedTime'] = features.elapsedTime\n",
    "#raw_data['elapsedTimeClass'] = features.elapsedTimeClass\n",
    "#raw_data['testLV'] = features.testLV\n",
    "#raw_data['tagLV'] = features.tagLV\n",
    "#raw_data['userLVbyTest'] = features.userLVbyTest\n",
    "#raw_data['userLVbyTag'] = features.userLVbyTag\n",
    "#raw_data['bigClassAnswerRate'] = features.bigClassAnswerRate\n",
    "#raw_data['cumAccuracy'] = features.cumAccuracy\n",
    "#raw_data['recAccuracy'] = features.recAccuracy\n",
    "#raw_data['cumCorrect'] = features.cumCorrect\n",
    "#raw_data['tagCount'] = features.tagCount\n",
    "#raw_data['seenCount'] = features.seenCount\n",
    "#raw_data['KTAccuracy'] = features.KTAccuracy\n",
    "#raw_data['tagCluster'] = features.tagCluster\n",
    "#raw_data['userCluster'] = features.userCluster\n",
    "\n",
    "## TODO: Feature 의 추가 ##\n",
    "\n",
    "raw_data.to_csv('/opt/ml/input/data/feature_data.csv', index=False)"
   ]
  }
 ],
 "metadata": {
  "interpreter": {
   "hash": "d4d1e4263499bec80672ea0156c357c1ee493ec2b1c70f0acce89fc37c4a6abe"
  },
  "kernelspec": {
   "display_name": "Python 3.8.5 ('base')",
   "language": "python",
   "name": "python3"
  },
  "language_info": {
   "codemirror_mode": {
    "name": "ipython",
    "version": 3
   },
   "file_extension": ".py",
   "mimetype": "text/x-python",
   "name": "python",
   "nbconvert_exporter": "python",
   "pygments_lexer": "ipython3",
   "version": "3.8.5"
  },
  "orig_nbformat": 4
 },
 "nbformat": 4,
 "nbformat_minor": 2
}
