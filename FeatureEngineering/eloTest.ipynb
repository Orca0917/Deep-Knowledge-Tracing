{
 "cells": [
  {
   "cell_type": "markdown",
   "metadata": {},
   "source": [
    "## 📌 ELO Function을 사용한 난이도 feature 추가"
   ]
  },
  {
   "cell_type": "code",
   "execution_count": 3,
   "metadata": {},
   "outputs": [
    {
     "name": "stdout",
     "output_type": "stream",
     "text": [
      "The nb_black extension is already loaded. To reload it, use:\n",
      "  %reload_ext nb_black\n",
      "The lab_black extension is already loaded. To reload it, use:\n",
      "  %reload_ext lab_black\n"
     ]
    },
    {
     "data": {
      "application/javascript": "\n            setTimeout(function() {\n                var nbb_cell_id = 3;\n                var nbb_unformatted_code = \"%load_ext nb_black\\n%load_ext lab_black\";\n                var nbb_formatted_code = \"%load_ext nb_black\\n%load_ext lab_black\";\n                var nbb_cells = Jupyter.notebook.get_cells();\n                for (var i = 0; i < nbb_cells.length; ++i) {\n                    if (nbb_cells[i].input_prompt_number == nbb_cell_id) {\n                        if (nbb_cells[i].get_text() == nbb_unformatted_code) {\n                             nbb_cells[i].set_text(nbb_formatted_code);\n                        }\n                        break;\n                    }\n                }\n            }, 500);\n            ",
      "text/plain": [
       "<IPython.core.display.Javascript object>"
      ]
     },
     "metadata": {},
     "output_type": "display_data"
    }
   ],
   "source": [
    "%load_ext nb_black\n",
    "%load_ext lab_black"
   ]
  },
  {
   "cell_type": "code",
   "execution_count": 4,
   "metadata": {},
   "outputs": [
    {
     "data": {
      "application/javascript": "\n            setTimeout(function() {\n                var nbb_cell_id = 4;\n                var nbb_unformatted_code = \"import numpy as np\\nimport pandas as pd\\n\\nimport os\\n\\nfrom tqdm import tqdm\";\n                var nbb_formatted_code = \"import numpy as np\\nimport pandas as pd\\n\\nimport os\\n\\nfrom tqdm import tqdm\";\n                var nbb_cells = Jupyter.notebook.get_cells();\n                for (var i = 0; i < nbb_cells.length; ++i) {\n                    if (nbb_cells[i].input_prompt_number == nbb_cell_id) {\n                        if (nbb_cells[i].get_text() == nbb_unformatted_code) {\n                             nbb_cells[i].set_text(nbb_formatted_code);\n                        }\n                        break;\n                    }\n                }\n            }, 500);\n            ",
      "text/plain": [
       "<IPython.core.display.Javascript object>"
      ]
     },
     "metadata": {},
     "output_type": "display_data"
    }
   ],
   "source": [
    "import numpy as np\n",
    "import pandas as pd\n",
    "\n",
    "import os\n",
    "\n",
    "from tqdm import tqdm"
   ]
  },
  {
   "cell_type": "code",
   "execution_count": 5,
   "metadata": {},
   "outputs": [
    {
     "data": {
      "application/javascript": "\n            setTimeout(function() {\n                var nbb_cell_id = 5;\n                var nbb_unformatted_code = \"def elo(df):\\n    def get_new_theta(is_good_answer, beta, left_asymptote, theta, nb_previous_answers):\\n        return theta + learning_rate_theta(nb_previous_answers) * (\\n            is_good_answer - probability_of_good_answer(theta, beta, left_asymptote)\\n        )\\n\\n    def get_new_beta(is_good_answer, beta, left_asymptote, theta, nb_previous_answers):\\n        return beta - learning_rate_beta(nb_previous_answers) * (\\n            is_good_answer - probability_of_good_answer(theta, beta, left_asymptote)\\n        )\\n\\n    def learning_rate_theta(nb_answers):\\n        return max(0.3 / (1 + 0.01 * nb_answers), 0.04)\\n\\n    def learning_rate_beta(nb_answers):\\n        return 1 / (1 + 0.05 * nb_answers)\\n\\n    def probability_of_good_answer(theta, beta, left_asymptote):\\n        return left_asymptote + (1 - left_asymptote) * sigmoid(theta - beta)\\n\\n    def sigmoid(x):\\n        return 1 / (1 + np.exp(-x))\\n\\n    def estimate_parameters(answers_df, granularity_feature_name=\\\"testId\\\"):\\n        item_parameters = {\\n            granularity_feature_value: {\\\"beta\\\": 0, \\\"nb_answers\\\": 0}\\n            for granularity_feature_value in np.unique(\\n                answers_df[granularity_feature_name]\\n            )\\n        }\\n        student_parameters = {\\n            student_id: {\\\"theta\\\": 0, \\\"nb_answers\\\": 0}\\n            for student_id in np.unique(answers_df.userID)\\n        }\\n\\n        print(\\\"Parameter estimation is starting...\\\", flush=True)\\n\\n        for student_id, item_id, left_asymptote, answered_correctly in tqdm(\\n            zip(\\n                answers_df.userID.values,\\n                answers_df[granularity_feature_name].values,\\n                answers_df.left_asymptote.values,\\n                answers_df.answerCode.values,\\n            ),\\n            total=len(answers_df),\\n        ):\\n            theta = student_parameters[student_id][\\\"theta\\\"]\\n            beta = item_parameters[item_id][\\\"beta\\\"]\\n\\n            item_parameters[item_id][\\\"beta\\\"] = get_new_beta(\\n                answered_correctly,\\n                beta,\\n                left_asymptote,\\n                theta,\\n                item_parameters[item_id][\\\"nb_answers\\\"],\\n            )\\n            student_parameters[student_id][\\\"theta\\\"] = get_new_theta(\\n                answered_correctly,\\n                beta,\\n                left_asymptote,\\n                theta,\\n                student_parameters[student_id][\\\"nb_answers\\\"],\\n            )\\n\\n            item_parameters[item_id][\\\"nb_answers\\\"] += 1\\n            student_parameters[student_id][\\\"nb_answers\\\"] += 1\\n\\n        print(f\\\"Theta & beta estimations on {granularity_feature_name} are completed.\\\")\\n        return student_parameters, item_parameters\\n\\n    def gou_func(theta, beta):\\n        return 1 / (1 + np.exp(-(theta - beta)))\\n\\n    df[\\\"left_asymptote\\\"] = 0\\n\\n    print(f\\\"Dataset of shape {df.shape}\\\")\\n    print(f\\\"Columns are {list(df.columns)}\\\")\\n\\n    student_parameters, item_parameters = estimate_parameters(df)\\n\\n    prob = [\\n        gou_func(student_parameters[student][\\\"theta\\\"], item_parameters[item][\\\"beta\\\"])\\n        for student, item in zip(df.userID.values, df.testId.values)\\n    ]\\n\\n    df[\\\"elo\\\"] = prob\\n\\n    return df\";\n                var nbb_formatted_code = \"def elo(df):\\n    def get_new_theta(is_good_answer, beta, left_asymptote, theta, nb_previous_answers):\\n        return theta + learning_rate_theta(nb_previous_answers) * (\\n            is_good_answer - probability_of_good_answer(theta, beta, left_asymptote)\\n        )\\n\\n    def get_new_beta(is_good_answer, beta, left_asymptote, theta, nb_previous_answers):\\n        return beta - learning_rate_beta(nb_previous_answers) * (\\n            is_good_answer - probability_of_good_answer(theta, beta, left_asymptote)\\n        )\\n\\n    def learning_rate_theta(nb_answers):\\n        return max(0.3 / (1 + 0.01 * nb_answers), 0.04)\\n\\n    def learning_rate_beta(nb_answers):\\n        return 1 / (1 + 0.05 * nb_answers)\\n\\n    def probability_of_good_answer(theta, beta, left_asymptote):\\n        return left_asymptote + (1 - left_asymptote) * sigmoid(theta - beta)\\n\\n    def sigmoid(x):\\n        return 1 / (1 + np.exp(-x))\\n\\n    def estimate_parameters(answers_df, granularity_feature_name=\\\"testId\\\"):\\n        item_parameters = {\\n            granularity_feature_value: {\\\"beta\\\": 0, \\\"nb_answers\\\": 0}\\n            for granularity_feature_value in np.unique(\\n                answers_df[granularity_feature_name]\\n            )\\n        }\\n        student_parameters = {\\n            student_id: {\\\"theta\\\": 0, \\\"nb_answers\\\": 0}\\n            for student_id in np.unique(answers_df.userID)\\n        }\\n\\n        print(\\\"Parameter estimation is starting...\\\", flush=True)\\n\\n        for student_id, item_id, left_asymptote, answered_correctly in tqdm(\\n            zip(\\n                answers_df.userID.values,\\n                answers_df[granularity_feature_name].values,\\n                answers_df.left_asymptote.values,\\n                answers_df.answerCode.values,\\n            ),\\n            total=len(answers_df),\\n        ):\\n            theta = student_parameters[student_id][\\\"theta\\\"]\\n            beta = item_parameters[item_id][\\\"beta\\\"]\\n\\n            item_parameters[item_id][\\\"beta\\\"] = get_new_beta(\\n                answered_correctly,\\n                beta,\\n                left_asymptote,\\n                theta,\\n                item_parameters[item_id][\\\"nb_answers\\\"],\\n            )\\n            student_parameters[student_id][\\\"theta\\\"] = get_new_theta(\\n                answered_correctly,\\n                beta,\\n                left_asymptote,\\n                theta,\\n                student_parameters[student_id][\\\"nb_answers\\\"],\\n            )\\n\\n            item_parameters[item_id][\\\"nb_answers\\\"] += 1\\n            student_parameters[student_id][\\\"nb_answers\\\"] += 1\\n\\n        print(f\\\"Theta & beta estimations on {granularity_feature_name} are completed.\\\")\\n        return student_parameters, item_parameters\\n\\n    def gou_func(theta, beta):\\n        return 1 / (1 + np.exp(-(theta - beta)))\\n\\n    df[\\\"left_asymptote\\\"] = 0\\n\\n    print(f\\\"Dataset of shape {df.shape}\\\")\\n    print(f\\\"Columns are {list(df.columns)}\\\")\\n\\n    student_parameters, item_parameters = estimate_parameters(df)\\n\\n    prob = [\\n        gou_func(student_parameters[student][\\\"theta\\\"], item_parameters[item][\\\"beta\\\"])\\n        for student, item in zip(df.userID.values, df.testId.values)\\n    ]\\n\\n    df[\\\"elo\\\"] = prob\\n\\n    return df\";\n                var nbb_cells = Jupyter.notebook.get_cells();\n                for (var i = 0; i < nbb_cells.length; ++i) {\n                    if (nbb_cells[i].input_prompt_number == nbb_cell_id) {\n                        if (nbb_cells[i].get_text() == nbb_unformatted_code) {\n                             nbb_cells[i].set_text(nbb_formatted_code);\n                        }\n                        break;\n                    }\n                }\n            }, 500);\n            ",
      "text/plain": [
       "<IPython.core.display.Javascript object>"
      ]
     },
     "metadata": {},
     "output_type": "display_data"
    }
   ],
   "source": [
    "def elo(df):\n",
    "    def get_new_theta(is_good_answer, beta, left_asymptote, theta, nb_previous_answers):\n",
    "        return theta + learning_rate_theta(nb_previous_answers) * (\n",
    "            is_good_answer - probability_of_good_answer(theta, beta, left_asymptote)\n",
    "        )\n",
    "\n",
    "    def get_new_beta(is_good_answer, beta, left_asymptote, theta, nb_previous_answers):\n",
    "        return beta - learning_rate_beta(nb_previous_answers) * (\n",
    "            is_good_answer - probability_of_good_answer(theta, beta, left_asymptote)\n",
    "        )\n",
    "\n",
    "    def learning_rate_theta(nb_answers):\n",
    "        return max(0.3 / (1 + 0.01 * nb_answers), 0.04)\n",
    "\n",
    "    def learning_rate_beta(nb_answers):\n",
    "        return 1 / (1 + 0.05 * nb_answers)\n",
    "\n",
    "    def probability_of_good_answer(theta, beta, left_asymptote):\n",
    "        return left_asymptote + (1 - left_asymptote) * sigmoid(theta - beta)\n",
    "\n",
    "    def sigmoid(x):\n",
    "        return 1 / (1 + np.exp(-x))\n",
    "\n",
    "    def estimate_parameters(answers_df, granularity_feature_name=\"testId\"):\n",
    "        item_parameters = {\n",
    "            granularity_feature_value: {\"beta\": 0, \"nb_answers\": 0}\n",
    "            for granularity_feature_value in np.unique(\n",
    "                answers_df[granularity_feature_name]\n",
    "            )\n",
    "        }\n",
    "        student_parameters = {\n",
    "            student_id: {\"theta\": 0, \"nb_answers\": 0}\n",
    "            for student_id in np.unique(answers_df.userID)\n",
    "        }\n",
    "\n",
    "        print(\"Parameter estimation is starting...\", flush=True)\n",
    "\n",
    "        for student_id, item_id, left_asymptote, answered_correctly in tqdm(\n",
    "            zip(\n",
    "                answers_df.userID.values,\n",
    "                answers_df[granularity_feature_name].values,\n",
    "                answers_df.left_asymptote.values,\n",
    "                answers_df.answerCode.values,\n",
    "            ),\n",
    "            total=len(answers_df),\n",
    "        ):\n",
    "            theta = student_parameters[student_id][\"theta\"]\n",
    "            beta = item_parameters[item_id][\"beta\"]\n",
    "\n",
    "            item_parameters[item_id][\"beta\"] = get_new_beta(\n",
    "                answered_correctly,\n",
    "                beta,\n",
    "                left_asymptote,\n",
    "                theta,\n",
    "                item_parameters[item_id][\"nb_answers\"],\n",
    "            )\n",
    "            student_parameters[student_id][\"theta\"] = get_new_theta(\n",
    "                answered_correctly,\n",
    "                beta,\n",
    "                left_asymptote,\n",
    "                theta,\n",
    "                student_parameters[student_id][\"nb_answers\"],\n",
    "            )\n",
    "\n",
    "            item_parameters[item_id][\"nb_answers\"] += 1\n",
    "            student_parameters[student_id][\"nb_answers\"] += 1\n",
    "\n",
    "        print(f\"Theta & beta estimations on {granularity_feature_name} are completed.\")\n",
    "        return student_parameters, item_parameters\n",
    "\n",
    "    def gou_func(theta, beta):\n",
    "        return 1 / (1 + np.exp(-(theta - beta)))\n",
    "\n",
    "    df[\"left_asymptote\"] = 0\n",
    "\n",
    "    print(f\"Dataset of shape {df.shape}\")\n",
    "    print(f\"Columns are {list(df.columns)}\")\n",
    "\n",
    "    student_parameters, item_parameters = estimate_parameters(df)\n",
    "\n",
    "    prob = [\n",
    "        gou_func(student_parameters[student][\"theta\"], item_parameters[item][\"beta\"])\n",
    "        for student, item in zip(df.userID.values, df.testId.values)\n",
    "    ]\n",
    "\n",
    "    df[\"eloTest\"] = prob\n",
    "\n",
    "    return df"
   ]
  },
  {
   "cell_type": "code",
   "execution_count": 6,
   "metadata": {},
   "outputs": [
    {
     "data": {
      "application/javascript": "\n            setTimeout(function() {\n                var nbb_cell_id = 6;\n                var nbb_unformatted_code = \"# train_data.csv \\ub370\\uc774\\ud130\\ud504\\ub808\\uc784\\uc73c\\ub85c \\ubd88\\ub7ec\\uc624\\uae30\\ndata_type = {\\\"userID\\\": \\\"int16\\\", \\\"answerCode\\\": \\\"int8\\\", \\\"knowledgeTag\\\": \\\"int16\\\"}\\n\\ndf = pd.read_csv(\\n    \\\"/opt/ml/input/data/FE_total_data.csv\\\", dtype=data_type, parse_dates=[\\\"Timestamp\\\"]\\n)\\ndf = df.sort_values(by=[\\\"userID\\\", \\\"Timestamp\\\"]).reset_index(drop=True)\";\n                var nbb_formatted_code = \"# train_data.csv \\ub370\\uc774\\ud130\\ud504\\ub808\\uc784\\uc73c\\ub85c \\ubd88\\ub7ec\\uc624\\uae30\\ndata_type = {\\\"userID\\\": \\\"int16\\\", \\\"answerCode\\\": \\\"int8\\\", \\\"knowledgeTag\\\": \\\"int16\\\"}\\n\\ndf = pd.read_csv(\\n    \\\"/opt/ml/input/data/FE_total_data.csv\\\", dtype=data_type, parse_dates=[\\\"Timestamp\\\"]\\n)\\ndf = df.sort_values(by=[\\\"userID\\\", \\\"Timestamp\\\"]).reset_index(drop=True)\";\n                var nbb_cells = Jupyter.notebook.get_cells();\n                for (var i = 0; i < nbb_cells.length; ++i) {\n                    if (nbb_cells[i].input_prompt_number == nbb_cell_id) {\n                        if (nbb_cells[i].get_text() == nbb_unformatted_code) {\n                             nbb_cells[i].set_text(nbb_formatted_code);\n                        }\n                        break;\n                    }\n                }\n            }, 500);\n            ",
      "text/plain": [
       "<IPython.core.display.Javascript object>"
      ]
     },
     "metadata": {},
     "output_type": "display_data"
    }
   ],
   "source": [
    "# train_data.csv 데이터프레임으로 불러오기\n",
    "data_type = {\"userID\": \"int16\", \"answerCode\": \"int8\", \"knowledgeTag\": \"int16\"}\n",
    "\n",
    "df = pd.read_csv(\n",
    "    \"/opt/ml/input/data/FE_total_data.csv\", dtype=data_type, parse_dates=[\"Timestamp\"]\n",
    ")\n",
    "df = df.sort_values(by=[\"userID\", \"Timestamp\"]).reset_index(drop=True)"
   ]
  },
  {
   "cell_type": "code",
   "execution_count": 7,
   "metadata": {},
   "outputs": [
    {
     "name": "stdout",
     "output_type": "stream",
     "text": [
      "Dataset of shape (2526700, 8)\n",
      "Columns are ['userID', 'assessmentItemID', 'testId', 'answerCode', 'Timestamp', 'KnowledgeTag', 'dataset', 'left_asymptote']\n",
      "Parameter estimation is starting...\n"
     ]
    },
    {
     "name": "stderr",
     "output_type": "stream",
     "text": [
      "100%|██████████| 2526700/2526700 [01:06<00:00, 37894.31it/s]\n"
     ]
    },
    {
     "name": "stdout",
     "output_type": "stream",
     "text": [
      "Theta & beta estimations on testId are completed.\n"
     ]
    },
    {
     "data": {
      "application/javascript": "\n            setTimeout(function() {\n                var nbb_cell_id = 7;\n                var nbb_unformatted_code = \"# ELO Function \\uc801\\uc6a9\\ndf = elo(df)\\n\\n# \\ud544\\uc694\\uc5c6\\ub294 column \\uc81c\\uac70\\ndf = df.drop(columns=[\\\"left_asymptote\\\"])\";\n                var nbb_formatted_code = \"# ELO Function \\uc801\\uc6a9\\ndf = elo(df)\\n\\n# \\ud544\\uc694\\uc5c6\\ub294 column \\uc81c\\uac70\\ndf = df.drop(columns=[\\\"left_asymptote\\\"])\";\n                var nbb_cells = Jupyter.notebook.get_cells();\n                for (var i = 0; i < nbb_cells.length; ++i) {\n                    if (nbb_cells[i].input_prompt_number == nbb_cell_id) {\n                        if (nbb_cells[i].get_text() == nbb_unformatted_code) {\n                             nbb_cells[i].set_text(nbb_formatted_code);\n                        }\n                        break;\n                    }\n                }\n            }, 500);\n            ",
      "text/plain": [
       "<IPython.core.display.Javascript object>"
      ]
     },
     "metadata": {},
     "output_type": "display_data"
    }
   ],
   "source": [
    "# ELO Function 적용\n",
    "df = elo(df)\n",
    "\n",
    "# 필요없는 column 제거\n",
    "df = df.drop(columns=[\"left_asymptote\"])"
   ]
  },
  {
   "cell_type": "code",
   "execution_count": 8,
   "metadata": {},
   "outputs": [
    {
     "data": {
      "application/javascript": "\n            setTimeout(function() {\n                var nbb_cell_id = 8;\n                var nbb_unformatted_code = \"# \\uc0c8\\ub86d\\uac8c \\ucd94\\uac00\\ub41c elo feature \\uc800\\uc7a5\\nos.makedirs(\\\"/opt/ml/input/data/FE/\\\", exist_ok=True)\\ndf.to_csv(\\\"/opt/ml/input/data/FE/eloTest.csv\\\", index=False)  # \\ucd5c\\uc885 \\uacb0\\uacfc csv\\ub85c \\ubc18\\ud658\";\n                var nbb_formatted_code = \"# \\uc0c8\\ub86d\\uac8c \\ucd94\\uac00\\ub41c elo feature \\uc800\\uc7a5\\nos.makedirs(\\\"/opt/ml/input/data/FE/\\\", exist_ok=True)\\ndf.to_csv(\\\"/opt/ml/input/data/FE/eloTest.csv\\\", index=False)  # \\ucd5c\\uc885 \\uacb0\\uacfc csv\\ub85c \\ubc18\\ud658\";\n                var nbb_cells = Jupyter.notebook.get_cells();\n                for (var i = 0; i < nbb_cells.length; ++i) {\n                    if (nbb_cells[i].input_prompt_number == nbb_cell_id) {\n                        if (nbb_cells[i].get_text() == nbb_unformatted_code) {\n                             nbb_cells[i].set_text(nbb_formatted_code);\n                        }\n                        break;\n                    }\n                }\n            }, 500);\n            ",
      "text/plain": [
       "<IPython.core.display.Javascript object>"
      ]
     },
     "metadata": {},
     "output_type": "display_data"
    }
   ],
   "source": [
    "# 새롭게 추가된 elo feature 저장\n",
    "os.makedirs(\"/opt/ml/input/data/FE/\", exist_ok=True)\n",
    "df.to_csv(\"/opt/ml/input/data/FE/eloTest.csv\", index=False)  # 최종 결과 csv로 반환"
   ]
  }
 ],
 "metadata": {
  "interpreter": {
   "hash": "d4d1e4263499bec80672ea0156c357c1ee493ec2b1c70f0acce89fc37c4a6abe"
  },
  "kernelspec": {
   "display_name": "Python 3.8.5 ('base')",
   "language": "python",
   "name": "python3"
  },
  "language_info": {
   "codemirror_mode": {
    "name": "ipython",
    "version": 3
   },
   "file_extension": ".py",
   "mimetype": "text/x-python",
   "name": "python",
   "nbconvert_exporter": "python",
   "pygments_lexer": "ipython3",
   "version": "3.8.5"
  },
  "orig_nbformat": 4
 },
 "nbformat": 4,
 "nbformat_minor": 2
}
