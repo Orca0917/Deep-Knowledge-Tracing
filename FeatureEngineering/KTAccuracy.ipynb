{
 "cells": [
  {
   "cell_type": "code",
   "execution_count": 1,
   "metadata": {},
   "outputs": [
    {
     "data": {
      "application/javascript": "\n            setTimeout(function() {\n                var nbb_cell_id = 1;\n                var nbb_unformatted_code = \"%load_ext nb_black\\n%load_ext lab_black\";\n                var nbb_formatted_code = \"%load_ext nb_black\\n%load_ext lab_black\";\n                var nbb_cells = Jupyter.notebook.get_cells();\n                for (var i = 0; i < nbb_cells.length; ++i) {\n                    if (nbb_cells[i].input_prompt_number == nbb_cell_id) {\n                        if (nbb_cells[i].get_text() == nbb_unformatted_code) {\n                             nbb_cells[i].set_text(nbb_formatted_code);\n                        }\n                        break;\n                    }\n                }\n            }, 500);\n            ",
      "text/plain": [
       "<IPython.core.display.Javascript object>"
      ]
     },
     "metadata": {},
     "output_type": "display_data"
    }
   ],
   "source": [
    "%load_ext nb_black\n",
    "%load_ext lab_black"
   ]
  },
  {
   "cell_type": "code",
   "execution_count": 34,
   "metadata": {},
   "outputs": [
    {
     "data": {
      "application/javascript": "\n            setTimeout(function() {\n                var nbb_cell_id = 34;\n                var nbb_unformatted_code = \"import numpy as np\\nimport pandas as pd\\nimport os\\n\\nfrom tqdm import tqdm\";\n                var nbb_formatted_code = \"import numpy as np\\nimport pandas as pd\\nimport os\\n\\nfrom tqdm import tqdm\";\n                var nbb_cells = Jupyter.notebook.get_cells();\n                for (var i = 0; i < nbb_cells.length; ++i) {\n                    if (nbb_cells[i].input_prompt_number == nbb_cell_id) {\n                        if (nbb_cells[i].get_text() == nbb_unformatted_code) {\n                             nbb_cells[i].set_text(nbb_formatted_code);\n                        }\n                        break;\n                    }\n                }\n            }, 500);\n            ",
      "text/plain": [
       "<IPython.core.display.Javascript object>"
      ]
     },
     "metadata": {},
     "output_type": "display_data"
    }
   ],
   "source": [
    "import numpy as np\n",
    "import pandas as pd\n",
    "import os\n",
    "\n",
    "from tqdm import tqdm"
   ]
  },
  {
   "cell_type": "code",
   "execution_count": 3,
   "metadata": {},
   "outputs": [
    {
     "data": {
      "application/javascript": "\n            setTimeout(function() {\n                var nbb_cell_id = 3;\n                var nbb_unformatted_code = \"# TODO : \\uc6d0\\ud558\\ub294 \\ub370\\uc774\\ud130 \\uacbd\\ub85c \\uc9c0\\uc815\\ud558\\uae30\\nraw_data = pd.read_csv(\\\"/opt/ml/input/data/FE_total_data.csv\\\")\\nuser_id = raw_data[\\\"userID\\\"].unique() # \\uc720\\uc800 \\uc544\\uc774\\ub514 \\ubaa9\\ub85d \\ub9ac\\uc2a4\\ud2b8\\ub85c \\uc800\\uc7a5\";\n                var nbb_formatted_code = \"# TODO : \\uc6d0\\ud558\\ub294 \\ub370\\uc774\\ud130 \\uacbd\\ub85c \\uc9c0\\uc815\\ud558\\uae30\\nraw_data = pd.read_csv(\\\"/opt/ml/input/data/FE_total_data.csv\\\")\\nuser_id = raw_data[\\\"userID\\\"].unique()  # \\uc720\\uc800 \\uc544\\uc774\\ub514 \\ubaa9\\ub85d \\ub9ac\\uc2a4\\ud2b8\\ub85c \\uc800\\uc7a5\";\n                var nbb_cells = Jupyter.notebook.get_cells();\n                for (var i = 0; i < nbb_cells.length; ++i) {\n                    if (nbb_cells[i].input_prompt_number == nbb_cell_id) {\n                        if (nbb_cells[i].get_text() == nbb_unformatted_code) {\n                             nbb_cells[i].set_text(nbb_formatted_code);\n                        }\n                        break;\n                    }\n                }\n            }, 500);\n            ",
      "text/plain": [
       "<IPython.core.display.Javascript object>"
      ]
     },
     "metadata": {},
     "output_type": "display_data"
    }
   ],
   "source": [
    "# TODO : 원하는 데이터 경로 지정하기\n",
    "raw_data = pd.read_csv(\"/opt/ml/input/data/FE_total_data.csv\")\n",
    "user_id = raw_data[\"userID\"].unique()  # 유저 아이디 목록 리스트로 저장"
   ]
  },
  {
   "cell_type": "code",
   "execution_count": 7,
   "metadata": {},
   "outputs": [
    {
     "name": "stderr",
     "output_type": "stream",
     "text": [
      "100%|██████████| 7442/7442 [02:05<00:00, 59.18it/s] \n"
     ]
    },
    {
     "data": {
      "application/javascript": "\n            setTimeout(function() {\n                var nbb_cell_id = 7;\n                var nbb_unformatted_code = \"acc_by_kt_dict = dict()\\n\\\"\\\"\\\"\\nacc_by_kt_dict : \\uac01 \\uc720\\uc800\\uc758 KT\\ubcc4 \\uc815\\ub2f5\\ub960\\uc744 \\uc800\\uc7a5\\ud55c dictionary\\n    - Key : \\uc720\\uc800 \\uc544\\uc774\\ub529\\n    - Value : \\ub9ac\\uc2a4\\ud2b8 \\ub450\\uac1c\\n        - \\uccab\\ubc88\\uc9f8 \\ub9ac\\uc2a4\\ud2b8 : KT\\ub97c \\ub2f4\\uace0 \\uc788\\ub294 \\ub9ac\\uc2a4\\ud2b8\\n        - \\ub450\\ubc88\\uc9f8 \\ub9ac\\uc2a4\\ud2b8 : \\uccab\\ubc88\\uc9f8 \\ub9ac\\uc2a4\\ud2b8\\uc5d0 \\ub3d9\\uc77c\\ud55c \\uc778\\ub371\\uc2a4\\uc5d0 \\uc788\\ub294 KT\\uc758 \\uc815\\ub2f5\\ub960\\n\\\"\\\"\\\"\\nfor user in user_id :\\n    acc_by_kt_dict[user] = [[] for _ in range(2)] \\n\\nfor user in tqdm.tqdm(user_id) : # \\ubaa8\\ub4e0 \\uc720\\uc800\\uc5d0 \\ub300\\ud574\\n    data = raw_data[raw_data[\\\"userID\\\"]==user] # \\uac01 \\uc720\\uc800\\uc5d0 \\ub300\\ud55c \\ud589\\ub9cc \\ucd94\\ucd9c\\ud558\\uc5ec data\\uc5d0 \\uc800\\uc7a5\\n    kt_l = data[\\\"KnowledgeTag\\\"].unique() # \\ud589\\ub4e4\\uc5d0 \\uc788\\ub294 \\uace0\\uc720\\ud55c KT \\ucd94\\ucd9c ex) [7724, 7720, 7640]\\n\\n    for i in kt_l : # \\uc720\\uc800\\uac00 \\ud480\\uc5b4\\ubcf8 \\uac01 KT \\ub300\\ud574 \\n        kt = int(i) \\n        kt_correct = 0\\n        kt_total = 0\\n        for j in np.where(data[\\\"KnowledgeTag\\\"]==i)[0] : # \\ud574\\ub2f9 KT\\uc778 \\ubb38\\uc81c\\ub9cc \\uc21c\\ud68c\\ud558\\uba74\\uc11c \\n        #for j in range(len(data)) :\\n            if data[\\\"KnowledgeTag\\\"].iloc[j] == i : # \\ub3d9\\uc77c\\ud55c KT\\uc5d0 \\ub300\\ud574 \\n                if data[\\\"answerCode\\\"].iloc[j] == 1 : # \\uc815\\ub2f5\\uc744 \\ub9de\\ucdc4\\uc73c\\uba74, correct, total count + 1\\n                    kt_correct+=1\\n                    kt_total+=1\\n                else : \\n                    kt_total+=1 # \\ub9de\\ucd94\\uc9c0 \\ubabb\\ud588\\uc73c\\uba74 total count\\ub9cc + 1\\n        acc_by_kt_dict[user][0].append(kt) # \\ud574\\ub2f9 KT\\ub294 KT \\ub9ac\\uc2a4\\ud2b8\\uc5d0 \\uc800\\uc7a5\\n        acc_by_kt_dict[user][1].append(kt_correct/kt_total) # KT\\uc5d0 \\ub300\\ud55c \\uc815\\ub2f5\\ub960 \\uc800\\uc7a5\";\n                var nbb_formatted_code = \"acc_by_kt_dict = dict()\\n\\\"\\\"\\\"\\nacc_by_kt_dict : \\uac01 \\uc720\\uc800\\uc758 KT\\ubcc4 \\uc815\\ub2f5\\ub960\\uc744 \\uc800\\uc7a5\\ud55c dictionary\\n    - Key : \\uc720\\uc800 \\uc544\\uc774\\ub529\\n    - Value : \\ub9ac\\uc2a4\\ud2b8 \\ub450\\uac1c\\n        - \\uccab\\ubc88\\uc9f8 \\ub9ac\\uc2a4\\ud2b8 : KT\\ub97c \\ub2f4\\uace0 \\uc788\\ub294 \\ub9ac\\uc2a4\\ud2b8\\n        - \\ub450\\ubc88\\uc9f8 \\ub9ac\\uc2a4\\ud2b8 : \\uccab\\ubc88\\uc9f8 \\ub9ac\\uc2a4\\ud2b8\\uc5d0 \\ub3d9\\uc77c\\ud55c \\uc778\\ub371\\uc2a4\\uc5d0 \\uc788\\ub294 KT\\uc758 \\uc815\\ub2f5\\ub960\\n\\\"\\\"\\\"\\nfor user in user_id:\\n    acc_by_kt_dict[user] = [[] for _ in range(2)]\\n\\nfor user in tqdm.tqdm(user_id):  # \\ubaa8\\ub4e0 \\uc720\\uc800\\uc5d0 \\ub300\\ud574\\n    data = raw_data[raw_data[\\\"userID\\\"] == user]  # \\uac01 \\uc720\\uc800\\uc5d0 \\ub300\\ud55c \\ud589\\ub9cc \\ucd94\\ucd9c\\ud558\\uc5ec data\\uc5d0 \\uc800\\uc7a5\\n    kt_l = data[\\\"KnowledgeTag\\\"].unique()  # \\ud589\\ub4e4\\uc5d0 \\uc788\\ub294 \\uace0\\uc720\\ud55c KT \\ucd94\\ucd9c ex) [7724, 7720, 7640]\\n\\n    for i in kt_l:  # \\uc720\\uc800\\uac00 \\ud480\\uc5b4\\ubcf8 \\uac01 KT \\ub300\\ud574\\n        kt = int(i)\\n        kt_correct = 0\\n        kt_total = 0\\n        for j in np.where(data[\\\"KnowledgeTag\\\"] == i)[0]:  # \\ud574\\ub2f9 KT\\uc778 \\ubb38\\uc81c\\ub9cc \\uc21c\\ud68c\\ud558\\uba74\\uc11c\\n            # for j in range(len(data)) :\\n            if data[\\\"KnowledgeTag\\\"].iloc[j] == i:  # \\ub3d9\\uc77c\\ud55c KT\\uc5d0 \\ub300\\ud574\\n                if (\\n                    data[\\\"answerCode\\\"].iloc[j] == 1\\n                ):  # \\uc815\\ub2f5\\uc744 \\ub9de\\ucdc4\\uc73c\\uba74, correct, total count + 1\\n                    kt_correct += 1\\n                    kt_total += 1\\n                else:\\n                    kt_total += 1  # \\ub9de\\ucd94\\uc9c0 \\ubabb\\ud588\\uc73c\\uba74 total count\\ub9cc + 1\\n        acc_by_kt_dict[user][0].append(kt)  # \\ud574\\ub2f9 KT\\ub294 KT \\ub9ac\\uc2a4\\ud2b8\\uc5d0 \\uc800\\uc7a5\\n        acc_by_kt_dict[user][1].append(kt_correct / kt_total)  # KT\\uc5d0 \\ub300\\ud55c \\uc815\\ub2f5\\ub960 \\uc800\\uc7a5\";\n                var nbb_cells = Jupyter.notebook.get_cells();\n                for (var i = 0; i < nbb_cells.length; ++i) {\n                    if (nbb_cells[i].input_prompt_number == nbb_cell_id) {\n                        if (nbb_cells[i].get_text() == nbb_unformatted_code) {\n                             nbb_cells[i].set_text(nbb_formatted_code);\n                        }\n                        break;\n                    }\n                }\n            }, 500);\n            ",
      "text/plain": [
       "<IPython.core.display.Javascript object>"
      ]
     },
     "metadata": {},
     "output_type": "display_data"
    }
   ],
   "source": [
    "acc_by_kt_dict = dict()\n",
    "\"\"\"\n",
    "acc_by_kt_dict : 각 유저의 KT별 정답률을 저장한 dictionary\n",
    "    - Key : 유저 아이딩\n",
    "    - Value : 리스트 두개\n",
    "        - 첫번째 리스트 : KT를 담고 있는 리스트\n",
    "        - 두번째 리스트 : 첫번째 리스트에 동일한 인덱스에 있는 KT의 정답률\n",
    "\"\"\"\n",
    "for user in user_id:\n",
    "    acc_by_kt_dict[user] = [[] for _ in range(2)]\n",
    "\n",
    "for user in tqdm(user_id):  # 모든 유저에 대해\n",
    "    data = raw_data[raw_data[\"userID\"] == user]  # 각 유저에 대한 행만 추출하여 data에 저장\n",
    "    kt_l = data[\"KnowledgeTag\"].unique()  # 행들에 있는 고유한 KT 추출 ex) [7724, 7720, 7640]\n",
    "\n",
    "    for i in kt_l:  # 유저가 풀어본 각 KT 대해\n",
    "        kt = int(i)\n",
    "        kt_correct = 0\n",
    "        kt_total = 0\n",
    "        for j in np.where(data[\"KnowledgeTag\"] == i)[0]:  # 해당 KT인 문제만 순회하면서\n",
    "            # for j in range(len(data)) :\n",
    "            if data[\"KnowledgeTag\"].iloc[j] == i:  # 동일한 KT에 대해\n",
    "                if (\n",
    "                    data[\"answerCode\"].iloc[j] == 1\n",
    "                ):  # 정답을 맞췄으면, correct, total count + 1\n",
    "                    kt_correct += 1\n",
    "                    kt_total += 1\n",
    "                else:\n",
    "                    kt_total += 1  # 맞추지 못했으면 total count만 + 1\n",
    "        acc_by_kt_dict[user][0].append(kt)  # 해당 KT는 KT 리스트에 저장\n",
    "        acc_by_kt_dict[user][1].append(kt_correct / kt_total)  # KT에 대한 정답률 저장"
   ]
  },
  {
   "cell_type": "code",
   "execution_count": 29,
   "metadata": {},
   "outputs": [
    {
     "name": "stderr",
     "output_type": "stream",
     "text": [
      "100%|██████████| 2526700/2526700 [01:28<00:00, 28521.14it/s]\n"
     ]
    },
    {
     "data": {
      "application/javascript": "\n            setTimeout(function() {\n                var nbb_cell_id = 29;\n                var nbb_unformatted_code = \"\\\"\\\"\\\"\\nacc_by_kt_category_list \\n: \\ud574\\ub2f9 \\ub9ac\\uc2a4\\ud2b8\\ub294 feature\\ub97c \\ucd94\\uac00\\ud558\\uae30 \\uc804\\uc5d0 feature \\uac12\\ub4e4\\uc744 \\uc77c\\ub82c\\ub85c \\uc800\\uc7a5\\ud558\\uae30 \\uc704\\ud574 \\ub9cc\\ub4e0 \\ub9ac\\uc2a4\\ud2b8\\uc785\\ub2c8\\ub2e4.\\n\\\"\\\"\\\"\\nacc_by_kt_category_list = list()\\n\\nfor i in tqdm.tqdm(range(len(raw_data))):  # \\ubaa8\\ub4e0 \\ud589(instance)\\uc5d0 \\ub300\\ud574\\n    u = raw_data[\\\"userID\\\"].iloc[i]  # \\uc720\\uc800\\ub97c \\ud655\\uc778\\ud558\\uace0\\n    kt = raw_data[\\\"KnowledgeTag\\\"].iloc[i]  # \\ub300\\ubd84\\ub958\\ub97c \\ud655\\uc778\\ud558\\uace0\\n    idx = np.where(acc_by_kt_dict[u][0] == kt)[0][\\n        0\\n    ]  # \\ud574\\ub2f9 \\uc720\\uc800\\uc758 \\ud574\\ub2f9 \\ub300\\ubd84\\ub958\\uc5d0 \\ub300\\ud55c \\uc815\\ub2f5\\ub960\\uc744 \\uc704\\uc5d0\\uc11c \\uc815\\uc758\\ud55c dictionary\\uc5d0\\uc11c \\ucc3e\\uc544\\uc11c\\n    acc = acc_by_kt_dict[u][1][idx]\\n    acc_by_kt_category_list.append(acc)  # \\ub9ac\\uc2a4\\ud2b8\\uc5d0 \\uc800\\uc7a5\\ud55c\\ub2e4.\\n\\nraw_data[\\\"KnowledgeTagAcc\\\"] = acc_by_kt_category_list  # \\ub9ac\\uc2a4\\ud2b8\\uc5d0 KnowledgeTagAcc feature \\ucd94\\uac00\";\n                var nbb_formatted_code = \"\\\"\\\"\\\"\\nacc_by_kt_category_list \\n: \\ud574\\ub2f9 \\ub9ac\\uc2a4\\ud2b8\\ub294 feature\\ub97c \\ucd94\\uac00\\ud558\\uae30 \\uc804\\uc5d0 feature \\uac12\\ub4e4\\uc744 \\uc77c\\ub82c\\ub85c \\uc800\\uc7a5\\ud558\\uae30 \\uc704\\ud574 \\ub9cc\\ub4e0 \\ub9ac\\uc2a4\\ud2b8\\uc785\\ub2c8\\ub2e4.\\n\\\"\\\"\\\"\\nacc_by_kt_category_list = list()\\n\\nfor i in tqdm.tqdm(range(len(raw_data))):  # \\ubaa8\\ub4e0 \\ud589(instance)\\uc5d0 \\ub300\\ud574\\n    u = raw_data[\\\"userID\\\"].iloc[i]  # \\uc720\\uc800\\ub97c \\ud655\\uc778\\ud558\\uace0\\n    kt = raw_data[\\\"KnowledgeTag\\\"].iloc[i]  # \\ub300\\ubd84\\ub958\\ub97c \\ud655\\uc778\\ud558\\uace0\\n    idx = np.where(acc_by_kt_dict[u][0] == kt)[0][\\n        0\\n    ]  # \\ud574\\ub2f9 \\uc720\\uc800\\uc758 \\ud574\\ub2f9 \\ub300\\ubd84\\ub958\\uc5d0 \\ub300\\ud55c \\uc815\\ub2f5\\ub960\\uc744 \\uc704\\uc5d0\\uc11c \\uc815\\uc758\\ud55c dictionary\\uc5d0\\uc11c \\ucc3e\\uc544\\uc11c\\n    acc = acc_by_kt_dict[u][1][idx]\\n    acc_by_kt_category_list.append(acc)  # \\ub9ac\\uc2a4\\ud2b8\\uc5d0 \\uc800\\uc7a5\\ud55c\\ub2e4.\\n\\nraw_data[\\\"KnowledgeTagAcc\\\"] = acc_by_kt_category_list  # \\ub9ac\\uc2a4\\ud2b8\\uc5d0 KnowledgeTagAcc feature \\ucd94\\uac00\";\n                var nbb_cells = Jupyter.notebook.get_cells();\n                for (var i = 0; i < nbb_cells.length; ++i) {\n                    if (nbb_cells[i].input_prompt_number == nbb_cell_id) {\n                        if (nbb_cells[i].get_text() == nbb_unformatted_code) {\n                             nbb_cells[i].set_text(nbb_formatted_code);\n                        }\n                        break;\n                    }\n                }\n            }, 500);\n            ",
      "text/plain": [
       "<IPython.core.display.Javascript object>"
      ]
     },
     "metadata": {},
     "output_type": "display_data"
    }
   ],
   "source": [
    "\"\"\"\n",
    "acc_by_kt_category_list \n",
    ": 해당 리스트는 feature를 추가하기 전에 feature 값들을 일렬로 저장하기 위해 만든 리스트입니다.\n",
    "\"\"\"\n",
    "acc_by_kt_category_list = list()\n",
    "\n",
    "for i in tqdm(range(len(raw_data))):  # 모든 행(instance)에 대해\n",
    "    u = raw_data[\"userID\"].iloc[i]  # 유저를 확인하고\n",
    "    kt = raw_data[\"KnowledgeTag\"].iloc[i]  # 대분류를 확인하고\n",
    "    idx = np.where(acc_by_kt_dict[u][0] == kt)[0][\n",
    "        0\n",
    "    ]  # 해당 유저의 해당 대분류에 대한 정답률을 위에서 정의한 dictionary에서 찾아서\n",
    "    acc = acc_by_kt_dict[u][1][idx]\n",
    "    acc_by_kt_category_list.append(acc)  # 리스트에 저장한다.\n",
    "\n",
    "raw_data[\"KnowledgeTagAcc\"] = acc_by_kt_category_list  # 리스트에 KnowledgeTagAcc feature 추가"
   ]
  },
  {
   "cell_type": "code",
   "execution_count": 30,
   "metadata": {},
   "outputs": [
    {
     "data": {
      "text/html": [
       "<div>\n",
       "<style scoped>\n",
       "    .dataframe tbody tr th:only-of-type {\n",
       "        vertical-align: middle;\n",
       "    }\n",
       "\n",
       "    .dataframe tbody tr th {\n",
       "        vertical-align: top;\n",
       "    }\n",
       "\n",
       "    .dataframe thead th {\n",
       "        text-align: right;\n",
       "    }\n",
       "</style>\n",
       "<table border=\"1\" class=\"dataframe\">\n",
       "  <thead>\n",
       "    <tr style=\"text-align: right;\">\n",
       "      <th></th>\n",
       "      <th>userID</th>\n",
       "      <th>assessmentItemID</th>\n",
       "      <th>testId</th>\n",
       "      <th>answerCode</th>\n",
       "      <th>Timestamp</th>\n",
       "      <th>KnowledgeTag</th>\n",
       "      <th>dataset</th>\n",
       "      <th>KnowledgeTagAcc</th>\n",
       "    </tr>\n",
       "  </thead>\n",
       "  <tbody>\n",
       "    <tr>\n",
       "      <th>0</th>\n",
       "      <td>0</td>\n",
       "      <td>A060001001</td>\n",
       "      <td>A060000001</td>\n",
       "      <td>1</td>\n",
       "      <td>2020-03-24 00:17:11</td>\n",
       "      <td>7224</td>\n",
       "      <td>1</td>\n",
       "      <td>1.0</td>\n",
       "    </tr>\n",
       "    <tr>\n",
       "      <th>1</th>\n",
       "      <td>0</td>\n",
       "      <td>A060001002</td>\n",
       "      <td>A060000001</td>\n",
       "      <td>1</td>\n",
       "      <td>2020-03-24 00:17:14</td>\n",
       "      <td>7225</td>\n",
       "      <td>1</td>\n",
       "      <td>1.0</td>\n",
       "    </tr>\n",
       "    <tr>\n",
       "      <th>2</th>\n",
       "      <td>0</td>\n",
       "      <td>A060001003</td>\n",
       "      <td>A060000001</td>\n",
       "      <td>1</td>\n",
       "      <td>2020-03-24 00:17:22</td>\n",
       "      <td>7225</td>\n",
       "      <td>1</td>\n",
       "      <td>1.0</td>\n",
       "    </tr>\n",
       "    <tr>\n",
       "      <th>3</th>\n",
       "      <td>0</td>\n",
       "      <td>A060001004</td>\n",
       "      <td>A060000001</td>\n",
       "      <td>1</td>\n",
       "      <td>2020-03-24 00:17:29</td>\n",
       "      <td>7225</td>\n",
       "      <td>1</td>\n",
       "      <td>1.0</td>\n",
       "    </tr>\n",
       "    <tr>\n",
       "      <th>4</th>\n",
       "      <td>0</td>\n",
       "      <td>A060001005</td>\n",
       "      <td>A060000001</td>\n",
       "      <td>1</td>\n",
       "      <td>2020-03-24 00:17:36</td>\n",
       "      <td>7225</td>\n",
       "      <td>1</td>\n",
       "      <td>1.0</td>\n",
       "    </tr>\n",
       "    <tr>\n",
       "      <th>...</th>\n",
       "      <td>...</td>\n",
       "      <td>...</td>\n",
       "      <td>...</td>\n",
       "      <td>...</td>\n",
       "      <td>...</td>\n",
       "      <td>...</td>\n",
       "      <td>...</td>\n",
       "      <td>...</td>\n",
       "    </tr>\n",
       "    <tr>\n",
       "      <th>2526695</th>\n",
       "      <td>7441</td>\n",
       "      <td>A030071005</td>\n",
       "      <td>A030000071</td>\n",
       "      <td>0</td>\n",
       "      <td>2020-06-05 06:50:21</td>\n",
       "      <td>438</td>\n",
       "      <td>1</td>\n",
       "      <td>0.2</td>\n",
       "    </tr>\n",
       "    <tr>\n",
       "      <th>2526696</th>\n",
       "      <td>7441</td>\n",
       "      <td>A040165001</td>\n",
       "      <td>A040000165</td>\n",
       "      <td>1</td>\n",
       "      <td>2020-08-21 01:06:39</td>\n",
       "      <td>8836</td>\n",
       "      <td>1</td>\n",
       "      <td>1.0</td>\n",
       "    </tr>\n",
       "    <tr>\n",
       "      <th>2526697</th>\n",
       "      <td>7441</td>\n",
       "      <td>A040165002</td>\n",
       "      <td>A040000165</td>\n",
       "      <td>1</td>\n",
       "      <td>2020-08-21 01:06:50</td>\n",
       "      <td>8836</td>\n",
       "      <td>1</td>\n",
       "      <td>1.0</td>\n",
       "    </tr>\n",
       "    <tr>\n",
       "      <th>2526698</th>\n",
       "      <td>7441</td>\n",
       "      <td>A040165003</td>\n",
       "      <td>A040000165</td>\n",
       "      <td>1</td>\n",
       "      <td>2020-08-21 01:07:36</td>\n",
       "      <td>8836</td>\n",
       "      <td>1</td>\n",
       "      <td>1.0</td>\n",
       "    </tr>\n",
       "    <tr>\n",
       "      <th>2526699</th>\n",
       "      <td>7441</td>\n",
       "      <td>A040165004</td>\n",
       "      <td>A040000165</td>\n",
       "      <td>1</td>\n",
       "      <td>2020-08-21 01:08:49</td>\n",
       "      <td>8836</td>\n",
       "      <td>1</td>\n",
       "      <td>1.0</td>\n",
       "    </tr>\n",
       "  </tbody>\n",
       "</table>\n",
       "<p>2526700 rows × 8 columns</p>\n",
       "</div>"
      ],
      "text/plain": [
       "         userID assessmentItemID      testId  answerCode            Timestamp  \\\n",
       "0             0       A060001001  A060000001           1  2020-03-24 00:17:11   \n",
       "1             0       A060001002  A060000001           1  2020-03-24 00:17:14   \n",
       "2             0       A060001003  A060000001           1  2020-03-24 00:17:22   \n",
       "3             0       A060001004  A060000001           1  2020-03-24 00:17:29   \n",
       "4             0       A060001005  A060000001           1  2020-03-24 00:17:36   \n",
       "...         ...              ...         ...         ...                  ...   \n",
       "2526695    7441       A030071005  A030000071           0  2020-06-05 06:50:21   \n",
       "2526696    7441       A040165001  A040000165           1  2020-08-21 01:06:39   \n",
       "2526697    7441       A040165002  A040000165           1  2020-08-21 01:06:50   \n",
       "2526698    7441       A040165003  A040000165           1  2020-08-21 01:07:36   \n",
       "2526699    7441       A040165004  A040000165           1  2020-08-21 01:08:49   \n",
       "\n",
       "         KnowledgeTag  dataset  KnowledgeTagAcc  \n",
       "0                7224        1              1.0  \n",
       "1                7225        1              1.0  \n",
       "2                7225        1              1.0  \n",
       "3                7225        1              1.0  \n",
       "4                7225        1              1.0  \n",
       "...               ...      ...              ...  \n",
       "2526695           438        1              0.2  \n",
       "2526696          8836        1              1.0  \n",
       "2526697          8836        1              1.0  \n",
       "2526698          8836        1              1.0  \n",
       "2526699          8836        1              1.0  \n",
       "\n",
       "[2526700 rows x 8 columns]"
      ]
     },
     "execution_count": 30,
     "metadata": {},
     "output_type": "execute_result"
    },
    {
     "data": {
      "application/javascript": "\n            setTimeout(function() {\n                var nbb_cell_id = 30;\n                var nbb_unformatted_code = \"raw_data\";\n                var nbb_formatted_code = \"raw_data\";\n                var nbb_cells = Jupyter.notebook.get_cells();\n                for (var i = 0; i < nbb_cells.length; ++i) {\n                    if (nbb_cells[i].input_prompt_number == nbb_cell_id) {\n                        if (nbb_cells[i].get_text() == nbb_unformatted_code) {\n                             nbb_cells[i].set_text(nbb_formatted_code);\n                        }\n                        break;\n                    }\n                }\n            }, 500);\n            ",
      "text/plain": [
       "<IPython.core.display.Javascript object>"
      ]
     },
     "metadata": {},
     "output_type": "display_data"
    }
   ],
   "source": [
    "raw_data"
   ]
  },
  {
   "cell_type": "code",
   "execution_count": 32,
   "metadata": {},
   "outputs": [
    {
     "name": "stderr",
     "output_type": "stream",
     "text": [
      "100%|██████████| 2526700/2526700 [00:01<00:00, 1314805.35it/s]\n"
     ]
    },
    {
     "data": {
      "application/javascript": "\n            setTimeout(function() {\n                var nbb_cell_id = 32;\n                var nbb_unformatted_code = \"\\\"\\\"\\\"\\nacc_cate_list : \\uac01 \\ub300\\ubd84\\ub958 \\uc815\\ub2f5\\ub960\\uc744 \\uce74\\ud14c\\uace0\\ub9ac\\ub85c \\ub9cc\\ub4e4\\uc5b4 \\uc800\\uc7a5\\ud558\\ub824\\uace0 \\ud55c \\ub9ac\\uc2a4\\ud2b8. \\nex. \\uc6d0\\ub798 \\uac12 [0.04, 0.79, 0.43, 0.99] -> \\uacf1\\ud558\\uae30 10 : [0.4, 7.9, 4.3, 9.9] -> round : [0, 8, 4, 10] -> \\ub354\\ud558\\uae30 1 : [1, 9, 5, 11]\\n\\\"\\\"\\\"\\nacc_cate_list = list()\\nfor tag_acc in tqdm.tqdm(raw_data[\\\"KnowledgeTagAcc\\\"]):\\n    acc = tag_acc * 10\\n    acc = round(acc) + 1\\n    acc_cate_list.append(acc)\\n\\nraw_data[\\\"KTAccuracyCate\\\"] = acc_cate_list  # \\ub9ac\\uc2a4\\ud2b8\\ub85c \\uc800\\uc7a5\";\n                var nbb_formatted_code = \"\\\"\\\"\\\"\\nacc_cate_list : \\uac01 \\ub300\\ubd84\\ub958 \\uc815\\ub2f5\\ub960\\uc744 \\uce74\\ud14c\\uace0\\ub9ac\\ub85c \\ub9cc\\ub4e4\\uc5b4 \\uc800\\uc7a5\\ud558\\ub824\\uace0 \\ud55c \\ub9ac\\uc2a4\\ud2b8. \\nex. \\uc6d0\\ub798 \\uac12 [0.04, 0.79, 0.43, 0.99] -> \\uacf1\\ud558\\uae30 10 : [0.4, 7.9, 4.3, 9.9] -> round : [0, 8, 4, 10] -> \\ub354\\ud558\\uae30 1 : [1, 9, 5, 11]\\n\\\"\\\"\\\"\\nacc_cate_list = list()\\nfor tag_acc in tqdm.tqdm(raw_data[\\\"KnowledgeTagAcc\\\"]):\\n    acc = tag_acc * 10\\n    acc = round(acc) + 1\\n    acc_cate_list.append(acc)\\n\\nraw_data[\\\"KTAccuracyCate\\\"] = acc_cate_list  # \\ub9ac\\uc2a4\\ud2b8\\ub85c \\uc800\\uc7a5\";\n                var nbb_cells = Jupyter.notebook.get_cells();\n                for (var i = 0; i < nbb_cells.length; ++i) {\n                    if (nbb_cells[i].input_prompt_number == nbb_cell_id) {\n                        if (nbb_cells[i].get_text() == nbb_unformatted_code) {\n                             nbb_cells[i].set_text(nbb_formatted_code);\n                        }\n                        break;\n                    }\n                }\n            }, 500);\n            ",
      "text/plain": [
       "<IPython.core.display.Javascript object>"
      ]
     },
     "metadata": {},
     "output_type": "display_data"
    }
   ],
   "source": [
    "\"\"\"\n",
    "acc_cate_list : 각 대분류 정답률을 카테고리로 만들어 저장하려고 한 리스트. \n",
    "ex. 원래 값 [0.04, 0.79, 0.43, 0.99] -> 곱하기 10 : [0.4, 7.9, 4.3, 9.9] -> round : [0, 8, 4, 10] -> 더하기 1 : [1, 9, 5, 11]\n",
    "\"\"\"\n",
    "acc_cate_list = list()\n",
    "for tag_acc in tqdm(raw_data[\"KnowledgeTagAcc\"]):\n",
    "    acc = tag_acc * 10\n",
    "    acc = round(acc) + 1\n",
    "    acc_cate_list.append(acc)\n",
    "\n",
    "raw_data[\"KTAccuracyCate\"] = acc_cate_list  # 리스트로 저장"
   ]
  },
  {
   "cell_type": "code",
   "execution_count": 33,
   "metadata": {},
   "outputs": [
    {
     "data": {
      "text/html": [
       "<div>\n",
       "<style scoped>\n",
       "    .dataframe tbody tr th:only-of-type {\n",
       "        vertical-align: middle;\n",
       "    }\n",
       "\n",
       "    .dataframe tbody tr th {\n",
       "        vertical-align: top;\n",
       "    }\n",
       "\n",
       "    .dataframe thead th {\n",
       "        text-align: right;\n",
       "    }\n",
       "</style>\n",
       "<table border=\"1\" class=\"dataframe\">\n",
       "  <thead>\n",
       "    <tr style=\"text-align: right;\">\n",
       "      <th></th>\n",
       "      <th>userID</th>\n",
       "      <th>assessmentItemID</th>\n",
       "      <th>testId</th>\n",
       "      <th>answerCode</th>\n",
       "      <th>Timestamp</th>\n",
       "      <th>KnowledgeTag</th>\n",
       "      <th>dataset</th>\n",
       "      <th>KnowledgeTagAcc</th>\n",
       "      <th>KTAccuracyCate</th>\n",
       "    </tr>\n",
       "  </thead>\n",
       "  <tbody>\n",
       "    <tr>\n",
       "      <th>0</th>\n",
       "      <td>0</td>\n",
       "      <td>A060001001</td>\n",
       "      <td>A060000001</td>\n",
       "      <td>1</td>\n",
       "      <td>2020-03-24 00:17:11</td>\n",
       "      <td>7224</td>\n",
       "      <td>1</td>\n",
       "      <td>1.0</td>\n",
       "      <td>11</td>\n",
       "    </tr>\n",
       "    <tr>\n",
       "      <th>1</th>\n",
       "      <td>0</td>\n",
       "      <td>A060001002</td>\n",
       "      <td>A060000001</td>\n",
       "      <td>1</td>\n",
       "      <td>2020-03-24 00:17:14</td>\n",
       "      <td>7225</td>\n",
       "      <td>1</td>\n",
       "      <td>1.0</td>\n",
       "      <td>11</td>\n",
       "    </tr>\n",
       "    <tr>\n",
       "      <th>2</th>\n",
       "      <td>0</td>\n",
       "      <td>A060001003</td>\n",
       "      <td>A060000001</td>\n",
       "      <td>1</td>\n",
       "      <td>2020-03-24 00:17:22</td>\n",
       "      <td>7225</td>\n",
       "      <td>1</td>\n",
       "      <td>1.0</td>\n",
       "      <td>11</td>\n",
       "    </tr>\n",
       "    <tr>\n",
       "      <th>3</th>\n",
       "      <td>0</td>\n",
       "      <td>A060001004</td>\n",
       "      <td>A060000001</td>\n",
       "      <td>1</td>\n",
       "      <td>2020-03-24 00:17:29</td>\n",
       "      <td>7225</td>\n",
       "      <td>1</td>\n",
       "      <td>1.0</td>\n",
       "      <td>11</td>\n",
       "    </tr>\n",
       "    <tr>\n",
       "      <th>4</th>\n",
       "      <td>0</td>\n",
       "      <td>A060001005</td>\n",
       "      <td>A060000001</td>\n",
       "      <td>1</td>\n",
       "      <td>2020-03-24 00:17:36</td>\n",
       "      <td>7225</td>\n",
       "      <td>1</td>\n",
       "      <td>1.0</td>\n",
       "      <td>11</td>\n",
       "    </tr>\n",
       "    <tr>\n",
       "      <th>...</th>\n",
       "      <td>...</td>\n",
       "      <td>...</td>\n",
       "      <td>...</td>\n",
       "      <td>...</td>\n",
       "      <td>...</td>\n",
       "      <td>...</td>\n",
       "      <td>...</td>\n",
       "      <td>...</td>\n",
       "      <td>...</td>\n",
       "    </tr>\n",
       "    <tr>\n",
       "      <th>2526695</th>\n",
       "      <td>7441</td>\n",
       "      <td>A030071005</td>\n",
       "      <td>A030000071</td>\n",
       "      <td>0</td>\n",
       "      <td>2020-06-05 06:50:21</td>\n",
       "      <td>438</td>\n",
       "      <td>1</td>\n",
       "      <td>0.2</td>\n",
       "      <td>3</td>\n",
       "    </tr>\n",
       "    <tr>\n",
       "      <th>2526696</th>\n",
       "      <td>7441</td>\n",
       "      <td>A040165001</td>\n",
       "      <td>A040000165</td>\n",
       "      <td>1</td>\n",
       "      <td>2020-08-21 01:06:39</td>\n",
       "      <td>8836</td>\n",
       "      <td>1</td>\n",
       "      <td>1.0</td>\n",
       "      <td>11</td>\n",
       "    </tr>\n",
       "    <tr>\n",
       "      <th>2526697</th>\n",
       "      <td>7441</td>\n",
       "      <td>A040165002</td>\n",
       "      <td>A040000165</td>\n",
       "      <td>1</td>\n",
       "      <td>2020-08-21 01:06:50</td>\n",
       "      <td>8836</td>\n",
       "      <td>1</td>\n",
       "      <td>1.0</td>\n",
       "      <td>11</td>\n",
       "    </tr>\n",
       "    <tr>\n",
       "      <th>2526698</th>\n",
       "      <td>7441</td>\n",
       "      <td>A040165003</td>\n",
       "      <td>A040000165</td>\n",
       "      <td>1</td>\n",
       "      <td>2020-08-21 01:07:36</td>\n",
       "      <td>8836</td>\n",
       "      <td>1</td>\n",
       "      <td>1.0</td>\n",
       "      <td>11</td>\n",
       "    </tr>\n",
       "    <tr>\n",
       "      <th>2526699</th>\n",
       "      <td>7441</td>\n",
       "      <td>A040165004</td>\n",
       "      <td>A040000165</td>\n",
       "      <td>1</td>\n",
       "      <td>2020-08-21 01:08:49</td>\n",
       "      <td>8836</td>\n",
       "      <td>1</td>\n",
       "      <td>1.0</td>\n",
       "      <td>11</td>\n",
       "    </tr>\n",
       "  </tbody>\n",
       "</table>\n",
       "<p>2526700 rows × 9 columns</p>\n",
       "</div>"
      ],
      "text/plain": [
       "         userID assessmentItemID      testId  answerCode            Timestamp  \\\n",
       "0             0       A060001001  A060000001           1  2020-03-24 00:17:11   \n",
       "1             0       A060001002  A060000001           1  2020-03-24 00:17:14   \n",
       "2             0       A060001003  A060000001           1  2020-03-24 00:17:22   \n",
       "3             0       A060001004  A060000001           1  2020-03-24 00:17:29   \n",
       "4             0       A060001005  A060000001           1  2020-03-24 00:17:36   \n",
       "...         ...              ...         ...         ...                  ...   \n",
       "2526695    7441       A030071005  A030000071           0  2020-06-05 06:50:21   \n",
       "2526696    7441       A040165001  A040000165           1  2020-08-21 01:06:39   \n",
       "2526697    7441       A040165002  A040000165           1  2020-08-21 01:06:50   \n",
       "2526698    7441       A040165003  A040000165           1  2020-08-21 01:07:36   \n",
       "2526699    7441       A040165004  A040000165           1  2020-08-21 01:08:49   \n",
       "\n",
       "         KnowledgeTag  dataset  KnowledgeTagAcc  KTAccuracyCate  \n",
       "0                7224        1              1.0              11  \n",
       "1                7225        1              1.0              11  \n",
       "2                7225        1              1.0              11  \n",
       "3                7225        1              1.0              11  \n",
       "4                7225        1              1.0              11  \n",
       "...               ...      ...              ...             ...  \n",
       "2526695           438        1              0.2               3  \n",
       "2526696          8836        1              1.0              11  \n",
       "2526697          8836        1              1.0              11  \n",
       "2526698          8836        1              1.0              11  \n",
       "2526699          8836        1              1.0              11  \n",
       "\n",
       "[2526700 rows x 9 columns]"
      ]
     },
     "execution_count": 33,
     "metadata": {},
     "output_type": "execute_result"
    },
    {
     "data": {
      "application/javascript": "\n            setTimeout(function() {\n                var nbb_cell_id = 33;\n                var nbb_unformatted_code = \"raw_data\";\n                var nbb_formatted_code = \"raw_data\";\n                var nbb_cells = Jupyter.notebook.get_cells();\n                for (var i = 0; i < nbb_cells.length; ++i) {\n                    if (nbb_cells[i].input_prompt_number == nbb_cell_id) {\n                        if (nbb_cells[i].get_text() == nbb_unformatted_code) {\n                             nbb_cells[i].set_text(nbb_formatted_code);\n                        }\n                        break;\n                    }\n                }\n            }, 500);\n            ",
      "text/plain": [
       "<IPython.core.display.Javascript object>"
      ]
     },
     "metadata": {},
     "output_type": "display_data"
    }
   ],
   "source": [
    "raw_data"
   ]
  },
  {
   "cell_type": "code",
   "execution_count": 36,
   "metadata": {},
   "outputs": [
    {
     "data": {
      "application/javascript": "\n            setTimeout(function() {\n                var nbb_cell_id = 36;\n                var nbb_unformatted_code = \"# TODO : \\uc774\\ub984\\uacfc \\uacbd\\ub85c \\uc6d0\\ud558\\ub294 \\ub370\\ub85c \\ubcc0\\uacbd\\ud558\\uae30\\nos.makedirs(\\\"/opt/ml/input/data/FE\\\", exist_ok=True)\\n\\nraw_data.to_csv(\\n    \\\"/opt/ml/input/data/FE/KnowledgeTagAcc.csv\\\",\\n    columns=[\\n        \\\"userID\\\",\\n        \\\"assessmentItemID\\\",\\n        \\\"testId\\\",\\n        \\\"answerCode\\\",\\n        \\\"Timestamp\\\",\\n        \\\"KnowledgeTag\\\",\\n        \\\"dataset\\\",\\n        \\\"KnowledgeTagAcc\\\",\\n    ],\\n    index=False,\\n)  # \\ucd5c\\uc885 \\uacb0\\uacfc csv\\ub85c \\ubc18\\ud658\\n\\nraw_data.to_csv(\\n    \\\"/opt/ml/input/data/FE/KTAccuracyCate.csv\\\",\\n    columns=[\\n        \\\"userID\\\",\\n        \\\"assessmentItemID\\\",\\n        \\\"testId\\\",\\n        \\\"answerCode\\\",\\n        \\\"Timestamp\\\",\\n        \\\"KnowledgeTag\\\",\\n        \\\"dataset\\\",\\n        \\\"KTAccuracyCate\\\",\\n    ],\\n    index=False,\\n)  # \\ucd5c\\uc885 \\uacb0\\uacfc csv\\ub85c \\ubc18\\ud658\";\n                var nbb_formatted_code = \"# TODO : \\uc774\\ub984\\uacfc \\uacbd\\ub85c \\uc6d0\\ud558\\ub294 \\ub370\\ub85c \\ubcc0\\uacbd\\ud558\\uae30\\nos.makedirs(\\\"/opt/ml/input/data/FE\\\", exist_ok=True)\\n\\nraw_data.to_csv(\\n    \\\"/opt/ml/input/data/FE/KnowledgeTagAcc.csv\\\",\\n    columns=[\\n        \\\"userID\\\",\\n        \\\"assessmentItemID\\\",\\n        \\\"testId\\\",\\n        \\\"answerCode\\\",\\n        \\\"Timestamp\\\",\\n        \\\"KnowledgeTag\\\",\\n        \\\"dataset\\\",\\n        \\\"KnowledgeTagAcc\\\",\\n    ],\\n    index=False,\\n)  # \\ucd5c\\uc885 \\uacb0\\uacfc csv\\ub85c \\ubc18\\ud658\\n\\nraw_data.to_csv(\\n    \\\"/opt/ml/input/data/FE/KTAccuracyCate.csv\\\",\\n    columns=[\\n        \\\"userID\\\",\\n        \\\"assessmentItemID\\\",\\n        \\\"testId\\\",\\n        \\\"answerCode\\\",\\n        \\\"Timestamp\\\",\\n        \\\"KnowledgeTag\\\",\\n        \\\"dataset\\\",\\n        \\\"KTAccuracyCate\\\",\\n    ],\\n    index=False,\\n)  # \\ucd5c\\uc885 \\uacb0\\uacfc csv\\ub85c \\ubc18\\ud658\";\n                var nbb_cells = Jupyter.notebook.get_cells();\n                for (var i = 0; i < nbb_cells.length; ++i) {\n                    if (nbb_cells[i].input_prompt_number == nbb_cell_id) {\n                        if (nbb_cells[i].get_text() == nbb_unformatted_code) {\n                             nbb_cells[i].set_text(nbb_formatted_code);\n                        }\n                        break;\n                    }\n                }\n            }, 500);\n            ",
      "text/plain": [
       "<IPython.core.display.Javascript object>"
      ]
     },
     "metadata": {},
     "output_type": "display_data"
    }
   ],
   "source": [
    "# TODO : 이름과 경로 원하는 데로 변경하기\n",
    "os.makedirs(\"/opt/ml/input/data/FE\", exist_ok=True)\n",
    "\n",
    "raw_data.to_csv(\n",
    "    \"/opt/ml/input/data/FE/KnowledgeTagAcc.csv\",\n",
    "    columns=[\n",
    "        \"userID\",\n",
    "        \"assessmentItemID\",\n",
    "        \"testId\",\n",
    "        \"answerCode\",\n",
    "        \"Timestamp\",\n",
    "        \"KnowledgeTag\",\n",
    "        \"dataset\",\n",
    "        \"KnowledgeTagAcc\",\n",
    "    ],\n",
    "    index=False,\n",
    ")  # 최종 결과 csv로 반환\n",
    "\n",
    "raw_data.to_csv(\n",
    "    \"/opt/ml/input/data/FE/KTAccuracyCate.csv\",\n",
    "    columns=[\n",
    "        \"userID\",\n",
    "        \"assessmentItemID\",\n",
    "        \"testId\",\n",
    "        \"answerCode\",\n",
    "        \"Timestamp\",\n",
    "        \"KnowledgeTag\",\n",
    "        \"dataset\",\n",
    "        \"KTAccuracyCate\",\n",
    "    ],\n",
    "    index=False,\n",
    ")  # 최종 결과 csv로 반환"
   ]
  },
  {
   "cell_type": "code",
   "execution_count": null,
   "metadata": {},
   "outputs": [],
   "source": []
  }
 ],
 "metadata": {
  "interpreter": {
   "hash": "d4d1e4263499bec80672ea0156c357c1ee493ec2b1c70f0acce89fc37c4a6abe"
  },
  "kernelspec": {
   "display_name": "Python 3.8.5 ('base')",
   "language": "python",
   "name": "python3"
  },
  "language_info": {
   "codemirror_mode": {
    "name": "ipython",
    "version": 3
   },
   "file_extension": ".py",
   "mimetype": "text/x-python",
   "name": "python",
   "nbconvert_exporter": "python",
   "pygments_lexer": "ipython3",
   "version": "3.8.5"
  },
  "orig_nbformat": 4
 },
 "nbformat": 4,
 "nbformat_minor": 2
}
