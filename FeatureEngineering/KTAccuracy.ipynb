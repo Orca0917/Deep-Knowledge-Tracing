{
 "cells": [
  {
   "cell_type": "markdown",
   "metadata": {},
   "source": [
    "### 📌 유저의 KnowledgeTag 별 정답률 계산"
   ]
  },
  {
   "cell_type": "code",
   "execution_count": null,
   "metadata": {},
   "outputs": [],
   "source": [
    "%load_ext nb_black\n",
    "%load_ext lab_black\n",
    "\n",
    "import numpy as np\n",
    "import pandas as pd\n",
    "import os\n",
    "\n",
    "from tqdm import tqdm"
   ]
  },
  {
   "cell_type": "code",
   "execution_count": null,
   "metadata": {},
   "outputs": [],
   "source": [
    "# TODO : 원하는 데이터 경로 지정하기\n",
    "DATA_PATH = \"/opt/ml/input/data/FE_total_data.csv\"\n",
    "raw_data = pd.read_csv(DATA_PATH, parse_dates=[\"Timestamp\"])\n",
    "user_id = sorted(raw_data[\"userID\"].unique())  # 유저 아이디 목록 리스트로 저장"
   ]
  },
  {
   "cell_type": "code",
   "execution_count": null,
   "metadata": {},
   "outputs": [],
   "source": [
    "acc_by_kt_dict = dict()\n",
    "\"\"\"\n",
    "acc_by_kt_dict : 각 유저의 KT별 정답률을 저장한 dictionary\n",
    "    - Key : 유저 아이딩\n",
    "    - Value : 리스트 두개\n",
    "        - 첫번째 리스트 : KT를 담고 있는 리스트\n",
    "        - 두번째 리스트 : 첫번째 리스트에 동일한 인덱스에 있는 KT의 정답률\n",
    "\"\"\"\n",
    "for user in user_id:\n",
    "    acc_by_kt_dict[user] = [[] for _ in range(2)]\n",
    "\n",
    "for user in tqdm(user_id):  # 모든 유저에 대해\n",
    "    data = raw_data[raw_data[\"userID\"] == user]  # 각 유저에 대한 행만 추출하여 data에 저장\n",
    "    kt_l = data[\"KnowledgeTag\"].unique()  # 행들에 있는 고유한 KT 추출 ex) [7724, 7720, 7640]\n",
    "\n",
    "    for i in kt_l:  # 유저가 풀어본 각 KT 대해\n",
    "        kt = int(i)\n",
    "        kt_correct = 0\n",
    "        kt_total = 0\n",
    "        for j in np.where(data[\"KnowledgeTag\"] == i)[0]:  # 해당 KT인 문제만 순회하면서\n",
    "            # for j in range(len(data)) :\n",
    "            if data[\"KnowledgeTag\"].iloc[j] == i:  # 동일한 KT에 대해\n",
    "                if (\n",
    "                    data[\"answerCode\"].iloc[j] == 1\n",
    "                ):  # 정답을 맞췄으면, correct, total count + 1\n",
    "                    kt_correct += 1\n",
    "                    kt_total += 1\n",
    "                else:\n",
    "                    kt_total += 1  # 맞추지 못했으면 total count만 + 1\n",
    "        acc_by_kt_dict[user][0].append(kt)  # 해당 KT는 KT 리스트에 저장\n",
    "        acc_by_kt_dict[user][1].append(kt_correct / kt_total)  # KT에 대한 정답률 저장"
   ]
  },
  {
   "cell_type": "code",
   "execution_count": null,
   "metadata": {},
   "outputs": [],
   "source": [
    "\"\"\"\n",
    "acc_by_kt_category_list \n",
    ": 해당 리스트는 feature를 추가하기 전에 feature 값들을 일렬로 저장하기 위해 만든 리스트입니다.\n",
    "\"\"\"\n",
    "acc_by_kt_category_list = list()\n",
    "\n",
    "for i in tqdm(range(len(raw_data))):  # 모든 행(instance)에 대해\n",
    "    u = raw_data[\"userID\"].iloc[i]  # 유저를 확인하고\n",
    "    kt = raw_data[\"KnowledgeTag\"].iloc[i]  # 대분류를 확인하고\n",
    "    idx = np.where(acc_by_kt_dict[u][0] == kt)[0][\n",
    "        0\n",
    "    ]  # 해당 유저의 해당 대분류에 대한 정답률을 위에서 정의한 dictionary에서 찾아서\n",
    "    acc = acc_by_kt_dict[u][1][idx]\n",
    "    acc_by_kt_category_list.append(acc)  # 리스트에 저장한다.\n",
    "\n",
    "raw_data[\"KnowledgeTagAcc\"] = acc_by_kt_category_list  # 리스트에 KnowledgeTagAcc feature 추가"
   ]
  },
  {
   "cell_type": "code",
   "execution_count": null,
   "metadata": {},
   "outputs": [],
   "source": [
    "\"\"\"\n",
    "acc_cate_list : 각 대분류 정답률을 카테고리로 만들어 저장하려고 한 리스트. \n",
    "ex. 원래 값 [0.04, 0.79, 0.43, 0.99] -> 곱하기 10 : [0.4, 7.9, 4.3, 9.9] -> round : [0, 8, 4, 10] -> 더하기 1 : [1, 9, 5, 11]\n",
    "\"\"\"\n",
    "acc_cate_list = list()\n",
    "for tag_acc in tqdm(raw_data[\"KnowledgeTagAcc\"]):\n",
    "    acc = tag_acc * 10\n",
    "    acc = round(acc) + 1\n",
    "    acc_cate_list.append(acc)\n",
    "\n",
    "raw_data[\"KTAccuracyCate\"] = acc_cate_list  # 리스트로 저장"
   ]
  },
  {
   "cell_type": "code",
   "execution_count": null,
   "metadata": {},
   "outputs": [],
   "source": [
    "raw_data.head()"
   ]
  },
  {
   "cell_type": "code",
   "execution_count": null,
   "metadata": {},
   "outputs": [],
   "source": [
    "# TODO : 이름과 경로 원하는 데로 변경하기\n",
    "os.makedirs(\"/opt/ml/input/data/FE\", exist_ok=True)\n",
    "\n",
    "raw_data.to_csv(\n",
    "    \"/opt/ml/input/data/FE/KnowledgeTagAcc.csv\",\n",
    "    columns=[\n",
    "        \"userID\",\n",
    "        \"assessmentItemID\",\n",
    "        \"testId\",\n",
    "        \"answerCode\",\n",
    "        \"Timestamp\",\n",
    "        \"KnowledgeTag\",\n",
    "        \"dataset\",\n",
    "        \"KnowledgeTagAcc\",\n",
    "    ],\n",
    "    index=False,\n",
    ")  # 최종 결과 csv로 반환\n",
    "\n",
    "raw_data.to_csv(\n",
    "    \"/opt/ml/input/data/FE/KTAccuracyCate.csv\",\n",
    "    columns=[\n",
    "        \"userID\",\n",
    "        \"assessmentItemID\",\n",
    "        \"testId\",\n",
    "        \"answerCode\",\n",
    "        \"Timestamp\",\n",
    "        \"KnowledgeTag\",\n",
    "        \"dataset\",\n",
    "        \"KTAccuracyCate\",\n",
    "    ],\n",
    "    index=False,\n",
    ")  # 최종 결과 csv로 반환"
   ]
  }
 ],
 "metadata": {
  "interpreter": {
   "hash": "d4d1e4263499bec80672ea0156c357c1ee493ec2b1c70f0acce89fc37c4a6abe"
  },
  "kernelspec": {
   "display_name": "Python 3.8.5 ('base')",
   "language": "python",
   "name": "python3"
  },
  "language_info": {
   "codemirror_mode": {
    "name": "ipython",
    "version": 3
   },
   "file_extension": ".py",
   "mimetype": "text/x-python",
   "name": "python",
   "nbconvert_exporter": "python",
   "pygments_lexer": "ipython3",
   "version": "3.8.3"
  },
  "orig_nbformat": 4
 },
 "nbformat": 4,
 "nbformat_minor": 2
}
