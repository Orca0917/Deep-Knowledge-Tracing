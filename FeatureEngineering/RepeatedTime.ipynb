{
 "cells": [
  {
   "cell_type": "code",
   "execution_count": 1,
   "metadata": {},
   "outputs": [],
   "source": [
    "import numpy as np\n",
    "import pandas as pd\n",
    "\n",
    "import os\n",
    "\n",
    "import math\n",
    "from tqdm import tqdm"
   ]
  },
  {
   "cell_type": "code",
   "execution_count": 4,
   "metadata": {},
   "outputs": [],
   "source": [
    "raw_data = pd.read_csv('/opt/ml/input/data/FE_total_data.csv', parse_dates=[\"Timestamp\"])\n",
    "raw_data.sort_values(by=[\"userID\", \"Timestamp\"], inplace=True)\n",
    "df = raw_data.copy()"
   ]
  },
  {
   "cell_type": "code",
   "execution_count": 5,
   "metadata": {},
   "outputs": [],
   "source": [
    "df[\"grade\"] = df[\"testId\"].apply(lambda x: int(x[1:4]) // 10)    \n",
    "df[\"problem_number\"] = df[\"assessmentItemID\"].apply(lambda x: int(x[-3:]))\n",
    "\n",
    "gdf = df[[\"userID\", \"testId\", \"problem_number\", \"grade\", \"Timestamp\"]].sort_values(\n",
    "    by=[\"userID\", \"grade\", \"Timestamp\"]\n",
    ")\n",
    "gdf[\"buserID\"] = gdf[\"userID\"] != gdf[\"userID\"].shift(1)\n",
    "gdf[\"bgrade\"] = gdf[\"grade\"] != gdf[\"grade\"].shift(1)\n",
    "gdf[\"first\"] = gdf[[\"buserID\", \"bgrade\"]].any(axis=1).apply(lambda x: 1 - int(x))\n",
    "gdf[\"RepeatedTime\"] = gdf[\"Timestamp\"].diff().fillna(pd.Timedelta(seconds=0))\n",
    "gdf[\"RepeatedTime\"] = (\n",
    "    gdf[\"RepeatedTime\"].apply(lambda x: x.total_seconds()) * gdf[\"first\"]\n",
    ")\n",
    "\n",
    "df[\"RepeatedTime\"] = gdf[\"RepeatedTime\"].apply(lambda x: math.log(x + 1))\n"
   ]
  },
  {
   "cell_type": "code",
   "execution_count": 7,
   "metadata": {},
   "outputs": [],
   "source": [
    "df.to_csv('/opt/ml/input/data/FE/RepeatedTime.csv', columns=[\"userID\", \"assessmentItemID\", \"testId\", \"answerCode\", \"Timestamp\", \"KnowledgeTag\", \"dataset\", \"RepeatedTime\"], index=False)"
   ]
  },
  {
   "cell_type": "code",
   "execution_count": null,
   "metadata": {},
   "outputs": [],
   "source": []
  }
 ],
 "metadata": {
  "interpreter": {
   "hash": "d4d1e4263499bec80672ea0156c357c1ee493ec2b1c70f0acce89fc37c4a6abe"
  },
  "kernelspec": {
   "display_name": "Python 3.8.5 ('base')",
   "language": "python",
   "name": "python3"
  },
  "language_info": {
   "codemirror_mode": {
    "name": "ipython",
    "version": 3
   },
   "file_extension": ".py",
   "mimetype": "text/x-python",
   "name": "python",
   "nbconvert_exporter": "python",
   "pygments_lexer": "ipython3",
   "version": "3.8.5"
  },
  "orig_nbformat": 4
 },
 "nbformat": 4,
 "nbformat_minor": 2
}
