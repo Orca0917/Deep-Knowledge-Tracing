{
 "cells": [
  {
   "cell_type": "code",
   "execution_count": null,
   "metadata": {},
   "outputs": [],
   "source": [
    "import numpy as np\n",
    "import pandas as pd\n",
    "\n",
    "from tqdm import tqdm\n",
    "import matplotlib as mpl\n",
    "import matplotlib.pyplot as plt\n",
    "from collections import defaultdict"
   ]
  },
  {
   "cell_type": "code",
   "execution_count": null,
   "metadata": {},
   "outputs": [],
   "source": [
    "raw_data = pd.read_csv('/opt/ml/input/data/FE_total_data.csv')\n",
    "raw_data.sort_values(by=[\"userID\", \"Timestamp\"], inplace=True)\n",
    "df = raw_data.copy()"
   ]
  },
  {
   "cell_type": "markdown",
   "metadata": {},
   "source": [
    "- totalAnswer : csv 파일로 관리\n",
    "- testMean : csv 파일로 관리\n",
    "- testSum : csv 파일로 관리\n",
    "- tagMean : csv 파일로 관리\n",
    "- tagSum : csv 파일로 관리"
   ]
  },
  {
   "cell_type": "code",
   "execution_count": null,
   "metadata": {},
   "outputs": [],
   "source": [
    "# 유저들의 문제 풀이수, 정답 수, 정답률을 시간순으로 누적해서 계산\n",
    "df[\"user_correct_answer\"] = df.groupby(\"userID\")[\"answerCode\"].transform(lambda x: x.cumsum().shift(1))\n",
    "df[\"totalAnswer\"] = df.groupby(\"userID\")[\"answerCode\"].cumcount()\n",
    "df[\"user_acc\"] = df[\"user_correct_answer\"] / df[\"totalAnswer\"]\n",
    "\n",
    "    # testId와 KnowledgeTag의 전체 정답률은 한번에 계산\n",
    "    # 아래 데이터는 제출용 데이터셋에 대해서도 재사용\n",
    "correct_t = df.groupby([\"testId\"])[\"answerCode\"].agg([\"mean\", \"sum\",'std'])\n",
    "correct_t.columns = [\"testMean\", \"testSum\",'testStd']\n",
    "correct_k = df.groupby([\"KnowledgeTag\"])[\"answerCode\"].agg([\"mean\", \"sum\",'std'])\n",
    "correct_k.columns = [\"tagMean\", \"tagSum\",\"tagStd\"]\n",
    "correct_a = df.groupby([\"assessmentItemID\"])[\"answerCode\"].agg([\"mean\", \"sum\", \"std\"])\n",
    "correct_a.columns = ['assessMean', 'assessSum', 'assessStd']\n",
    "\n",
    "\n",
    "df = pd.merge(df, correct_t, on=[\"testId\"], how=\"left\")\n",
    "df = pd.merge(df, correct_k, on=[\"KnowledgeTag\"], how=\"left\")\n",
    "df = pd.merge(df, correct_a, on=[\"assessmentItemID\"], how='left')\n",
    "df"
   ]
  },
  {
   "cell_type": "code",
   "execution_count": null,
   "metadata": {},
   "outputs": [],
   "source": [
    "df.to_csv('/opt/ml/input/data/FE/totalAnswer.csv', columns=[\"userID\", \"assessmentItemID\", \"testId\", \"answerCode\", \"Timestamp\", \"KnowledgeTag\", \"dataset\", \"totalAnswer\"], index=False)\n",
    "df.to_csv('/opt/ml/input/data/FE/testMean.csv', columns=[\"userID\", \"assessmentItemID\", \"testId\", \"answerCode\", \"Timestamp\", \"KnowledgeTag\", \"dataset\", \"testMean\"], index=False)\n",
    "df.to_csv('/opt/ml/input/data/FE/testSum.csv', columns=[\"userID\", \"assessmentItemID\", \"testId\", \"answerCode\", \"Timestamp\", \"KnowledgeTag\", \"dataset\", \"testSum\"], index=False)\n",
    "df.to_csv('/opt/ml/input/data/FE/testSum.csv', columns=[\"userID\", \"assessmentItemID\", \"testId\", \"answerCode\", \"Timestamp\", \"KnowledgeTag\", \"dataset\", \"testStd\"], index=False)\n",
    "df.to_csv('/opt/ml/input/data/FE/tagMean.csv', columns=[\"userID\", \"assessmentItemID\", \"testId\", \"answerCode\", \"Timestamp\", \"KnowledgeTag\", \"dataset\", \"tagMean\"], index=False)\n",
    "df.to_csv('/opt/ml/input/data/FE/tagSum.csv', columns=[\"userID\", \"assessmentItemID\", \"testId\", \"answerCode\", \"Timestamp\", \"KnowledgeTag\", \"dataset\", \"tagSum\"], index=False)\n",
    "df.to_csv('/opt/ml/input/data/FE/tagSum.csv', columns=[\"userID\", \"assessmentItemID\", \"testId\", \"answerCode\", \"Timestamp\", \"KnowledgeTag\", \"dataset\", \"tagStd\"], index=False)\n",
    "df.to_csv('/opt/ml/input/data/FE/assessMean.csv', columns=[\"userID\", \"assessmentItemID\", \"testId\", \"answerCode\", \"Timestamp\", \"KnowledgeTag\", \"dataset\", \"assessMean\"], index=False)\n",
    "df.to_csv('/opt/ml/input/data/FE/assessSum.csv', columns=[\"userID\", \"assessmentItemID\", \"testId\", \"answerCode\", \"Timestamp\", \"KnowledgeTag\", \"dataset\", \"assessSum\"], index=False)\n",
    "df.to_csv('/opt/ml/input/data/FE/assessStd.csv', columns=[\"userID\", \"assessmentItemID\", \"testId\", \"answerCode\", \"Timestamp\", \"KnowledgeTag\", \"dataset\", \"assessStd\"], index=False)"
   ]
  },
  {
   "cell_type": "code",
   "execution_count": null,
   "metadata": {},
   "outputs": [],
   "source": []
  }
 ],
 "metadata": {
  "interpreter": {
   "hash": "d4d1e4263499bec80672ea0156c357c1ee493ec2b1c70f0acce89fc37c4a6abe"
  },
  "kernelspec": {
   "display_name": "Python 3.8.5 ('base')",
   "language": "python",
   "name": "python3"
  },
  "language_info": {
   "codemirror_mode": {
    "name": "ipython",
    "version": 3
   },
   "file_extension": ".py",
   "mimetype": "text/x-python",
   "name": "python",
   "nbconvert_exporter": "python",
   "pygments_lexer": "ipython3",
   "version": "3.8.5"
  },
  "orig_nbformat": 4
 },
 "nbformat": 4,
 "nbformat_minor": 2
}
