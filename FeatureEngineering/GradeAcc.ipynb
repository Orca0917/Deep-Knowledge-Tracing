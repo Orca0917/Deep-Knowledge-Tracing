{
 "cells": [
  {
   "cell_type": "code",
   "execution_count": 1,
   "metadata": {},
   "outputs": [],
   "source": [
    "import numpy as np\n",
    "import pandas as pd\n",
    "\n",
    "import os\n",
    "\n",
    "from tqdm import tqdm"
   ]
  },
  {
   "cell_type": "code",
   "execution_count": 2,
   "metadata": {},
   "outputs": [],
   "source": [
    "raw_data = pd.read_csv('/opt/ml/input/data/FE_total_data.csv')\n",
    "raw_data.sort_values(by=[\"userID\", \"Timestamp\"], inplace=True)\n",
    "df = raw_data.copy()"
   ]
  },
  {
   "cell_type": "code",
   "execution_count": 3,
   "metadata": {},
   "outputs": [],
   "source": [
    "df[\"grade\"] = df[\"testId\"].apply(lambda x: int(x[1:4]) // 10)\n",
    "\n",
    "o_df = df[df[\"answerCode\"] == 1]\n",
    "x_df = df[df[\"answerCode\"] == 0]"
   ]
  },
  {
   "cell_type": "code",
   "execution_count": 4,
   "metadata": {},
   "outputs": [],
   "source": [
    "df[\"Grade_o\"] = (\n",
    "    df.groupby([\"userID\", \"grade\"])[\"answerCode\"]\n",
    "    .transform(lambda x: x.cumsum().shift(1))\n",
    "    .fillna(0)\n",
    ")\n",
    "\n",
    "df[\"GradeCount\"] = df.groupby([\"userID\", \"grade\"]).cumcount()\n",
    "df[\"GradeAcc\"] = (df[\"Grade_o\"] / df[\"GradeCount\"]).fillna(0)"
   ]
  },
  {
   "cell_type": "code",
   "execution_count": 5,
   "metadata": {},
   "outputs": [],
   "source": [
    "df.to_csv('/opt/ml/input/data/FE/GradeAcc.csv', columns=[\"userID\", \"assessmentItemID\", \"testId\", \"answerCode\", \"Timestamp\", \"KnowledgeTag\", \"dataset\", \"GradeAcc\"], index=False)\n",
    "df.to_csv('/opt/ml/input/data/FE/Grade_o.csv', columns=[\"userID\", \"assessmentItemID\", \"testId\", \"answerCode\", \"Timestamp\", \"KnowledgeTag\", \"dataset\", \"Grade_o\"], index=False)\n",
    "df.to_csv('/opt/ml/input/data/FE/GradeCount.csv', columns=[\"userID\", \"assessmentItemID\", \"testId\", \"answerCode\", \"Timestamp\", \"KnowledgeTag\", \"dataset\", \"GradeCount\"], index=False)"
   ]
  }
 ],
 "metadata": {
  "interpreter": {
   "hash": "d4d1e4263499bec80672ea0156c357c1ee493ec2b1c70f0acce89fc37c4a6abe"
  },
  "kernelspec": {
   "display_name": "Python 3.8.5 ('base')",
   "language": "python",
   "name": "python3"
  },
  "language_info": {
   "codemirror_mode": {
    "name": "ipython",
    "version": 3
   },
   "file_extension": ".py",
   "mimetype": "text/x-python",
   "name": "python",
   "nbconvert_exporter": "python",
   "pygments_lexer": "ipython3",
   "version": "3.8.5"
  },
  "orig_nbformat": 4
 },
 "nbformat": 4,
 "nbformat_minor": 2
}
