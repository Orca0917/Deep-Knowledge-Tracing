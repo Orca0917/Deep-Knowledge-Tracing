{
 "cells": [
  {
   "cell_type": "markdown",
   "metadata": {},
   "source": [
    "### 📌 대분류별 정답률, 카테고리화된 정답률 feature 계산"
   ]
  },
  {
   "cell_type": "code",
   "execution_count": null,
   "metadata": {},
   "outputs": [],
   "source": [
    "%load_ext nb_black\n",
    "%load_ext lab_black\n",
    "\n",
    "import numpy as np\n",
    "import pandas as pd\n",
    "\n",
    "import os"
   ]
  },
  {
   "cell_type": "code",
   "execution_count": null,
   "metadata": {},
   "outputs": [],
   "source": [
    "\"\"\"\n",
    "train data 또는 test data 중 feature를 추가하고 싶은 데이터를 불러오면 됩니다.!\n",
    "(train과 test data를 합친 data를 불러와도 됩니다!)\n",
    "\"\"\"\n",
    "# TODO : 원하는 데이터의 경로를 설정해주세요\n",
    "DATA_PATH = \"/opt/ml/input/data/FE_total_data.csv\"\n",
    "\n",
    "raw_data = pd.read_csv(DATA_PATH, parse_dates=[\"Timestamp\"])\n",
    "raw_data = raw_data.sort_values(by=[\"userID\", \"Timestamp\"]).reset_index(drop=True)\n",
    "\n",
    "user_id = sorted(raw_data[\"userID\"].unique())  # 유저 아이디 저장"
   ]
  },
  {
   "cell_type": "code",
   "execution_count": null,
   "metadata": {},
   "outputs": [],
   "source": [
    "##-------------------대분류 Feature 추가--------------------------\n",
    "raw_data[\"bigClass\"] = raw_data[\"testId\"].str[2]\n",
    "raw_data.head(5)"
   ]
  },
  {
   "cell_type": "code",
   "execution_count": null,
   "metadata": {},
   "outputs": [],
   "source": [
    "# 사용자별로 다시 대분류 별로 정답률 계산\n",
    "result = (\n",
    "    raw_data.groupby([\"userID\", \"bigClass\"])\n",
    "    .apply(lambda x: np.mean(x[\"answerCode\"]))\n",
    "    .reset_index()\n",
    ")"
   ]
  },
  {
   "cell_type": "code",
   "execution_count": null,
   "metadata": {},
   "outputs": [],
   "source": [
    "\"\"\"\n",
    "acc_by_big_category\n",
    "    - key : 유저 아이디\n",
    "    - value : 해당 유저의 대분류별 정답률 (인덱스가 대분류를 나타낸다. ex. index=1 -> 대분류 1)\n",
    "    - default value : 기본적으로 0.5라는 값이 들어간다. \n",
    "\"\"\"\n",
    "acc_by_big_category = dict()\n",
    "for user in user_id:\n",
    "    acc_by_big_category[user] = [0.5] * 10\n",
    "\n",
    "for user_id, big_class, accuarcy in result.values:\n",
    "    acc_by_big_category[user_id][int(big_class)] = accuarcy"
   ]
  },
  {
   "cell_type": "code",
   "execution_count": null,
   "metadata": {},
   "outputs": [],
   "source": [
    "# 유저의 대분류별 정답률 feature 추가 (50초)\n",
    "raw_data[\"bigClassAcc\"] = raw_data.apply(\n",
    "    lambda x: acc_by_big_category[x.userID][int(x.bigClass)], axis=1\n",
    ")"
   ]
  },
  {
   "cell_type": "code",
   "execution_count": null,
   "metadata": {},
   "outputs": [],
   "source": [
    "\"\"\"\n",
    "acc_cate_list : 각 대분류 정답률을 카테고리로 만들어 저장하려고 한 리스트. \n",
    "ex. 원래 값 [0.04, 0.79, 0.43, 0.99] -> 곱하기 10 : [0.4, 7.9, 4.3, 9.9] -> round : [0, 8, 4, 10] -> 더하기 1 : [1, 9, 5, 11]\n",
    "\"\"\"\n",
    "acc_cate_list = list()\n",
    "for big_class_acc in raw_data[\"bigClassAcc\"]:\n",
    "    acc = big_class_acc * 10\n",
    "    acc = round(acc) + 1\n",
    "    acc_cate_list.append(acc)\n",
    "\n",
    "raw_data[\"bigClassAccCate\"] = acc_cate_list  # 리스트로 저장"
   ]
  },
  {
   "cell_type": "code",
   "execution_count": null,
   "metadata": {},
   "outputs": [],
   "source": [
    "raw_data = raw_data.sort_values(by=[\"userID\", \"Timestamp\"]).reset_index(drop=True)\n",
    "raw_data.head(5)  # 대분류, 대분류별 정답률, 대분류별 정답률 카테고리 추가 후"
   ]
  },
  {
   "cell_type": "code",
   "execution_count": null,
   "metadata": {},
   "outputs": [],
   "source": [
    "os.makedirs(\"/opt/ml/input/data/FE\", exist_ok=True)\n",
    "raw_data.to_csv(\n",
    "    \"/opt/ml/input/data/FE/bigClassAcc.csv\",\n",
    "    columns=[\n",
    "        \"userID\",\n",
    "        \"assessmentItemID\",\n",
    "        \"testId\",\n",
    "        \"answerCode\",\n",
    "        \"Timestamp\",\n",
    "        \"KnowledgeTag\",\n",
    "        \"dataset\",\n",
    "        \"bigClassAcc\",\n",
    "    ],\n",
    "    index=False,\n",
    ")  # 최종 결과 csv로 반환\n",
    "\n",
    "raw_data.to_csv(\n",
    "    \"/opt/ml/input/data/FE/bigClassAccCate.csv\",\n",
    "    columns=[\n",
    "        \"userID\",\n",
    "        \"assessmentItemID\",\n",
    "        \"testId\",\n",
    "        \"answerCode\",\n",
    "        \"Timestamp\",\n",
    "        \"KnowledgeTag\",\n",
    "        \"dataset\",\n",
    "        \"bigClassAccCate\",\n",
    "    ],\n",
    "    index=False,\n",
    ")  # 최종 결과 csv로 반환"
   ]
  }
 ],
 "metadata": {
  "interpreter": {
   "hash": "d4d1e4263499bec80672ea0156c357c1ee493ec2b1c70f0acce89fc37c4a6abe"
  },
  "kernelspec": {
   "display_name": "Python 3.8.5 ('base')",
   "language": "python",
   "name": "python3"
  },
  "language_info": {
   "codemirror_mode": {
    "name": "ipython",
    "version": 3
   },
   "file_extension": ".py",
   "mimetype": "text/x-python",
   "name": "python",
   "nbconvert_exporter": "python",
   "pygments_lexer": "ipython3",
   "version": "3.8.3"
  },
  "orig_nbformat": 4
 },
 "nbformat": 4,
 "nbformat_minor": 2
}
