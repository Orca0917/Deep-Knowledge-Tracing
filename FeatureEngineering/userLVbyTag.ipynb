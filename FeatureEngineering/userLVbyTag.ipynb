{
 "cells": [
  {
   "cell_type": "code",
   "execution_count": 11,
   "metadata": {},
   "outputs": [],
   "source": [
    "import pandas as pd\n",
    "import seaborn as sns\n",
    "import numpy as np\n",
    "from tqdm import tqdm\n",
    "import matplotlib.pyplot as plt\n",
    "import warnings\n",
    "\n",
    "warnings.filterwarnings(action='ignore')"
   ]
  },
  {
   "cell_type": "markdown",
   "metadata": {},
   "source": [
    "\n",
    "# 0. 데이터 로드"
   ]
  },
  {
   "cell_type": "code",
   "execution_count": 13,
   "metadata": {},
   "outputs": [],
   "source": [
    "import pandas as pd\n",
    "import numpy as np\n",
    "from tqdm import tqdm\n",
    "import warnings\n",
    "\n",
    "def percentile(s):\n",
    "    return round(np.sum(s) / len(s)*100, 2)\n",
    "\n",
    "def avgLV(data):\n",
    "    tags = data['KnowledgeTag'].unique()\n",
    "    LV = []\n",
    "    \n",
    "    for tid in tags:\n",
    "        LV.append(data[data['KnowledgeTag']==tid]['userLVbyTag'].iloc[0])\n",
    "    return round(np.mean(LV))\n",
    "\n",
    "warnings.filterwarnings(action='ignore') # CopyWarning 출력 무시 "
   ]
  },
  {
   "cell_type": "code",
   "execution_count": 14,
   "metadata": {},
   "outputs": [
    {
     "name": "stdout",
     "output_type": "stream",
     "text": [
      "[DEBUG]] Loading Data ...\n",
      "[INFO] Total Data: 2526700\n",
      "[INFO] Feature Engineering Data (only answerCode >= 0): 2525956\n",
      "[DEBUG] Calculating correct tagRatio and userBytagRatio ...\n",
      "[DEBUG] Calculating correct userRatio ...\n",
      "[INFO] Done!!\n",
      "\n"
     ]
    }
   ],
   "source": [
    "# 0. 데이터 로드\n",
    "print(f'[DEBUG]] Loading Data ...')\n",
    "df = pd.read_csv('/opt/ml/input/data/FE_total_data.csv')\n",
    "train = df[df['answerCode']>=0]\n",
    "print(f'[INFO] Total Data: {len(df)}')\n",
    "print(f'[INFO] Feature Engineering Data (only answerCode >= 0): {len(train)}')\n",
    "# 1. 태그별 정답률 & 유저별 태그 정답률\n",
    "print(f'[DEBUG] Calculating correct tagRatio and userBytagRatio ...')\n",
    "train['tagRatio'] = train.groupby('KnowledgeTag').answerCode.transform(percentile)\n",
    "train['userBytagRatio'] = train.groupby(['userID', 'KnowledgeTag']).answerCode.transform(percentile)\n",
    "# 2.유저별 정답률\n",
    "print(f'[DEBUG] Calculating correct userRatio ...')\n",
    "train['userRatio'] = train.groupby('userID').answerCode.transform(percentile)\n",
    "print(f'[INFO] Done!!\\n')\n",
    "\n",
    "feature_by_test = train.drop(['assessmentItemID', 'Timestamp', 'testId', 'answerCode'], axis=1)"
   ]
  },
  {
   "cell_type": "code",
   "execution_count": 15,
   "metadata": {},
   "outputs": [
    {
     "name": "stderr",
     "output_type": "stream",
     "text": [
      "100%|██████████| 9/9 [00:00<00:00, 75.80it/s]"
     ]
    },
    {
     "name": "stdout",
     "output_type": "stream",
     "text": [
      "[INFO] Labeling for Tag Level...\n",
      "[INFO] tag mean ratio: 61.61%\n",
      "[INFO] diff min(-44.01%), diff max(35.68%)\n",
      "\n",
      "[DEBUG] -50% < diff <= -40%  |  Level: 9\n",
      "[DEBUG] -40% < diff <= -30%  |  Level: 8\n",
      "[DEBUG] -30% < diff <= -20%  |  Level: 7\n",
      "[DEBUG] -20% < diff <= -10%  |  Level: 6\n",
      "[DEBUG] -10% < diff <=   0%  |  Level: 5\n",
      "[DEBUG]   0% < diff <=  10%  |  Level: 4\n",
      "[DEBUG]  10% < diff <=  20%  |  Level: 3\n",
      "[DEBUG]  20% < diff <=  30%  |  Level: 2\n",
      "[DEBUG]  30% < diff <=  40%  |  Level: 1\n",
      "\n",
      "[INFO] Done!!\n",
      "[INFO] Check all Tag Level: [1.0, 2.0, 3.0, 4.0, 5.0, 6.0, 7.0, 8.0, 9.0]\n",
      "\n"
     ]
    },
    {
     "name": "stderr",
     "output_type": "stream",
     "text": [
      "\n"
     ]
    }
   ],
   "source": [
    "# Tag LV\n",
    "tag_mean_ratio = round(feature_by_test.groupby('KnowledgeTag').mean()['tagRatio'].mean(), 2)\n",
    "diff =  feature_by_test['tagRatio'] - tag_mean_ratio\n",
    "pre_std = int(diff.min()//10)*10\n",
    "last_std = int(diff.max()//10+1)*10\n",
    "LV = (last_std - pre_std)//10\n",
    "\n",
    "print('[INFO] Labeling for Tag Level...')\n",
    "print(f'[INFO] tag mean ratio: {tag_mean_ratio}%')\n",
    "print(f'[INFO] diff min({round(diff.min(), 2)}%), diff max({round(diff.max(), 2)}%)\\n')\n",
    "\n",
    "for std in tqdm(range(pre_std+10, last_std+1, 10)):\n",
    "    print(f'[DEBUG] {pre_std:3d}% < diff <= {std:3d}%  |  Level: {LV}')\n",
    "    idx = (pre_std < diff) & (diff <= std)\n",
    "    feature_by_test.loc[idx, 'tagLV'] = LV\n",
    "    pre_std = std\n",
    "    LV -= 1\n",
    "\n",
    "print()\n",
    "print('[INFO] Done!!')\n",
    "print(f'[INFO] Check all Tag Level: {sorted(feature_by_test[\"tagLV\"].unique())}\\n')"
   ]
  },
  {
   "cell_type": "code",
   "execution_count": 16,
   "metadata": {},
   "outputs": [
    {
     "name": "stderr",
     "output_type": "stream",
     "text": [
      " 53%|█████▎    | 10/19 [00:00<00:00, 93.25it/s]"
     ]
    },
    {
     "name": "stdout",
     "output_type": "stream",
     "text": [
      "[INFO] Labeling for User Level by Tag...\n",
      "[INFO] diff min(-97.29%), diff max(82.4%)\n",
      "\n",
      "[DEBUG] -100% < diff <= -90%  |  Level: 1\n",
      "[DEBUG] -90% < diff <= -80%  |  Level: 2\n",
      "[DEBUG] -80% < diff <= -70%  |  Level: 3\n",
      "[DEBUG] -70% < diff <= -60%  |  Level: 4\n",
      "[DEBUG] -60% < diff <= -50%  |  Level: 5\n",
      "[DEBUG] -50% < diff <= -40%  |  Level: 6\n",
      "[DEBUG] -40% < diff <= -30%  |  Level: 7\n",
      "[DEBUG] -30% < diff <= -20%  |  Level: 8\n",
      "[DEBUG] -20% < diff <= -10%  |  Level: 9\n",
      "[DEBUG] -10% < diff <=   0%  |  Level: 10\n",
      "[DEBUG]   0% < diff <=  10%  |  Level: 11\n",
      "[DEBUG]  10% < diff <=  20%  |  Level: 12\n",
      "[DEBUG]  20% < diff <=  30%  |  Level: 13\n",
      "[DEBUG]  30% < diff <=  40%  |  Level: 14\n",
      "[DEBUG]  40% < diff <=  50%  |  Level: 15\n",
      "[DEBUG]  50% < diff <=  60%  |  Level: 16\n"
     ]
    },
    {
     "name": "stderr",
     "output_type": "stream",
     "text": [
      "100%|██████████| 19/19 [00:00<00:00, 89.68it/s]"
     ]
    },
    {
     "name": "stdout",
     "output_type": "stream",
     "text": [
      "[DEBUG]  60% < diff <=  70%  |  Level: 17\n",
      "[DEBUG]  70% < diff <=  80%  |  Level: 18\n",
      "[DEBUG]  80% < diff <=  90%  |  Level: 19\n",
      "\n",
      "[INFO] Done!!\n",
      "[INFO] Check all User Level: [1.0, 2.0, 3.0, 4.0, 5.0, 6.0, 7.0, 8.0, 9.0, 10.0, 11.0, 12.0, 13.0, 14.0, 15.0, 16.0, 17.0, 18.0, 19.0]\n",
      "\n"
     ]
    },
    {
     "name": "stderr",
     "output_type": "stream",
     "text": [
      "\n"
     ]
    }
   ],
   "source": [
    "# User LV by Tag\n",
    "diff =  feature_by_test['userBytagRatio'] - feature_by_test['tagRatio']\n",
    "pre_std = int(diff.min()//10)*10\n",
    "last_std = int(diff.max()//10+1)*10\n",
    "LV = 1\n",
    "\n",
    "print('[INFO] Labeling for User Level by Tag...')\n",
    "print(f'[INFO] diff min({round(diff.min(), 2)}%), diff max({round(diff.max(), 2)}%)\\n')\n",
    "\n",
    "for std in tqdm(range(pre_std+10, last_std+1, 10)):\n",
    "    print(f'[DEBUG] {pre_std:3d}% < diff <= {std:3d}%  |  Level: {LV}')\n",
    "    idx = (pre_std < diff) & (diff <= std)\n",
    "    feature_by_test.loc[idx, 'userLV'] = LV\n",
    "    pre_std = std\n",
    "    LV += 1\n",
    "\n",
    "print()\n",
    "print('[INFO] Done!!')\n",
    "print(f'[INFO] Check all User Level: {sorted(feature_by_test[\"userLV\"].unique())}\\n')"
   ]
  },
  {
   "cell_type": "code",
   "execution_count": 17,
   "metadata": {},
   "outputs": [
    {
     "name": "stdout",
     "output_type": "stream",
     "text": [
      "[DEBUG] Labeling for Total User Level (tagLV x userLV) ...\n",
      "[INFO] Done!!\n",
      "[INFO] Num of User Level: 67\n",
      "[INFO] Check all User Level: [1.0, 2.0, 3.0, 4.0, 5.0, 6.0, 7.0, 8.0, 9.0, 10.0, 11.0, 12.0, 14.0, 15.0, 16.0, 18.0, 20.0, 21.0, 22.0, 24.0, 25.0, 27.0, 28.0, 30.0, 32.0, 33.0, 35.0, 36.0, 39.0, 40.0, 42.0, 44.0, 45.0, 48.0, 49.0, 50.0, 52.0, 54.0, 55.0, 56.0, 60.0, 63.0, 64.0, 65.0, 66.0, 70.0, 72.0, 75.0, 77.0, 78.0, 80.0, 81.0, 84.0, 88.0, 90.0, 91.0, 96.0, 98.0, 104.0, 105.0, 112.0, 119.0, 120.0, 126.0, 136.0, 144.0, 171.0]\n",
      "\n"
     ]
    }
   ],
   "source": [
    "print('[DEBUG] Labeling for Total User Level (tagLV x userLV) ...')\n",
    "feature_by_test['userLVbyTag'] = feature_by_test['tagLV']*feature_by_test['userLV']\n",
    "print('[INFO] Done!!')\n",
    "print(f'[INFO] Num of User Level: {len(feature_by_test[\"userLVbyTag\"].unique())}')\n",
    "print(f'[INFO] Check all User Level: {sorted(feature_by_test[\"userLVbyTag\"].unique())}\\n')\n",
    "\n",
    "warnings.filterwarnings(action='default')"
   ]
  },
  {
   "cell_type": "code",
   "execution_count": 18,
   "metadata": {},
   "outputs": [
    {
     "name": "stdout",
     "output_type": "stream",
     "text": [
      "[DEBUG] Labeling for User Average Level ...\n"
     ]
    },
    {
     "name": "stderr",
     "output_type": "stream",
     "text": [
      "100%|██████████| 7442/7442 [00:20<00:00, 363.27it/s]"
     ]
    },
    {
     "name": "stdout",
     "output_type": "stream",
     "text": [
      "[INFO] Done!!\n",
      "[INFO] Num of User AVG Levels: 72\n",
      "[INFO] Level(min): 11.0, Level(max): 91.0\n",
      "[INFO] Check all User AVG Level: [11.0, 12.0, 15.0, 16.0, 17.0, 18.0, 19.0, 20.0, 21.0, 22.0, 23.0, 24.0, 25.0, 26.0, 27.0, 28.0, 29.0, 30.0, 31.0, 32.0, 33.0, 34.0, 35.0, 36.0, 37.0, 38.0, 39.0, 40.0, 41.0, 42.0, 43.0, 44.0, 45.0, 46.0, 47.0, 48.0, 49.0, 50.0, 51.0, 52.0, 53.0, 54.0, 55.0, 56.0, 57.0, 58.0, 59.0, 60.0, 61.0, 62.0, 63.0, 64.0, 65.0, 66.0, 67.0, 68.0, 69.0, 70.0, 71.0, 72.0, 73.0, 74.0, 75.0, 76.0, 77.0, 78.0, 79.0, 80.0, 81.0, 82.0, 84.0, 91.0]\n",
      "\n"
     ]
    },
    {
     "name": "stderr",
     "output_type": "stream",
     "text": [
      "\n"
     ]
    }
   ],
   "source": [
    "print(f'[DEBUG] Labeling for User Average Level ...')\n",
    "user_grouby = feature_by_test.groupby('userID').apply(avgLV)\n",
    "for uid in tqdm(user_grouby.index):\n",
    "    feature_by_test.loc[feature_by_test['userID']==uid, 'userLVbyTagAVG'] = user_grouby.iloc[uid]\n",
    "levels = feature_by_test['userLVbyTagAVG'].unique()\n",
    "print(f'[INFO] Done!!')\n",
    "print(f'[INFO] Num of User AVG Levels: {len(levels)}')\n",
    "print(f'[INFO] Level(min): {min(levels)}, Level(max): {max(levels)}')\n",
    "print(f'[INFO] Check all User AVG Level: {sorted(levels)}\\n')"
   ]
  },
  {
   "cell_type": "code",
   "execution_count": 24,
   "metadata": {},
   "outputs": [
    {
     "data": {
      "text/plain": [
       "67"
      ]
     },
     "execution_count": 24,
     "metadata": {},
     "output_type": "execute_result"
    }
   ],
   "source": [
    "len(feature_by_test['userLVbyTag'].unique())"
   ]
  },
  {
   "cell_type": "code",
   "execution_count": 19,
   "metadata": {},
   "outputs": [
    {
     "name": "stderr",
     "output_type": "stream",
     "text": [
      " 33%|███▎      | 1/3 [00:00<00:00,  5.54it/s]"
     ]
    },
    {
     "name": "stdout",
     "output_type": "stream",
     "text": [
      "[DEBUG] Merge with Original Dataset ...\n"
     ]
    },
    {
     "name": "stderr",
     "output_type": "stream",
     "text": [
      "100%|██████████| 3/3 [00:00<00:00,  5.67it/s]\n"
     ]
    }
   ],
   "source": [
    "print(f'[DEBUG] Merge with Original Dataset ...')\n",
    "idx = feature_by_test.index\n",
    "columns = ['tagLV', 'userLVbyTagAVG', 'userLVbyTag']\n",
    "for column in tqdm(columns):\n",
    "    df.loc[idx, column] = feature_by_test[column]"
   ]
  },
  {
   "cell_type": "code",
   "execution_count": 20,
   "metadata": {},
   "outputs": [
    {
     "data": {
      "text/html": [
       "<div>\n",
       "<style scoped>\n",
       "    .dataframe tbody tr th:only-of-type {\n",
       "        vertical-align: middle;\n",
       "    }\n",
       "\n",
       "    .dataframe tbody tr th {\n",
       "        vertical-align: top;\n",
       "    }\n",
       "\n",
       "    .dataframe thead th {\n",
       "        text-align: right;\n",
       "    }\n",
       "</style>\n",
       "<table border=\"1\" class=\"dataframe\">\n",
       "  <thead>\n",
       "    <tr style=\"text-align: right;\">\n",
       "      <th></th>\n",
       "      <th>userID</th>\n",
       "      <th>assessmentItemID</th>\n",
       "      <th>testId</th>\n",
       "      <th>answerCode</th>\n",
       "      <th>Timestamp</th>\n",
       "      <th>KnowledgeTag</th>\n",
       "      <th>dataset</th>\n",
       "      <th>tagLV</th>\n",
       "      <th>userLVbyTagAVG</th>\n",
       "      <th>userLVbyTag</th>\n",
       "    </tr>\n",
       "  </thead>\n",
       "  <tbody>\n",
       "    <tr>\n",
       "      <th>0</th>\n",
       "      <td>0</td>\n",
       "      <td>A060001001</td>\n",
       "      <td>A060000001</td>\n",
       "      <td>1</td>\n",
       "      <td>2020-03-24 00:17:11</td>\n",
       "      <td>7224</td>\n",
       "      <td>1</td>\n",
       "      <td>1.0</td>\n",
       "      <td>49.0</td>\n",
       "      <td>11.0</td>\n",
       "    </tr>\n",
       "    <tr>\n",
       "      <th>1</th>\n",
       "      <td>0</td>\n",
       "      <td>A060001002</td>\n",
       "      <td>A060000001</td>\n",
       "      <td>1</td>\n",
       "      <td>2020-03-24 00:17:14</td>\n",
       "      <td>7225</td>\n",
       "      <td>1</td>\n",
       "      <td>1.0</td>\n",
       "      <td>49.0</td>\n",
       "      <td>11.0</td>\n",
       "    </tr>\n",
       "    <tr>\n",
       "      <th>2</th>\n",
       "      <td>0</td>\n",
       "      <td>A060001003</td>\n",
       "      <td>A060000001</td>\n",
       "      <td>1</td>\n",
       "      <td>2020-03-24 00:17:22</td>\n",
       "      <td>7225</td>\n",
       "      <td>1</td>\n",
       "      <td>1.0</td>\n",
       "      <td>49.0</td>\n",
       "      <td>11.0</td>\n",
       "    </tr>\n",
       "    <tr>\n",
       "      <th>3</th>\n",
       "      <td>0</td>\n",
       "      <td>A060001004</td>\n",
       "      <td>A060000001</td>\n",
       "      <td>1</td>\n",
       "      <td>2020-03-24 00:17:29</td>\n",
       "      <td>7225</td>\n",
       "      <td>1</td>\n",
       "      <td>1.0</td>\n",
       "      <td>49.0</td>\n",
       "      <td>11.0</td>\n",
       "    </tr>\n",
       "    <tr>\n",
       "      <th>4</th>\n",
       "      <td>0</td>\n",
       "      <td>A060001005</td>\n",
       "      <td>A060000001</td>\n",
       "      <td>1</td>\n",
       "      <td>2020-03-24 00:17:36</td>\n",
       "      <td>7225</td>\n",
       "      <td>1</td>\n",
       "      <td>1.0</td>\n",
       "      <td>49.0</td>\n",
       "      <td>11.0</td>\n",
       "    </tr>\n",
       "    <tr>\n",
       "      <th>...</th>\n",
       "      <td>...</td>\n",
       "      <td>...</td>\n",
       "      <td>...</td>\n",
       "      <td>...</td>\n",
       "      <td>...</td>\n",
       "      <td>...</td>\n",
       "      <td>...</td>\n",
       "      <td>...</td>\n",
       "      <td>...</td>\n",
       "      <td>...</td>\n",
       "    </tr>\n",
       "    <tr>\n",
       "      <th>2526695</th>\n",
       "      <td>7441</td>\n",
       "      <td>A030071005</td>\n",
       "      <td>A030000071</td>\n",
       "      <td>0</td>\n",
       "      <td>2020-06-05 06:50:21</td>\n",
       "      <td>438</td>\n",
       "      <td>1</td>\n",
       "      <td>4.0</td>\n",
       "      <td>38.0</td>\n",
       "      <td>24.0</td>\n",
       "    </tr>\n",
       "    <tr>\n",
       "      <th>2526696</th>\n",
       "      <td>7441</td>\n",
       "      <td>A040165001</td>\n",
       "      <td>A040000165</td>\n",
       "      <td>1</td>\n",
       "      <td>2020-08-21 01:06:39</td>\n",
       "      <td>8836</td>\n",
       "      <td>1</td>\n",
       "      <td>4.0</td>\n",
       "      <td>38.0</td>\n",
       "      <td>52.0</td>\n",
       "    </tr>\n",
       "    <tr>\n",
       "      <th>2526697</th>\n",
       "      <td>7441</td>\n",
       "      <td>A040165002</td>\n",
       "      <td>A040000165</td>\n",
       "      <td>1</td>\n",
       "      <td>2020-08-21 01:06:50</td>\n",
       "      <td>8836</td>\n",
       "      <td>1</td>\n",
       "      <td>4.0</td>\n",
       "      <td>38.0</td>\n",
       "      <td>52.0</td>\n",
       "    </tr>\n",
       "    <tr>\n",
       "      <th>2526698</th>\n",
       "      <td>7441</td>\n",
       "      <td>A040165003</td>\n",
       "      <td>A040000165</td>\n",
       "      <td>1</td>\n",
       "      <td>2020-08-21 01:07:36</td>\n",
       "      <td>8836</td>\n",
       "      <td>1</td>\n",
       "      <td>4.0</td>\n",
       "      <td>38.0</td>\n",
       "      <td>52.0</td>\n",
       "    </tr>\n",
       "    <tr>\n",
       "      <th>2526699</th>\n",
       "      <td>7441</td>\n",
       "      <td>A040165004</td>\n",
       "      <td>A040000165</td>\n",
       "      <td>1</td>\n",
       "      <td>2020-08-21 01:08:49</td>\n",
       "      <td>8836</td>\n",
       "      <td>1</td>\n",
       "      <td>4.0</td>\n",
       "      <td>38.0</td>\n",
       "      <td>52.0</td>\n",
       "    </tr>\n",
       "  </tbody>\n",
       "</table>\n",
       "<p>2526700 rows × 10 columns</p>\n",
       "</div>"
      ],
      "text/plain": [
       "         userID assessmentItemID      testId  answerCode            Timestamp  \\\n",
       "0             0       A060001001  A060000001           1  2020-03-24 00:17:11   \n",
       "1             0       A060001002  A060000001           1  2020-03-24 00:17:14   \n",
       "2             0       A060001003  A060000001           1  2020-03-24 00:17:22   \n",
       "3             0       A060001004  A060000001           1  2020-03-24 00:17:29   \n",
       "4             0       A060001005  A060000001           1  2020-03-24 00:17:36   \n",
       "...         ...              ...         ...         ...                  ...   \n",
       "2526695    7441       A030071005  A030000071           0  2020-06-05 06:50:21   \n",
       "2526696    7441       A040165001  A040000165           1  2020-08-21 01:06:39   \n",
       "2526697    7441       A040165002  A040000165           1  2020-08-21 01:06:50   \n",
       "2526698    7441       A040165003  A040000165           1  2020-08-21 01:07:36   \n",
       "2526699    7441       A040165004  A040000165           1  2020-08-21 01:08:49   \n",
       "\n",
       "         KnowledgeTag  dataset  tagLV  userLVbyTagAVG  userLVbyTag  \n",
       "0                7224        1    1.0            49.0         11.0  \n",
       "1                7225        1    1.0            49.0         11.0  \n",
       "2                7225        1    1.0            49.0         11.0  \n",
       "3                7225        1    1.0            49.0         11.0  \n",
       "4                7225        1    1.0            49.0         11.0  \n",
       "...               ...      ...    ...             ...          ...  \n",
       "2526695           438        1    4.0            38.0         24.0  \n",
       "2526696          8836        1    4.0            38.0         52.0  \n",
       "2526697          8836        1    4.0            38.0         52.0  \n",
       "2526698          8836        1    4.0            38.0         52.0  \n",
       "2526699          8836        1    4.0            38.0         52.0  \n",
       "\n",
       "[2526700 rows x 10 columns]"
      ]
     },
     "execution_count": 20,
     "metadata": {},
     "output_type": "execute_result"
    }
   ],
   "source": [
    "df"
   ]
  },
  {
   "cell_type": "code",
   "execution_count": 21,
   "metadata": {},
   "outputs": [
    {
     "data": {
      "text/plain": [
       "array([ 11.,  33.,  14.,  24.,  39.,  56.,  72.,  36.,  45.,  75.,  48.,\n",
       "        40.,  60.,  55.,  20.,  54.,  25.,  30.,  50.,  65.,  66.,  84.,\n",
       "        44.,  42.,  28.,  70.,  77.,  16.,  90.,  96.,  49.,  52.,  22.,\n",
       "        91.,  63.,   4.,  78.,  80.,  98., 119., 112.,  64., 105.,  27.,\n",
       "        35.,  18.,  21.,  32.,  12.,   9.,  nan, 136.,  10.,  15.,   8.,\n",
       "       144.,  81., 171.,   6., 120., 104.,   1.,   3., 126.,   2.,   7.,\n",
       "        88.,   5.])"
      ]
     },
     "execution_count": 21,
     "metadata": {},
     "output_type": "execute_result"
    }
   ],
   "source": [
    "df['userLVbyTag'].unique()"
   ]
  },
  {
   "cell_type": "code",
   "execution_count": 25,
   "metadata": {},
   "outputs": [
    {
     "data": {
      "text/html": [
       "<div>\n",
       "<style scoped>\n",
       "    .dataframe tbody tr th:only-of-type {\n",
       "        vertical-align: middle;\n",
       "    }\n",
       "\n",
       "    .dataframe tbody tr th {\n",
       "        vertical-align: top;\n",
       "    }\n",
       "\n",
       "    .dataframe thead th {\n",
       "        text-align: right;\n",
       "    }\n",
       "</style>\n",
       "<table border=\"1\" class=\"dataframe\">\n",
       "  <thead>\n",
       "    <tr style=\"text-align: right;\">\n",
       "      <th></th>\n",
       "      <th>userID</th>\n",
       "      <th>assessmentItemID</th>\n",
       "      <th>testId</th>\n",
       "      <th>answerCode</th>\n",
       "      <th>Timestamp</th>\n",
       "      <th>KnowledgeTag</th>\n",
       "      <th>dataset</th>\n",
       "      <th>tagLV</th>\n",
       "      <th>userLVbyTagAVG</th>\n",
       "      <th>userLVbyTag</th>\n",
       "    </tr>\n",
       "  </thead>\n",
       "  <tbody>\n",
       "    <tr>\n",
       "      <th>2989</th>\n",
       "      <td>3</td>\n",
       "      <td>A050133008</td>\n",
       "      <td>A050000133</td>\n",
       "      <td>-1</td>\n",
       "      <td>2020-10-26 13:13:57</td>\n",
       "      <td>5289</td>\n",
       "      <td>2</td>\n",
       "      <td>NaN</td>\n",
       "      <td>NaN</td>\n",
       "      <td>NaN</td>\n",
       "    </tr>\n",
       "    <tr>\n",
       "      <th>3660</th>\n",
       "      <td>4</td>\n",
       "      <td>A070146008</td>\n",
       "      <td>A070000146</td>\n",
       "      <td>-1</td>\n",
       "      <td>2020-12-27 02:47:54</td>\n",
       "      <td>9080</td>\n",
       "      <td>2</td>\n",
       "      <td>NaN</td>\n",
       "      <td>NaN</td>\n",
       "      <td>NaN</td>\n",
       "    </tr>\n",
       "    <tr>\n",
       "      <th>10860</th>\n",
       "      <td>13</td>\n",
       "      <td>A070111008</td>\n",
       "      <td>A070000111</td>\n",
       "      <td>-1</td>\n",
       "      <td>2020-12-27 04:35:09</td>\n",
       "      <td>9660</td>\n",
       "      <td>2</td>\n",
       "      <td>NaN</td>\n",
       "      <td>NaN</td>\n",
       "      <td>NaN</td>\n",
       "    </tr>\n",
       "    <tr>\n",
       "      <th>15278</th>\n",
       "      <td>17</td>\n",
       "      <td>A090064006</td>\n",
       "      <td>A090000064</td>\n",
       "      <td>-1</td>\n",
       "      <td>2020-10-30 05:48:37</td>\n",
       "      <td>2611</td>\n",
       "      <td>2</td>\n",
       "      <td>NaN</td>\n",
       "      <td>NaN</td>\n",
       "      <td>NaN</td>\n",
       "    </tr>\n",
       "    <tr>\n",
       "      <th>23531</th>\n",
       "      <td>26</td>\n",
       "      <td>A060135007</td>\n",
       "      <td>A060000135</td>\n",
       "      <td>-1</td>\n",
       "      <td>2020-10-23 11:44:18</td>\n",
       "      <td>1422</td>\n",
       "      <td>2</td>\n",
       "      <td>NaN</td>\n",
       "      <td>NaN</td>\n",
       "      <td>NaN</td>\n",
       "    </tr>\n",
       "    <tr>\n",
       "      <th>...</th>\n",
       "      <td>...</td>\n",
       "      <td>...</td>\n",
       "      <td>...</td>\n",
       "      <td>...</td>\n",
       "      <td>...</td>\n",
       "      <td>...</td>\n",
       "      <td>...</td>\n",
       "      <td>...</td>\n",
       "      <td>...</td>\n",
       "      <td>...</td>\n",
       "    </tr>\n",
       "    <tr>\n",
       "      <th>2525938</th>\n",
       "      <td>7395</td>\n",
       "      <td>A040122005</td>\n",
       "      <td>A040000122</td>\n",
       "      <td>-1</td>\n",
       "      <td>2020-09-08 02:05:20</td>\n",
       "      <td>10615</td>\n",
       "      <td>2</td>\n",
       "      <td>NaN</td>\n",
       "      <td>NaN</td>\n",
       "      <td>NaN</td>\n",
       "    </tr>\n",
       "    <tr>\n",
       "      <th>2526081</th>\n",
       "      <td>7404</td>\n",
       "      <td>A030111005</td>\n",
       "      <td>A030000111</td>\n",
       "      <td>-1</td>\n",
       "      <td>2020-10-13 09:49:18</td>\n",
       "      <td>7636</td>\n",
       "      <td>2</td>\n",
       "      <td>NaN</td>\n",
       "      <td>NaN</td>\n",
       "      <td>NaN</td>\n",
       "    </tr>\n",
       "    <tr>\n",
       "      <th>2526282</th>\n",
       "      <td>7416</td>\n",
       "      <td>A050193004</td>\n",
       "      <td>A050000193</td>\n",
       "      <td>-1</td>\n",
       "      <td>2020-10-04 02:44:41</td>\n",
       "      <td>10402</td>\n",
       "      <td>2</td>\n",
       "      <td>NaN</td>\n",
       "      <td>NaN</td>\n",
       "      <td>NaN</td>\n",
       "    </tr>\n",
       "    <tr>\n",
       "      <th>2526297</th>\n",
       "      <td>7417</td>\n",
       "      <td>A050193004</td>\n",
       "      <td>A050000193</td>\n",
       "      <td>-1</td>\n",
       "      <td>2020-09-06 13:09:15</td>\n",
       "      <td>10402</td>\n",
       "      <td>2</td>\n",
       "      <td>NaN</td>\n",
       "      <td>NaN</td>\n",
       "      <td>NaN</td>\n",
       "    </tr>\n",
       "    <tr>\n",
       "      <th>2526675</th>\n",
       "      <td>7439</td>\n",
       "      <td>A040130005</td>\n",
       "      <td>A040000130</td>\n",
       "      <td>-1</td>\n",
       "      <td>2020-10-14 23:10:03</td>\n",
       "      <td>8832</td>\n",
       "      <td>2</td>\n",
       "      <td>NaN</td>\n",
       "      <td>NaN</td>\n",
       "      <td>NaN</td>\n",
       "    </tr>\n",
       "  </tbody>\n",
       "</table>\n",
       "<p>744 rows × 10 columns</p>\n",
       "</div>"
      ],
      "text/plain": [
       "         userID assessmentItemID      testId  answerCode            Timestamp  \\\n",
       "2989          3       A050133008  A050000133          -1  2020-10-26 13:13:57   \n",
       "3660          4       A070146008  A070000146          -1  2020-12-27 02:47:54   \n",
       "10860        13       A070111008  A070000111          -1  2020-12-27 04:35:09   \n",
       "15278        17       A090064006  A090000064          -1  2020-10-30 05:48:37   \n",
       "23531        26       A060135007  A060000135          -1  2020-10-23 11:44:18   \n",
       "...         ...              ...         ...         ...                  ...   \n",
       "2525938    7395       A040122005  A040000122          -1  2020-09-08 02:05:20   \n",
       "2526081    7404       A030111005  A030000111          -1  2020-10-13 09:49:18   \n",
       "2526282    7416       A050193004  A050000193          -1  2020-10-04 02:44:41   \n",
       "2526297    7417       A050193004  A050000193          -1  2020-09-06 13:09:15   \n",
       "2526675    7439       A040130005  A040000130          -1  2020-10-14 23:10:03   \n",
       "\n",
       "         KnowledgeTag  dataset  tagLV  userLVbyTagAVG  userLVbyTag  \n",
       "2989             5289        2    NaN             NaN          NaN  \n",
       "3660             9080        2    NaN             NaN          NaN  \n",
       "10860            9660        2    NaN             NaN          NaN  \n",
       "15278            2611        2    NaN             NaN          NaN  \n",
       "23531            1422        2    NaN             NaN          NaN  \n",
       "...               ...      ...    ...             ...          ...  \n",
       "2525938         10615        2    NaN             NaN          NaN  \n",
       "2526081          7636        2    NaN             NaN          NaN  \n",
       "2526282         10402        2    NaN             NaN          NaN  \n",
       "2526297         10402        2    NaN             NaN          NaN  \n",
       "2526675          8832        2    NaN             NaN          NaN  \n",
       "\n",
       "[744 rows x 10 columns]"
      ]
     },
     "execution_count": 25,
     "metadata": {},
     "output_type": "execute_result"
    }
   ],
   "source": [
    "df[df['answerCode']<0]"
   ]
  },
  {
   "cell_type": "code",
   "execution_count": 36,
   "metadata": {},
   "outputs": [
    {
     "data": {
      "text/plain": [
       "313537   NaN\n",
       "Name: userLVbyTag, dtype: float64"
      ]
     },
     "execution_count": 36,
     "metadata": {},
     "output_type": "execute_result"
    }
   ],
   "source": [
    "df[(df['userID']==385)&(df['KnowledgeTag']==9075)]['userLVbyTag']"
   ]
  },
  {
   "cell_type": "code",
   "execution_count": 34,
   "metadata": {},
   "outputs": [
    {
     "name": "stderr",
     "output_type": "stream",
     "text": [
      "100%|██████████| 744/744 [00:05<00:00, 146.45it/s]\n"
     ]
    },
    {
     "data": {
      "text/plain": [
       "[(385, 9075),\n",
       " (499, 4967),\n",
       " (616, 9125),\n",
       " (617, 9125),\n",
       " (694, 9926),\n",
       " (794, 9075),\n",
       " (991, 9122),\n",
       " (1044, 9125),\n",
       " (1295, 7172),\n",
       " (1331, 2118),\n",
       " (1390, 9125),\n",
       " (1628, 10841),\n",
       " (1783, 8421),\n",
       " (2162, 1875),\n",
       " (2187, 1875),\n",
       " (2282, 9125),\n",
       " (3198, 9075),\n",
       " (3268, 9075),\n",
       " (3466, 9075),\n",
       " (3533, 9125),\n",
       " (3679, 7172),\n",
       " (3754, 9125),\n",
       " (3872, 9125),\n",
       " (3981, 7862),\n",
       " (4586, 435),\n",
       " (4870, 9125),\n",
       " (4887, 1875),\n",
       " (4969, 9125),\n",
       " (5704, 10841),\n",
       " (5744, 9090),\n",
       " (5780, 2118),\n",
       " (5885, 8244),\n",
       " (5977, 435),\n",
       " (6119, 435),\n",
       " (6159, 9075),\n",
       " (6296, 10396),\n",
       " (6436, 7862),\n",
       " (6607, 1201),\n",
       " (6641, 1120),\n",
       " (6689, 435),\n",
       " (6721, 441),\n",
       " (6732, 7866),\n",
       " (6830, 9125),\n",
       " (6946, 454),\n",
       " (7042, 1464),\n",
       " (7058, 9125),\n",
       " (7382, 441)]"
      ]
     },
     "execution_count": 34,
     "metadata": {},
     "output_type": "execute_result"
    }
   ],
   "source": [
    "test = df[df['answerCode']<0]\n",
    "idx_list = []\n",
    "for idx in tqdm(test.index):\n",
    "    uid = test.loc[idx, 'userID']\n",
    "    tagid = test.loc[idx, 'KnowledgeTag']\n",
    "    if np.isnan(df[(df['userID']==uid)&(df['KnowledgeTag']==tagid)]['userLVbyTag'].iloc[0]):\n",
    "        idx_list.append((uid, tagid))\n",
    "idx_list"
   ]
  },
  {
   "cell_type": "code",
   "execution_count": 33,
   "metadata": {},
   "outputs": [
    {
     "data": {
      "text/plain": [
       "47"
      ]
     },
     "execution_count": 33,
     "metadata": {},
     "output_type": "execute_result"
    }
   ],
   "source": [
    "len(idx_list)"
   ]
  },
  {
   "cell_type": "code",
   "execution_count": 37,
   "metadata": {},
   "outputs": [
    {
     "name": "stderr",
     "output_type": "stream",
     "text": [
      "  1%|          | 5/744 [00:00<00:15, 48.44it/s]"
     ]
    },
    {
     "name": "stdout",
     "output_type": "stream",
     "text": [
      "\n",
      "[DEBUG] Feature Engineering to Inference data ...\n"
     ]
    },
    {
     "name": "stderr",
     "output_type": "stream",
     "text": [
      "100%|██████████| 744/744 [00:17<00:00, 43.58it/s]\n"
     ]
    }
   ],
   "source": [
    "print()\n",
    "print(f'[DEBUG] Feature Engineering to Inference data ...')\n",
    "test = df[df['answerCode']<0]\n",
    "for idx in tqdm(test.index):\n",
    "    uid = test.loc[idx, 'userID']\n",
    "    tagid = test.loc[idx, 'KnowledgeTag']\n",
    "    df.loc[idx, 'tagLV'] = df[df['KnowledgeTag']==tagid]['tagLV'].iloc[0]\n",
    "    avg = df[df['userID']==uid]['userLVbyTagAVG'].iloc[0]\n",
    "    if np.isnan(df[(df['userID']==uid)&(df['KnowledgeTag']==tagid)]['userLVbyTag'].iloc[0]):\n",
    "        df.loc[idx, 'userLVbyTag'] = avg\n",
    "    else:\n",
    "        df.loc[idx, 'userLVbyTag'] = df[(df['userID']==uid)&(df['KnowledgeTag']==tagid)]['userLVbyTag'].iloc[0]\n",
    "    df.loc[idx, 'userLVbyTagAVG'] = avg"
   ]
  },
  {
   "cell_type": "code",
   "execution_count": 55,
   "metadata": {},
   "outputs": [
    {
     "name": "stdout",
     "output_type": "stream",
     "text": [
      "{67.0, 37.0, 38.0, 69.0, 41.0, 43.0, 51.0, 57.0, 61.0, 62.0, 31.0}\n",
      "78 67\n"
     ]
    }
   ],
   "source": [
    "a = sorted(df['userLVbyTag'].unique())\n",
    "b = [1.0, 2.0, 3.0, 4.0, 5.0, 6.0, 7.0, 8.0, 9.0, 10.0, 11.0, 12.0, 14.0, 15.0, 16.0, 18.0, 20.0, 21.0, 22.0, 24.0, 25.0, 27.0, 28.0, 30.0, 32.0, 33.0, 35.0, 36.0, 39.0, 40.0, 42.0, 44.0, 45.0, 48.0, 49.0, 50.0, 52.0, 54.0, 55.0, 56.0, 60.0, 63.0, 64.0, 65.0, 66.0, 70.0, 72.0, 75.0, 77.0, 78.0, 80.0, 81.0, 84.0, 88.0, 90.0, 91.0, 96.0, 98.0, 104.0, 105.0, 112.0, 119.0, 120.0, 126.0, 136.0, 144.0, 171.0]\n",
    "\n",
    "a = set(a)\n",
    "b = set(b)\n",
    "\n",
    "print(a-b)\n",
    "print(len(a), len(b))"
   ]
  },
  {
   "cell_type": "code",
   "execution_count": 29,
   "metadata": {},
   "outputs": [],
   "source": [
    "print()\n",
    "print(f'[DEBUG] Saving ...')\n",
    "df = df.sort_values(by=[\"userID\", \"Timestamp\"]).reset_index(drop=True)\n",
    "tagLV_df = df.drop(['userLVbyTag', 'userLVbyTagAVG'], axis=1)\n",
    "userLV_df = df.drop(['tagLV', 'userLVbyTagAVG'], axis=1)\n",
    "userLVAVG_df = df.drop(['tagLV', 'userLVbyTag'], axis=1)\n",
    "tagLV_df.to_csv('/opt/ml/input/data/FE/tagLV.csv', index=False)\n",
    "userLV_df.to_csv('/opt/ml/input/data/FE/userLVbyTag.csv', index=False)\n",
    "userLVAVG_df.to_csv('/opt/ml/input/data/FE/userLVbyTagAVG.csv', index=False)\n",
    "print('[INFO] Done!!')\n",
    "print(f'[INFO] Check your \"/opt/ml/input/data/FE/tagLV.csv\"')\n",
    "print(f'[INFO] Check your \"/opt/ml/input/data/FE/userLVbyTag.csv\"')\n",
    "print(f'[INFO] Check your \"/opt/ml/input/data/FE/userLVbyTagAVG.csv\"')"
   ]
  },
  {
   "cell_type": "code",
   "execution_count": 44,
   "metadata": {},
   "outputs": [
    {
     "data": {
      "text/plain": [
       "62.43962216016231"
      ]
     },
     "execution_count": 44,
     "metadata": {},
     "output_type": "execute_result"
    }
   ],
   "source": [
    "corr_user_ratio =  feature_by_test.groupby(['userLVbyTag']).mean()\n",
    "corr_user_ratio = corr_user_ratio.reset_index()\n",
    "corr_user_ratio['userRatio'].mean()"
   ]
  },
  {
   "cell_type": "code",
   "execution_count": 45,
   "metadata": {},
   "outputs": [
    {
     "data": {
      "text/html": [
       "<div>\n",
       "<style scoped>\n",
       "    .dataframe tbody tr th:only-of-type {\n",
       "        vertical-align: middle;\n",
       "    }\n",
       "\n",
       "    .dataframe tbody tr th {\n",
       "        vertical-align: top;\n",
       "    }\n",
       "\n",
       "    .dataframe thead th {\n",
       "        text-align: right;\n",
       "    }\n",
       "</style>\n",
       "<table border=\"1\" class=\"dataframe\">\n",
       "  <thead>\n",
       "    <tr style=\"text-align: right;\">\n",
       "      <th></th>\n",
       "      <th>userLVbyTag</th>\n",
       "      <th>userID</th>\n",
       "      <th>KnowledgeTag</th>\n",
       "      <th>dataset</th>\n",
       "      <th>tagRatio</th>\n",
       "      <th>userBytagRatio</th>\n",
       "      <th>userRatio</th>\n",
       "      <th>tagLV</th>\n",
       "      <th>userLV</th>\n",
       "      <th>userAvgLV</th>\n",
       "    </tr>\n",
       "  </thead>\n",
       "  <tbody>\n",
       "    <tr>\n",
       "      <th>0</th>\n",
       "      <td>1.0</td>\n",
       "      <td>2773.694064</td>\n",
       "      <td>4655.136986</td>\n",
       "      <td>1.082192</td>\n",
       "      <td>93.775571</td>\n",
       "      <td>0.000000</td>\n",
       "      <td>48.521416</td>\n",
       "      <td>1.000000</td>\n",
       "      <td>1.000000</td>\n",
       "      <td>34.337900</td>\n",
       "    </tr>\n",
       "    <tr>\n",
       "      <th>1</th>\n",
       "      <td>2.0</td>\n",
       "      <td>2668.635593</td>\n",
       "      <td>5073.906780</td>\n",
       "      <td>1.067797</td>\n",
       "      <td>91.128814</td>\n",
       "      <td>0.847458</td>\n",
       "      <td>49.368136</td>\n",
       "      <td>1.864407</td>\n",
       "      <td>1.135593</td>\n",
       "      <td>33.610169</td>\n",
       "    </tr>\n",
       "    <tr>\n",
       "      <th>2</th>\n",
       "      <td>3.0</td>\n",
       "      <td>3310.914894</td>\n",
       "      <td>3910.148936</td>\n",
       "      <td>1.000000</td>\n",
       "      <td>93.017021</td>\n",
       "      <td>19.150213</td>\n",
       "      <td>59.015319</td>\n",
       "      <td>1.000000</td>\n",
       "      <td>3.000000</td>\n",
       "      <td>38.893617</td>\n",
       "    </tr>\n",
       "    <tr>\n",
       "      <th>3</th>\n",
       "      <td>4.0</td>\n",
       "      <td>2811.494673</td>\n",
       "      <td>5864.847035</td>\n",
       "      <td>1.096683</td>\n",
       "      <td>84.475656</td>\n",
       "      <td>0.321604</td>\n",
       "      <td>52.269761</td>\n",
       "      <td>1.990151</td>\n",
       "      <td>2.019698</td>\n",
       "      <td>35.286633</td>\n",
       "    </tr>\n",
       "    <tr>\n",
       "      <th>4</th>\n",
       "      <td>5.0</td>\n",
       "      <td>3534.565789</td>\n",
       "      <td>4772.960526</td>\n",
       "      <td>1.000000</td>\n",
       "      <td>92.678158</td>\n",
       "      <td>39.474211</td>\n",
       "      <td>55.082237</td>\n",
       "      <td>1.000000</td>\n",
       "      <td>5.000000</td>\n",
       "      <td>30.328947</td>\n",
       "    </tr>\n",
       "    <tr>\n",
       "      <th>...</th>\n",
       "      <td>...</td>\n",
       "      <td>...</td>\n",
       "      <td>...</td>\n",
       "      <td>...</td>\n",
       "      <td>...</td>\n",
       "      <td>...</td>\n",
       "      <td>...</td>\n",
       "      <td>...</td>\n",
       "      <td>...</td>\n",
       "      <td>...</td>\n",
       "    </tr>\n",
       "    <tr>\n",
       "      <th>62</th>\n",
       "      <td>120.0</td>\n",
       "      <td>2164.586207</td>\n",
       "      <td>2725.000000</td>\n",
       "      <td>1.172414</td>\n",
       "      <td>29.930000</td>\n",
       "      <td>75.000000</td>\n",
       "      <td>67.554828</td>\n",
       "      <td>8.000000</td>\n",
       "      <td>15.000000</td>\n",
       "      <td>56.931034</td>\n",
       "    </tr>\n",
       "    <tr>\n",
       "      <th>63</th>\n",
       "      <td>126.0</td>\n",
       "      <td>301.000000</td>\n",
       "      <td>8911.000000</td>\n",
       "      <td>1.000000</td>\n",
       "      <td>17.600000</td>\n",
       "      <td>50.000000</td>\n",
       "      <td>49.345000</td>\n",
       "      <td>9.000000</td>\n",
       "      <td>14.000000</td>\n",
       "      <td>48.500000</td>\n",
       "    </tr>\n",
       "    <tr>\n",
       "      <th>64</th>\n",
       "      <td>136.0</td>\n",
       "      <td>1776.776892</td>\n",
       "      <td>7048.019920</td>\n",
       "      <td>1.083665</td>\n",
       "      <td>30.811155</td>\n",
       "      <td>100.000000</td>\n",
       "      <td>65.450956</td>\n",
       "      <td>8.000000</td>\n",
       "      <td>17.000000</td>\n",
       "      <td>55.545817</td>\n",
       "    </tr>\n",
       "    <tr>\n",
       "      <th>65</th>\n",
       "      <td>144.0</td>\n",
       "      <td>1901.298995</td>\n",
       "      <td>8236.120603</td>\n",
       "      <td>1.082915</td>\n",
       "      <td>27.235729</td>\n",
       "      <td>100.000000</td>\n",
       "      <td>65.857060</td>\n",
       "      <td>8.000000</td>\n",
       "      <td>18.000000</td>\n",
       "      <td>54.989950</td>\n",
       "    </tr>\n",
       "    <tr>\n",
       "      <th>66</th>\n",
       "      <td>171.0</td>\n",
       "      <td>1067.523810</td>\n",
       "      <td>8911.000000</td>\n",
       "      <td>1.071429</td>\n",
       "      <td>17.600000</td>\n",
       "      <td>100.000000</td>\n",
       "      <td>63.464048</td>\n",
       "      <td>9.000000</td>\n",
       "      <td>19.000000</td>\n",
       "      <td>56.214286</td>\n",
       "    </tr>\n",
       "  </tbody>\n",
       "</table>\n",
       "<p>67 rows × 10 columns</p>\n",
       "</div>"
      ],
      "text/plain": [
       "    userLVbyTag       userID  KnowledgeTag   dataset   tagRatio  \\\n",
       "0           1.0  2773.694064   4655.136986  1.082192  93.775571   \n",
       "1           2.0  2668.635593   5073.906780  1.067797  91.128814   \n",
       "2           3.0  3310.914894   3910.148936  1.000000  93.017021   \n",
       "3           4.0  2811.494673   5864.847035  1.096683  84.475656   \n",
       "4           5.0  3534.565789   4772.960526  1.000000  92.678158   \n",
       "..          ...          ...           ...       ...        ...   \n",
       "62        120.0  2164.586207   2725.000000  1.172414  29.930000   \n",
       "63        126.0   301.000000   8911.000000  1.000000  17.600000   \n",
       "64        136.0  1776.776892   7048.019920  1.083665  30.811155   \n",
       "65        144.0  1901.298995   8236.120603  1.082915  27.235729   \n",
       "66        171.0  1067.523810   8911.000000  1.071429  17.600000   \n",
       "\n",
       "    userBytagRatio  userRatio     tagLV     userLV  userAvgLV  \n",
       "0         0.000000  48.521416  1.000000   1.000000  34.337900  \n",
       "1         0.847458  49.368136  1.864407   1.135593  33.610169  \n",
       "2        19.150213  59.015319  1.000000   3.000000  38.893617  \n",
       "3         0.321604  52.269761  1.990151   2.019698  35.286633  \n",
       "4        39.474211  55.082237  1.000000   5.000000  30.328947  \n",
       "..             ...        ...       ...        ...        ...  \n",
       "62       75.000000  67.554828  8.000000  15.000000  56.931034  \n",
       "63       50.000000  49.345000  9.000000  14.000000  48.500000  \n",
       "64      100.000000  65.450956  8.000000  17.000000  55.545817  \n",
       "65      100.000000  65.857060  8.000000  18.000000  54.989950  \n",
       "66      100.000000  63.464048  9.000000  19.000000  56.214286  \n",
       "\n",
       "[67 rows x 10 columns]"
      ]
     },
     "execution_count": 45,
     "metadata": {},
     "output_type": "execute_result"
    }
   ],
   "source": [
    "corr_user_ratio"
   ]
  },
  {
   "cell_type": "code",
   "execution_count": 47,
   "metadata": {},
   "outputs": [
    {
     "data": {
      "text/plain": [
       "Text(0.5, 1.0, '# of User Level Exposed - Answer Rate')"
      ]
     },
     "execution_count": 47,
     "metadata": {},
     "output_type": "execute_result"
    },
    {
     "data": {
      "image/png": "[encoded data removed]",
      "text/plain": [
       "<Figure size 360x360 with 1 Axes>"
      ]
     },
     "metadata": {
      "needs_background": "light"
     },
     "output_type": "display_data"
    }
   ],
   "source": [
    "g = sns.lmplot(\n",
    "    data=corr_user_ratio,\n",
    "    x = 'userLVbyTag',\n",
    "    y = 'userRatio',\n",
    "    scatter_kws={'alpha':0.5},\n",
    "    line_kws={\"color\": \"orange\"}\n",
    ")\n",
    "g.set_xlabels('# of User Level by Tag')\n",
    "g.set_ylabels('User Answer Rate')\n",
    "#g.set(xlim=(1, 120))\n",
    "\n",
    "ax = plt.gca()\n",
    "ax.set_title('# of User Level Exposed - Answer Rate')"
   ]
  },
  {
   "cell_type": "code",
   "execution_count": 2,
   "metadata": {},
   "outputs": [],
   "source": [
    "import pandas as pd\n",
    "userLVbyTag = pd.read_csv('/opt/ml/input/data/FE/userLVbyTag.csv')\n",
    "userLVbyTagAVG = pd.read_csv('/opt/ml/input/data/FE/userLVbyTagAVG.csv')"
   ]
  },
  {
   "cell_type": "code",
   "execution_count": 4,
   "metadata": {},
   "outputs": [
    {
     "data": {
      "text/plain": [
       "array([ 11.,  33.,  14.,  24.,  39.,  56.,  72.,  36.,  45.,  75.,  48.,\n",
       "        40.,  60.,  55.,  20.,  54.,  25.,  30.,  50.,  65.,  66.,  84.,\n",
       "        44.,  42.,  28.,  70.,  77.,  16.,  90.,  96.,  49.,  52.,  22.,\n",
       "        91.,  63.,   4.,  78.,  80.,  98., 119., 112.,  64., 105.,  27.,\n",
       "        35.,  18.,  21.,  32.,  12.,   9., 136.,  10.,  15.,   8., 144.,\n",
       "        81., 171.,   6., 120., 104.,   1.,   3., 126.,   2.,   7.,  nan,\n",
       "        88.,   5.])"
      ]
     },
     "execution_count": 4,
     "metadata": {},
     "output_type": "execute_result"
    }
   ],
   "source": [
    "userLVbyTag['userLVbyTag'].unique()"
   ]
  },
  {
   "cell_type": "code",
   "execution_count": 8,
   "metadata": {},
   "outputs": [
    {
     "data": {
      "text/html": [
       "<div>\n",
       "<style scoped>\n",
       "    .dataframe tbody tr th:only-of-type {\n",
       "        vertical-align: middle;\n",
       "    }\n",
       "\n",
       "    .dataframe tbody tr th {\n",
       "        vertical-align: top;\n",
       "    }\n",
       "\n",
       "    .dataframe thead th {\n",
       "        text-align: right;\n",
       "    }\n",
       "</style>\n",
       "<table border=\"1\" class=\"dataframe\">\n",
       "  <thead>\n",
       "    <tr style=\"text-align: right;\">\n",
       "      <th></th>\n",
       "      <th>userID</th>\n",
       "      <th>assessmentItemID</th>\n",
       "      <th>testId</th>\n",
       "      <th>answerCode</th>\n",
       "      <th>Timestamp</th>\n",
       "      <th>KnowledgeTag</th>\n",
       "      <th>dataset</th>\n",
       "      <th>userLVbyTagAVG</th>\n",
       "    </tr>\n",
       "  </thead>\n",
       "  <tbody>\n",
       "    <tr>\n",
       "      <th>0</th>\n",
       "      <td>0</td>\n",
       "      <td>A060001001</td>\n",
       "      <td>A060000001</td>\n",
       "      <td>1</td>\n",
       "      <td>2020-03-24 00:17:11</td>\n",
       "      <td>7224</td>\n",
       "      <td>1</td>\n",
       "      <td>49.0</td>\n",
       "    </tr>\n",
       "    <tr>\n",
       "      <th>1</th>\n",
       "      <td>0</td>\n",
       "      <td>A060001002</td>\n",
       "      <td>A060000001</td>\n",
       "      <td>1</td>\n",
       "      <td>2020-03-24 00:17:14</td>\n",
       "      <td>7225</td>\n",
       "      <td>1</td>\n",
       "      <td>49.0</td>\n",
       "    </tr>\n",
       "    <tr>\n",
       "      <th>2</th>\n",
       "      <td>0</td>\n",
       "      <td>A060001003</td>\n",
       "      <td>A060000001</td>\n",
       "      <td>1</td>\n",
       "      <td>2020-03-24 00:17:22</td>\n",
       "      <td>7225</td>\n",
       "      <td>1</td>\n",
       "      <td>49.0</td>\n",
       "    </tr>\n",
       "    <tr>\n",
       "      <th>3</th>\n",
       "      <td>0</td>\n",
       "      <td>A060001004</td>\n",
       "      <td>A060000001</td>\n",
       "      <td>1</td>\n",
       "      <td>2020-03-24 00:17:29</td>\n",
       "      <td>7225</td>\n",
       "      <td>1</td>\n",
       "      <td>49.0</td>\n",
       "    </tr>\n",
       "    <tr>\n",
       "      <th>4</th>\n",
       "      <td>0</td>\n",
       "      <td>A060001005</td>\n",
       "      <td>A060000001</td>\n",
       "      <td>1</td>\n",
       "      <td>2020-03-24 00:17:36</td>\n",
       "      <td>7225</td>\n",
       "      <td>1</td>\n",
       "      <td>49.0</td>\n",
       "    </tr>\n",
       "    <tr>\n",
       "      <th>...</th>\n",
       "      <td>...</td>\n",
       "      <td>...</td>\n",
       "      <td>...</td>\n",
       "      <td>...</td>\n",
       "      <td>...</td>\n",
       "      <td>...</td>\n",
       "      <td>...</td>\n",
       "      <td>...</td>\n",
       "    </tr>\n",
       "    <tr>\n",
       "      <th>2526695</th>\n",
       "      <td>7441</td>\n",
       "      <td>A030071005</td>\n",
       "      <td>A030000071</td>\n",
       "      <td>0</td>\n",
       "      <td>2020-06-05 06:50:21</td>\n",
       "      <td>438</td>\n",
       "      <td>1</td>\n",
       "      <td>38.0</td>\n",
       "    </tr>\n",
       "    <tr>\n",
       "      <th>2526696</th>\n",
       "      <td>7441</td>\n",
       "      <td>A040165001</td>\n",
       "      <td>A040000165</td>\n",
       "      <td>1</td>\n",
       "      <td>2020-08-21 01:06:39</td>\n",
       "      <td>8836</td>\n",
       "      <td>1</td>\n",
       "      <td>38.0</td>\n",
       "    </tr>\n",
       "    <tr>\n",
       "      <th>2526697</th>\n",
       "      <td>7441</td>\n",
       "      <td>A040165002</td>\n",
       "      <td>A040000165</td>\n",
       "      <td>1</td>\n",
       "      <td>2020-08-21 01:06:50</td>\n",
       "      <td>8836</td>\n",
       "      <td>1</td>\n",
       "      <td>38.0</td>\n",
       "    </tr>\n",
       "    <tr>\n",
       "      <th>2526698</th>\n",
       "      <td>7441</td>\n",
       "      <td>A040165003</td>\n",
       "      <td>A040000165</td>\n",
       "      <td>1</td>\n",
       "      <td>2020-08-21 01:07:36</td>\n",
       "      <td>8836</td>\n",
       "      <td>1</td>\n",
       "      <td>38.0</td>\n",
       "    </tr>\n",
       "    <tr>\n",
       "      <th>2526699</th>\n",
       "      <td>7441</td>\n",
       "      <td>A040165004</td>\n",
       "      <td>A040000165</td>\n",
       "      <td>1</td>\n",
       "      <td>2020-08-21 01:08:49</td>\n",
       "      <td>8836</td>\n",
       "      <td>1</td>\n",
       "      <td>38.0</td>\n",
       "    </tr>\n",
       "  </tbody>\n",
       "</table>\n",
       "<p>2526700 rows × 8 columns</p>\n",
       "</div>"
      ],
      "text/plain": [
       "         userID assessmentItemID      testId  answerCode            Timestamp  \\\n",
       "0             0       A060001001  A060000001           1  2020-03-24 00:17:11   \n",
       "1             0       A060001002  A060000001           1  2020-03-24 00:17:14   \n",
       "2             0       A060001003  A060000001           1  2020-03-24 00:17:22   \n",
       "3             0       A060001004  A060000001           1  2020-03-24 00:17:29   \n",
       "4             0       A060001005  A060000001           1  2020-03-24 00:17:36   \n",
       "...         ...              ...         ...         ...                  ...   \n",
       "2526695    7441       A030071005  A030000071           0  2020-06-05 06:50:21   \n",
       "2526696    7441       A040165001  A040000165           1  2020-08-21 01:06:39   \n",
       "2526697    7441       A040165002  A040000165           1  2020-08-21 01:06:50   \n",
       "2526698    7441       A040165003  A040000165           1  2020-08-21 01:07:36   \n",
       "2526699    7441       A040165004  A040000165           1  2020-08-21 01:08:49   \n",
       "\n",
       "         KnowledgeTag  dataset  userLVbyTagAVG  \n",
       "0                7224        1            49.0  \n",
       "1                7225        1            49.0  \n",
       "2                7225        1            49.0  \n",
       "3                7225        1            49.0  \n",
       "4                7225        1            49.0  \n",
       "...               ...      ...             ...  \n",
       "2526695           438        1            38.0  \n",
       "2526696          8836        1            38.0  \n",
       "2526697          8836        1            38.0  \n",
       "2526698          8836        1            38.0  \n",
       "2526699          8836        1            38.0  \n",
       "\n",
       "[2526700 rows x 8 columns]"
      ]
     },
     "execution_count": 8,
     "metadata": {},
     "output_type": "execute_result"
    }
   ],
   "source": [
    "userLVbyTagAVG"
   ]
  },
  {
   "cell_type": "code",
   "execution_count": 10,
   "metadata": {},
   "outputs": [
    {
     "data": {
      "text/plain": [
       "72"
      ]
     },
     "execution_count": 10,
     "metadata": {},
     "output_type": "execute_result"
    }
   ],
   "source": [
    "len(userLVbyTagAVG['userLVbyTagAVG'].unique())"
   ]
  },
  {
   "cell_type": "code",
   "execution_count": null,
   "metadata": {},
   "outputs": [],
   "source": []
  }
 ],
 "metadata": {
  "interpreter": {
   "hash": "d4d1e4263499bec80672ea0156c357c1ee493ec2b1c70f0acce89fc37c4a6abe"
  },
  "kernelspec": {
   "display_name": "Python 3.8.5 ('base')",
   "language": "python",
   "name": "python3"
  },
  "language_info": {
   "codemirror_mode": {
    "name": "ipython",
    "version": 3
   },
   "file_extension": ".py",
   "mimetype": "text/x-python",
   "name": "python",
   "nbconvert_exporter": "python",
   "pygments_lexer": "ipython3",
   "version": "3.8.5"
  },
  "orig_nbformat": 4
 },
 "nbformat": 4,
 "nbformat_minor": 2
}
