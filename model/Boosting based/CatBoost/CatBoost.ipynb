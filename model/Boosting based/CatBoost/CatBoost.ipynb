{
 "cells": [
  {
   "cell_type": "code",
   "execution_count": 1,
   "metadata": {},
   "outputs": [
    {
     "data": {
      "application/javascript": "\n            setTimeout(function() {\n                var nbb_cell_id = 1;\n                var nbb_unformatted_code = \"%load_ext nb_black\\n%load_ext lab_black\";\n                var nbb_formatted_code = \"%load_ext nb_black\\n%load_ext lab_black\";\n                var nbb_cells = Jupyter.notebook.get_cells();\n                for (var i = 0; i < nbb_cells.length; ++i) {\n                    if (nbb_cells[i].input_prompt_number == nbb_cell_id) {\n                        if (nbb_cells[i].get_text() == nbb_unformatted_code) {\n                             nbb_cells[i].set_text(nbb_formatted_code);\n                        }\n                        break;\n                    }\n                }\n            }, 500);\n            ",
      "text/plain": [
       "<IPython.core.display.Javascript object>"
      ]
     },
     "metadata": {},
     "output_type": "display_data"
    }
   ],
   "source": [
    "%load_ext nb_black\n",
    "%load_ext lab_black"
   ]
  },
  {
   "cell_type": "code",
   "execution_count": 2,
   "metadata": {},
   "outputs": [
    {
     "name": "stdout",
     "output_type": "stream",
     "text": [
      "Enabling notebook extension jupyter-js-widgets/extension...\n",
      "      - Validating: \u001b[32mOK\u001b[0m\n"
     ]
    },
    {
     "data": {
      "application/javascript": "\n            setTimeout(function() {\n                var nbb_cell_id = 2;\n                var nbb_unformatted_code = \"!jupyter nbextension enable --py widgetsnbextension\";\n                var nbb_formatted_code = \"!jupyter nbextension enable --py widgetsnbextension\";\n                var nbb_cells = Jupyter.notebook.get_cells();\n                for (var i = 0; i < nbb_cells.length; ++i) {\n                    if (nbb_cells[i].input_prompt_number == nbb_cell_id) {\n                        if (nbb_cells[i].get_text() == nbb_unformatted_code) {\n                             nbb_cells[i].set_text(nbb_formatted_code);\n                        }\n                        break;\n                    }\n                }\n            }, 500);\n            ",
      "text/plain": [
       "<IPython.core.display.Javascript object>"
      ]
     },
     "metadata": {},
     "output_type": "display_data"
    }
   ],
   "source": [
    "!jupyter nbextension enable --py widgetsnbextension"
   ]
  },
  {
   "cell_type": "markdown",
   "metadata": {},
   "source": [
    "# Cat Boost"
   ]
  },
  {
   "cell_type": "code",
   "execution_count": 3,
   "metadata": {},
   "outputs": [
    {
     "data": {
      "application/javascript": "\n            setTimeout(function() {\n                var nbb_cell_id = 3;\n                var nbb_unformatted_code = \"import pandas as pd\\nimport numpy as np\\nimport matplotlib.pyplot as plt\\nfrom IPython.display import display\\nimport seaborn as sns\\nimport os\\nimport random\\n\\nfrom catboost import CatBoostClassifier, Pool, metrics, cv\\nfrom sklearn import preprocessing\\nfrom sklearn.metrics import roc_auc_score\\nfrom sklearn.metrics import accuracy_score\\n\\nimport eli5\\nfrom eli5.sklearn import PermutationImportance\\n\\nimport warnings\\n\\nwarnings.filterwarnings(action=\\\"ignore\\\")  # \\uacbd\\uace0 \\ucd9c\\ub825 \\ubb34\\uc2dc\";\n                var nbb_formatted_code = \"import pandas as pd\\nimport numpy as np\\nimport matplotlib.pyplot as plt\\nfrom IPython.display import display\\nimport seaborn as sns\\nimport os\\nimport random\\n\\nfrom catboost import CatBoostClassifier, Pool, metrics, cv\\nfrom sklearn import preprocessing\\nfrom sklearn.metrics import roc_auc_score\\nfrom sklearn.metrics import accuracy_score\\n\\nimport eli5\\nfrom eli5.sklearn import PermutationImportance\\n\\nimport warnings\\n\\nwarnings.filterwarnings(action=\\\"ignore\\\")  # \\uacbd\\uace0 \\ucd9c\\ub825 \\ubb34\\uc2dc\";\n                var nbb_cells = Jupyter.notebook.get_cells();\n                for (var i = 0; i < nbb_cells.length; ++i) {\n                    if (nbb_cells[i].input_prompt_number == nbb_cell_id) {\n                        if (nbb_cells[i].get_text() == nbb_unformatted_code) {\n                             nbb_cells[i].set_text(nbb_formatted_code);\n                        }\n                        break;\n                    }\n                }\n            }, 500);\n            ",
      "text/plain": [
       "<IPython.core.display.Javascript object>"
      ]
     },
     "metadata": {},
     "output_type": "display_data"
    }
   ],
   "source": [
    "import pandas as pd\n",
    "import numpy as np\n",
    "import matplotlib.pyplot as plt\n",
    "from IPython.display import display\n",
    "import seaborn as sns\n",
    "import os\n",
    "import random\n",
    "\n",
    "from catboost import CatBoostClassifier, Pool, metrics, cv\n",
    "from sklearn import preprocessing\n",
    "from sklearn.metrics import roc_auc_score\n",
    "from sklearn.metrics import accuracy_score\n",
    "\n",
    "import eli5\n",
    "from eli5.sklearn import PermutationImportance\n",
    "\n",
    "import warnings\n",
    "\n",
    "warnings.filterwarnings(action=\"ignore\")  # 경고 출력 무시"
   ]
  },
  {
   "cell_type": "markdown",
   "metadata": {},
   "source": [
    "## 1. 데이터로딩"
   ]
  },
  {
   "cell_type": "code",
   "execution_count": 196,
   "metadata": {},
   "outputs": [
    {
     "data": {
      "application/javascript": "\n            setTimeout(function() {\n                var nbb_cell_id = 196;\n                var nbb_unformatted_code = \"data_dir = \\\"/opt/ml/input/data/\\\"  # \\uacbd\\ub85c\\ub294 \\uc0c1\\ud669\\uc5d0 \\ub9de\\ucdb0\\uc11c \\uc218\\uc815\\ud574\\uc8fc\\uc138\\uc694!\\ncsv_file_path = os.path.join(data_dir, \\\"all_feature_data.csv\\\")  # \\ub370\\uc774\\ud130\\ub294 \\ub300\\ud68c\\ud648\\ud398\\uc774\\uc9c0\\uc5d0\\uc11c \\ubc1b\\uc544\\uc8fc\\uc138\\uc694 :)\\ndf = pd.read_csv(csv_file_path)\\nground_truth = pd.read_csv(\\\"/opt/ml/workspace/submission_tester/ground_truth.csv\\\")\\n\\n# \\uc720\\uc800\\ubcc4 \\uc2dc\\ud000\\uc2a4\\ub97c \\uace0\\ub824\\ud558\\uae30 \\uc704\\ud574 \\uc544\\ub798\\uc640 \\uac19\\uc774 \\uc815\\ub82c\\ndf.sort_values(by=[\\\"userID\\\", \\\"Timestamp\\\"], inplace=True)\";\n                var nbb_formatted_code = \"data_dir = \\\"/opt/ml/input/data/\\\"  # \\uacbd\\ub85c\\ub294 \\uc0c1\\ud669\\uc5d0 \\ub9de\\ucdb0\\uc11c \\uc218\\uc815\\ud574\\uc8fc\\uc138\\uc694!\\ncsv_file_path = os.path.join(data_dir, \\\"all_feature_data.csv\\\")  # \\ub370\\uc774\\ud130\\ub294 \\ub300\\ud68c\\ud648\\ud398\\uc774\\uc9c0\\uc5d0\\uc11c \\ubc1b\\uc544\\uc8fc\\uc138\\uc694 :)\\ndf = pd.read_csv(csv_file_path)\\nground_truth = pd.read_csv(\\\"/opt/ml/workspace/submission_tester/ground_truth.csv\\\")\\n\\n# \\uc720\\uc800\\ubcc4 \\uc2dc\\ud000\\uc2a4\\ub97c \\uace0\\ub824\\ud558\\uae30 \\uc704\\ud574 \\uc544\\ub798\\uc640 \\uac19\\uc774 \\uc815\\ub82c\\ndf.sort_values(by=[\\\"userID\\\", \\\"Timestamp\\\"], inplace=True)\";\n                var nbb_cells = Jupyter.notebook.get_cells();\n                for (var i = 0; i < nbb_cells.length; ++i) {\n                    if (nbb_cells[i].input_prompt_number == nbb_cell_id) {\n                        if (nbb_cells[i].get_text() == nbb_unformatted_code) {\n                             nbb_cells[i].set_text(nbb_formatted_code);\n                        }\n                        break;\n                    }\n                }\n            }, 500);\n            ",
      "text/plain": [
       "<IPython.core.display.Javascript object>"
      ]
     },
     "metadata": {},
     "output_type": "display_data"
    }
   ],
   "source": [
    "data_dir = \"/opt/ml/input/data/\"  # 경로는 상황에 맞춰서 수정해주세요!\n",
    "csv_file_path = os.path.join(data_dir, \"all_feature_data.csv\")  # 데이터는 대회홈페이지에서 받아주세요 :)\n",
    "df = pd.read_csv(csv_file_path)\n",
    "\n",
    "\n",
    "# 유저별 시퀀스를 고려하기 위해 아래와 같이 정렬\n",
    "df.sort_values(by=[\"userID\", \"Timestamp\"], inplace=True)"
   ]
  },
  {
   "cell_type": "code",
   "execution_count": 202,
   "metadata": {},
   "outputs": [
    {
     "data": {
      "text/html": [
       "<div>\n",
       "<style scoped>\n",
       "    .dataframe tbody tr th:only-of-type {\n",
       "        vertical-align: middle;\n",
       "    }\n",
       "\n",
       "    .dataframe tbody tr th {\n",
       "        vertical-align: top;\n",
       "    }\n",
       "\n",
       "    .dataframe thead th {\n",
       "        text-align: right;\n",
       "    }\n",
       "</style>\n",
       "<table border=\"1\" class=\"dataframe\">\n",
       "  <thead>\n",
       "    <tr style=\"text-align: right;\">\n",
       "      <th></th>\n",
       "      <th>userID</th>\n",
       "      <th>assessmentItemID</th>\n",
       "      <th>testId</th>\n",
       "      <th>answerCode</th>\n",
       "      <th>Timestamp</th>\n",
       "      <th>KnowledgeTag</th>\n",
       "      <th>dataset</th>\n",
       "      <th>tagLV</th>\n",
       "      <th>tagMean</th>\n",
       "      <th>eloTest</th>\n",
       "      <th>...</th>\n",
       "      <th>bigClassElapsedTimeAvg</th>\n",
       "      <th>recCount</th>\n",
       "      <th>year</th>\n",
       "      <th>tagClass</th>\n",
       "      <th>GradeAcc</th>\n",
       "      <th>Grade_o</th>\n",
       "      <th>GradeCount</th>\n",
       "      <th>GradeElp</th>\n",
       "      <th>GradeMElp</th>\n",
       "      <th>RepeatedTime</th>\n",
       "    </tr>\n",
       "  </thead>\n",
       "  <tbody>\n",
       "    <tr>\n",
       "      <th>0</th>\n",
       "      <td>0</td>\n",
       "      <td>A060001001</td>\n",
       "      <td>A060000001</td>\n",
       "      <td>1</td>\n",
       "      <td>2020-03-24 00:17:11</td>\n",
       "      <td>7224</td>\n",
       "      <td>1</td>\n",
       "      <td>1.0</td>\n",
       "      <td>0.957333</td>\n",
       "      <td>0.962544</td>\n",
       "      <td>...</td>\n",
       "      <td>31</td>\n",
       "      <td>0</td>\n",
       "      <td>2020</td>\n",
       "      <td>108</td>\n",
       "      <td>0.0</td>\n",
       "      <td>0.0</td>\n",
       "      <td>0</td>\n",
       "      <td>0.0</td>\n",
       "      <td>0.00</td>\n",
       "      <td>0.000000</td>\n",
       "    </tr>\n",
       "    <tr>\n",
       "      <th>1</th>\n",
       "      <td>0</td>\n",
       "      <td>A060001002</td>\n",
       "      <td>A060000001</td>\n",
       "      <td>1</td>\n",
       "      <td>2020-03-24 00:17:14</td>\n",
       "      <td>7225</td>\n",
       "      <td>1</td>\n",
       "      <td>1.0</td>\n",
       "      <td>0.917067</td>\n",
       "      <td>0.962544</td>\n",
       "      <td>...</td>\n",
       "      <td>31</td>\n",
       "      <td>1</td>\n",
       "      <td>2020</td>\n",
       "      <td>108</td>\n",
       "      <td>1.0</td>\n",
       "      <td>1.0</td>\n",
       "      <td>1</td>\n",
       "      <td>3.0</td>\n",
       "      <td>3.00</td>\n",
       "      <td>1.386294</td>\n",
       "    </tr>\n",
       "    <tr>\n",
       "      <th>2</th>\n",
       "      <td>0</td>\n",
       "      <td>A060001003</td>\n",
       "      <td>A060000001</td>\n",
       "      <td>1</td>\n",
       "      <td>2020-03-24 00:17:22</td>\n",
       "      <td>7225</td>\n",
       "      <td>1</td>\n",
       "      <td>1.0</td>\n",
       "      <td>0.917067</td>\n",
       "      <td>0.962544</td>\n",
       "      <td>...</td>\n",
       "      <td>31</td>\n",
       "      <td>2</td>\n",
       "      <td>2020</td>\n",
       "      <td>108</td>\n",
       "      <td>1.0</td>\n",
       "      <td>2.0</td>\n",
       "      <td>2</td>\n",
       "      <td>11.0</td>\n",
       "      <td>5.50</td>\n",
       "      <td>2.197225</td>\n",
       "    </tr>\n",
       "    <tr>\n",
       "      <th>3</th>\n",
       "      <td>0</td>\n",
       "      <td>A060001004</td>\n",
       "      <td>A060000001</td>\n",
       "      <td>1</td>\n",
       "      <td>2020-03-24 00:17:29</td>\n",
       "      <td>7225</td>\n",
       "      <td>1</td>\n",
       "      <td>1.0</td>\n",
       "      <td>0.917067</td>\n",
       "      <td>0.962544</td>\n",
       "      <td>...</td>\n",
       "      <td>31</td>\n",
       "      <td>3</td>\n",
       "      <td>2020</td>\n",
       "      <td>108</td>\n",
       "      <td>1.0</td>\n",
       "      <td>3.0</td>\n",
       "      <td>3</td>\n",
       "      <td>18.0</td>\n",
       "      <td>6.00</td>\n",
       "      <td>2.079442</td>\n",
       "    </tr>\n",
       "    <tr>\n",
       "      <th>4</th>\n",
       "      <td>0</td>\n",
       "      <td>A060001005</td>\n",
       "      <td>A060000001</td>\n",
       "      <td>1</td>\n",
       "      <td>2020-03-24 00:17:36</td>\n",
       "      <td>7225</td>\n",
       "      <td>1</td>\n",
       "      <td>1.0</td>\n",
       "      <td>0.917067</td>\n",
       "      <td>0.962544</td>\n",
       "      <td>...</td>\n",
       "      <td>31</td>\n",
       "      <td>4</td>\n",
       "      <td>2020</td>\n",
       "      <td>108</td>\n",
       "      <td>1.0</td>\n",
       "      <td>4.0</td>\n",
       "      <td>4</td>\n",
       "      <td>25.0</td>\n",
       "      <td>6.25</td>\n",
       "      <td>2.079442</td>\n",
       "    </tr>\n",
       "  </tbody>\n",
       "</table>\n",
       "<p>5 rows × 56 columns</p>\n",
       "</div>"
      ],
      "text/plain": [
       "   userID assessmentItemID      testId  answerCode            Timestamp  \\\n",
       "0       0       A060001001  A060000001           1  2020-03-24 00:17:11   \n",
       "1       0       A060001002  A060000001           1  2020-03-24 00:17:14   \n",
       "2       0       A060001003  A060000001           1  2020-03-24 00:17:22   \n",
       "3       0       A060001004  A060000001           1  2020-03-24 00:17:29   \n",
       "4       0       A060001005  A060000001           1  2020-03-24 00:17:36   \n",
       "\n",
       "   KnowledgeTag  dataset  tagLV   tagMean   eloTest  ...  \\\n",
       "0          7224        1    1.0  0.957333  0.962544  ...   \n",
       "1          7225        1    1.0  0.917067  0.962544  ...   \n",
       "2          7225        1    1.0  0.917067  0.962544  ...   \n",
       "3          7225        1    1.0  0.917067  0.962544  ...   \n",
       "4          7225        1    1.0  0.917067  0.962544  ...   \n",
       "\n",
       "   bigClassElapsedTimeAvg  recCount  year  tagClass  GradeAcc  Grade_o  \\\n",
       "0                      31         0  2020       108       0.0      0.0   \n",
       "1                      31         1  2020       108       1.0      1.0   \n",
       "2                      31         2  2020       108       1.0      2.0   \n",
       "3                      31         3  2020       108       1.0      3.0   \n",
       "4                      31         4  2020       108       1.0      4.0   \n",
       "\n",
       "   GradeCount  GradeElp  GradeMElp  RepeatedTime  \n",
       "0           0       0.0       0.00      0.000000  \n",
       "1           1       3.0       3.00      1.386294  \n",
       "2           2      11.0       5.50      2.197225  \n",
       "3           3      18.0       6.00      2.079442  \n",
       "4           4      25.0       6.25      2.079442  \n",
       "\n",
       "[5 rows x 56 columns]"
      ]
     },
     "execution_count": 202,
     "metadata": {},
     "output_type": "execute_result"
    },
    {
     "data": {
      "application/javascript": "\n            setTimeout(function() {\n                var nbb_cell_id = 202;\n                var nbb_unformatted_code = \"df.head()\";\n                var nbb_formatted_code = \"df.head()\";\n                var nbb_cells = Jupyter.notebook.get_cells();\n                for (var i = 0; i < nbb_cells.length; ++i) {\n                    if (nbb_cells[i].input_prompt_number == nbb_cell_id) {\n                        if (nbb_cells[i].get_text() == nbb_unformatted_code) {\n                             nbb_cells[i].set_text(nbb_formatted_code);\n                        }\n                        break;\n                    }\n                }\n            }, 500);\n            ",
      "text/plain": [
       "<IPython.core.display.Javascript object>"
      ]
     },
     "metadata": {},
     "output_type": "display_data"
    }
   ],
   "source": [
    "df.head()"
   ]
  },
  {
   "cell_type": "markdown",
   "metadata": {},
   "source": [
    "## 2. Train/Test 데이터 셋 분리 (option1, option2에서 하나만 실행)"
   ]
  },
  {
   "cell_type": "markdown",
   "metadata": {},
   "source": [
    "### Option 1\n",
    "- train 데이터에서 train, valid set을 나눔"
   ]
  },
  {
   "cell_type": "code",
   "execution_count": 203,
   "metadata": {},
   "outputs": [
    {
     "data": {
      "application/javascript": "\n            setTimeout(function() {\n                var nbb_cell_id = 203;\n                var nbb_unformatted_code = \"# train\\uacfc test \\ub370\\uc774\\ud130\\uc14b\\uc740 \\uc0ac\\uc6a9\\uc790 \\ubcc4\\ub85c \\ubb36\\uc5b4\\uc11c \\ubd84\\ub9ac\\ub97c \\ud574\\uc8fc\\uc5b4\\uc57c\\ud568\\nrandom.seed(42)\\n\\n\\ndef option1_train_test_split(df, ratio=0.8, split=True):\\n\\n    df = df[df.dataset == 1]\\n\\n    users = list(zip(df[\\\"userID\\\"].value_counts().index, df[\\\"userID\\\"].value_counts()))\\n    random.shuffle(users)\\n\\n    max_train_data_len = ratio * len(df)\\n    sum_of_train_data = 0\\n    user_ids = []\\n\\n    for user_id, count in users:\\n        sum_of_train_data += count\\n        if max_train_data_len < sum_of_train_data:\\n            break\\n        user_ids.append(user_id)\\n\\n    train = df[df[\\\"userID\\\"].isin(user_ids)]\\n    test = df[df[\\\"userID\\\"].isin(user_ids) == False]\\n\\n    # test\\ub370\\uc774\\ud130\\uc14b\\uc740 \\uac01 \\uc720\\uc800\\uc758 \\ub9c8\\uc9c0\\ub9c9 interaction\\ub9cc \\ucd94\\ucd9c\\n    test = test[test[\\\"userID\\\"] != test[\\\"userID\\\"].shift(-1)]\\n    return train, test\";\n                var nbb_formatted_code = \"# train\\uacfc test \\ub370\\uc774\\ud130\\uc14b\\uc740 \\uc0ac\\uc6a9\\uc790 \\ubcc4\\ub85c \\ubb36\\uc5b4\\uc11c \\ubd84\\ub9ac\\ub97c \\ud574\\uc8fc\\uc5b4\\uc57c\\ud568\\nrandom.seed(42)\\n\\n\\ndef option1_train_test_split(df, ratio=0.8, split=True):\\n\\n    df = df[df.dataset == 1]\\n\\n    users = list(zip(df[\\\"userID\\\"].value_counts().index, df[\\\"userID\\\"].value_counts()))\\n    random.shuffle(users)\\n\\n    max_train_data_len = ratio * len(df)\\n    sum_of_train_data = 0\\n    user_ids = []\\n\\n    for user_id, count in users:\\n        sum_of_train_data += count\\n        if max_train_data_len < sum_of_train_data:\\n            break\\n        user_ids.append(user_id)\\n\\n    train = df[df[\\\"userID\\\"].isin(user_ids)]\\n    test = df[df[\\\"userID\\\"].isin(user_ids) == False]\\n\\n    # test\\ub370\\uc774\\ud130\\uc14b\\uc740 \\uac01 \\uc720\\uc800\\uc758 \\ub9c8\\uc9c0\\ub9c9 interaction\\ub9cc \\ucd94\\ucd9c\\n    test = test[test[\\\"userID\\\"] != test[\\\"userID\\\"].shift(-1)]\\n    return train, test\";\n                var nbb_cells = Jupyter.notebook.get_cells();\n                for (var i = 0; i < nbb_cells.length; ++i) {\n                    if (nbb_cells[i].input_prompt_number == nbb_cell_id) {\n                        if (nbb_cells[i].get_text() == nbb_unformatted_code) {\n                             nbb_cells[i].set_text(nbb_formatted_code);\n                        }\n                        break;\n                    }\n                }\n            }, 500);\n            ",
      "text/plain": [
       "<IPython.core.display.Javascript object>"
      ]
     },
     "metadata": {},
     "output_type": "display_data"
    }
   ],
   "source": [
    "# train과 test 데이터셋은 사용자 별로 묶어서 분리를 해주어야함\n",
    "random.seed(42)\n",
    "\n",
    "\n",
    "def option1_train_test_split(df, ratio=0.8, split=True):\n",
    "\n",
    "    df = df[df.dataset == 1]\n",
    "\n",
    "    users = list(zip(df[\"userID\"].value_counts().index, df[\"userID\"].value_counts()))\n",
    "    random.shuffle(users)\n",
    "\n",
    "    max_train_data_len = ratio * len(df)\n",
    "    sum_of_train_data = 0\n",
    "    user_ids = []\n",
    "\n",
    "    for user_id, count in users:\n",
    "        sum_of_train_data += count\n",
    "        if max_train_data_len < sum_of_train_data:\n",
    "            break\n",
    "        user_ids.append(user_id)\n",
    "\n",
    "    train = df[df[\"userID\"].isin(user_ids)]\n",
    "    test = df[df[\"userID\"].isin(user_ids) == False]\n",
    "\n",
    "    # test데이터셋은 각 유저의 마지막 interaction만 추출\n",
    "    test = test[test[\"userID\"] != test[\"userID\"].shift(-1)]\n",
    "    return train, test"
   ]
  },
  {
   "cell_type": "markdown",
   "metadata": {},
   "source": [
    "### Option 2\n",
    "- train 데이터를 모두 훈련에 사용\n",
    "- valid를 test셋의 마지막 두번째 데이터로 진행"
   ]
  },
  {
   "cell_type": "code",
   "execution_count": 204,
   "metadata": {},
   "outputs": [
    {
     "data": {
      "application/javascript": "\n            setTimeout(function() {\n                var nbb_cell_id = 204;\n                var nbb_unformatted_code = \"def option2_train_test_split(df):\\n    # use train dataset only for train\\n    train = df[df.dataset == 1]\\n\\n    # use test dataset only for valid\\n    test = df[(df.dataset == 2)]  # & (df.answerCode != -1)]  # -1 \\uc778 answerCode \\uc81c\\uc678\\n\\n    # test\\ub370\\uc774\\ud130\\uc14b\\uc740 \\uac01 \\uc720\\uc800\\uc758 \\ub9c8\\uc9c0\\ub9c9 interaction\\ub9cc \\ucd94\\ucd9c\\n    test = test[test[\\\"userID\\\"] != test[\\\"userID\\\"].shift(-1)]\\n\\n    return train, test\";\n                var nbb_formatted_code = \"def option2_train_test_split(df):\\n    # use train dataset only for train\\n    train = df[df.dataset == 1]\\n\\n    # use test dataset only for valid\\n    test = df[(df.dataset == 2)]  # & (df.answerCode != -1)]  # -1 \\uc778 answerCode \\uc81c\\uc678\\n\\n    # test\\ub370\\uc774\\ud130\\uc14b\\uc740 \\uac01 \\uc720\\uc800\\uc758 \\ub9c8\\uc9c0\\ub9c9 interaction\\ub9cc \\ucd94\\ucd9c\\n    test = test[test[\\\"userID\\\"] != test[\\\"userID\\\"].shift(-1)]\\n\\n    return train, test\";\n                var nbb_cells = Jupyter.notebook.get_cells();\n                for (var i = 0; i < nbb_cells.length; ++i) {\n                    if (nbb_cells[i].input_prompt_number == nbb_cell_id) {\n                        if (nbb_cells[i].get_text() == nbb_unformatted_code) {\n                             nbb_cells[i].set_text(nbb_formatted_code);\n                        }\n                        break;\n                    }\n                }\n            }, 500);\n            ",
      "text/plain": [
       "<IPython.core.display.Javascript object>"
      ]
     },
     "metadata": {},
     "output_type": "display_data"
    }
   ],
   "source": [
    "def option2_train_test_split(df):\n",
    "    # use train dataset only for train\n",
    "    train = df[df.dataset == 1]\n",
    "\n",
    "    # use test dataset only for valid\n",
    "    test = df[(df.dataset == 2)]  # & (df.answerCode != -1)]  # -1 인 answerCode 제외\n",
    "\n",
    "    # test데이터셋은 각 유저의 마지막 interaction만 추출\n",
    "    test = test[test[\"userID\"] != test[\"userID\"].shift(-1)]\n",
    "\n",
    "    return train, test"
   ]
  },
  {
   "cell_type": "code",
   "execution_count": 205,
   "metadata": {},
   "outputs": [
    {
     "data": {
      "text/plain": [
       "Index(['userID', 'assessmentItemID', 'testId', 'answerCode', 'Timestamp',\n",
       "       'KnowledgeTag', 'dataset', 'tagLV', 'tagMean', 'eloTest', 'cumCorrect',\n",
       "       'assessMean', 'accuracy', 'tagSum', 'elo', 'bigClassAccCate',\n",
       "       'userLVbyTest', 'eloTag', 'assessSum', 'bigClass', 'KTAccuracyCate',\n",
       "       'day', 'month', 'KnowledgeTagAcc', 'userLVbyTestAVG', 'testStd',\n",
       "       'elapsedTime', 'testSum', 'tagStd', 'assessStd', 'elapsedTimeClass',\n",
       "       'hour', 'testMean', 'tagCluster', 'totalAnswer', 'bigClassAcc',\n",
       "       'recAccuracy', 'cumAccuracy', 'testLV', 'seenCount', 'userLVbyTag',\n",
       "       'userLVbyTagAVG', 'tagCount', 'weekNum', 'bigClassCount', 'wday',\n",
       "       'bigClassElapsedTimeAvg', 'recCount', 'year', 'tagClass', 'GradeAcc',\n",
       "       'Grade_o', 'GradeCount', 'GradeElp', 'GradeMElp', 'RepeatedTime'],\n",
       "      dtype='object')"
      ]
     },
     "execution_count": 205,
     "metadata": {},
     "output_type": "execute_result"
    },
    {
     "data": {
      "application/javascript": "\n            setTimeout(function() {\n                var nbb_cell_id = 205;\n                var nbb_unformatted_code = \"df.columns\";\n                var nbb_formatted_code = \"df.columns\";\n                var nbb_cells = Jupyter.notebook.get_cells();\n                for (var i = 0; i < nbb_cells.length; ++i) {\n                    if (nbb_cells[i].input_prompt_number == nbb_cell_id) {\n                        if (nbb_cells[i].get_text() == nbb_unformatted_code) {\n                             nbb_cells[i].set_text(nbb_formatted_code);\n                        }\n                        break;\n                    }\n                }\n            }, 500);\n            ",
      "text/plain": [
       "<IPython.core.display.Javascript object>"
      ]
     },
     "metadata": {},
     "output_type": "display_data"
    }
   ],
   "source": [
    "df.columns"
   ]
  },
  {
   "cell_type": "markdown",
   "metadata": {},
   "source": [
    "## 3. Feature Engineering"
   ]
  },
  {
   "cell_type": "code",
   "execution_count": 206,
   "metadata": {},
   "outputs": [
    {
     "data": {
      "application/javascript": "\n            setTimeout(function() {\n                var nbb_cell_id = 206;\n                var nbb_unformatted_code = \"def feature_engineering(df, option=\\\"option1\\\"):\\n\\n    # \\uce74\\ud14c\\uace0\\ub9ac\\ud615 feature\\n    categories = [\\n        \\\"assessmentItemID\\\",\\n        \\\"testId\\\",\\n        \\\"KnowledgeTag\\\",\\n        \\\"bigClassAccCate\\\",\\n        \\\"bigClass\\\",\\n        \\\"KTAccuracyCate\\\",\\n        \\\"day\\\",\\n        \\\"month\\\",\\n        \\\"year\\\",\\n        \\\"wday\\\",\\n        \\\"weekNum\\\",\\n        \\\"hour\\\",\\n        \\\"elapsedTimeClass\\\",\\n        \\\"tagCluster\\\",\\n        \\\"testLV\\\",\\n        \\\"userLVbyTest\\\",\\n        \\\"userLVbyTestAVG\\\",\\n        \\\"tagLV\\\",\\n        \\\"userLVbyTag\\\",\\n        \\\"userLVbyTagAVG\\\",\\n        \\\"tagClass\\\",\\n    ]  # TODO : category feature\\ub97c \\ubcc0\\ud658\\uc2dc\\ucf1c\\uc918\\uc57c\\ud568\\n\\n    le = preprocessing.LabelEncoder()\\n    # df[\\\"elo\\\"] = df[\\\"elo\\\"].transform(lambda x: int(x * 100000000))\\n\\n    for category in categories:\\n        if df[category].dtypes != \\\"int\\\":  # float, str type -> int\\ub85c \\uc804\\ud658\\n            df[category] = le.fit_transform(df[category])\\n        df[category] = df[category].astype(\\\"category\\\")\\n\\n    return df\";\n                var nbb_formatted_code = \"def feature_engineering(df, option=\\\"option1\\\"):\\n\\n    # \\uce74\\ud14c\\uace0\\ub9ac\\ud615 feature\\n    categories = [\\n        \\\"assessmentItemID\\\",\\n        \\\"testId\\\",\\n        \\\"KnowledgeTag\\\",\\n        \\\"bigClassAccCate\\\",\\n        \\\"bigClass\\\",\\n        \\\"KTAccuracyCate\\\",\\n        \\\"day\\\",\\n        \\\"month\\\",\\n        \\\"year\\\",\\n        \\\"wday\\\",\\n        \\\"weekNum\\\",\\n        \\\"hour\\\",\\n        \\\"elapsedTimeClass\\\",\\n        \\\"tagCluster\\\",\\n        \\\"testLV\\\",\\n        \\\"userLVbyTest\\\",\\n        \\\"userLVbyTestAVG\\\",\\n        \\\"tagLV\\\",\\n        \\\"userLVbyTag\\\",\\n        \\\"userLVbyTagAVG\\\",\\n        \\\"tagClass\\\",\\n    ]  # TODO : category feature\\ub97c \\ubcc0\\ud658\\uc2dc\\ucf1c\\uc918\\uc57c\\ud568\\n\\n    le = preprocessing.LabelEncoder()\\n    # df[\\\"elo\\\"] = df[\\\"elo\\\"].transform(lambda x: int(x * 100000000))\\n\\n    for category in categories:\\n        if df[category].dtypes != \\\"int\\\":  # float, str type -> int\\ub85c \\uc804\\ud658\\n            df[category] = le.fit_transform(df[category])\\n        df[category] = df[category].astype(\\\"category\\\")\\n\\n    return df\";\n                var nbb_cells = Jupyter.notebook.get_cells();\n                for (var i = 0; i < nbb_cells.length; ++i) {\n                    if (nbb_cells[i].input_prompt_number == nbb_cell_id) {\n                        if (nbb_cells[i].get_text() == nbb_unformatted_code) {\n                             nbb_cells[i].set_text(nbb_formatted_code);\n                        }\n                        break;\n                    }\n                }\n            }, 500);\n            ",
      "text/plain": [
       "<IPython.core.display.Javascript object>"
      ]
     },
     "metadata": {},
     "output_type": "display_data"
    }
   ],
   "source": [
    "def feature_engineering(df, option=\"option1\"):\n",
    "\n",
    "    # 카테고리형 feature\n",
    "    categories = [\n",
    "        \"assessmentItemID\",\n",
    "        \"testId\",\n",
    "        \"KnowledgeTag\",\n",
    "        \"bigClassAccCate\",\n",
    "        \"bigClass\",\n",
    "        \"KTAccuracyCate\",\n",
    "        \"day\",\n",
    "        \"month\",\n",
    "        \"year\",\n",
    "        \"wday\",\n",
    "        \"weekNum\",\n",
    "        \"hour\",\n",
    "        \"elapsedTimeClass\",\n",
    "        \"tagCluster\",\n",
    "        \"testLV\",\n",
    "        \"userLVbyTest\",\n",
    "        \"userLVbyTestAVG\",\n",
    "        \"tagLV\",\n",
    "        \"userLVbyTag\",\n",
    "        \"userLVbyTagAVG\",\n",
    "        \"tagClass\",\n",
    "    ]  # TODO : category feature를 변환시켜줘야함\n",
    "\n",
    "    le = preprocessing.LabelEncoder()\n",
    "    # df[\"elo\"] = df[\"elo\"].transform(lambda x: int(x * 100000000))\n",
    "\n",
    "    for category in categories:\n",
    "        if df[category].dtypes != \"int\":  # float, str type -> int로 전환\n",
    "            df[category] = le.fit_transform(df[category])\n",
    "        df[category] = df[category].astype(\"category\")\n",
    "\n",
    "    return df"
   ]
  },
  {
   "cell_type": "code",
   "execution_count": 207,
   "metadata": {},
   "outputs": [
    {
     "data": {
      "application/javascript": "\n            setTimeout(function() {\n                var nbb_cell_id = 207;\n                var nbb_unformatted_code = \"df = feature_engineering(df)\";\n                var nbb_formatted_code = \"df = feature_engineering(df)\";\n                var nbb_cells = Jupyter.notebook.get_cells();\n                for (var i = 0; i < nbb_cells.length; ++i) {\n                    if (nbb_cells[i].input_prompt_number == nbb_cell_id) {\n                        if (nbb_cells[i].get_text() == nbb_unformatted_code) {\n                             nbb_cells[i].set_text(nbb_formatted_code);\n                        }\n                        break;\n                    }\n                }\n            }, 500);\n            ",
      "text/plain": [
       "<IPython.core.display.Javascript object>"
      ]
     },
     "metadata": {},
     "output_type": "display_data"
    }
   ],
   "source": [
    "df = feature_engineering(df)"
   ]
  },
  {
   "cell_type": "code",
   "execution_count": 208,
   "metadata": {},
   "outputs": [
    {
     "data": {
      "text/html": [
       "<div>\n",
       "<style scoped>\n",
       "    .dataframe tbody tr th:only-of-type {\n",
       "        vertical-align: middle;\n",
       "    }\n",
       "\n",
       "    .dataframe tbody tr th {\n",
       "        vertical-align: top;\n",
       "    }\n",
       "\n",
       "    .dataframe thead th {\n",
       "        text-align: right;\n",
       "    }\n",
       "</style>\n",
       "<table border=\"1\" class=\"dataframe\">\n",
       "  <thead>\n",
       "    <tr style=\"text-align: right;\">\n",
       "      <th></th>\n",
       "      <th>userID</th>\n",
       "      <th>assessmentItemID</th>\n",
       "      <th>testId</th>\n",
       "      <th>answerCode</th>\n",
       "      <th>Timestamp</th>\n",
       "      <th>KnowledgeTag</th>\n",
       "      <th>dataset</th>\n",
       "      <th>tagLV</th>\n",
       "      <th>tagMean</th>\n",
       "      <th>eloTest</th>\n",
       "      <th>...</th>\n",
       "      <th>bigClassElapsedTimeAvg</th>\n",
       "      <th>recCount</th>\n",
       "      <th>year</th>\n",
       "      <th>tagClass</th>\n",
       "      <th>GradeAcc</th>\n",
       "      <th>Grade_o</th>\n",
       "      <th>GradeCount</th>\n",
       "      <th>GradeElp</th>\n",
       "      <th>GradeMElp</th>\n",
       "      <th>RepeatedTime</th>\n",
       "    </tr>\n",
       "  </thead>\n",
       "  <tbody>\n",
       "    <tr>\n",
       "      <th>0</th>\n",
       "      <td>0</td>\n",
       "      <td>5354</td>\n",
       "      <td>975</td>\n",
       "      <td>1</td>\n",
       "      <td>2020-03-24 00:17:11</td>\n",
       "      <td>7224</td>\n",
       "      <td>1</td>\n",
       "      <td>0</td>\n",
       "      <td>0.957333</td>\n",
       "      <td>0.962544</td>\n",
       "      <td>...</td>\n",
       "      <td>31</td>\n",
       "      <td>0</td>\n",
       "      <td>2020</td>\n",
       "      <td>108</td>\n",
       "      <td>0.0</td>\n",
       "      <td>0.0</td>\n",
       "      <td>0</td>\n",
       "      <td>0.0</td>\n",
       "      <td>0.00</td>\n",
       "      <td>0.000000</td>\n",
       "    </tr>\n",
       "    <tr>\n",
       "      <th>1</th>\n",
       "      <td>0</td>\n",
       "      <td>5355</td>\n",
       "      <td>975</td>\n",
       "      <td>1</td>\n",
       "      <td>2020-03-24 00:17:14</td>\n",
       "      <td>7225</td>\n",
       "      <td>1</td>\n",
       "      <td>0</td>\n",
       "      <td>0.917067</td>\n",
       "      <td>0.962544</td>\n",
       "      <td>...</td>\n",
       "      <td>31</td>\n",
       "      <td>1</td>\n",
       "      <td>2020</td>\n",
       "      <td>108</td>\n",
       "      <td>1.0</td>\n",
       "      <td>1.0</td>\n",
       "      <td>1</td>\n",
       "      <td>3.0</td>\n",
       "      <td>3.00</td>\n",
       "      <td>1.386294</td>\n",
       "    </tr>\n",
       "    <tr>\n",
       "      <th>2</th>\n",
       "      <td>0</td>\n",
       "      <td>5356</td>\n",
       "      <td>975</td>\n",
       "      <td>1</td>\n",
       "      <td>2020-03-24 00:17:22</td>\n",
       "      <td>7225</td>\n",
       "      <td>1</td>\n",
       "      <td>0</td>\n",
       "      <td>0.917067</td>\n",
       "      <td>0.962544</td>\n",
       "      <td>...</td>\n",
       "      <td>31</td>\n",
       "      <td>2</td>\n",
       "      <td>2020</td>\n",
       "      <td>108</td>\n",
       "      <td>1.0</td>\n",
       "      <td>2.0</td>\n",
       "      <td>2</td>\n",
       "      <td>11.0</td>\n",
       "      <td>5.50</td>\n",
       "      <td>2.197225</td>\n",
       "    </tr>\n",
       "    <tr>\n",
       "      <th>3</th>\n",
       "      <td>0</td>\n",
       "      <td>5357</td>\n",
       "      <td>975</td>\n",
       "      <td>1</td>\n",
       "      <td>2020-03-24 00:17:29</td>\n",
       "      <td>7225</td>\n",
       "      <td>1</td>\n",
       "      <td>0</td>\n",
       "      <td>0.917067</td>\n",
       "      <td>0.962544</td>\n",
       "      <td>...</td>\n",
       "      <td>31</td>\n",
       "      <td>3</td>\n",
       "      <td>2020</td>\n",
       "      <td>108</td>\n",
       "      <td>1.0</td>\n",
       "      <td>3.0</td>\n",
       "      <td>3</td>\n",
       "      <td>18.0</td>\n",
       "      <td>6.00</td>\n",
       "      <td>2.079442</td>\n",
       "    </tr>\n",
       "    <tr>\n",
       "      <th>4</th>\n",
       "      <td>0</td>\n",
       "      <td>5358</td>\n",
       "      <td>975</td>\n",
       "      <td>1</td>\n",
       "      <td>2020-03-24 00:17:36</td>\n",
       "      <td>7225</td>\n",
       "      <td>1</td>\n",
       "      <td>0</td>\n",
       "      <td>0.917067</td>\n",
       "      <td>0.962544</td>\n",
       "      <td>...</td>\n",
       "      <td>31</td>\n",
       "      <td>4</td>\n",
       "      <td>2020</td>\n",
       "      <td>108</td>\n",
       "      <td>1.0</td>\n",
       "      <td>4.0</td>\n",
       "      <td>4</td>\n",
       "      <td>25.0</td>\n",
       "      <td>6.25</td>\n",
       "      <td>2.079442</td>\n",
       "    </tr>\n",
       "  </tbody>\n",
       "</table>\n",
       "<p>5 rows × 56 columns</p>\n",
       "</div>"
      ],
      "text/plain": [
       "   userID assessmentItemID testId  answerCode            Timestamp  \\\n",
       "0       0             5354    975           1  2020-03-24 00:17:11   \n",
       "1       0             5355    975           1  2020-03-24 00:17:14   \n",
       "2       0             5356    975           1  2020-03-24 00:17:22   \n",
       "3       0             5357    975           1  2020-03-24 00:17:29   \n",
       "4       0             5358    975           1  2020-03-24 00:17:36   \n",
       "\n",
       "  KnowledgeTag  dataset tagLV   tagMean   eloTest  ...  \\\n",
       "0         7224        1     0  0.957333  0.962544  ...   \n",
       "1         7225        1     0  0.917067  0.962544  ...   \n",
       "2         7225        1     0  0.917067  0.962544  ...   \n",
       "3         7225        1     0  0.917067  0.962544  ...   \n",
       "4         7225        1     0  0.917067  0.962544  ...   \n",
       "\n",
       "   bigClassElapsedTimeAvg  recCount  year  tagClass  GradeAcc Grade_o  \\\n",
       "0                      31         0  2020       108       0.0     0.0   \n",
       "1                      31         1  2020       108       1.0     1.0   \n",
       "2                      31         2  2020       108       1.0     2.0   \n",
       "3                      31         3  2020       108       1.0     3.0   \n",
       "4                      31         4  2020       108       1.0     4.0   \n",
       "\n",
       "  GradeCount  GradeElp  GradeMElp RepeatedTime  \n",
       "0          0       0.0       0.00     0.000000  \n",
       "1          1       3.0       3.00     1.386294  \n",
       "2          2      11.0       5.50     2.197225  \n",
       "3          3      18.0       6.00     2.079442  \n",
       "4          4      25.0       6.25     2.079442  \n",
       "\n",
       "[5 rows x 56 columns]"
      ]
     },
     "execution_count": 208,
     "metadata": {},
     "output_type": "execute_result"
    },
    {
     "data": {
      "application/javascript": "\n            setTimeout(function() {\n                var nbb_cell_id = 208;\n                var nbb_unformatted_code = \"train, valid = option2_train_test_split(df)\\ntrain.head()\";\n                var nbb_formatted_code = \"train, valid = option2_train_test_split(df)\\ntrain.head()\";\n                var nbb_cells = Jupyter.notebook.get_cells();\n                for (var i = 0; i < nbb_cells.length; ++i) {\n                    if (nbb_cells[i].input_prompt_number == nbb_cell_id) {\n                        if (nbb_cells[i].get_text() == nbb_unformatted_code) {\n                             nbb_cells[i].set_text(nbb_formatted_code);\n                        }\n                        break;\n                    }\n                }\n            }, 500);\n            ",
      "text/plain": [
       "<IPython.core.display.Javascript object>"
      ]
     },
     "metadata": {},
     "output_type": "display_data"
    }
   ],
   "source": [
    "train, valid = option1_train_test_split(df)\n",
    "train.head()"
   ]
  },
  {
   "cell_type": "markdown",
   "metadata": {},
   "source": [
    "## 4. 데이터셋 정의"
   ]
  },
  {
   "cell_type": "code",
   "execution_count": 209,
   "metadata": {},
   "outputs": [
    {
     "data": {
      "application/javascript": "\n            setTimeout(function() {\n                var nbb_cell_id = 209;\n                var nbb_unformatted_code = \"# X, y \\uac12 \\ubd84\\ub9ac\\ny_train = train[\\\"answerCode\\\"]\\ntrain = train.drop([\\\"answerCode\\\"], axis=1)\\n\\ny_valid = ground_truth[\\\"gt\\\"]  # valid[\\\"answerCode\\\"]\\nvalid = valid.drop([\\\"answerCode\\\"], axis=1)\";\n                var nbb_formatted_code = \"# X, y \\uac12 \\ubd84\\ub9ac\\ny_train = train[\\\"answerCode\\\"]\\ntrain = train.drop([\\\"answerCode\\\"], axis=1)\\n\\ny_valid = ground_truth[\\\"gt\\\"]  # valid[\\\"answerCode\\\"]\\nvalid = valid.drop([\\\"answerCode\\\"], axis=1)\";\n                var nbb_cells = Jupyter.notebook.get_cells();\n                for (var i = 0; i < nbb_cells.length; ++i) {\n                    if (nbb_cells[i].input_prompt_number == nbb_cell_id) {\n                        if (nbb_cells[i].get_text() == nbb_unformatted_code) {\n                             nbb_cells[i].set_text(nbb_formatted_code);\n                        }\n                        break;\n                    }\n                }\n            }, 500);\n            ",
      "text/plain": [
       "<IPython.core.display.Javascript object>"
      ]
     },
     "metadata": {},
     "output_type": "display_data"
    }
   ],
   "source": [
    "# X, y 값 분리\n",
    "y_train = train[\"answerCode\"]\n",
    "train = train.drop([\"answerCode\"], axis=1)\n",
    "\n",
    "y_valid = valid[\"answerCode\"]\n",
    "valid = valid.drop([\"answerCode\"], axis=1)"
   ]
  },
  {
   "cell_type": "code",
   "execution_count": 210,
   "metadata": {},
   "outputs": [
    {
     "data": {
      "application/javascript": "\n            setTimeout(function() {\n                var nbb_cell_id = 210;\n                var nbb_unformatted_code = \"# TODO :\\uc0ac\\uc6a9\\ud560 Feature \\uc124\\uc815\\nFEATS = [\\n    \\\"assessmentItemID\\\",\\n    # \\\"testId\\\",\\n    # \\\"KnowledgeTag\\\",\\n    \\\"accuracy\\\",\\n    # \\\"user_total_answer\\\",\\n    \\\"testMean\\\",\\n    # \\\"testSum\\\",\\n    \\\"testStd\\\",\\n    \\\"tagMean\\\",\\n    # \\\"tagSum\\\",\\n    \\\"tagStd\\\",\\n    # \\\"assessSum\\\",\\n    \\\"assessMean\\\",\\n    \\\"assessStd\\\",\\n    # -- \\uc5ec\\uae30\\uc11c\\ubd80\\ud130 Custom Feature Engineering\\n    # \\\"bigClass\\\",\\n    \\\"bigClassAcc\\\",\\n    \\\"bigClassElapsedTimeAvg\\\",\\n    \\\"bigClassAccCate\\\",\\n    # \\\"recAccuracy\\\",\\n    \\\"cumAccuracy\\\",\\n    # \\\"cumCorrect\\\",\\n    # \\\"day\\\",\\n    \\\"month\\\",\\n    # \\\"year\\\",\\n    # \\\"wday\\\",\\n    # \\\"weekNum\\\",\\n    # \\\"hour\\\",\\n    \\\"elapsedTime\\\",\\n    \\\"elapsedTimeClass\\\",\\n    # \\\"KnowledgeTagAcc\\\",\\n    # \\\"KTAccuracyCate\\\",\\n    # \\\"seenCount\\\",\\n    # \\\"tagCluster\\\",\\n    # \\\"tagCount\\\",\\n    # \\\"testLV\\\",\\n    # \\\"userLVbyTest\\\",\\n    # \\\"userLVbyTestAVG\\\",\\n    # \\\"tagLV\\\",\\n    # \\\"userLVbyTag\\\",\\n    # \\\"userLVbyTagAVG\\\",\\n    # \\\"bigClassCount\\\",\\n    \\\"recCount\\\",\\n    \\\"elo\\\",\\n    \\\"eloTest\\\",\\n    \\\"eloTag\\\",\\n    # \\\"tagClass\\\",\\n    # \\\"GradeAcc\\\",\\n    # \\\"Grade_o\\\",\\n    # \\\"GradeCount\\\",\\n    # \\\"GradeElp\\\",\\n    # \\\"GradeMElp\\\",\\n    # \\\"RepeatedTime\\\",\\n]\";\n                var nbb_formatted_code = \"# TODO :\\uc0ac\\uc6a9\\ud560 Feature \\uc124\\uc815\\nFEATS = [\\n    \\\"assessmentItemID\\\",\\n    # \\\"testId\\\",\\n    # \\\"KnowledgeTag\\\",\\n    \\\"accuracy\\\",\\n    # \\\"user_total_answer\\\",\\n    \\\"testMean\\\",\\n    # \\\"testSum\\\",\\n    \\\"testStd\\\",\\n    \\\"tagMean\\\",\\n    # \\\"tagSum\\\",\\n    \\\"tagStd\\\",\\n    # \\\"assessSum\\\",\\n    \\\"assessMean\\\",\\n    \\\"assessStd\\\",\\n    # -- \\uc5ec\\uae30\\uc11c\\ubd80\\ud130 Custom Feature Engineering\\n    # \\\"bigClass\\\",\\n    \\\"bigClassAcc\\\",\\n    \\\"bigClassElapsedTimeAvg\\\",\\n    \\\"bigClassAccCate\\\",\\n    # \\\"recAccuracy\\\",\\n    \\\"cumAccuracy\\\",\\n    # \\\"cumCorrect\\\",\\n    # \\\"day\\\",\\n    \\\"month\\\",\\n    # \\\"year\\\",\\n    # \\\"wday\\\",\\n    # \\\"weekNum\\\",\\n    # \\\"hour\\\",\\n    \\\"elapsedTime\\\",\\n    \\\"elapsedTimeClass\\\",\\n    # \\\"KnowledgeTagAcc\\\",\\n    # \\\"KTAccuracyCate\\\",\\n    # \\\"seenCount\\\",\\n    # \\\"tagCluster\\\",\\n    # \\\"tagCount\\\",\\n    # \\\"testLV\\\",\\n    # \\\"userLVbyTest\\\",\\n    # \\\"userLVbyTestAVG\\\",\\n    # \\\"tagLV\\\",\\n    # \\\"userLVbyTag\\\",\\n    # \\\"userLVbyTagAVG\\\",\\n    # \\\"bigClassCount\\\",\\n    \\\"recCount\\\",\\n    \\\"elo\\\",\\n    \\\"eloTest\\\",\\n    \\\"eloTag\\\",\\n    # \\\"tagClass\\\",\\n    # \\\"GradeAcc\\\",\\n    # \\\"Grade_o\\\",\\n    # \\\"GradeCount\\\",\\n    # \\\"GradeElp\\\",\\n    # \\\"GradeMElp\\\",\\n    # \\\"RepeatedTime\\\",\\n]\";\n                var nbb_cells = Jupyter.notebook.get_cells();\n                for (var i = 0; i < nbb_cells.length; ++i) {\n                    if (nbb_cells[i].input_prompt_number == nbb_cell_id) {\n                        if (nbb_cells[i].get_text() == nbb_unformatted_code) {\n                             nbb_cells[i].set_text(nbb_formatted_code);\n                        }\n                        break;\n                    }\n                }\n            }, 500);\n            ",
      "text/plain": [
       "<IPython.core.display.Javascript object>"
      ]
     },
     "metadata": {},
     "output_type": "display_data"
    }
   ],
   "source": [
    "# TODO :사용할 Feature 설정\n",
    "FEATS = [\n",
    "    \"assessmentItemID\",\n",
    "    # \"testId\",\n",
    "    # \"KnowledgeTag\",\n",
    "    \"accuracy\",\n",
    "    # \"user_total_answer\",\n",
    "    \"testMean\",\n",
    "    # \"testSum\",\n",
    "    \"testStd\",\n",
    "    \"tagMean\",\n",
    "    # \"tagSum\",\n",
    "    \"tagStd\",\n",
    "    # \"assessSum\",\n",
    "    \"assessMean\",\n",
    "    \"assessStd\",\n",
    "    # -- 여기서부터 Custom Feature Engineering\n",
    "    # \"bigClass\",\n",
    "    \"bigClassAcc\",\n",
    "    \"bigClassElapsedTimeAvg\",\n",
    "    \"bigClassAccCate\",\n",
    "    # \"recAccuracy\",\n",
    "    \"cumAccuracy\",\n",
    "    # \"cumCorrect\",\n",
    "    # \"day\",\n",
    "    \"month\",\n",
    "    # \"year\",\n",
    "    # \"wday\",\n",
    "    # \"weekNum\",\n",
    "    # \"hour\",\n",
    "    \"elapsedTime\",\n",
    "    \"elapsedTimeClass\",\n",
    "    # \"KnowledgeTagAcc\",\n",
    "    # \"KTAccuracyCate\",\n",
    "    # \"seenCount\",\n",
    "    # \"tagCluster\",\n",
    "    # \"tagCount\",\n",
    "    # \"testLV\",\n",
    "    # \"userLVbyTest\",\n",
    "    # \"userLVbyTestAVG\",\n",
    "    # \"tagLV\",\n",
    "    # \"userLVbyTag\",\n",
    "    # \"userLVbyTagAVG\",\n",
    "    # \"bigClassCount\",\n",
    "    \"recCount\",\n",
    "    \"elo\",\n",
    "    \"eloTest\",\n",
    "    \"eloTag\",\n",
    "    # \"tagClass\",\n",
    "    # \"GradeAcc\",\n",
    "    # \"Grade_o\",\n",
    "    # \"GradeCount\",\n",
    "    # \"GradeElp\",\n",
    "    # \"GradeMElp\",\n",
    "    # \"RepeatedTime\",\n",
    "]"
   ]
  },
  {
   "cell_type": "code",
   "execution_count": 223,
   "metadata": {},
   "outputs": [
    {
     "data": {
      "application/javascript": "\n            setTimeout(function() {\n                var nbb_cell_id = 223;\n                var nbb_unformatted_code = \"FEATS = [\\n    \\\"GradeAcc\\\",\\n    \\\"assessMean\\\",\\n    \\\"RepeatedTime\\\",\\n    \\\"recCount\\\",\\n    \\\"bigClassElapsedTimeAvg\\\",\\n    \\\"elo\\\",\\n    \\\"accuracy\\\",\\n    #\\\"Grade_o\\\",\\n    #\\\"GradeCount\\\",\\n    \\\"GradeElp\\\",\\n    \\\"GradeMElp\\\",\\n]\";\n                var nbb_formatted_code = \"FEATS = [\\n    \\\"GradeAcc\\\",\\n    \\\"assessMean\\\",\\n    \\\"RepeatedTime\\\",\\n    \\\"recCount\\\",\\n    \\\"bigClassElapsedTimeAvg\\\",\\n    \\\"elo\\\",\\n    \\\"accuracy\\\",\\n    # \\\"Grade_o\\\",\\n    # \\\"GradeCount\\\",\\n    \\\"GradeElp\\\",\\n    \\\"GradeMElp\\\",\\n]\";\n                var nbb_cells = Jupyter.notebook.get_cells();\n                for (var i = 0; i < nbb_cells.length; ++i) {\n                    if (nbb_cells[i].input_prompt_number == nbb_cell_id) {\n                        if (nbb_cells[i].get_text() == nbb_unformatted_code) {\n                             nbb_cells[i].set_text(nbb_formatted_code);\n                        }\n                        break;\n                    }\n                }\n            }, 500);\n            ",
      "text/plain": [
       "<IPython.core.display.Javascript object>"
      ]
     },
     "metadata": {},
     "output_type": "display_data"
    }
   ],
   "source": [
    "FEATS = [\n",
    "    \"GradeAcc\",\n",
    "    \"assessMean\",\n",
    "    \"RepeatedTime\",\n",
    "    \"recCount\",\n",
    "    \"bigClassElapsedTimeAvg\",\n",
    "    \"elo\",\n",
    "    \"accuracy\",\n",
    "    # \"Grade_o\",\n",
    "    # \"GradeCount\",\n",
    "    \"GradeElp\",\n",
    "    \"GradeMElp\",\n",
    "]"
   ]
  },
  {
   "cell_type": "code",
   "execution_count": 224,
   "metadata": {},
   "outputs": [
    {
     "name": "stdout",
     "output_type": "stream",
     "text": [
      "['GradeAcc', 'assessMean', 'RepeatedTime', 'recCount', 'bigClassElapsedTimeAvg', 'elo', 'accuracy', 'GradeElp', 'GradeMElp']\n"
     ]
    },
    {
     "data": {
      "application/javascript": "\n            setTimeout(function() {\n                var nbb_cell_id = 224;\n                var nbb_unformatted_code = \"print(FEATS)\";\n                var nbb_formatted_code = \"print(FEATS)\";\n                var nbb_cells = Jupyter.notebook.get_cells();\n                for (var i = 0; i < nbb_cells.length; ++i) {\n                    if (nbb_cells[i].input_prompt_number == nbb_cell_id) {\n                        if (nbb_cells[i].get_text() == nbb_unformatted_code) {\n                             nbb_cells[i].set_text(nbb_formatted_code);\n                        }\n                        break;\n                    }\n                }\n            }, 500);\n            ",
      "text/plain": [
       "<IPython.core.display.Javascript object>"
      ]
     },
     "metadata": {},
     "output_type": "display_data"
    }
   ],
   "source": [
    "print(FEATS)"
   ]
  },
  {
   "cell_type": "code",
   "execution_count": 225,
   "metadata": {},
   "outputs": [
    {
     "name": "stdout",
     "output_type": "stream",
     "text": [
      "cat_cols: []\n",
      "num_cols: ['GradeAcc', 'assessMean', 'RepeatedTime', 'recCount', 'bigClassElapsedTimeAvg', 'elo', 'accuracy', 'GradeElp', 'GradeMElp']\n"
     ]
    },
    {
     "data": {
      "application/javascript": "\n            setTimeout(function() {\n                var nbb_cell_id = 225;\n                var nbb_unformatted_code = \"cat_cols = train[FEATS].columns[train[FEATS].dtypes == \\\"category\\\"].to_list()\\nnum_cols = train[FEATS].columns[train[FEATS].dtypes != \\\"category\\\"].to_list()\\n\\nprint(f\\\"cat_cols: {cat_cols}\\\")\\nprint(f\\\"num_cols: {num_cols}\\\")\";\n                var nbb_formatted_code = \"cat_cols = train[FEATS].columns[train[FEATS].dtypes == \\\"category\\\"].to_list()\\nnum_cols = train[FEATS].columns[train[FEATS].dtypes != \\\"category\\\"].to_list()\\n\\nprint(f\\\"cat_cols: {cat_cols}\\\")\\nprint(f\\\"num_cols: {num_cols}\\\")\";\n                var nbb_cells = Jupyter.notebook.get_cells();\n                for (var i = 0; i < nbb_cells.length; ++i) {\n                    if (nbb_cells[i].input_prompt_number == nbb_cell_id) {\n                        if (nbb_cells[i].get_text() == nbb_unformatted_code) {\n                             nbb_cells[i].set_text(nbb_formatted_code);\n                        }\n                        break;\n                    }\n                }\n            }, 500);\n            ",
      "text/plain": [
       "<IPython.core.display.Javascript object>"
      ]
     },
     "metadata": {},
     "output_type": "display_data"
    }
   ],
   "source": [
    "cat_cols = train[FEATS].columns[train[FEATS].dtypes == \"category\"].to_list()\n",
    "num_cols = train[FEATS].columns[train[FEATS].dtypes != \"category\"].to_list()\n",
    "\n",
    "print(f\"cat_cols: {cat_cols}\")\n",
    "print(f\"num_cols: {num_cols}\")"
   ]
  },
  {
   "cell_type": "markdown",
   "metadata": {},
   "source": [
    "## 5. 훈련 및 검증"
   ]
  },
  {
   "cell_type": "code",
   "execution_count": 226,
   "metadata": {},
   "outputs": [
    {
     "data": {
      "application/javascript": "\n            setTimeout(function() {\n                var nbb_cell_id = 226;\n                var nbb_unformatted_code = \"train_pool = Pool(train[FEATS], y_train, cat_features=cat_cols)\\neval_pool = Pool(valid[FEATS], y_valid, cat_features=cat_cols)\";\n                var nbb_formatted_code = \"train_pool = Pool(train[FEATS], y_train, cat_features=cat_cols)\\neval_pool = Pool(valid[FEATS], y_valid, cat_features=cat_cols)\";\n                var nbb_cells = Jupyter.notebook.get_cells();\n                for (var i = 0; i < nbb_cells.length; ++i) {\n                    if (nbb_cells[i].input_prompt_number == nbb_cell_id) {\n                        if (nbb_cells[i].get_text() == nbb_unformatted_code) {\n                             nbb_cells[i].set_text(nbb_formatted_code);\n                        }\n                        break;\n                    }\n                }\n            }, 500);\n            ",
      "text/plain": [
       "<IPython.core.display.Javascript object>"
      ]
     },
     "metadata": {},
     "output_type": "display_data"
    }
   ],
   "source": [
    "train_pool = Pool(train[FEATS], y_train, cat_features=cat_cols)\n",
    "eval_pool = Pool(valid[FEATS], y_valid, cat_features=cat_cols)"
   ]
  },
  {
   "cell_type": "code",
   "execution_count": 227,
   "metadata": {},
   "outputs": [
    {
     "data": {
      "application/vnd.jupyter.widget-view+json": {
       "model_id": "bb9265ab41c4413f905a25171d92d70e",
       "version_major": 2,
       "version_minor": 0
      },
      "text/plain": [
       "MetricVisualizer(layout=Layout(align_self='stretch', height='500px'))"
      ]
     },
     "metadata": {},
     "output_type": "display_data"
    },
    {
     "name": "stdout",
     "output_type": "stream",
     "text": [
      "VALID AUC : 0.8411523645010445 ACC : 0.760752688172043\n",
      "\n"
     ]
    },
    {
     "data": {
      "application/javascript": "\n            setTimeout(function() {\n                var nbb_cell_id = 227;\n                var nbb_unformatted_code = \"params = {\\n    \\\"iterations\\\": 1500,\\n    \\\"learning_rate\\\": 0.1,  # 0.1\\n    \\\"eval_metric\\\": \\\"AUC\\\",\\n    \\\"random_seed\\\": 42,\\n    \\\"logging_level\\\": \\\"Silent\\\",\\n    \\\"early_stopping_rounds\\\": 50,\\n    \\\"use_best_model\\\": True,\\n    # \\\"task_type\\\": \\\"GPU\\\",\\n    \\\"bagging_temperature\\\": 1,\\n    \\\"cat_features\\\": cat_cols,\\n}\\n\\nmodel = CatBoostClassifier(\\n    **params,\\n)\\n\\nmodel.fit(\\n    train[FEATS],\\n    y_train,\\n    eval_set=[(valid[FEATS], y_valid)],\\n    # cat_features=cat_cols,\\n    plot=True,\\n    # logging_level=\\\"Verbose\\\",  # you can uncomment this for text output\\n)\\n\\npreds = model.predict_proba(valid[FEATS])[:, 1]\\nacc = accuracy_score(y_valid, np.where(preds >= 0.5, 1, 0))\\nauc = roc_auc_score(y_valid, preds)\\n\\nprint(f\\\"VALID AUC : {auc} ACC : {acc}\\\\n\\\")\";\n                var nbb_formatted_code = \"params = {\\n    \\\"iterations\\\": 1500,\\n    \\\"learning_rate\\\": 0.1,  # 0.1\\n    \\\"eval_metric\\\": \\\"AUC\\\",\\n    \\\"random_seed\\\": 42,\\n    \\\"logging_level\\\": \\\"Silent\\\",\\n    \\\"early_stopping_rounds\\\": 50,\\n    \\\"use_best_model\\\": True,\\n    # \\\"task_type\\\": \\\"GPU\\\",\\n    \\\"bagging_temperature\\\": 1,\\n    \\\"cat_features\\\": cat_cols,\\n}\\n\\nmodel = CatBoostClassifier(\\n    **params,\\n)\\n\\nmodel.fit(\\n    train[FEATS],\\n    y_train,\\n    eval_set=[(valid[FEATS], y_valid)],\\n    # cat_features=cat_cols,\\n    plot=True,\\n    # logging_level=\\\"Verbose\\\",  # you can uncomment this for text output\\n)\\n\\npreds = model.predict_proba(valid[FEATS])[:, 1]\\nacc = accuracy_score(y_valid, np.where(preds >= 0.5, 1, 0))\\nauc = roc_auc_score(y_valid, preds)\\n\\nprint(f\\\"VALID AUC : {auc} ACC : {acc}\\\\n\\\")\";\n                var nbb_cells = Jupyter.notebook.get_cells();\n                for (var i = 0; i < nbb_cells.length; ++i) {\n                    if (nbb_cells[i].input_prompt_number == nbb_cell_id) {\n                        if (nbb_cells[i].get_text() == nbb_unformatted_code) {\n                             nbb_cells[i].set_text(nbb_formatted_code);\n                        }\n                        break;\n                    }\n                }\n            }, 500);\n            ",
      "text/plain": [
       "<IPython.core.display.Javascript object>"
      ]
     },
     "metadata": {},
     "output_type": "display_data"
    }
   ],
   "source": [
    "params = {\n",
    "    \"iterations\": 1500,\n",
    "    \"learning_rate\": 0.1,  # 0.1\n",
    "    \"eval_metric\": \"AUC\",\n",
    "    \"random_seed\": 42,\n",
    "    \"logging_level\": \"Silent\",\n",
    "    \"early_stopping_rounds\": 50,\n",
    "    \"use_best_model\": True,\n",
    "    # \"task_type\": \"GPU\",\n",
    "    \"bagging_temperature\": 1,\n",
    "    \"cat_features\": cat_cols,\n",
    "}\n",
    "\n",
    "model = CatBoostClassifier(\n",
    "    **params,\n",
    ")\n",
    "\n",
    "model.fit(\n",
    "    train[FEATS],\n",
    "    y_train,\n",
    "    eval_set=[(valid[FEATS], y_valid)],\n",
    "    # cat_features=cat_cols,\n",
    "    plot=True,\n",
    "    # logging_level=\"Verbose\",  # you can uncomment this for text output\n",
    ")\n",
    "\n",
    "preds = model.predict_proba(valid[FEATS])[:, 1]\n",
    "acc = accuracy_score(y_valid, np.where(preds >= 0.5, 1, 0))\n",
    "auc = roc_auc_score(y_valid, preds)\n",
    "\n",
    "print(f\"VALID AUC : {auc} ACC : {acc}\\n\")"
   ]
  },
  {
   "cell_type": "markdown",
   "metadata": {},
   "source": [
    "### Permutation Importance 출력"
   ]
  },
  {
   "cell_type": "code",
   "execution_count": null,
   "metadata": {},
   "outputs": [],
   "source": [
    "perm = PermutationImportance(\n",
    "    model,\n",
    "    scoring=\"roc_auc\",\n",
    "    n_iter=1,\n",
    "    random_state=42,\n",
    "    cv=None,\n",
    "    refit=False,\n",
    ").fit(valid[FEATS], y_valid)\n",
    "eli5.show_weights(perm, top=len(FEATS), feature_names=FEATS)"
   ]
  },
  {
   "cell_type": "markdown",
   "metadata": {},
   "source": [
    "### Feature Importance 출력"
   ]
  },
  {
   "cell_type": "code",
   "execution_count": 228,
   "metadata": {},
   "outputs": [
    {
     "data": {
      "text/plain": [
       "Text(0.5, 1.0, 'Feature Importance')"
      ]
     },
     "execution_count": 228,
     "metadata": {},
     "output_type": "execute_result"
    },
    {
     "data": {
      "image/png": "[encoded data removed]",
      "text/plain": [
       "<Figure size 864x432 with 1 Axes>"
      ]
     },
     "metadata": {
      "needs_background": "light"
     },
     "output_type": "display_data"
    },
    {
     "data": {
      "application/javascript": "\n            setTimeout(function() {\n                var nbb_cell_id = 228;\n                var nbb_unformatted_code = \"feature_importance = model.feature_importances_\\nsorted_idx = np.argsort(feature_importance)\\nfig = plt.figure(figsize=(12, 6))\\nplt.barh(range(len(sorted_idx)), feature_importance[sorted_idx], align=\\\"center\\\")\\nplt.yticks(range(len(sorted_idx)), np.array(FEATS)[sorted_idx])\\nplt.title(\\\"Feature Importance\\\")\";\n                var nbb_formatted_code = \"feature_importance = model.feature_importances_\\nsorted_idx = np.argsort(feature_importance)\\nfig = plt.figure(figsize=(12, 6))\\nplt.barh(range(len(sorted_idx)), feature_importance[sorted_idx], align=\\\"center\\\")\\nplt.yticks(range(len(sorted_idx)), np.array(FEATS)[sorted_idx])\\nplt.title(\\\"Feature Importance\\\")\";\n                var nbb_cells = Jupyter.notebook.get_cells();\n                for (var i = 0; i < nbb_cells.length; ++i) {\n                    if (nbb_cells[i].input_prompt_number == nbb_cell_id) {\n                        if (nbb_cells[i].get_text() == nbb_unformatted_code) {\n                             nbb_cells[i].set_text(nbb_formatted_code);\n                        }\n                        break;\n                    }\n                }\n            }, 500);\n            ",
      "text/plain": [
       "<IPython.core.display.Javascript object>"
      ]
     },
     "metadata": {},
     "output_type": "display_data"
    }
   ],
   "source": [
    "feature_importance = model.feature_importances_\n",
    "sorted_idx = np.argsort(feature_importance)\n",
    "fig = plt.figure(figsize=(12, 6))\n",
    "plt.barh(range(len(sorted_idx)), feature_importance[sorted_idx], align=\"center\")\n",
    "plt.yticks(range(len(sorted_idx)), np.array(FEATS)[sorted_idx])\n",
    "plt.title(\"Feature Importance\")"
   ]
  },
  {
   "cell_type": "markdown",
   "metadata": {},
   "source": [
    "### CV 평가"
   ]
  },
  {
   "cell_type": "code",
   "execution_count": null,
   "metadata": {},
   "outputs": [],
   "source": [
    "model.get_params()"
   ]
  },
  {
   "cell_type": "code",
   "execution_count": 49,
   "metadata": {},
   "outputs": [
    {
     "data": {
      "application/vnd.jupyter.widget-view+json": {
       "model_id": "117224f947974309a078b20944b79b9c",
       "version_major": 2,
       "version_minor": 0
      },
      "text/plain": [
       "MetricVisualizer(layout=Layout(align_self='stretch', height='500px'))"
      ]
     },
     "metadata": {},
     "output_type": "display_data"
    },
    {
     "data": {
      "application/javascript": "\n            setTimeout(function() {\n                var nbb_cell_id = 49;\n                var nbb_unformatted_code = \"cv_params = model.get_params()\\ncv_params.update(\\n    {\\n        \\\"loss_function\\\": metrics.Logloss(),\\n    }\\n)\\n\\n# train_df = df[df[\\\"dataset\\\"] == 1]\\n# df_cv = feature_engineering(train_df, option=\\\"total\\\")\\n# X_cv, y_cv = df_cv.drop([\\\"answerCode\\\"], axis=1), df_cv[\\\"answerCode\\\"]\\n\\ncv_data = cv(\\n    params=cv_params,\\n    pool=Pool(train[FEATS], y_train, cat_features=cat_cols),  ## fit  method \\uad6c\\ubb38\\uc758 \\uc5ed\\ud560\\uc744 \\ud55c\\ub2e4.\\n    fold_count=3,\\n    shuffle=True,\\n    partition_random_seed=0,\\n    plot=True,\\n    stratified=True,\\n    verbose=False,\\n)\";\n                var nbb_formatted_code = \"cv_params = model.get_params()\\ncv_params.update(\\n    {\\n        \\\"loss_function\\\": metrics.Logloss(),\\n    }\\n)\\n\\n# train_df = df[df[\\\"dataset\\\"] == 1]\\n# df_cv = feature_engineering(train_df, option=\\\"total\\\")\\n# X_cv, y_cv = df_cv.drop([\\\"answerCode\\\"], axis=1), df_cv[\\\"answerCode\\\"]\\n\\ncv_data = cv(\\n    params=cv_params,\\n    pool=Pool(train[FEATS], y_train, cat_features=cat_cols),  ## fit  method \\uad6c\\ubb38\\uc758 \\uc5ed\\ud560\\uc744 \\ud55c\\ub2e4.\\n    fold_count=3,\\n    shuffle=True,\\n    partition_random_seed=0,\\n    plot=True,\\n    stratified=True,\\n    verbose=False,\\n)\";\n                var nbb_cells = Jupyter.notebook.get_cells();\n                for (var i = 0; i < nbb_cells.length; ++i) {\n                    if (nbb_cells[i].input_prompt_number == nbb_cell_id) {\n                        if (nbb_cells[i].get_text() == nbb_unformatted_code) {\n                             nbb_cells[i].set_text(nbb_formatted_code);\n                        }\n                        break;\n                    }\n                }\n            }, 500);\n            ",
      "text/plain": [
       "<IPython.core.display.Javascript object>"
      ]
     },
     "metadata": {},
     "output_type": "display_data"
    }
   ],
   "source": [
    "cv_params = model.get_params()\n",
    "cv_params.update(\n",
    "    {\n",
    "        \"loss_function\": metrics.Logloss(),\n",
    "    }\n",
    ")\n",
    "\n",
    "# train_df = df[df[\"dataset\"] == 1]\n",
    "# df_cv = feature_engineering(train_df, option=\"total\")\n",
    "# X_cv, y_cv = df_cv.drop([\"answerCode\"], axis=1), df_cv[\"answerCode\"]\n",
    "\n",
    "cv_data = cv(\n",
    "    params=cv_params,\n",
    "    pool=Pool(train[FEATS], y_train, cat_features=cat_cols),  ## fit  method 구문의 역할을 한다.\n",
    "    fold_count=3,\n",
    "    shuffle=True,\n",
    "    partition_random_seed=0,\n",
    "    plot=True,\n",
    "    stratified=True,\n",
    "    verbose=False,\n",
    ")"
   ]
  },
  {
   "cell_type": "code",
   "execution_count": 29,
   "metadata": {},
   "outputs": [
    {
     "data": {
      "text/html": [
       "<div>\n",
       "<style scoped>\n",
       "    .dataframe tbody tr th:only-of-type {\n",
       "        vertical-align: middle;\n",
       "    }\n",
       "\n",
       "    .dataframe tbody tr th {\n",
       "        vertical-align: top;\n",
       "    }\n",
       "\n",
       "    .dataframe thead th {\n",
       "        text-align: right;\n",
       "    }\n",
       "</style>\n",
       "<table border=\"1\" class=\"dataframe\">\n",
       "  <thead>\n",
       "    <tr style=\"text-align: right;\">\n",
       "      <th></th>\n",
       "      <th>iterations</th>\n",
       "      <th>test-AUC-mean</th>\n",
       "      <th>test-AUC-std</th>\n",
       "      <th>test-Logloss-mean</th>\n",
       "      <th>test-Logloss-std</th>\n",
       "      <th>train-Logloss-mean</th>\n",
       "      <th>train-Logloss-std</th>\n",
       "    </tr>\n",
       "  </thead>\n",
       "  <tbody>\n",
       "    <tr>\n",
       "      <th>0</th>\n",
       "      <td>0</td>\n",
       "      <td>0.787238</td>\n",
       "      <td>0.000207</td>\n",
       "      <td>0.654594</td>\n",
       "      <td>0.000093</td>\n",
       "      <td>0.655621</td>\n",
       "      <td>0.000051</td>\n",
       "    </tr>\n",
       "    <tr>\n",
       "      <th>1</th>\n",
       "      <td>1</td>\n",
       "      <td>0.792841</td>\n",
       "      <td>0.000195</td>\n",
       "      <td>0.624712</td>\n",
       "      <td>0.000151</td>\n",
       "      <td>0.626501</td>\n",
       "      <td>0.000065</td>\n",
       "    </tr>\n",
       "    <tr>\n",
       "      <th>2</th>\n",
       "      <td>2</td>\n",
       "      <td>0.798221</td>\n",
       "      <td>0.000662</td>\n",
       "      <td>0.601826</td>\n",
       "      <td>0.000080</td>\n",
       "      <td>0.603777</td>\n",
       "      <td>0.000118</td>\n",
       "    </tr>\n",
       "    <tr>\n",
       "      <th>3</th>\n",
       "      <td>3</td>\n",
       "      <td>0.800571</td>\n",
       "      <td>0.001644</td>\n",
       "      <td>0.582347</td>\n",
       "      <td>0.000058</td>\n",
       "      <td>0.584902</td>\n",
       "      <td>0.000219</td>\n",
       "    </tr>\n",
       "    <tr>\n",
       "      <th>4</th>\n",
       "      <td>4</td>\n",
       "      <td>0.802364</td>\n",
       "      <td>0.000673</td>\n",
       "      <td>0.567004</td>\n",
       "      <td>0.000137</td>\n",
       "      <td>0.569949</td>\n",
       "      <td>0.000296</td>\n",
       "    </tr>\n",
       "  </tbody>\n",
       "</table>\n",
       "</div>"
      ],
      "text/plain": [
       "   iterations  test-AUC-mean  test-AUC-std  test-Logloss-mean  \\\n",
       "0           0       0.787238      0.000207           0.654594   \n",
       "1           1       0.792841      0.000195           0.624712   \n",
       "2           2       0.798221      0.000662           0.601826   \n",
       "3           3       0.800571      0.001644           0.582347   \n",
       "4           4       0.802364      0.000673           0.567004   \n",
       "\n",
       "   test-Logloss-std  train-Logloss-mean  train-Logloss-std  \n",
       "0          0.000093            0.655621           0.000051  \n",
       "1          0.000151            0.626501           0.000065  \n",
       "2          0.000080            0.603777           0.000118  \n",
       "3          0.000058            0.584902           0.000219  \n",
       "4          0.000137            0.569949           0.000296  "
      ]
     },
     "execution_count": 29,
     "metadata": {},
     "output_type": "execute_result"
    },
    {
     "data": {
      "application/javascript": "\n            setTimeout(function() {\n                var nbb_cell_id = 29;\n                var nbb_unformatted_code = \"## \\uc694\\uc57d\\ub41c \\uacb0\\uacfc\\ubcf4\\uae30\\ncv_data.head()\";\n                var nbb_formatted_code = \"## \\uc694\\uc57d\\ub41c \\uacb0\\uacfc\\ubcf4\\uae30\\ncv_data.head()\";\n                var nbb_cells = Jupyter.notebook.get_cells();\n                for (var i = 0; i < nbb_cells.length; ++i) {\n                    if (nbb_cells[i].input_prompt_number == nbb_cell_id) {\n                        if (nbb_cells[i].get_text() == nbb_unformatted_code) {\n                             nbb_cells[i].set_text(nbb_formatted_code);\n                        }\n                        break;\n                    }\n                }\n            }, 500);\n            ",
      "text/plain": [
       "<IPython.core.display.Javascript object>"
      ]
     },
     "metadata": {},
     "output_type": "display_data"
    }
   ],
   "source": [
    "## 요약된 결과보기\n",
    "cv_data.head()"
   ]
  },
  {
   "cell_type": "code",
   "execution_count": 30,
   "metadata": {},
   "outputs": [
    {
     "name": "stdout",
     "output_type": "stream",
     "text": [
      "Best validation AUC score, not stratified: 0.8484±0.0007 on step 199\n"
     ]
    },
    {
     "data": {
      "application/javascript": "\n            setTimeout(function() {\n                var nbb_cell_id = 30;\n                var nbb_unformatted_code = \"best_value = np.max(cv_data[\\\"test-AUC-mean\\\"])\\nbest_iter = np.argmax(cv_data[\\\"test-AUC-mean\\\"])\\n\\nprint(\\n    \\\"Best validation AUC score, not stratified: {:.4f}\\u00b1{:.4f} on step {}\\\".format(\\n        best_value, cv_data[\\\"test-AUC-std\\\"][best_iter], best_iter\\n    )\\n)\";\n                var nbb_formatted_code = \"best_value = np.max(cv_data[\\\"test-AUC-mean\\\"])\\nbest_iter = np.argmax(cv_data[\\\"test-AUC-mean\\\"])\\n\\nprint(\\n    \\\"Best validation AUC score, not stratified: {:.4f}\\u00b1{:.4f} on step {}\\\".format(\\n        best_value, cv_data[\\\"test-AUC-std\\\"][best_iter], best_iter\\n    )\\n)\";\n                var nbb_cells = Jupyter.notebook.get_cells();\n                for (var i = 0; i < nbb_cells.length; ++i) {\n                    if (nbb_cells[i].input_prompt_number == nbb_cell_id) {\n                        if (nbb_cells[i].get_text() == nbb_unformatted_code) {\n                             nbb_cells[i].set_text(nbb_formatted_code);\n                        }\n                        break;\n                    }\n                }\n            }, 500);\n            ",
      "text/plain": [
       "<IPython.core.display.Javascript object>"
      ]
     },
     "metadata": {},
     "output_type": "display_data"
    }
   ],
   "source": [
    "best_value = np.max(cv_data[\"test-AUC-mean\"])\n",
    "best_iter = np.argmax(cv_data[\"test-AUC-mean\"])\n",
    "\n",
    "print(\n",
    "    \"Best validation AUC score, not stratified: {:.4f}±{:.4f} on step {}\".format(\n",
    "        best_value, cv_data[\"test-AUC-std\"][best_iter], best_iter\n",
    "    )\n",
    ")"
   ]
  },
  {
   "cell_type": "markdown",
   "metadata": {},
   "source": [
    "## 6. 하이퍼파라미터 튜닝"
   ]
  },
  {
   "cell_type": "code",
   "execution_count": 34,
   "metadata": {},
   "outputs": [
    {
     "data": {
      "application/javascript": "\n            setTimeout(function() {\n                var nbb_cell_id = 34;\n                var nbb_unformatted_code = \"import hyperopt\";\n                var nbb_formatted_code = \"import hyperopt\";\n                var nbb_cells = Jupyter.notebook.get_cells();\n                for (var i = 0; i < nbb_cells.length; ++i) {\n                    if (nbb_cells[i].input_prompt_number == nbb_cell_id) {\n                        if (nbb_cells[i].get_text() == nbb_unformatted_code) {\n                             nbb_cells[i].set_text(nbb_formatted_code);\n                        }\n                        break;\n                    }\n                }\n            }, 500);\n            ",
      "text/plain": [
       "<IPython.core.display.Javascript object>"
      ]
     },
     "metadata": {},
     "output_type": "display_data"
    }
   ],
   "source": [
    "import hyperopt"
   ]
  },
  {
   "cell_type": "code",
   "execution_count": 43,
   "metadata": {},
   "outputs": [
    {
     "data": {
      "application/javascript": "\n            setTimeout(function() {\n                var nbb_cell_id = 43;\n                var nbb_unformatted_code = \"def hyperopt_objective(params):\\n    model = CatBoostClassifier(\\n        l2_leaf_reg=int(params[\\\"l2_leaf_reg\\\"]),\\n        learning_rate=params[\\\"learning_rate\\\"],\\n        iterations=200,\\n        eval_metric=\\\"AUC\\\",\\n        random_seed=42,\\n        verbose=False,\\n        loss_function=metrics.Logloss(),\\n    )\\n\\n    train_df = df[df[\\\"dataset\\\"] == 1]\\n    df_cv = feature_engineering(train_df, option=\\\"total\\\")\\n    X_cv, y_cv = df_cv.drop([\\\"answerCode\\\"], axis=1), df_cv[\\\"answerCode\\\"]\\n\\n    cv_data = cv(\\n        Pool(X_cv[FEATS], y_cv, cat_features=FEATS),\\n        model.get_params(),\\n        logging_level=\\\"Silent\\\",\\n    )\\n    best_auc = np.max(cv_data[\\\"test-AUC-mean\\\"])\\n\\n    return 1 - best_auc  # as hyperopt minimises\";\n                var nbb_formatted_code = \"def hyperopt_objective(params):\\n    model = CatBoostClassifier(\\n        l2_leaf_reg=int(params[\\\"l2_leaf_reg\\\"]),\\n        learning_rate=params[\\\"learning_rate\\\"],\\n        iterations=200,\\n        eval_metric=\\\"AUC\\\",\\n        random_seed=42,\\n        verbose=False,\\n        loss_function=metrics.Logloss(),\\n    )\\n\\n    train_df = df[df[\\\"dataset\\\"] == 1]\\n    df_cv = feature_engineering(train_df, option=\\\"total\\\")\\n    X_cv, y_cv = df_cv.drop([\\\"answerCode\\\"], axis=1), df_cv[\\\"answerCode\\\"]\\n\\n    cv_data = cv(\\n        Pool(X_cv[FEATS], y_cv, cat_features=FEATS),\\n        model.get_params(),\\n        logging_level=\\\"Silent\\\",\\n    )\\n    best_auc = np.max(cv_data[\\\"test-AUC-mean\\\"])\\n\\n    return 1 - best_auc  # as hyperopt minimises\";\n                var nbb_cells = Jupyter.notebook.get_cells();\n                for (var i = 0; i < nbb_cells.length; ++i) {\n                    if (nbb_cells[i].input_prompt_number == nbb_cell_id) {\n                        if (nbb_cells[i].get_text() == nbb_unformatted_code) {\n                             nbb_cells[i].set_text(nbb_formatted_code);\n                        }\n                        break;\n                    }\n                }\n            }, 500);\n            ",
      "text/plain": [
       "<IPython.core.display.Javascript object>"
      ]
     },
     "metadata": {},
     "output_type": "display_data"
    }
   ],
   "source": [
    "def hyperopt_objective(params):\n",
    "    model = CatBoostClassifier(\n",
    "        l2_leaf_reg=int(params[\"l2_leaf_reg\"]),\n",
    "        learning_rate=params[\"learning_rate\"],\n",
    "        iterations=200,\n",
    "        eval_metric=\"AUC\",\n",
    "        random_seed=42,\n",
    "        verbose=False,\n",
    "        loss_function=metrics.Logloss(),\n",
    "    )\n",
    "\n",
    "    train_df = df[df[\"dataset\"] == 1]\n",
    "    df_cv = feature_engineering(train_df, option=\"total\")\n",
    "    X_cv, y_cv = df_cv.drop([\"answerCode\"], axis=1), df_cv[\"answerCode\"]\n",
    "\n",
    "    cv_data = cv(\n",
    "        Pool(X_cv[FEATS], y_cv, cat_features=FEATS),\n",
    "        model.get_params(),\n",
    "        logging_level=\"Silent\",\n",
    "    )\n",
    "    best_auc = np.max(cv_data[\"test-AUC-mean\"])\n",
    "\n",
    "    return 1 - best_auc  # as hyperopt minimises"
   ]
  },
  {
   "cell_type": "code",
   "execution_count": 41,
   "metadata": {},
   "outputs": [
    {
     "data": {
      "text/plain": [
       "Generator(PCG64) at 0x7F0FA65B29A0"
      ]
     },
     "execution_count": 41,
     "metadata": {},
     "output_type": "execute_result"
    },
    {
     "data": {
      "application/javascript": "\n            setTimeout(function() {\n                var nbb_cell_id = 41;\n                var nbb_unformatted_code = \"np.random.default_rng(123)\";\n                var nbb_formatted_code = \"np.random.default_rng(123)\";\n                var nbb_cells = Jupyter.notebook.get_cells();\n                for (var i = 0; i < nbb_cells.length; ++i) {\n                    if (nbb_cells[i].input_prompt_number == nbb_cell_id) {\n                        if (nbb_cells[i].get_text() == nbb_unformatted_code) {\n                             nbb_cells[i].set_text(nbb_formatted_code);\n                        }\n                        break;\n                    }\n                }\n            }, 500);\n            ",
      "text/plain": [
       "<IPython.core.display.Javascript object>"
      ]
     },
     "metadata": {},
     "output_type": "display_data"
    }
   ],
   "source": [
    "np.random.default_rng(123)"
   ]
  },
  {
   "cell_type": "code",
   "execution_count": 44,
   "metadata": {},
   "outputs": [
    {
     "name": "stdout",
     "output_type": "stream",
     "text": [
      "100%|██████████| 50/50 [10:34:31<00:00, 761.43s/trial, best loss: 0.14521130101944157] \n",
      "{'l2_leaf_reg': 1.0, 'learning_rate': 0.3555652573872889}\n"
     ]
    },
    {
     "data": {
      "application/javascript": "\n            setTimeout(function() {\n                var nbb_cell_id = 44;\n                var nbb_unformatted_code = \"from numpy.random import RandomState\\n\\nparams_space = {\\n    \\\"l2_leaf_reg\\\": hyperopt.hp.qloguniform(\\\"l2_leaf_reg\\\", 0, 2, 1),\\n    \\\"learning_rate\\\": hyperopt.hp.uniform(\\\"learning_rate\\\", 1e-3, 5e-1),\\n}\\n\\ntrials = hyperopt.Trials()\\n\\nbest = hyperopt.fmin(\\n    hyperopt_objective,\\n    space=params_space,\\n    algo=hyperopt.tpe.suggest,\\n    max_evals=50,\\n    trials=trials,\\n    rstate=np.random.default_rng(123),\\n)\\n\\nprint(best)\";\n                var nbb_formatted_code = \"from numpy.random import RandomState\\n\\nparams_space = {\\n    \\\"l2_leaf_reg\\\": hyperopt.hp.qloguniform(\\\"l2_leaf_reg\\\", 0, 2, 1),\\n    \\\"learning_rate\\\": hyperopt.hp.uniform(\\\"learning_rate\\\", 1e-3, 5e-1),\\n}\\n\\ntrials = hyperopt.Trials()\\n\\nbest = hyperopt.fmin(\\n    hyperopt_objective,\\n    space=params_space,\\n    algo=hyperopt.tpe.suggest,\\n    max_evals=50,\\n    trials=trials,\\n    rstate=np.random.default_rng(123),\\n)\\n\\nprint(best)\";\n                var nbb_cells = Jupyter.notebook.get_cells();\n                for (var i = 0; i < nbb_cells.length; ++i) {\n                    if (nbb_cells[i].input_prompt_number == nbb_cell_id) {\n                        if (nbb_cells[i].get_text() == nbb_unformatted_code) {\n                             nbb_cells[i].set_text(nbb_formatted_code);\n                        }\n                        break;\n                    }\n                }\n            }, 500);\n            ",
      "text/plain": [
       "<IPython.core.display.Javascript object>"
      ]
     },
     "metadata": {},
     "output_type": "display_data"
    }
   ],
   "source": [
    "from numpy.random import RandomState\n",
    "\n",
    "params_space = {\n",
    "    \"l2_leaf_reg\": hyperopt.hp.qloguniform(\"l2_leaf_reg\", 0, 2, 1),\n",
    "    \"learning_rate\": hyperopt.hp.uniform(\"learning_rate\", 1e-3, 5e-1),\n",
    "}\n",
    "\n",
    "trials = hyperopt.Trials()\n",
    "\n",
    "best = hyperopt.fmin(\n",
    "    hyperopt_objective,\n",
    "    space=params_space,\n",
    "    algo=hyperopt.tpe.suggest,\n",
    "    max_evals=50,\n",
    "    trials=trials,\n",
    "    rstate=np.random.default_rng(123),\n",
    ")\n",
    "\n",
    "print(best)"
   ]
  },
  {
   "cell_type": "markdown",
   "metadata": {},
   "source": [
    "best hyperparameter: {'l2_leaf_reg': 1.0, 'learning_rate': 0.3555652573872889}"
   ]
  },
  {
   "cell_type": "code",
   "execution_count": 46,
   "metadata": {},
   "outputs": [
    {
     "name": "stdout",
     "output_type": "stream",
     "text": [
      "{'l2_leaf_reg': 1.0, 'learning_rate': 0.3555652573872889}\n"
     ]
    },
    {
     "data": {
      "application/javascript": "\n            setTimeout(function() {\n                var nbb_cell_id = 46;\n                var nbb_unformatted_code = \"print(best)\";\n                var nbb_formatted_code = \"print(best)\";\n                var nbb_cells = Jupyter.notebook.get_cells();\n                for (var i = 0; i < nbb_cells.length; ++i) {\n                    if (nbb_cells[i].input_prompt_number == nbb_cell_id) {\n                        if (nbb_cells[i].get_text() == nbb_unformatted_code) {\n                             nbb_cells[i].set_text(nbb_formatted_code);\n                        }\n                        break;\n                    }\n                }\n            }, 500);\n            ",
      "text/plain": [
       "<IPython.core.display.Javascript object>"
      ]
     },
     "metadata": {},
     "output_type": "display_data"
    }
   ],
   "source": [
    "print(best)"
   ]
  },
  {
   "cell_type": "code",
   "execution_count": null,
   "metadata": {},
   "outputs": [],
   "source": [
    "model = CatBoostClassifier(\n",
    "    l2_leaf_reg=int(best[\"l2_leaf_reg\"]),\n",
    "    learning_rate=best[\"learning_rate\"],\n",
    "    iterations=200,\n",
    "    eval_metric=\"AUC\",\n",
    "    random_seed=42,\n",
    "    verbose=False,\n",
    "    loss_function=metrics.Logloss(),\n",
    ")\n",
    "\n",
    "train_df = df[df[\"dataset\"] == 1]\n",
    "df_cv = feature_engineering(train_df, option=\"total\")\n",
    "X_cv, y_cv = df_cv.drop([\"answerCode\"], axis=1), df_cv[\"answerCode\"]\n",
    "\n",
    "cv_data = cv(Pool(X_cv[FEATS], y_cv, cat_features=FEATS), model.get_params())"
   ]
  },
  {
   "cell_type": "code",
   "execution_count": null,
   "metadata": {},
   "outputs": [],
   "source": [
    "print('Precise validation accuracy score: {}'.format(np.max(cv_data['test-Accuracy-mean'])))"
   ]
  },
  {
   "cell_type": "markdown",
   "metadata": {},
   "source": [
    "## 7. Inference"
   ]
  },
  {
   "cell_type": "markdown",
   "metadata": {},
   "source": [
    "### 7-1. Inferece by test [-2] (test dataset 뒤에서 두번째 값으로 성능 측정)"
   ]
  },
  {
   "cell_type": "code",
   "execution_count": 26,
   "metadata": {},
   "outputs": [
    {
     "name": "stdout",
     "output_type": "stream",
     "text": [
      "VALID AUC : 0.8232006612876088 ACC : 0.7580645161290323\n"
     ]
    },
    {
     "data": {
      "application/javascript": "\n            setTimeout(function() {\n                var nbb_cell_id = 26;\n                var nbb_unformatted_code = \"# use test dataset only for valid\\ntest = df[(df.dataset == 2) & (df.answerCode != -1)]  # -1 \\uc778 answerCode \\uc81c\\uc678\\n\\n# test\\ub370\\uc774\\ud130\\uc14b\\uc740 \\uac01 \\uc720\\uc800\\uc758 \\ub9c8\\uc9c0\\ub9c9 interaction\\ub9cc \\ucd94\\ucd9c\\ntest = test[test[\\\"userID\\\"] != test[\\\"userID\\\"].shift(-1)]\\ntest = feature_engineering(test, option=\\\"total\\\")\\n\\ny_test = test[\\\"answerCode\\\"]\\ntest = test.drop([\\\"answerCode\\\"], axis=1)\\n\\npreds = model.predict_proba(test[FEATS])[:, 1]\\nacc = accuracy_score(y_test, np.where(preds >= 0.5, 1, 0))\\nauc = roc_auc_score(y_test, preds)\\n\\nprint(f\\\"VALID AUC : {auc} ACC : {acc}\\\")\";\n                var nbb_formatted_code = \"# use test dataset only for valid\\ntest = df[(df.dataset == 2) & (df.answerCode != -1)]  # -1 \\uc778 answerCode \\uc81c\\uc678\\n\\n# test\\ub370\\uc774\\ud130\\uc14b\\uc740 \\uac01 \\uc720\\uc800\\uc758 \\ub9c8\\uc9c0\\ub9c9 interaction\\ub9cc \\ucd94\\ucd9c\\ntest = test[test[\\\"userID\\\"] != test[\\\"userID\\\"].shift(-1)]\\ntest = feature_engineering(test, option=\\\"total\\\")\\n\\ny_test = test[\\\"answerCode\\\"]\\ntest = test.drop([\\\"answerCode\\\"], axis=1)\\n\\npreds = model.predict_proba(test[FEATS])[:, 1]\\nacc = accuracy_score(y_test, np.where(preds >= 0.5, 1, 0))\\nauc = roc_auc_score(y_test, preds)\\n\\nprint(f\\\"VALID AUC : {auc} ACC : {acc}\\\")\";\n                var nbb_cells = Jupyter.notebook.get_cells();\n                for (var i = 0; i < nbb_cells.length; ++i) {\n                    if (nbb_cells[i].input_prompt_number == nbb_cell_id) {\n                        if (nbb_cells[i].get_text() == nbb_unformatted_code) {\n                             nbb_cells[i].set_text(nbb_formatted_code);\n                        }\n                        break;\n                    }\n                }\n            }, 500);\n            ",
      "text/plain": [
       "<IPython.core.display.Javascript object>"
      ]
     },
     "metadata": {},
     "output_type": "display_data"
    }
   ],
   "source": [
    "# use test dataset only for valid\n",
    "test = df[(df.dataset == 2) & (df.answerCode != -1)]  # -1 인 answerCode 제외\n",
    "\n",
    "# test데이터셋은 각 유저의 마지막 interaction만 추출\n",
    "test = test[test[\"userID\"] != test[\"userID\"].shift(-1)]\n",
    "\n",
    "y_test = test[\"answerCode\"]\n",
    "test = test.drop([\"answerCode\"], axis=1)\n",
    "\n",
    "preds = model.predict_proba(test[FEATS])[:, 1]\n",
    "acc = accuracy_score(y_test, np.where(preds >= 0.5, 1, 0))\n",
    "auc = roc_auc_score(y_test, preds)\n",
    "\n",
    "print(f\"VALID AUC : {auc} ACC : {acc}\")"
   ]
  },
  {
   "cell_type": "markdown",
   "metadata": {},
   "source": [
    "### 7-2. 종테기 결과"
   ]
  },
  {
   "cell_type": "code",
   "execution_count": 229,
   "metadata": {},
   "outputs": [
    {
     "data": {
      "application/javascript": "\n            setTimeout(function() {\n                var nbb_cell_id = 229;\n                var nbb_unformatted_code = \"test_df = df[df.dataset == 2]\\n\\n# LEAVE LAST INTERACTION ONLY\\ntest_df = test_df[test_df[\\\"userID\\\"] != test_df[\\\"userID\\\"].shift(-1)]\\n\\n# DROP ANSWERCODE\\ntest_df = test_df.drop([\\\"answerCode\\\"], axis=1)\\n\\n# MAKE PREDICTION\\ntotal_preds = model.predict_proba(test_df[FEATS])[:, 1]\";\n                var nbb_formatted_code = \"test_df = df[df.dataset == 2]\\n\\n# LEAVE LAST INTERACTION ONLY\\ntest_df = test_df[test_df[\\\"userID\\\"] != test_df[\\\"userID\\\"].shift(-1)]\\n\\n# DROP ANSWERCODE\\ntest_df = test_df.drop([\\\"answerCode\\\"], axis=1)\\n\\n# MAKE PREDICTION\\ntotal_preds = model.predict_proba(test_df[FEATS])[:, 1]\";\n                var nbb_cells = Jupyter.notebook.get_cells();\n                for (var i = 0; i < nbb_cells.length; ++i) {\n                    if (nbb_cells[i].input_prompt_number == nbb_cell_id) {\n                        if (nbb_cells[i].get_text() == nbb_unformatted_code) {\n                             nbb_cells[i].set_text(nbb_formatted_code);\n                        }\n                        break;\n                    }\n                }\n            }, 500);\n            ",
      "text/plain": [
       "<IPython.core.display.Javascript object>"
      ]
     },
     "metadata": {},
     "output_type": "display_data"
    }
   ],
   "source": [
    "test_df = df[df.dataset == 2]\n",
    "\n",
    "# LEAVE LAST INTERACTION ONLY\n",
    "test_df = test_df[test_df[\"userID\"] != test_df[\"userID\"].shift(-1)]\n",
    "\n",
    "# DROP ANSWERCODE\n",
    "test_df = test_df.drop([\"answerCode\"], axis=1)\n",
    "\n",
    "# MAKE PREDICTION\n",
    "total_preds = model.predict_proba(test_df[FEATS])[:, 1]"
   ]
  },
  {
   "cell_type": "markdown",
   "metadata": {},
   "source": [
    "### 7-3. 제출"
   ]
  },
  {
   "cell_type": "code",
   "execution_count": 231,
   "metadata": {},
   "outputs": [
    {
     "name": "stdout",
     "output_type": "stream",
     "text": [
      "writing prediction : output/CatBoost_submission_(8411).csv\n"
     ]
    },
    {
     "data": {
      "application/javascript": "\n            setTimeout(function() {\n                var nbb_cell_id = 231;\n                var nbb_unformatted_code = \"# SAVE OUTPUT\\noutput_dir = \\\"output/\\\"\\nwrite_path = os.path.join(output_dir, \\\"CatBoost_submission_(8411).csv\\\")\\nif not os.path.exists(output_dir):\\n    os.makedirs(output_dir)\\nwith open(write_path, \\\"w\\\", encoding=\\\"utf8\\\") as w:\\n    print(\\\"writing prediction : {}\\\".format(write_path))\\n    w.write(\\\"id,prediction\\\\n\\\")\\n    for id, p in enumerate(total_preds):\\n        w.write(\\\"{},{}\\\\n\\\".format(id, p))\";\n                var nbb_formatted_code = \"# SAVE OUTPUT\\noutput_dir = \\\"output/\\\"\\nwrite_path = os.path.join(output_dir, \\\"CatBoost_submission_(8411).csv\\\")\\nif not os.path.exists(output_dir):\\n    os.makedirs(output_dir)\\nwith open(write_path, \\\"w\\\", encoding=\\\"utf8\\\") as w:\\n    print(\\\"writing prediction : {}\\\".format(write_path))\\n    w.write(\\\"id,prediction\\\\n\\\")\\n    for id, p in enumerate(total_preds):\\n        w.write(\\\"{},{}\\\\n\\\".format(id, p))\";\n                var nbb_cells = Jupyter.notebook.get_cells();\n                for (var i = 0; i < nbb_cells.length; ++i) {\n                    if (nbb_cells[i].input_prompt_number == nbb_cell_id) {\n                        if (nbb_cells[i].get_text() == nbb_unformatted_code) {\n                             nbb_cells[i].set_text(nbb_formatted_code);\n                        }\n                        break;\n                    }\n                }\n            }, 500);\n            ",
      "text/plain": [
       "<IPython.core.display.Javascript object>"
      ]
     },
     "metadata": {},
     "output_type": "display_data"
    }
   ],
   "source": [
    "# SAVE OUTPUT\n",
    "output_dir = \"output/\"\n",
    "write_path = os.path.join(output_dir, \"CatBoost_submission_(8411).csv\")\n",
    "if not os.path.exists(output_dir):\n",
    "    os.makedirs(output_dir)\n",
    "with open(write_path, \"w\", encoding=\"utf8\") as w:\n",
    "    print(\"writing prediction : {}\".format(write_path))\n",
    "    w.write(\"id,prediction\\n\")\n",
    "    for id, p in enumerate(total_preds):\n",
    "        w.write(\"{},{}\\n\".format(id, p))"
   ]
  },
  {
   "cell_type": "code",
   "execution_count": null,
   "metadata": {},
   "outputs": [],
   "source": []
  }
 ],
 "metadata": {
  "interpreter": {
   "hash": "d4d1e4263499bec80672ea0156c357c1ee493ec2b1c70f0acce89fc37c4a6abe"
  },
  "kernelspec": {
   "display_name": "Python 3.8.5 ('base')",
   "language": "python",
   "name": "python3"
  },
  "language_info": {
   "codemirror_mode": {
    "name": "ipython",
    "version": 3
   },
   "file_extension": ".py",
   "mimetype": "text/x-python",
   "name": "python",
   "nbconvert_exporter": "python",
   "pygments_lexer": "ipython3",
   "version": "3.8.5"
  },
  "orig_nbformat": 4
 },
 "nbformat": 4,
 "nbformat_minor": 2
}
