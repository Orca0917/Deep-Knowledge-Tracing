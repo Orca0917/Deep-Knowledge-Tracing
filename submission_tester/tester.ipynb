{
 "cells": [
  {
   "cell_type": "markdown",
   "metadata": {},
   "source": [
    "## 💯 Final submission tester"
   ]
  },
  {
   "cell_type": "code",
   "execution_count": 6,
   "metadata": {},
   "outputs": [],
   "source": [
    "import pandas as pd\n",
    "import numpy as np\n",
    "\n",
    "from sklearn.metrics import roc_auc_score, accuracy_score"
   ]
  },
  {
   "cell_type": "code",
   "execution_count": 7,
   "metadata": {},
   "outputs": [],
   "source": [
    "# ground_truth : 실제 정답\n",
    "# my_submission : 제출 파일 (submission.csv 이름!)\n",
    "ground_truth = pd.read_csv(\"./ground_truth.csv\")\n",
    "my_submission = pd.read_csv(\"./submission copy.csv\")"
   ]
  },
  {
   "cell_type": "code",
   "execution_count": 8,
   "metadata": {},
   "outputs": [
    {
     "name": "stdout",
     "output_type": "stream",
     "text": [
      "* Contains hidden testcase *\n",
      "auc : 0.8295015141768877\n",
      "acc : 0.7620967741935484\n"
     ]
    }
   ],
   "source": [
    "auc = roc_auc_score(ground_truth['gt'], my_submission['prediction'])\n",
    "acc = accuracy_score(ground_truth['gt'], np.where(my_submission['prediction'] >= 0.5, 1, 0))\n",
    "\n",
    "print (\"* Contains hidden testcase *\")\n",
    "print (f\"auc : {auc}\\nacc : {acc}\")"
   ]
  }
 ],
 "metadata": {
  "interpreter": {
   "hash": "d4d1e4263499bec80672ea0156c357c1ee493ec2b1c70f0acce89fc37c4a6abe"
  },
  "kernelspec": {
   "display_name": "Python 3.8.3 ('base')",
   "language": "python",
   "name": "python3"
  },
  "language_info": {
   "codemirror_mode": {
    "name": "ipython",
    "version": 3
   },
   "file_extension": ".py",
   "mimetype": "text/x-python",
   "name": "python",
   "nbconvert_exporter": "python",
   "pygments_lexer": "ipython3",
   "version": "3.8.3"
  },
  "orig_nbformat": 4
 },
 "nbformat": 4,
 "nbformat_minor": 2
}
