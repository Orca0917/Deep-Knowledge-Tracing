{
 "cells": [
  {
   "cell_type": "code",
   "execution_count": 29,
   "metadata": {},
   "outputs": [],
   "source": [
    "import pandas as pd\n",
    "import numpy as np\n",
    "import os\n",
    "import glob\n",
    "from tqdm import tqdm"
   ]
  },
  {
   "cell_type": "code",
   "execution_count": 30,
   "metadata": {},
   "outputs": [
    {
     "name": "stdout",
     "output_type": "stream",
     "text": [
      "Loading... ./output_files/output (5).csv\n",
      "Loading... ./output_files/output (2).csv\n",
      "Loading... ./output_files/output (1).csv\n",
      "Loading... ./output_files/output (3).csv\n",
      "Loading... ./output_files/output (6).csv\n",
      "Loading... ./output_files/output.csv\n",
      "Loading... ./output_files/output (4).csv\n"
     ]
    }
   ],
   "source": [
    "output_csv = list()\n",
    "\n",
    "for file_dir in glob.glob(\"./output_files/*.csv\"):\n",
    "    print(f\"Loading... {file_dir}\")\n",
    "    df = pd.read_csv(file_dir)\n",
    "    output_csv.append(df[[\"prediction\"]])"
   ]
  },
  {
   "cell_type": "code",
   "execution_count": 31,
   "metadata": {},
   "outputs": [],
   "source": [
    "output_sum = list()\n",
    "for df in output_csv:\n",
    "    output_sum.append(list(df[\"prediction\"].iloc[:744].values))"
   ]
  },
  {
   "cell_type": "code",
   "execution_count": 32,
   "metadata": {},
   "outputs": [
    {
     "name": "stdout",
     "output_type": "stream",
     "text": [
      "Ensemble Done. Check ./ensemble_result/ensemble_submission.csv\n"
     ]
    }
   ],
   "source": [
    "sum_res = np.sum(output_sum, axis=0) / len(output_csv)\n",
    "\n",
    "df = pd.DataFrame()\n",
    "df[\"prediction\"] = sum_res\n",
    "df.to_csv(\"./ensemble_result/ensemble_submission.csv\", index_label=\"id\")\n",
    "print (\"Ensemble Done. Check ./ensemble_result/ensemble_submission.csv\")"
   ]
  }
 ],
 "metadata": {
  "interpreter": {
   "hash": "d4d1e4263499bec80672ea0156c357c1ee493ec2b1c70f0acce89fc37c4a6abe"
  },
  "kernelspec": {
   "display_name": "Python 3.8.5 ('base')",
   "language": "python",
   "name": "python3"
  },
  "language_info": {
   "codemirror_mode": {
    "name": "ipython",
    "version": 3
   },
   "file_extension": ".py",
   "mimetype": "text/x-python",
   "name": "python",
   "nbconvert_exporter": "python",
   "pygments_lexer": "ipython3",
   "version": "3.8.5"
  },
  "orig_nbformat": 4
 },
 "nbformat": 4,
 "nbformat_minor": 2
}
